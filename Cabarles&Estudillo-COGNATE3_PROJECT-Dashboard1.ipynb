{
 "cells": [
  {
   "cell_type": "code",
   "execution_count": 1,
   "metadata": {
    "extensions": {
     "jupyter_dashboards": {
      "version": 1,
      "views": {
       "grid_default": {},
       "report_default": {}
      }
     }
    }
   },
   "outputs": [
    {
     "data": {
      "text/html": [
       "        <script type=\"text/javascript\">\n",
       "        window.PlotlyConfig = {MathJaxConfig: 'local'};\n",
       "        if (window.MathJax) {MathJax.Hub.Config({SVG: {font: \"STIX-Web\"}});}\n",
       "        if (typeof require !== 'undefined') {\n",
       "        require.undef(\"plotly\");\n",
       "        requirejs.config({\n",
       "            paths: {\n",
       "                'plotly': ['https://cdn.plot.ly/plotly-2.2.0.min']\n",
       "            }\n",
       "        });\n",
       "        require(['plotly'], function(Plotly) {\n",
       "            window._Plotly = Plotly;\n",
       "        });\n",
       "        }\n",
       "        </script>\n",
       "        "
      ]
     },
     "metadata": {},
     "output_type": "display_data"
    },
    {
     "data": {
      "text/html": [
       "        <script type=\"text/javascript\">\n",
       "        window.PlotlyConfig = {MathJaxConfig: 'local'};\n",
       "        if (window.MathJax) {MathJax.Hub.Config({SVG: {font: \"STIX-Web\"}});}\n",
       "        if (typeof require !== 'undefined') {\n",
       "        require.undef(\"plotly\");\n",
       "        requirejs.config({\n",
       "            paths: {\n",
       "                'plotly': ['https://cdn.plot.ly/plotly-2.2.0.min']\n",
       "            }\n",
       "        });\n",
       "        require(['plotly'], function(Plotly) {\n",
       "            window._Plotly = Plotly;\n",
       "        });\n",
       "        }\n",
       "        </script>\n",
       "        "
      ]
     },
     "metadata": {},
     "output_type": "display_data"
    }
   ],
   "source": [
    "import pandas as pd\n",
    "import matplotlib.pyplot as plt\n",
    "import warnings\n",
    "import random as random\n",
    "import seaborn as sns\n",
    "import numpy as np\n",
    "import cufflinks as cf\n",
    "import chart_studio,plotly as py\n",
    "import plotly.express as px\n",
    "\n",
    "%matplotlib inline\n",
    "from plotly.offline import download_plotlyjs, init_notebook_mode, plot, iplot \n",
    "init_notebook_mode(connected=True) \n",
    "cf.go_offline()"
   ]
  },
  {
   "cell_type": "code",
   "execution_count": 2,
   "metadata": {
    "extensions": {
     "jupyter_dashboards": {
      "version": 1,
      "views": {
       "grid_default": {},
       "report_default": {}
      }
     }
    }
   },
   "outputs": [
    {
     "data": {
      "text/html": [
       "<div>\n",
       "<style scoped>\n",
       "    .dataframe tbody tr th:only-of-type {\n",
       "        vertical-align: middle;\n",
       "    }\n",
       "\n",
       "    .dataframe tbody tr th {\n",
       "        vertical-align: top;\n",
       "    }\n",
       "\n",
       "    .dataframe thead th {\n",
       "        text-align: right;\n",
       "    }\n",
       "</style>\n",
       "<table border=\"1\" class=\"dataframe\">\n",
       "  <thead>\n",
       "    <tr style=\"text-align: right;\">\n",
       "      <th></th>\n",
       "      <th>Country</th>\n",
       "      <th>Continent</th>\n",
       "      <th>Average</th>\n",
       "      <th>Male</th>\n",
       "      <th>Female</th>\n",
       "    </tr>\n",
       "  </thead>\n",
       "  <tbody>\n",
       "    <tr>\n",
       "      <th>0</th>\n",
       "      <td>Colombia</td>\n",
       "      <td>Asia</td>\n",
       "      <td>85.026</td>\n",
       "      <td>82.128</td>\n",
       "      <td>87.914</td>\n",
       "    </tr>\n",
       "    <tr>\n",
       "      <th>1</th>\n",
       "      <td>Jamaica</td>\n",
       "      <td>Asia</td>\n",
       "      <td>84.790</td>\n",
       "      <td>81.658</td>\n",
       "      <td>87.842</td>\n",
       "    </tr>\n",
       "    <tr>\n",
       "      <th>2</th>\n",
       "      <td>Hong Kong</td>\n",
       "      <td>Asia</td>\n",
       "      <td>84.424</td>\n",
       "      <td>81.466</td>\n",
       "      <td>87.360</td>\n",
       "    </tr>\n",
       "    <tr>\n",
       "      <th>3</th>\n",
       "      <td>Switzerland</td>\n",
       "      <td>Europe</td>\n",
       "      <td>83.974</td>\n",
       "      <td>82.092</td>\n",
       "      <td>85.776</td>\n",
       "    </tr>\n",
       "    <tr>\n",
       "      <th>4</th>\n",
       "      <td>Seychelles</td>\n",
       "      <td>Asia</td>\n",
       "      <td>83.798</td>\n",
       "      <td>81.736</td>\n",
       "      <td>85.898</td>\n",
       "    </tr>\n",
       "  </tbody>\n",
       "</table>\n",
       "</div>"
      ],
      "text/plain": [
       "       Country Continent  Average    Male  Female\n",
       "0     Colombia      Asia   85.026  82.128  87.914\n",
       "1      Jamaica      Asia   84.790  81.658  87.842\n",
       "2    Hong Kong      Asia   84.424  81.466  87.360\n",
       "3  Switzerland    Europe   83.974  82.092  85.776\n",
       "4   Seychelles      Asia   83.798  81.736  85.898"
      ]
     },
     "execution_count": 2,
     "metadata": {},
     "output_type": "execute_result"
    }
   ],
   "source": [
    "life_data = pd.read_csv(r'C:\\Users\\ESEE Ent\\expcsv.csv', sep = ',', encoding= 'unicode_escape')\n",
    "life_data.head()"
   ]
  },
  {
   "cell_type": "code",
   "execution_count": 3,
   "metadata": {
    "extensions": {
     "jupyter_dashboards": {
      "version": 1,
      "views": {
       "grid_default": {},
       "report_default": {}
      }
     }
    }
   },
   "outputs": [
    {
     "data": {
      "application/vnd.plotly.v1+json": {
       "config": {
        "plotlyServerURL": "https://plot.ly"
       },
       "data": [
        {
         "alignmentgroup": "True",
         "hovertemplate": "Continent=%{x}<br>Average=%{y}<extra></extra>",
         "ids": [
          "Asia",
          "Asia",
          "Asia",
          "Asia",
          "Asia",
          "Asia",
          "Asia",
          "Asia",
          "Asia",
          "Asia",
          "Asia"
         ],
         "legendgroup": "Asia",
         "marker": {
          "color": "#636efa",
          "pattern": {
           "shape": ""
          }
         },
         "name": "Asia",
         "offsetgroup": "Asia",
         "orientation": "v",
         "showlegend": true,
         "textposition": "auto",
         "type": "bar",
         "x": [
          "Asia",
          "Asia",
          "Asia",
          "Asia",
          "Asia",
          "Asia",
          "Asia",
          "Asia",
          "Asia",
          "Asia",
          "Asia"
         ],
         "xaxis": "x",
         "y": [
          85.02600000000001,
          84.79,
          84.42399999999999,
          83.79799999999999,
          83.208,
          83.19,
          82.29,
          81.206,
          74.738,
          74.164,
          73.952
         ],
         "yaxis": "y"
        }
       ],
       "frames": [
        {
         "data": [
          {
           "alignmentgroup": "True",
           "hovertemplate": "Continent=%{x}<br>Average=%{y}<extra></extra>",
           "ids": [
            "Asia",
            "Asia",
            "Asia",
            "Asia",
            "Asia",
            "Asia",
            "Asia",
            "Asia",
            "Asia",
            "Asia",
            "Asia"
           ],
           "legendgroup": "Asia",
           "marker": {
            "color": "#636efa",
            "pattern": {
             "shape": ""
            }
           },
           "name": "Asia",
           "offsetgroup": "Asia",
           "orientation": "v",
           "showlegend": true,
           "textposition": "auto",
           "type": "bar",
           "x": [
            "Asia",
            "Asia",
            "Asia",
            "Asia",
            "Asia",
            "Asia",
            "Asia",
            "Asia",
            "Asia",
            "Asia",
            "Asia"
           ],
           "xaxis": "x",
           "y": [
            85.02600000000001,
            84.79,
            84.42399999999999,
            83.79799999999999,
            83.208,
            83.19,
            82.29,
            81.206,
            74.738,
            74.164,
            73.952
           ],
           "yaxis": "y"
          }
         ],
         "name": "Asia"
        },
        {
         "data": [
          {
           "alignmentgroup": "True",
           "hovertemplate": "Continent=%{x}<br>Average=%{y}<extra></extra>",
           "ids": [
            "Europe",
            "Europe",
            "Europe",
            "Europe",
            "Europe",
            "Europe",
            "Europe",
            "Europe",
            "Europe",
            "Europe",
            "Europe",
            "Europe",
            "Europe",
            "Europe",
            "Europe",
            "Europe",
            "Europe",
            "Europe"
           ],
           "legendgroup": "Europe",
           "marker": {
            "color": "#EF553B",
            "pattern": {
             "shape": ""
            }
           },
           "name": "Europe",
           "offsetgroup": "Europe",
           "orientation": "v",
           "showlegend": true,
           "textposition": "auto",
           "type": "bar",
           "x": [
            "Europe",
            "Europe",
            "Europe",
            "Europe",
            "Europe",
            "Europe",
            "Europe",
            "Europe",
            "Europe",
            "Europe",
            "Europe",
            "Europe",
            "Europe",
            "Europe",
            "Europe",
            "Europe",
            "Europe",
            "Europe"
           ],
           "xaxis": "x",
           "y": [
            83.97399999999999,
            83.738,
            83.712,
            83.22,
            83.02600000000001,
            82.86200000000001,
            82.75200000000001,
            82.63600000000001,
            82.506,
            82.492,
            82.47200000000001,
            82.46799999999999,
            81.858,
            81.77,
            81.568,
            81.542,
            81.52199999999999,
            81.112
           ],
           "yaxis": "y"
          }
         ],
         "name": "Europe"
        },
        {
         "data": [
          {
           "alignmentgroup": "True",
           "hovertemplate": "Continent=%{x}<br>Average=%{y}<extra></extra>",
           "ids": [
            "Ocenia",
            "Ocenia"
           ],
           "legendgroup": "Ocenia",
           "marker": {
            "color": "#00cc96",
            "pattern": {
             "shape": ""
            }
           },
           "name": "Ocenia",
           "offsetgroup": "Ocenia",
           "orientation": "v",
           "showlegend": true,
           "textposition": "auto",
           "type": "bar",
           "x": [
            "Ocenia",
            "Ocenia"
           ],
           "xaxis": "x",
           "y": [
            83.64399999999999,
            82.50399999999999
           ],
           "yaxis": "y"
          }
         ],
         "name": "Ocenia"
        },
        {
         "data": [
          {
           "alignmentgroup": "True",
           "hovertemplate": "Continent=%{x}<br>Average=%{y}<extra></extra>",
           "ids": [
            "North America",
            "North America",
            "North America",
            "North America",
            "North America",
            "North America"
           ],
           "legendgroup": "North America",
           "marker": {
            "color": "#ab63fa",
            "pattern": {
             "shape": ""
            }
           },
           "name": "North America",
           "offsetgroup": "North America",
           "orientation": "v",
           "showlegend": true,
           "textposition": "auto",
           "type": "bar",
           "x": [
            "North America",
            "North America",
            "North America",
            "North America",
            "North America",
            "North America"
           ],
           "xaxis": "x",
           "y": [
            82.664,
            74.66,
            74.60600000000001,
            74.314,
            74.06,
            73.67
           ],
           "yaxis": "y"
          }
         ],
         "name": "North America"
        },
        {
         "data": [
          {
           "alignmentgroup": "True",
           "hovertemplate": "Continent=%{x}<br>Average=%{y}<extra></extra>",
           "ids": [
            "South America"
           ],
           "legendgroup": "South America",
           "marker": {
            "color": "#FFA15A",
            "pattern": {
             "shape": ""
            }
           },
           "name": "South America",
           "offsetgroup": "South America",
           "orientation": "v",
           "showlegend": true,
           "textposition": "auto",
           "type": "bar",
           "x": [
            "South America"
           ],
           "xaxis": "x",
           "y": [
            74.38600000000001
           ],
           "yaxis": "y"
          }
         ],
         "name": "South America"
        },
        {
         "data": [
          {
           "alignmentgroup": "True",
           "hovertemplate": "Continent=%{x}<br>Average=%{y}<extra></extra>",
           "ids": [
            "Africa",
            "Africa",
            "Africa",
            "Africa",
            "Africa",
            "Africa",
            "Africa",
            "Africa",
            "Africa",
            "Africa",
            "Africa",
            "Africa"
           ],
           "legendgroup": "Africa",
           "marker": {
            "color": "#19d3f3",
            "pattern": {
             "shape": ""
            }
           },
           "name": "Africa",
           "offsetgroup": "Africa",
           "orientation": "v",
           "showlegend": true,
           "textposition": "auto",
           "type": "bar",
           "x": [
            "Africa",
            "Africa",
            "Africa",
            "Africa",
            "Africa",
            "Africa",
            "Africa",
            "Africa",
            "Africa",
            "Africa",
            "Africa",
            "Africa"
           ],
           "xaxis": "x",
           "y": [
            74.3,
            66.954,
            64.124,
            64.124,
            63.732,
            62.891999999999996,
            62.571999999999996,
            55.18,
            55.122,
            54.794,
            54.622,
            53.684
           ],
           "yaxis": "y"
          }
         ],
         "name": "Africa"
        }
       ],
       "layout": {
        "barmode": "relative",
        "height": 600,
        "legend": {
         "title": {
          "text": "Continent"
         },
         "tracegroupgap": 0
        },
        "margin": {
         "t": 60
        },
        "sliders": [
         {
          "active": 0,
          "currentvalue": {
           "prefix": "Continent="
          },
          "len": 0.9,
          "pad": {
           "b": 10,
           "t": 60
          },
          "steps": [
           {
            "args": [
             [
              "Asia"
             ],
             {
              "frame": {
               "duration": 0,
               "redraw": true
              },
              "fromcurrent": true,
              "mode": "immediate",
              "transition": {
               "duration": 0,
               "easing": "linear"
              }
             }
            ],
            "label": "Asia",
            "method": "animate"
           },
           {
            "args": [
             [
              "Europe"
             ],
             {
              "frame": {
               "duration": 0,
               "redraw": true
              },
              "fromcurrent": true,
              "mode": "immediate",
              "transition": {
               "duration": 0,
               "easing": "linear"
              }
             }
            ],
            "label": "Europe",
            "method": "animate"
           },
           {
            "args": [
             [
              "Ocenia"
             ],
             {
              "frame": {
               "duration": 0,
               "redraw": true
              },
              "fromcurrent": true,
              "mode": "immediate",
              "transition": {
               "duration": 0,
               "easing": "linear"
              }
             }
            ],
            "label": "Ocenia",
            "method": "animate"
           },
           {
            "args": [
             [
              "North America"
             ],
             {
              "frame": {
               "duration": 0,
               "redraw": true
              },
              "fromcurrent": true,
              "mode": "immediate",
              "transition": {
               "duration": 0,
               "easing": "linear"
              }
             }
            ],
            "label": "North America",
            "method": "animate"
           },
           {
            "args": [
             [
              "South America"
             ],
             {
              "frame": {
               "duration": 0,
               "redraw": true
              },
              "fromcurrent": true,
              "mode": "immediate",
              "transition": {
               "duration": 0,
               "easing": "linear"
              }
             }
            ],
            "label": "South America",
            "method": "animate"
           },
           {
            "args": [
             [
              "Africa"
             ],
             {
              "frame": {
               "duration": 0,
               "redraw": true
              },
              "fromcurrent": true,
              "mode": "immediate",
              "transition": {
               "duration": 0,
               "easing": "linear"
              }
             }
            ],
            "label": "Africa",
            "method": "animate"
           }
          ],
          "x": 0.1,
          "xanchor": "left",
          "y": 0,
          "yanchor": "top"
         }
        ],
        "template": {
         "data": {
          "bar": [
           {
            "error_x": {
             "color": "#2a3f5f"
            },
            "error_y": {
             "color": "#2a3f5f"
            },
            "marker": {
             "line": {
              "color": "#E5ECF6",
              "width": 0.5
             },
             "pattern": {
              "fillmode": "overlay",
              "size": 10,
              "solidity": 0.2
             }
            },
            "type": "bar"
           }
          ],
          "barpolar": [
           {
            "marker": {
             "line": {
              "color": "#E5ECF6",
              "width": 0.5
             },
             "pattern": {
              "fillmode": "overlay",
              "size": 10,
              "solidity": 0.2
             }
            },
            "type": "barpolar"
           }
          ],
          "carpet": [
           {
            "aaxis": {
             "endlinecolor": "#2a3f5f",
             "gridcolor": "white",
             "linecolor": "white",
             "minorgridcolor": "white",
             "startlinecolor": "#2a3f5f"
            },
            "baxis": {
             "endlinecolor": "#2a3f5f",
             "gridcolor": "white",
             "linecolor": "white",
             "minorgridcolor": "white",
             "startlinecolor": "#2a3f5f"
            },
            "type": "carpet"
           }
          ],
          "choropleth": [
           {
            "colorbar": {
             "outlinewidth": 0,
             "ticks": ""
            },
            "type": "choropleth"
           }
          ],
          "contour": [
           {
            "colorbar": {
             "outlinewidth": 0,
             "ticks": ""
            },
            "colorscale": [
             [
              0,
              "#0d0887"
             ],
             [
              0.1111111111111111,
              "#46039f"
             ],
             [
              0.2222222222222222,
              "#7201a8"
             ],
             [
              0.3333333333333333,
              "#9c179e"
             ],
             [
              0.4444444444444444,
              "#bd3786"
             ],
             [
              0.5555555555555556,
              "#d8576b"
             ],
             [
              0.6666666666666666,
              "#ed7953"
             ],
             [
              0.7777777777777778,
              "#fb9f3a"
             ],
             [
              0.8888888888888888,
              "#fdca26"
             ],
             [
              1,
              "#f0f921"
             ]
            ],
            "type": "contour"
           }
          ],
          "contourcarpet": [
           {
            "colorbar": {
             "outlinewidth": 0,
             "ticks": ""
            },
            "type": "contourcarpet"
           }
          ],
          "heatmap": [
           {
            "colorbar": {
             "outlinewidth": 0,
             "ticks": ""
            },
            "colorscale": [
             [
              0,
              "#0d0887"
             ],
             [
              0.1111111111111111,
              "#46039f"
             ],
             [
              0.2222222222222222,
              "#7201a8"
             ],
             [
              0.3333333333333333,
              "#9c179e"
             ],
             [
              0.4444444444444444,
              "#bd3786"
             ],
             [
              0.5555555555555556,
              "#d8576b"
             ],
             [
              0.6666666666666666,
              "#ed7953"
             ],
             [
              0.7777777777777778,
              "#fb9f3a"
             ],
             [
              0.8888888888888888,
              "#fdca26"
             ],
             [
              1,
              "#f0f921"
             ]
            ],
            "type": "heatmap"
           }
          ],
          "heatmapgl": [
           {
            "colorbar": {
             "outlinewidth": 0,
             "ticks": ""
            },
            "colorscale": [
             [
              0,
              "#0d0887"
             ],
             [
              0.1111111111111111,
              "#46039f"
             ],
             [
              0.2222222222222222,
              "#7201a8"
             ],
             [
              0.3333333333333333,
              "#9c179e"
             ],
             [
              0.4444444444444444,
              "#bd3786"
             ],
             [
              0.5555555555555556,
              "#d8576b"
             ],
             [
              0.6666666666666666,
              "#ed7953"
             ],
             [
              0.7777777777777778,
              "#fb9f3a"
             ],
             [
              0.8888888888888888,
              "#fdca26"
             ],
             [
              1,
              "#f0f921"
             ]
            ],
            "type": "heatmapgl"
           }
          ],
          "histogram": [
           {
            "marker": {
             "pattern": {
              "fillmode": "overlay",
              "size": 10,
              "solidity": 0.2
             }
            },
            "type": "histogram"
           }
          ],
          "histogram2d": [
           {
            "colorbar": {
             "outlinewidth": 0,
             "ticks": ""
            },
            "colorscale": [
             [
              0,
              "#0d0887"
             ],
             [
              0.1111111111111111,
              "#46039f"
             ],
             [
              0.2222222222222222,
              "#7201a8"
             ],
             [
              0.3333333333333333,
              "#9c179e"
             ],
             [
              0.4444444444444444,
              "#bd3786"
             ],
             [
              0.5555555555555556,
              "#d8576b"
             ],
             [
              0.6666666666666666,
              "#ed7953"
             ],
             [
              0.7777777777777778,
              "#fb9f3a"
             ],
             [
              0.8888888888888888,
              "#fdca26"
             ],
             [
              1,
              "#f0f921"
             ]
            ],
            "type": "histogram2d"
           }
          ],
          "histogram2dcontour": [
           {
            "colorbar": {
             "outlinewidth": 0,
             "ticks": ""
            },
            "colorscale": [
             [
              0,
              "#0d0887"
             ],
             [
              0.1111111111111111,
              "#46039f"
             ],
             [
              0.2222222222222222,
              "#7201a8"
             ],
             [
              0.3333333333333333,
              "#9c179e"
             ],
             [
              0.4444444444444444,
              "#bd3786"
             ],
             [
              0.5555555555555556,
              "#d8576b"
             ],
             [
              0.6666666666666666,
              "#ed7953"
             ],
             [
              0.7777777777777778,
              "#fb9f3a"
             ],
             [
              0.8888888888888888,
              "#fdca26"
             ],
             [
              1,
              "#f0f921"
             ]
            ],
            "type": "histogram2dcontour"
           }
          ],
          "mesh3d": [
           {
            "colorbar": {
             "outlinewidth": 0,
             "ticks": ""
            },
            "type": "mesh3d"
           }
          ],
          "parcoords": [
           {
            "line": {
             "colorbar": {
              "outlinewidth": 0,
              "ticks": ""
             }
            },
            "type": "parcoords"
           }
          ],
          "pie": [
           {
            "automargin": true,
            "type": "pie"
           }
          ],
          "scatter": [
           {
            "marker": {
             "colorbar": {
              "outlinewidth": 0,
              "ticks": ""
             }
            },
            "type": "scatter"
           }
          ],
          "scatter3d": [
           {
            "line": {
             "colorbar": {
              "outlinewidth": 0,
              "ticks": ""
             }
            },
            "marker": {
             "colorbar": {
              "outlinewidth": 0,
              "ticks": ""
             }
            },
            "type": "scatter3d"
           }
          ],
          "scattercarpet": [
           {
            "marker": {
             "colorbar": {
              "outlinewidth": 0,
              "ticks": ""
             }
            },
            "type": "scattercarpet"
           }
          ],
          "scattergeo": [
           {
            "marker": {
             "colorbar": {
              "outlinewidth": 0,
              "ticks": ""
             }
            },
            "type": "scattergeo"
           }
          ],
          "scattergl": [
           {
            "marker": {
             "colorbar": {
              "outlinewidth": 0,
              "ticks": ""
             }
            },
            "type": "scattergl"
           }
          ],
          "scattermapbox": [
           {
            "marker": {
             "colorbar": {
              "outlinewidth": 0,
              "ticks": ""
             }
            },
            "type": "scattermapbox"
           }
          ],
          "scatterpolar": [
           {
            "marker": {
             "colorbar": {
              "outlinewidth": 0,
              "ticks": ""
             }
            },
            "type": "scatterpolar"
           }
          ],
          "scatterpolargl": [
           {
            "marker": {
             "colorbar": {
              "outlinewidth": 0,
              "ticks": ""
             }
            },
            "type": "scatterpolargl"
           }
          ],
          "scatterternary": [
           {
            "marker": {
             "colorbar": {
              "outlinewidth": 0,
              "ticks": ""
             }
            },
            "type": "scatterternary"
           }
          ],
          "surface": [
           {
            "colorbar": {
             "outlinewidth": 0,
             "ticks": ""
            },
            "colorscale": [
             [
              0,
              "#0d0887"
             ],
             [
              0.1111111111111111,
              "#46039f"
             ],
             [
              0.2222222222222222,
              "#7201a8"
             ],
             [
              0.3333333333333333,
              "#9c179e"
             ],
             [
              0.4444444444444444,
              "#bd3786"
             ],
             [
              0.5555555555555556,
              "#d8576b"
             ],
             [
              0.6666666666666666,
              "#ed7953"
             ],
             [
              0.7777777777777778,
              "#fb9f3a"
             ],
             [
              0.8888888888888888,
              "#fdca26"
             ],
             [
              1,
              "#f0f921"
             ]
            ],
            "type": "surface"
           }
          ],
          "table": [
           {
            "cells": {
             "fill": {
              "color": "#EBF0F8"
             },
             "line": {
              "color": "white"
             }
            },
            "header": {
             "fill": {
              "color": "#C8D4E3"
             },
             "line": {
              "color": "white"
             }
            },
            "type": "table"
           }
          ]
         },
         "layout": {
          "annotationdefaults": {
           "arrowcolor": "#2a3f5f",
           "arrowhead": 0,
           "arrowwidth": 1
          },
          "autotypenumbers": "strict",
          "coloraxis": {
           "colorbar": {
            "outlinewidth": 0,
            "ticks": ""
           }
          },
          "colorscale": {
           "diverging": [
            [
             0,
             "#8e0152"
            ],
            [
             0.1,
             "#c51b7d"
            ],
            [
             0.2,
             "#de77ae"
            ],
            [
             0.3,
             "#f1b6da"
            ],
            [
             0.4,
             "#fde0ef"
            ],
            [
             0.5,
             "#f7f7f7"
            ],
            [
             0.6,
             "#e6f5d0"
            ],
            [
             0.7,
             "#b8e186"
            ],
            [
             0.8,
             "#7fbc41"
            ],
            [
             0.9,
             "#4d9221"
            ],
            [
             1,
             "#276419"
            ]
           ],
           "sequential": [
            [
             0,
             "#0d0887"
            ],
            [
             0.1111111111111111,
             "#46039f"
            ],
            [
             0.2222222222222222,
             "#7201a8"
            ],
            [
             0.3333333333333333,
             "#9c179e"
            ],
            [
             0.4444444444444444,
             "#bd3786"
            ],
            [
             0.5555555555555556,
             "#d8576b"
            ],
            [
             0.6666666666666666,
             "#ed7953"
            ],
            [
             0.7777777777777778,
             "#fb9f3a"
            ],
            [
             0.8888888888888888,
             "#fdca26"
            ],
            [
             1,
             "#f0f921"
            ]
           ],
           "sequentialminus": [
            [
             0,
             "#0d0887"
            ],
            [
             0.1111111111111111,
             "#46039f"
            ],
            [
             0.2222222222222222,
             "#7201a8"
            ],
            [
             0.3333333333333333,
             "#9c179e"
            ],
            [
             0.4444444444444444,
             "#bd3786"
            ],
            [
             0.5555555555555556,
             "#d8576b"
            ],
            [
             0.6666666666666666,
             "#ed7953"
            ],
            [
             0.7777777777777778,
             "#fb9f3a"
            ],
            [
             0.8888888888888888,
             "#fdca26"
            ],
            [
             1,
             "#f0f921"
            ]
           ]
          },
          "colorway": [
           "#636efa",
           "#EF553B",
           "#00cc96",
           "#ab63fa",
           "#FFA15A",
           "#19d3f3",
           "#FF6692",
           "#B6E880",
           "#FF97FF",
           "#FECB52"
          ],
          "font": {
           "color": "#2a3f5f"
          },
          "geo": {
           "bgcolor": "white",
           "lakecolor": "white",
           "landcolor": "#E5ECF6",
           "showlakes": true,
           "showland": true,
           "subunitcolor": "white"
          },
          "hoverlabel": {
           "align": "left"
          },
          "hovermode": "closest",
          "mapbox": {
           "style": "light"
          },
          "paper_bgcolor": "white",
          "plot_bgcolor": "#E5ECF6",
          "polar": {
           "angularaxis": {
            "gridcolor": "white",
            "linecolor": "white",
            "ticks": ""
           },
           "bgcolor": "#E5ECF6",
           "radialaxis": {
            "gridcolor": "white",
            "linecolor": "white",
            "ticks": ""
           }
          },
          "scene": {
           "xaxis": {
            "backgroundcolor": "#E5ECF6",
            "gridcolor": "white",
            "gridwidth": 2,
            "linecolor": "white",
            "showbackground": true,
            "ticks": "",
            "zerolinecolor": "white"
           },
           "yaxis": {
            "backgroundcolor": "#E5ECF6",
            "gridcolor": "white",
            "gridwidth": 2,
            "linecolor": "white",
            "showbackground": true,
            "ticks": "",
            "zerolinecolor": "white"
           },
           "zaxis": {
            "backgroundcolor": "#E5ECF6",
            "gridcolor": "white",
            "gridwidth": 2,
            "linecolor": "white",
            "showbackground": true,
            "ticks": "",
            "zerolinecolor": "white"
           }
          },
          "shapedefaults": {
           "line": {
            "color": "#2a3f5f"
           }
          },
          "ternary": {
           "aaxis": {
            "gridcolor": "white",
            "linecolor": "white",
            "ticks": ""
           },
           "baxis": {
            "gridcolor": "white",
            "linecolor": "white",
            "ticks": ""
           },
           "bgcolor": "#E5ECF6",
           "caxis": {
            "gridcolor": "white",
            "linecolor": "white",
            "ticks": ""
           }
          },
          "title": {
           "x": 0.05
          },
          "xaxis": {
           "automargin": true,
           "gridcolor": "white",
           "linecolor": "white",
           "ticks": "",
           "title": {
            "standoff": 15
           },
           "zerolinecolor": "white",
           "zerolinewidth": 2
          },
          "yaxis": {
           "automargin": true,
           "gridcolor": "white",
           "linecolor": "white",
           "ticks": "",
           "title": {
            "standoff": 15
           },
           "zerolinecolor": "white",
           "zerolinewidth": 2
          }
         }
        },
        "title": {
         "text": "Life Expectancy per Continent"
        },
        "updatemenus": [
         {
          "buttons": [
           {
            "args": [
             null,
             {
              "frame": {
               "duration": 500,
               "redraw": true
              },
              "fromcurrent": true,
              "mode": "immediate",
              "transition": {
               "duration": 500,
               "easing": "linear"
              }
             }
            ],
            "label": "&#9654;",
            "method": "animate"
           },
           {
            "args": [
             [
              null
             ],
             {
              "frame": {
               "duration": 0,
               "redraw": true
              },
              "fromcurrent": true,
              "mode": "immediate",
              "transition": {
               "duration": 0,
               "easing": "linear"
              }
             }
            ],
            "label": "&#9724;",
            "method": "animate"
           }
          ],
          "direction": "left",
          "pad": {
           "r": 10,
           "t": 70
          },
          "showactive": false,
          "type": "buttons",
          "x": 0.1,
          "xanchor": "right",
          "y": 0,
          "yanchor": "top"
         }
        ],
        "xaxis": {
         "anchor": "y",
         "categoryarray": [
          "Asia",
          "Europe",
          "Ocenia",
          "North America",
          "South America",
          "Africa"
         ],
         "categoryorder": "array",
         "domain": [
          0,
          1
         ],
         "title": {
          "text": "Continent"
         }
        },
        "yaxis": {
         "anchor": "x",
         "domain": [
          0,
          1
         ],
         "range": [
          50,
          90
         ],
         "title": {
          "text": "Average"
         }
        }
       }
      },
      "text/html": [
       "<div>                            <div id=\"726eb1f5-b95c-4668-b23e-b0485089cd9e\" class=\"plotly-graph-div\" style=\"height:600px; width:100%;\"></div>            <script type=\"text/javascript\">                require([\"plotly\"], function(Plotly) {                    window.PLOTLYENV=window.PLOTLYENV || {};                                    if (document.getElementById(\"726eb1f5-b95c-4668-b23e-b0485089cd9e\")) {                    Plotly.newPlot(                        \"726eb1f5-b95c-4668-b23e-b0485089cd9e\",                        [{\"alignmentgroup\":\"True\",\"hovertemplate\":\"Continent=%{x}<br>Average=%{y}<extra></extra>\",\"ids\":[\"Asia\",\"Asia\",\"Asia\",\"Asia\",\"Asia\",\"Asia\",\"Asia\",\"Asia\",\"Asia\",\"Asia\",\"Asia\"],\"legendgroup\":\"Asia\",\"marker\":{\"color\":\"#636efa\",\"pattern\":{\"shape\":\"\"}},\"name\":\"Asia\",\"offsetgroup\":\"Asia\",\"orientation\":\"v\",\"showlegend\":true,\"textposition\":\"auto\",\"type\":\"bar\",\"x\":[\"Asia\",\"Asia\",\"Asia\",\"Asia\",\"Asia\",\"Asia\",\"Asia\",\"Asia\",\"Asia\",\"Asia\",\"Asia\"],\"xaxis\":\"x\",\"y\":[85.02600000000001,84.79,84.42399999999999,83.79799999999999,83.208,83.19,82.29,81.206,74.738,74.164,73.952],\"yaxis\":\"y\"}],                        {\"barmode\":\"relative\",\"height\":600,\"legend\":{\"title\":{\"text\":\"Continent\"},\"tracegroupgap\":0},\"margin\":{\"t\":60},\"sliders\":[{\"active\":0,\"currentvalue\":{\"prefix\":\"Continent=\"},\"len\":0.9,\"pad\":{\"b\":10,\"t\":60},\"steps\":[{\"args\":[[\"Asia\"],{\"frame\":{\"duration\":0,\"redraw\":true},\"fromcurrent\":true,\"mode\":\"immediate\",\"transition\":{\"duration\":0,\"easing\":\"linear\"}}],\"label\":\"Asia\",\"method\":\"animate\"},{\"args\":[[\"Europe\"],{\"frame\":{\"duration\":0,\"redraw\":true},\"fromcurrent\":true,\"mode\":\"immediate\",\"transition\":{\"duration\":0,\"easing\":\"linear\"}}],\"label\":\"Europe\",\"method\":\"animate\"},{\"args\":[[\"Ocenia\"],{\"frame\":{\"duration\":0,\"redraw\":true},\"fromcurrent\":true,\"mode\":\"immediate\",\"transition\":{\"duration\":0,\"easing\":\"linear\"}}],\"label\":\"Ocenia\",\"method\":\"animate\"},{\"args\":[[\"North America\"],{\"frame\":{\"duration\":0,\"redraw\":true},\"fromcurrent\":true,\"mode\":\"immediate\",\"transition\":{\"duration\":0,\"easing\":\"linear\"}}],\"label\":\"North America\",\"method\":\"animate\"},{\"args\":[[\"South America\"],{\"frame\":{\"duration\":0,\"redraw\":true},\"fromcurrent\":true,\"mode\":\"immediate\",\"transition\":{\"duration\":0,\"easing\":\"linear\"}}],\"label\":\"South America\",\"method\":\"animate\"},{\"args\":[[\"Africa\"],{\"frame\":{\"duration\":0,\"redraw\":true},\"fromcurrent\":true,\"mode\":\"immediate\",\"transition\":{\"duration\":0,\"easing\":\"linear\"}}],\"label\":\"Africa\",\"method\":\"animate\"}],\"x\":0.1,\"xanchor\":\"left\",\"y\":0,\"yanchor\":\"top\"}],\"template\":{\"data\":{\"bar\":[{\"error_x\":{\"color\":\"#2a3f5f\"},\"error_y\":{\"color\":\"#2a3f5f\"},\"marker\":{\"line\":{\"color\":\"#E5ECF6\",\"width\":0.5},\"pattern\":{\"fillmode\":\"overlay\",\"size\":10,\"solidity\":0.2}},\"type\":\"bar\"}],\"barpolar\":[{\"marker\":{\"line\":{\"color\":\"#E5ECF6\",\"width\":0.5},\"pattern\":{\"fillmode\":\"overlay\",\"size\":10,\"solidity\":0.2}},\"type\":\"barpolar\"}],\"carpet\":[{\"aaxis\":{\"endlinecolor\":\"#2a3f5f\",\"gridcolor\":\"white\",\"linecolor\":\"white\",\"minorgridcolor\":\"white\",\"startlinecolor\":\"#2a3f5f\"},\"baxis\":{\"endlinecolor\":\"#2a3f5f\",\"gridcolor\":\"white\",\"linecolor\":\"white\",\"minorgridcolor\":\"white\",\"startlinecolor\":\"#2a3f5f\"},\"type\":\"carpet\"}],\"choropleth\":[{\"colorbar\":{\"outlinewidth\":0,\"ticks\":\"\"},\"type\":\"choropleth\"}],\"contour\":[{\"colorbar\":{\"outlinewidth\":0,\"ticks\":\"\"},\"colorscale\":[[0.0,\"#0d0887\"],[0.1111111111111111,\"#46039f\"],[0.2222222222222222,\"#7201a8\"],[0.3333333333333333,\"#9c179e\"],[0.4444444444444444,\"#bd3786\"],[0.5555555555555556,\"#d8576b\"],[0.6666666666666666,\"#ed7953\"],[0.7777777777777778,\"#fb9f3a\"],[0.8888888888888888,\"#fdca26\"],[1.0,\"#f0f921\"]],\"type\":\"contour\"}],\"contourcarpet\":[{\"colorbar\":{\"outlinewidth\":0,\"ticks\":\"\"},\"type\":\"contourcarpet\"}],\"heatmap\":[{\"colorbar\":{\"outlinewidth\":0,\"ticks\":\"\"},\"colorscale\":[[0.0,\"#0d0887\"],[0.1111111111111111,\"#46039f\"],[0.2222222222222222,\"#7201a8\"],[0.3333333333333333,\"#9c179e\"],[0.4444444444444444,\"#bd3786\"],[0.5555555555555556,\"#d8576b\"],[0.6666666666666666,\"#ed7953\"],[0.7777777777777778,\"#fb9f3a\"],[0.8888888888888888,\"#fdca26\"],[1.0,\"#f0f921\"]],\"type\":\"heatmap\"}],\"heatmapgl\":[{\"colorbar\":{\"outlinewidth\":0,\"ticks\":\"\"},\"colorscale\":[[0.0,\"#0d0887\"],[0.1111111111111111,\"#46039f\"],[0.2222222222222222,\"#7201a8\"],[0.3333333333333333,\"#9c179e\"],[0.4444444444444444,\"#bd3786\"],[0.5555555555555556,\"#d8576b\"],[0.6666666666666666,\"#ed7953\"],[0.7777777777777778,\"#fb9f3a\"],[0.8888888888888888,\"#fdca26\"],[1.0,\"#f0f921\"]],\"type\":\"heatmapgl\"}],\"histogram\":[{\"marker\":{\"pattern\":{\"fillmode\":\"overlay\",\"size\":10,\"solidity\":0.2}},\"type\":\"histogram\"}],\"histogram2d\":[{\"colorbar\":{\"outlinewidth\":0,\"ticks\":\"\"},\"colorscale\":[[0.0,\"#0d0887\"],[0.1111111111111111,\"#46039f\"],[0.2222222222222222,\"#7201a8\"],[0.3333333333333333,\"#9c179e\"],[0.4444444444444444,\"#bd3786\"],[0.5555555555555556,\"#d8576b\"],[0.6666666666666666,\"#ed7953\"],[0.7777777777777778,\"#fb9f3a\"],[0.8888888888888888,\"#fdca26\"],[1.0,\"#f0f921\"]],\"type\":\"histogram2d\"}],\"histogram2dcontour\":[{\"colorbar\":{\"outlinewidth\":0,\"ticks\":\"\"},\"colorscale\":[[0.0,\"#0d0887\"],[0.1111111111111111,\"#46039f\"],[0.2222222222222222,\"#7201a8\"],[0.3333333333333333,\"#9c179e\"],[0.4444444444444444,\"#bd3786\"],[0.5555555555555556,\"#d8576b\"],[0.6666666666666666,\"#ed7953\"],[0.7777777777777778,\"#fb9f3a\"],[0.8888888888888888,\"#fdca26\"],[1.0,\"#f0f921\"]],\"type\":\"histogram2dcontour\"}],\"mesh3d\":[{\"colorbar\":{\"outlinewidth\":0,\"ticks\":\"\"},\"type\":\"mesh3d\"}],\"parcoords\":[{\"line\":{\"colorbar\":{\"outlinewidth\":0,\"ticks\":\"\"}},\"type\":\"parcoords\"}],\"pie\":[{\"automargin\":true,\"type\":\"pie\"}],\"scatter\":[{\"marker\":{\"colorbar\":{\"outlinewidth\":0,\"ticks\":\"\"}},\"type\":\"scatter\"}],\"scatter3d\":[{\"line\":{\"colorbar\":{\"outlinewidth\":0,\"ticks\":\"\"}},\"marker\":{\"colorbar\":{\"outlinewidth\":0,\"ticks\":\"\"}},\"type\":\"scatter3d\"}],\"scattercarpet\":[{\"marker\":{\"colorbar\":{\"outlinewidth\":0,\"ticks\":\"\"}},\"type\":\"scattercarpet\"}],\"scattergeo\":[{\"marker\":{\"colorbar\":{\"outlinewidth\":0,\"ticks\":\"\"}},\"type\":\"scattergeo\"}],\"scattergl\":[{\"marker\":{\"colorbar\":{\"outlinewidth\":0,\"ticks\":\"\"}},\"type\":\"scattergl\"}],\"scattermapbox\":[{\"marker\":{\"colorbar\":{\"outlinewidth\":0,\"ticks\":\"\"}},\"type\":\"scattermapbox\"}],\"scatterpolar\":[{\"marker\":{\"colorbar\":{\"outlinewidth\":0,\"ticks\":\"\"}},\"type\":\"scatterpolar\"}],\"scatterpolargl\":[{\"marker\":{\"colorbar\":{\"outlinewidth\":0,\"ticks\":\"\"}},\"type\":\"scatterpolargl\"}],\"scatterternary\":[{\"marker\":{\"colorbar\":{\"outlinewidth\":0,\"ticks\":\"\"}},\"type\":\"scatterternary\"}],\"surface\":[{\"colorbar\":{\"outlinewidth\":0,\"ticks\":\"\"},\"colorscale\":[[0.0,\"#0d0887\"],[0.1111111111111111,\"#46039f\"],[0.2222222222222222,\"#7201a8\"],[0.3333333333333333,\"#9c179e\"],[0.4444444444444444,\"#bd3786\"],[0.5555555555555556,\"#d8576b\"],[0.6666666666666666,\"#ed7953\"],[0.7777777777777778,\"#fb9f3a\"],[0.8888888888888888,\"#fdca26\"],[1.0,\"#f0f921\"]],\"type\":\"surface\"}],\"table\":[{\"cells\":{\"fill\":{\"color\":\"#EBF0F8\"},\"line\":{\"color\":\"white\"}},\"header\":{\"fill\":{\"color\":\"#C8D4E3\"},\"line\":{\"color\":\"white\"}},\"type\":\"table\"}]},\"layout\":{\"annotationdefaults\":{\"arrowcolor\":\"#2a3f5f\",\"arrowhead\":0,\"arrowwidth\":1},\"autotypenumbers\":\"strict\",\"coloraxis\":{\"colorbar\":{\"outlinewidth\":0,\"ticks\":\"\"}},\"colorscale\":{\"diverging\":[[0,\"#8e0152\"],[0.1,\"#c51b7d\"],[0.2,\"#de77ae\"],[0.3,\"#f1b6da\"],[0.4,\"#fde0ef\"],[0.5,\"#f7f7f7\"],[0.6,\"#e6f5d0\"],[0.7,\"#b8e186\"],[0.8,\"#7fbc41\"],[0.9,\"#4d9221\"],[1,\"#276419\"]],\"sequential\":[[0.0,\"#0d0887\"],[0.1111111111111111,\"#46039f\"],[0.2222222222222222,\"#7201a8\"],[0.3333333333333333,\"#9c179e\"],[0.4444444444444444,\"#bd3786\"],[0.5555555555555556,\"#d8576b\"],[0.6666666666666666,\"#ed7953\"],[0.7777777777777778,\"#fb9f3a\"],[0.8888888888888888,\"#fdca26\"],[1.0,\"#f0f921\"]],\"sequentialminus\":[[0.0,\"#0d0887\"],[0.1111111111111111,\"#46039f\"],[0.2222222222222222,\"#7201a8\"],[0.3333333333333333,\"#9c179e\"],[0.4444444444444444,\"#bd3786\"],[0.5555555555555556,\"#d8576b\"],[0.6666666666666666,\"#ed7953\"],[0.7777777777777778,\"#fb9f3a\"],[0.8888888888888888,\"#fdca26\"],[1.0,\"#f0f921\"]]},\"colorway\":[\"#636efa\",\"#EF553B\",\"#00cc96\",\"#ab63fa\",\"#FFA15A\",\"#19d3f3\",\"#FF6692\",\"#B6E880\",\"#FF97FF\",\"#FECB52\"],\"font\":{\"color\":\"#2a3f5f\"},\"geo\":{\"bgcolor\":\"white\",\"lakecolor\":\"white\",\"landcolor\":\"#E5ECF6\",\"showlakes\":true,\"showland\":true,\"subunitcolor\":\"white\"},\"hoverlabel\":{\"align\":\"left\"},\"hovermode\":\"closest\",\"mapbox\":{\"style\":\"light\"},\"paper_bgcolor\":\"white\",\"plot_bgcolor\":\"#E5ECF6\",\"polar\":{\"angularaxis\":{\"gridcolor\":\"white\",\"linecolor\":\"white\",\"ticks\":\"\"},\"bgcolor\":\"#E5ECF6\",\"radialaxis\":{\"gridcolor\":\"white\",\"linecolor\":\"white\",\"ticks\":\"\"}},\"scene\":{\"xaxis\":{\"backgroundcolor\":\"#E5ECF6\",\"gridcolor\":\"white\",\"gridwidth\":2,\"linecolor\":\"white\",\"showbackground\":true,\"ticks\":\"\",\"zerolinecolor\":\"white\"},\"yaxis\":{\"backgroundcolor\":\"#E5ECF6\",\"gridcolor\":\"white\",\"gridwidth\":2,\"linecolor\":\"white\",\"showbackground\":true,\"ticks\":\"\",\"zerolinecolor\":\"white\"},\"zaxis\":{\"backgroundcolor\":\"#E5ECF6\",\"gridcolor\":\"white\",\"gridwidth\":2,\"linecolor\":\"white\",\"showbackground\":true,\"ticks\":\"\",\"zerolinecolor\":\"white\"}},\"shapedefaults\":{\"line\":{\"color\":\"#2a3f5f\"}},\"ternary\":{\"aaxis\":{\"gridcolor\":\"white\",\"linecolor\":\"white\",\"ticks\":\"\"},\"baxis\":{\"gridcolor\":\"white\",\"linecolor\":\"white\",\"ticks\":\"\"},\"bgcolor\":\"#E5ECF6\",\"caxis\":{\"gridcolor\":\"white\",\"linecolor\":\"white\",\"ticks\":\"\"}},\"title\":{\"x\":0.05},\"xaxis\":{\"automargin\":true,\"gridcolor\":\"white\",\"linecolor\":\"white\",\"ticks\":\"\",\"title\":{\"standoff\":15},\"zerolinecolor\":\"white\",\"zerolinewidth\":2},\"yaxis\":{\"automargin\":true,\"gridcolor\":\"white\",\"linecolor\":\"white\",\"ticks\":\"\",\"title\":{\"standoff\":15},\"zerolinecolor\":\"white\",\"zerolinewidth\":2}}},\"title\":{\"text\":\"Life Expectancy per Continent\"},\"updatemenus\":[{\"buttons\":[{\"args\":[null,{\"frame\":{\"duration\":500,\"redraw\":true},\"fromcurrent\":true,\"mode\":\"immediate\",\"transition\":{\"duration\":500,\"easing\":\"linear\"}}],\"label\":\"&#9654;\",\"method\":\"animate\"},{\"args\":[[null],{\"frame\":{\"duration\":0,\"redraw\":true},\"fromcurrent\":true,\"mode\":\"immediate\",\"transition\":{\"duration\":0,\"easing\":\"linear\"}}],\"label\":\"&#9724;\",\"method\":\"animate\"}],\"direction\":\"left\",\"pad\":{\"r\":10,\"t\":70},\"showactive\":false,\"type\":\"buttons\",\"x\":0.1,\"xanchor\":\"right\",\"y\":0,\"yanchor\":\"top\"}],\"xaxis\":{\"anchor\":\"y\",\"categoryarray\":[\"Asia\",\"Europe\",\"Ocenia\",\"North America\",\"South America\",\"Africa\"],\"categoryorder\":\"array\",\"domain\":[0.0,1.0],\"title\":{\"text\":\"Continent\"}},\"yaxis\":{\"anchor\":\"x\",\"domain\":[0.0,1.0],\"range\":[50,90],\"title\":{\"text\":\"Average\"}}},                        {\"responsive\": true}                    ).then(function(){\n",
       "                            Plotly.addFrames('726eb1f5-b95c-4668-b23e-b0485089cd9e', [{\"data\":[{\"alignmentgroup\":\"True\",\"hovertemplate\":\"Continent=%{x}<br>Average=%{y}<extra></extra>\",\"ids\":[\"Asia\",\"Asia\",\"Asia\",\"Asia\",\"Asia\",\"Asia\",\"Asia\",\"Asia\",\"Asia\",\"Asia\",\"Asia\"],\"legendgroup\":\"Asia\",\"marker\":{\"color\":\"#636efa\",\"pattern\":{\"shape\":\"\"}},\"name\":\"Asia\",\"offsetgroup\":\"Asia\",\"orientation\":\"v\",\"showlegend\":true,\"textposition\":\"auto\",\"type\":\"bar\",\"x\":[\"Asia\",\"Asia\",\"Asia\",\"Asia\",\"Asia\",\"Asia\",\"Asia\",\"Asia\",\"Asia\",\"Asia\",\"Asia\"],\"xaxis\":\"x\",\"y\":[85.02600000000001,84.79,84.42399999999999,83.79799999999999,83.208,83.19,82.29,81.206,74.738,74.164,73.952],\"yaxis\":\"y\"}],\"name\":\"Asia\"},{\"data\":[{\"alignmentgroup\":\"True\",\"hovertemplate\":\"Continent=%{x}<br>Average=%{y}<extra></extra>\",\"ids\":[\"Europe\",\"Europe\",\"Europe\",\"Europe\",\"Europe\",\"Europe\",\"Europe\",\"Europe\",\"Europe\",\"Europe\",\"Europe\",\"Europe\",\"Europe\",\"Europe\",\"Europe\",\"Europe\",\"Europe\",\"Europe\"],\"legendgroup\":\"Europe\",\"marker\":{\"color\":\"#EF553B\",\"pattern\":{\"shape\":\"\"}},\"name\":\"Europe\",\"offsetgroup\":\"Europe\",\"orientation\":\"v\",\"showlegend\":true,\"textposition\":\"auto\",\"type\":\"bar\",\"x\":[\"Europe\",\"Europe\",\"Europe\",\"Europe\",\"Europe\",\"Europe\",\"Europe\",\"Europe\",\"Europe\",\"Europe\",\"Europe\",\"Europe\",\"Europe\",\"Europe\",\"Europe\",\"Europe\",\"Europe\",\"Europe\"],\"xaxis\":\"x\",\"y\":[83.97399999999999,83.738,83.712,83.22,83.02600000000001,82.86200000000001,82.75200000000001,82.63600000000001,82.506,82.492,82.47200000000001,82.46799999999999,81.858,81.77,81.568,81.542,81.52199999999999,81.112],\"yaxis\":\"y\"}],\"name\":\"Europe\"},{\"data\":[{\"alignmentgroup\":\"True\",\"hovertemplate\":\"Continent=%{x}<br>Average=%{y}<extra></extra>\",\"ids\":[\"Ocenia\",\"Ocenia\"],\"legendgroup\":\"Ocenia\",\"marker\":{\"color\":\"#00cc96\",\"pattern\":{\"shape\":\"\"}},\"name\":\"Ocenia\",\"offsetgroup\":\"Ocenia\",\"orientation\":\"v\",\"showlegend\":true,\"textposition\":\"auto\",\"type\":\"bar\",\"x\":[\"Ocenia\",\"Ocenia\"],\"xaxis\":\"x\",\"y\":[83.64399999999999,82.50399999999999],\"yaxis\":\"y\"}],\"name\":\"Ocenia\"},{\"data\":[{\"alignmentgroup\":\"True\",\"hovertemplate\":\"Continent=%{x}<br>Average=%{y}<extra></extra>\",\"ids\":[\"North America\",\"North America\",\"North America\",\"North America\",\"North America\",\"North America\"],\"legendgroup\":\"North America\",\"marker\":{\"color\":\"#ab63fa\",\"pattern\":{\"shape\":\"\"}},\"name\":\"North America\",\"offsetgroup\":\"North America\",\"orientation\":\"v\",\"showlegend\":true,\"textposition\":\"auto\",\"type\":\"bar\",\"x\":[\"North America\",\"North America\",\"North America\",\"North America\",\"North America\",\"North America\"],\"xaxis\":\"x\",\"y\":[82.664,74.66,74.60600000000001,74.314,74.06,73.67],\"yaxis\":\"y\"}],\"name\":\"North America\"},{\"data\":[{\"alignmentgroup\":\"True\",\"hovertemplate\":\"Continent=%{x}<br>Average=%{y}<extra></extra>\",\"ids\":[\"South America\"],\"legendgroup\":\"South America\",\"marker\":{\"color\":\"#FFA15A\",\"pattern\":{\"shape\":\"\"}},\"name\":\"South America\",\"offsetgroup\":\"South America\",\"orientation\":\"v\",\"showlegend\":true,\"textposition\":\"auto\",\"type\":\"bar\",\"x\":[\"South America\"],\"xaxis\":\"x\",\"y\":[74.38600000000001],\"yaxis\":\"y\"}],\"name\":\"South America\"},{\"data\":[{\"alignmentgroup\":\"True\",\"hovertemplate\":\"Continent=%{x}<br>Average=%{y}<extra></extra>\",\"ids\":[\"Africa\",\"Africa\",\"Africa\",\"Africa\",\"Africa\",\"Africa\",\"Africa\",\"Africa\",\"Africa\",\"Africa\",\"Africa\",\"Africa\"],\"legendgroup\":\"Africa\",\"marker\":{\"color\":\"#19d3f3\",\"pattern\":{\"shape\":\"\"}},\"name\":\"Africa\",\"offsetgroup\":\"Africa\",\"orientation\":\"v\",\"showlegend\":true,\"textposition\":\"auto\",\"type\":\"bar\",\"x\":[\"Africa\",\"Africa\",\"Africa\",\"Africa\",\"Africa\",\"Africa\",\"Africa\",\"Africa\",\"Africa\",\"Africa\",\"Africa\",\"Africa\"],\"xaxis\":\"x\",\"y\":[74.3,66.954,64.124,64.124,63.732,62.891999999999996,62.571999999999996,55.18,55.122,54.794,54.622,53.684],\"yaxis\":\"y\"}],\"name\":\"Africa\"}]);\n",
       "                        }).then(function(){\n",
       "                            \n",
       "var gd = document.getElementById('726eb1f5-b95c-4668-b23e-b0485089cd9e');\n",
       "var x = new MutationObserver(function (mutations, observer) {{\n",
       "        var display = window.getComputedStyle(gd).display;\n",
       "        if (!display || display === 'none') {{\n",
       "            console.log([gd, 'removed!']);\n",
       "            Plotly.purge(gd);\n",
       "            observer.disconnect();\n",
       "        }}\n",
       "}});\n",
       "\n",
       "// Listen for the removal of the full notebook cells\n",
       "var notebookContainer = gd.closest('#notebook-container');\n",
       "if (notebookContainer) {{\n",
       "    x.observe(notebookContainer, {childList: true});\n",
       "}}\n",
       "\n",
       "// Listen for the clearing of the current output cell\n",
       "var outputEl = gd.closest('.output');\n",
       "if (outputEl) {{\n",
       "    x.observe(outputEl, {childList: true});\n",
       "}}\n",
       "\n",
       "                        })                };                });            </script>        </div>"
      ]
     },
     "metadata": {},
     "output_type": "display_data"
    }
   ],
   "source": [
    "fig = px.bar(life_data, x= life_data.Continent, y= life_data.Average, color = life_data.Continent, \n",
    "             animation_frame=\"Continent\", animation_group= life_data.Continent, range_y=[50,90])\n",
    "fig.update_layout( height=600, title_text='Life Expectancy per Continent')\n",
    "fig.show()"
   ]
  },
  {
   "cell_type": "code",
   "execution_count": 4,
   "metadata": {
    "extensions": {
     "jupyter_dashboards": {
      "version": 1,
      "views": {
       "grid_default": {},
       "report_default": {}
      }
     }
    }
   },
   "outputs": [
    {
     "data": {
      "text/html": [
       "<div>\n",
       "<style scoped>\n",
       "    .dataframe tbody tr th:only-of-type {\n",
       "        vertical-align: middle;\n",
       "    }\n",
       "\n",
       "    .dataframe tbody tr th {\n",
       "        vertical-align: top;\n",
       "    }\n",
       "\n",
       "    .dataframe thead th {\n",
       "        text-align: right;\n",
       "    }\n",
       "</style>\n",
       "<table border=\"1\" class=\"dataframe\">\n",
       "  <thead>\n",
       "    <tr style=\"text-align: right;\">\n",
       "      <th></th>\n",
       "      <th>Continent</th>\n",
       "      <th>Average</th>\n",
       "      <th>Male</th>\n",
       "      <th>Female</th>\n",
       "    </tr>\n",
       "  </thead>\n",
       "  <tbody>\n",
       "    <tr>\n",
       "      <th>0</th>\n",
       "      <td>Africa</td>\n",
       "      <td>61.00833</td>\n",
       "      <td>59.04183</td>\n",
       "      <td>62.96800</td>\n",
       "    </tr>\n",
       "    <tr>\n",
       "      <th>1</th>\n",
       "      <td>Asia</td>\n",
       "      <td>80.84960</td>\n",
       "      <td>78.07100</td>\n",
       "      <td>83.63760</td>\n",
       "    </tr>\n",
       "    <tr>\n",
       "      <th>2</th>\n",
       "      <td>Europe</td>\n",
       "      <td>82.50105</td>\n",
       "      <td>80.38632</td>\n",
       "      <td>84.57158</td>\n",
       "    </tr>\n",
       "    <tr>\n",
       "      <th>3</th>\n",
       "      <td>North America</td>\n",
       "      <td>75.66233</td>\n",
       "      <td>73.24433</td>\n",
       "      <td>78.09733</td>\n",
       "    </tr>\n",
       "    <tr>\n",
       "      <th>4</th>\n",
       "      <td>Oceania</td>\n",
       "      <td>83.07400</td>\n",
       "      <td>83.07400</td>\n",
       "      <td>84.85800</td>\n",
       "    </tr>\n",
       "  </tbody>\n",
       "</table>\n",
       "</div>"
      ],
      "text/plain": [
       "       Continent   Average      Male    Female\n",
       "0         Africa  61.00833  59.04183  62.96800\n",
       "1           Asia  80.84960  78.07100  83.63760\n",
       "2         Europe  82.50105  80.38632  84.57158\n",
       "3  North America  75.66233  73.24433  78.09733\n",
       "4        Oceania  83.07400  83.07400  84.85800"
      ]
     },
     "execution_count": 4,
     "metadata": {},
     "output_type": "execute_result"
    }
   ],
   "source": [
    "dt = pd.read_csv(r'C:\\Users\\ESEE Ent\\conts.csv', sep = ',', encoding= 'unicode_escape')\n",
    "dt.head()"
   ]
  },
  {
   "cell_type": "code",
   "execution_count": 5,
   "metadata": {
    "extensions": {
     "jupyter_dashboards": {
      "version": 1,
      "views": {
       "grid_default": {},
       "report_default": {}
      }
     }
    }
   },
   "outputs": [
    {
     "data": {
      "application/vnd.plotly.v1+json": {
       "config": {
        "plotlyServerURL": "https://plot.ly"
       },
       "data": [
        {
         "mode": "lines+markers",
         "name": "Average",
         "type": "scatter",
         "x": [
          "Africa",
          "Asia",
          "Europe",
          "North America",
          "Oceania",
          "South America"
         ],
         "y": [
          61.00833000000001,
          80.8496,
          82.50105,
          75.66233000000001,
          83.074,
          74.38600000000001
         ]
        },
        {
         "mode": "lines+markers",
         "name": "Male",
         "type": "scatter",
         "x": [
          "Africa",
          "Asia",
          "Europe",
          "North America",
          "Oceania",
          "South America"
         ],
         "y": [
          59.041830000000004,
          78.071,
          80.38632,
          73.24433,
          83.074,
          72.374
         ]
        },
        {
         "line": {
          "color": "firebrick",
          "dash": "dashdot",
          "width": 2
         },
         "mode": "lines+markers",
         "name": "Female",
         "type": "scatter",
         "x": [
          "Africa",
          "Asia",
          "Europe",
          "North America",
          "Oceania",
          "South America"
         ],
         "y": [
          62.968,
          83.6376,
          84.57158000000001,
          78.09733,
          84.85799999999999,
          76.548
         ]
        }
       ],
       "layout": {
        "template": {
         "data": {
          "bar": [
           {
            "error_x": {
             "color": "#2a3f5f"
            },
            "error_y": {
             "color": "#2a3f5f"
            },
            "marker": {
             "line": {
              "color": "#E5ECF6",
              "width": 0.5
             },
             "pattern": {
              "fillmode": "overlay",
              "size": 10,
              "solidity": 0.2
             }
            },
            "type": "bar"
           }
          ],
          "barpolar": [
           {
            "marker": {
             "line": {
              "color": "#E5ECF6",
              "width": 0.5
             },
             "pattern": {
              "fillmode": "overlay",
              "size": 10,
              "solidity": 0.2
             }
            },
            "type": "barpolar"
           }
          ],
          "carpet": [
           {
            "aaxis": {
             "endlinecolor": "#2a3f5f",
             "gridcolor": "white",
             "linecolor": "white",
             "minorgridcolor": "white",
             "startlinecolor": "#2a3f5f"
            },
            "baxis": {
             "endlinecolor": "#2a3f5f",
             "gridcolor": "white",
             "linecolor": "white",
             "minorgridcolor": "white",
             "startlinecolor": "#2a3f5f"
            },
            "type": "carpet"
           }
          ],
          "choropleth": [
           {
            "colorbar": {
             "outlinewidth": 0,
             "ticks": ""
            },
            "type": "choropleth"
           }
          ],
          "contour": [
           {
            "colorbar": {
             "outlinewidth": 0,
             "ticks": ""
            },
            "colorscale": [
             [
              0,
              "#0d0887"
             ],
             [
              0.1111111111111111,
              "#46039f"
             ],
             [
              0.2222222222222222,
              "#7201a8"
             ],
             [
              0.3333333333333333,
              "#9c179e"
             ],
             [
              0.4444444444444444,
              "#bd3786"
             ],
             [
              0.5555555555555556,
              "#d8576b"
             ],
             [
              0.6666666666666666,
              "#ed7953"
             ],
             [
              0.7777777777777778,
              "#fb9f3a"
             ],
             [
              0.8888888888888888,
              "#fdca26"
             ],
             [
              1,
              "#f0f921"
             ]
            ],
            "type": "contour"
           }
          ],
          "contourcarpet": [
           {
            "colorbar": {
             "outlinewidth": 0,
             "ticks": ""
            },
            "type": "contourcarpet"
           }
          ],
          "heatmap": [
           {
            "colorbar": {
             "outlinewidth": 0,
             "ticks": ""
            },
            "colorscale": [
             [
              0,
              "#0d0887"
             ],
             [
              0.1111111111111111,
              "#46039f"
             ],
             [
              0.2222222222222222,
              "#7201a8"
             ],
             [
              0.3333333333333333,
              "#9c179e"
             ],
             [
              0.4444444444444444,
              "#bd3786"
             ],
             [
              0.5555555555555556,
              "#d8576b"
             ],
             [
              0.6666666666666666,
              "#ed7953"
             ],
             [
              0.7777777777777778,
              "#fb9f3a"
             ],
             [
              0.8888888888888888,
              "#fdca26"
             ],
             [
              1,
              "#f0f921"
             ]
            ],
            "type": "heatmap"
           }
          ],
          "heatmapgl": [
           {
            "colorbar": {
             "outlinewidth": 0,
             "ticks": ""
            },
            "colorscale": [
             [
              0,
              "#0d0887"
             ],
             [
              0.1111111111111111,
              "#46039f"
             ],
             [
              0.2222222222222222,
              "#7201a8"
             ],
             [
              0.3333333333333333,
              "#9c179e"
             ],
             [
              0.4444444444444444,
              "#bd3786"
             ],
             [
              0.5555555555555556,
              "#d8576b"
             ],
             [
              0.6666666666666666,
              "#ed7953"
             ],
             [
              0.7777777777777778,
              "#fb9f3a"
             ],
             [
              0.8888888888888888,
              "#fdca26"
             ],
             [
              1,
              "#f0f921"
             ]
            ],
            "type": "heatmapgl"
           }
          ],
          "histogram": [
           {
            "marker": {
             "pattern": {
              "fillmode": "overlay",
              "size": 10,
              "solidity": 0.2
             }
            },
            "type": "histogram"
           }
          ],
          "histogram2d": [
           {
            "colorbar": {
             "outlinewidth": 0,
             "ticks": ""
            },
            "colorscale": [
             [
              0,
              "#0d0887"
             ],
             [
              0.1111111111111111,
              "#46039f"
             ],
             [
              0.2222222222222222,
              "#7201a8"
             ],
             [
              0.3333333333333333,
              "#9c179e"
             ],
             [
              0.4444444444444444,
              "#bd3786"
             ],
             [
              0.5555555555555556,
              "#d8576b"
             ],
             [
              0.6666666666666666,
              "#ed7953"
             ],
             [
              0.7777777777777778,
              "#fb9f3a"
             ],
             [
              0.8888888888888888,
              "#fdca26"
             ],
             [
              1,
              "#f0f921"
             ]
            ],
            "type": "histogram2d"
           }
          ],
          "histogram2dcontour": [
           {
            "colorbar": {
             "outlinewidth": 0,
             "ticks": ""
            },
            "colorscale": [
             [
              0,
              "#0d0887"
             ],
             [
              0.1111111111111111,
              "#46039f"
             ],
             [
              0.2222222222222222,
              "#7201a8"
             ],
             [
              0.3333333333333333,
              "#9c179e"
             ],
             [
              0.4444444444444444,
              "#bd3786"
             ],
             [
              0.5555555555555556,
              "#d8576b"
             ],
             [
              0.6666666666666666,
              "#ed7953"
             ],
             [
              0.7777777777777778,
              "#fb9f3a"
             ],
             [
              0.8888888888888888,
              "#fdca26"
             ],
             [
              1,
              "#f0f921"
             ]
            ],
            "type": "histogram2dcontour"
           }
          ],
          "mesh3d": [
           {
            "colorbar": {
             "outlinewidth": 0,
             "ticks": ""
            },
            "type": "mesh3d"
           }
          ],
          "parcoords": [
           {
            "line": {
             "colorbar": {
              "outlinewidth": 0,
              "ticks": ""
             }
            },
            "type": "parcoords"
           }
          ],
          "pie": [
           {
            "automargin": true,
            "type": "pie"
           }
          ],
          "scatter": [
           {
            "marker": {
             "colorbar": {
              "outlinewidth": 0,
              "ticks": ""
             }
            },
            "type": "scatter"
           }
          ],
          "scatter3d": [
           {
            "line": {
             "colorbar": {
              "outlinewidth": 0,
              "ticks": ""
             }
            },
            "marker": {
             "colorbar": {
              "outlinewidth": 0,
              "ticks": ""
             }
            },
            "type": "scatter3d"
           }
          ],
          "scattercarpet": [
           {
            "marker": {
             "colorbar": {
              "outlinewidth": 0,
              "ticks": ""
             }
            },
            "type": "scattercarpet"
           }
          ],
          "scattergeo": [
           {
            "marker": {
             "colorbar": {
              "outlinewidth": 0,
              "ticks": ""
             }
            },
            "type": "scattergeo"
           }
          ],
          "scattergl": [
           {
            "marker": {
             "colorbar": {
              "outlinewidth": 0,
              "ticks": ""
             }
            },
            "type": "scattergl"
           }
          ],
          "scattermapbox": [
           {
            "marker": {
             "colorbar": {
              "outlinewidth": 0,
              "ticks": ""
             }
            },
            "type": "scattermapbox"
           }
          ],
          "scatterpolar": [
           {
            "marker": {
             "colorbar": {
              "outlinewidth": 0,
              "ticks": ""
             }
            },
            "type": "scatterpolar"
           }
          ],
          "scatterpolargl": [
           {
            "marker": {
             "colorbar": {
              "outlinewidth": 0,
              "ticks": ""
             }
            },
            "type": "scatterpolargl"
           }
          ],
          "scatterternary": [
           {
            "marker": {
             "colorbar": {
              "outlinewidth": 0,
              "ticks": ""
             }
            },
            "type": "scatterternary"
           }
          ],
          "surface": [
           {
            "colorbar": {
             "outlinewidth": 0,
             "ticks": ""
            },
            "colorscale": [
             [
              0,
              "#0d0887"
             ],
             [
              0.1111111111111111,
              "#46039f"
             ],
             [
              0.2222222222222222,
              "#7201a8"
             ],
             [
              0.3333333333333333,
              "#9c179e"
             ],
             [
              0.4444444444444444,
              "#bd3786"
             ],
             [
              0.5555555555555556,
              "#d8576b"
             ],
             [
              0.6666666666666666,
              "#ed7953"
             ],
             [
              0.7777777777777778,
              "#fb9f3a"
             ],
             [
              0.8888888888888888,
              "#fdca26"
             ],
             [
              1,
              "#f0f921"
             ]
            ],
            "type": "surface"
           }
          ],
          "table": [
           {
            "cells": {
             "fill": {
              "color": "#EBF0F8"
             },
             "line": {
              "color": "white"
             }
            },
            "header": {
             "fill": {
              "color": "#C8D4E3"
             },
             "line": {
              "color": "white"
             }
            },
            "type": "table"
           }
          ]
         },
         "layout": {
          "annotationdefaults": {
           "arrowcolor": "#2a3f5f",
           "arrowhead": 0,
           "arrowwidth": 1
          },
          "autotypenumbers": "strict",
          "coloraxis": {
           "colorbar": {
            "outlinewidth": 0,
            "ticks": ""
           }
          },
          "colorscale": {
           "diverging": [
            [
             0,
             "#8e0152"
            ],
            [
             0.1,
             "#c51b7d"
            ],
            [
             0.2,
             "#de77ae"
            ],
            [
             0.3,
             "#f1b6da"
            ],
            [
             0.4,
             "#fde0ef"
            ],
            [
             0.5,
             "#f7f7f7"
            ],
            [
             0.6,
             "#e6f5d0"
            ],
            [
             0.7,
             "#b8e186"
            ],
            [
             0.8,
             "#7fbc41"
            ],
            [
             0.9,
             "#4d9221"
            ],
            [
             1,
             "#276419"
            ]
           ],
           "sequential": [
            [
             0,
             "#0d0887"
            ],
            [
             0.1111111111111111,
             "#46039f"
            ],
            [
             0.2222222222222222,
             "#7201a8"
            ],
            [
             0.3333333333333333,
             "#9c179e"
            ],
            [
             0.4444444444444444,
             "#bd3786"
            ],
            [
             0.5555555555555556,
             "#d8576b"
            ],
            [
             0.6666666666666666,
             "#ed7953"
            ],
            [
             0.7777777777777778,
             "#fb9f3a"
            ],
            [
             0.8888888888888888,
             "#fdca26"
            ],
            [
             1,
             "#f0f921"
            ]
           ],
           "sequentialminus": [
            [
             0,
             "#0d0887"
            ],
            [
             0.1111111111111111,
             "#46039f"
            ],
            [
             0.2222222222222222,
             "#7201a8"
            ],
            [
             0.3333333333333333,
             "#9c179e"
            ],
            [
             0.4444444444444444,
             "#bd3786"
            ],
            [
             0.5555555555555556,
             "#d8576b"
            ],
            [
             0.6666666666666666,
             "#ed7953"
            ],
            [
             0.7777777777777778,
             "#fb9f3a"
            ],
            [
             0.8888888888888888,
             "#fdca26"
            ],
            [
             1,
             "#f0f921"
            ]
           ]
          },
          "colorway": [
           "#636efa",
           "#EF553B",
           "#00cc96",
           "#ab63fa",
           "#FFA15A",
           "#19d3f3",
           "#FF6692",
           "#B6E880",
           "#FF97FF",
           "#FECB52"
          ],
          "font": {
           "color": "#2a3f5f"
          },
          "geo": {
           "bgcolor": "white",
           "lakecolor": "white",
           "landcolor": "#E5ECF6",
           "showlakes": true,
           "showland": true,
           "subunitcolor": "white"
          },
          "hoverlabel": {
           "align": "left"
          },
          "hovermode": "closest",
          "mapbox": {
           "style": "light"
          },
          "paper_bgcolor": "white",
          "plot_bgcolor": "#E5ECF6",
          "polar": {
           "angularaxis": {
            "gridcolor": "white",
            "linecolor": "white",
            "ticks": ""
           },
           "bgcolor": "#E5ECF6",
           "radialaxis": {
            "gridcolor": "white",
            "linecolor": "white",
            "ticks": ""
           }
          },
          "scene": {
           "xaxis": {
            "backgroundcolor": "#E5ECF6",
            "gridcolor": "white",
            "gridwidth": 2,
            "linecolor": "white",
            "showbackground": true,
            "ticks": "",
            "zerolinecolor": "white"
           },
           "yaxis": {
            "backgroundcolor": "#E5ECF6",
            "gridcolor": "white",
            "gridwidth": 2,
            "linecolor": "white",
            "showbackground": true,
            "ticks": "",
            "zerolinecolor": "white"
           },
           "zaxis": {
            "backgroundcolor": "#E5ECF6",
            "gridcolor": "white",
            "gridwidth": 2,
            "linecolor": "white",
            "showbackground": true,
            "ticks": "",
            "zerolinecolor": "white"
           }
          },
          "shapedefaults": {
           "line": {
            "color": "#2a3f5f"
           }
          },
          "ternary": {
           "aaxis": {
            "gridcolor": "white",
            "linecolor": "white",
            "ticks": ""
           },
           "baxis": {
            "gridcolor": "white",
            "linecolor": "white",
            "ticks": ""
           },
           "bgcolor": "#E5ECF6",
           "caxis": {
            "gridcolor": "white",
            "linecolor": "white",
            "ticks": ""
           }
          },
          "title": {
           "x": 0.05
          },
          "xaxis": {
           "automargin": true,
           "gridcolor": "white",
           "linecolor": "white",
           "ticks": "",
           "title": {
            "standoff": 15
           },
           "zerolinecolor": "white",
           "zerolinewidth": 2
          },
          "yaxis": {
           "automargin": true,
           "gridcolor": "white",
           "linecolor": "white",
           "ticks": "",
           "title": {
            "standoff": 15
           },
           "zerolinecolor": "white",
           "zerolinewidth": 2
          }
         }
        }
       }
      },
      "text/html": [
       "<div>                            <div id=\"3bd73aa9-2015-427c-8fee-3ec604c2018a\" class=\"plotly-graph-div\" style=\"height:525px; width:100%;\"></div>            <script type=\"text/javascript\">                require([\"plotly\"], function(Plotly) {                    window.PLOTLYENV=window.PLOTLYENV || {};                                    if (document.getElementById(\"3bd73aa9-2015-427c-8fee-3ec604c2018a\")) {                    Plotly.newPlot(                        \"3bd73aa9-2015-427c-8fee-3ec604c2018a\",                        [{\"mode\":\"lines+markers\",\"name\":\"Average\",\"type\":\"scatter\",\"x\":[\"Africa\",\"Asia\",\"Europe\",\"North America\",\"Oceania\",\"South America\"],\"y\":[61.00833000000001,80.8496,82.50105,75.66233000000001,83.074,74.38600000000001]},{\"mode\":\"lines+markers\",\"name\":\"Male\",\"type\":\"scatter\",\"x\":[\"Africa\",\"Asia\",\"Europe\",\"North America\",\"Oceania\",\"South America\"],\"y\":[59.041830000000004,78.071,80.38632,73.24433,83.074,72.374]},{\"line\":{\"color\":\"firebrick\",\"dash\":\"dashdot\",\"width\":2},\"mode\":\"lines+markers\",\"name\":\"Female\",\"type\":\"scatter\",\"x\":[\"Africa\",\"Asia\",\"Europe\",\"North America\",\"Oceania\",\"South America\"],\"y\":[62.968,83.6376,84.57158000000001,78.09733,84.85799999999999,76.548]}],                        {\"template\":{\"data\":{\"bar\":[{\"error_x\":{\"color\":\"#2a3f5f\"},\"error_y\":{\"color\":\"#2a3f5f\"},\"marker\":{\"line\":{\"color\":\"#E5ECF6\",\"width\":0.5},\"pattern\":{\"fillmode\":\"overlay\",\"size\":10,\"solidity\":0.2}},\"type\":\"bar\"}],\"barpolar\":[{\"marker\":{\"line\":{\"color\":\"#E5ECF6\",\"width\":0.5},\"pattern\":{\"fillmode\":\"overlay\",\"size\":10,\"solidity\":0.2}},\"type\":\"barpolar\"}],\"carpet\":[{\"aaxis\":{\"endlinecolor\":\"#2a3f5f\",\"gridcolor\":\"white\",\"linecolor\":\"white\",\"minorgridcolor\":\"white\",\"startlinecolor\":\"#2a3f5f\"},\"baxis\":{\"endlinecolor\":\"#2a3f5f\",\"gridcolor\":\"white\",\"linecolor\":\"white\",\"minorgridcolor\":\"white\",\"startlinecolor\":\"#2a3f5f\"},\"type\":\"carpet\"}],\"choropleth\":[{\"colorbar\":{\"outlinewidth\":0,\"ticks\":\"\"},\"type\":\"choropleth\"}],\"contour\":[{\"colorbar\":{\"outlinewidth\":0,\"ticks\":\"\"},\"colorscale\":[[0.0,\"#0d0887\"],[0.1111111111111111,\"#46039f\"],[0.2222222222222222,\"#7201a8\"],[0.3333333333333333,\"#9c179e\"],[0.4444444444444444,\"#bd3786\"],[0.5555555555555556,\"#d8576b\"],[0.6666666666666666,\"#ed7953\"],[0.7777777777777778,\"#fb9f3a\"],[0.8888888888888888,\"#fdca26\"],[1.0,\"#f0f921\"]],\"type\":\"contour\"}],\"contourcarpet\":[{\"colorbar\":{\"outlinewidth\":0,\"ticks\":\"\"},\"type\":\"contourcarpet\"}],\"heatmap\":[{\"colorbar\":{\"outlinewidth\":0,\"ticks\":\"\"},\"colorscale\":[[0.0,\"#0d0887\"],[0.1111111111111111,\"#46039f\"],[0.2222222222222222,\"#7201a8\"],[0.3333333333333333,\"#9c179e\"],[0.4444444444444444,\"#bd3786\"],[0.5555555555555556,\"#d8576b\"],[0.6666666666666666,\"#ed7953\"],[0.7777777777777778,\"#fb9f3a\"],[0.8888888888888888,\"#fdca26\"],[1.0,\"#f0f921\"]],\"type\":\"heatmap\"}],\"heatmapgl\":[{\"colorbar\":{\"outlinewidth\":0,\"ticks\":\"\"},\"colorscale\":[[0.0,\"#0d0887\"],[0.1111111111111111,\"#46039f\"],[0.2222222222222222,\"#7201a8\"],[0.3333333333333333,\"#9c179e\"],[0.4444444444444444,\"#bd3786\"],[0.5555555555555556,\"#d8576b\"],[0.6666666666666666,\"#ed7953\"],[0.7777777777777778,\"#fb9f3a\"],[0.8888888888888888,\"#fdca26\"],[1.0,\"#f0f921\"]],\"type\":\"heatmapgl\"}],\"histogram\":[{\"marker\":{\"pattern\":{\"fillmode\":\"overlay\",\"size\":10,\"solidity\":0.2}},\"type\":\"histogram\"}],\"histogram2d\":[{\"colorbar\":{\"outlinewidth\":0,\"ticks\":\"\"},\"colorscale\":[[0.0,\"#0d0887\"],[0.1111111111111111,\"#46039f\"],[0.2222222222222222,\"#7201a8\"],[0.3333333333333333,\"#9c179e\"],[0.4444444444444444,\"#bd3786\"],[0.5555555555555556,\"#d8576b\"],[0.6666666666666666,\"#ed7953\"],[0.7777777777777778,\"#fb9f3a\"],[0.8888888888888888,\"#fdca26\"],[1.0,\"#f0f921\"]],\"type\":\"histogram2d\"}],\"histogram2dcontour\":[{\"colorbar\":{\"outlinewidth\":0,\"ticks\":\"\"},\"colorscale\":[[0.0,\"#0d0887\"],[0.1111111111111111,\"#46039f\"],[0.2222222222222222,\"#7201a8\"],[0.3333333333333333,\"#9c179e\"],[0.4444444444444444,\"#bd3786\"],[0.5555555555555556,\"#d8576b\"],[0.6666666666666666,\"#ed7953\"],[0.7777777777777778,\"#fb9f3a\"],[0.8888888888888888,\"#fdca26\"],[1.0,\"#f0f921\"]],\"type\":\"histogram2dcontour\"}],\"mesh3d\":[{\"colorbar\":{\"outlinewidth\":0,\"ticks\":\"\"},\"type\":\"mesh3d\"}],\"parcoords\":[{\"line\":{\"colorbar\":{\"outlinewidth\":0,\"ticks\":\"\"}},\"type\":\"parcoords\"}],\"pie\":[{\"automargin\":true,\"type\":\"pie\"}],\"scatter\":[{\"marker\":{\"colorbar\":{\"outlinewidth\":0,\"ticks\":\"\"}},\"type\":\"scatter\"}],\"scatter3d\":[{\"line\":{\"colorbar\":{\"outlinewidth\":0,\"ticks\":\"\"}},\"marker\":{\"colorbar\":{\"outlinewidth\":0,\"ticks\":\"\"}},\"type\":\"scatter3d\"}],\"scattercarpet\":[{\"marker\":{\"colorbar\":{\"outlinewidth\":0,\"ticks\":\"\"}},\"type\":\"scattercarpet\"}],\"scattergeo\":[{\"marker\":{\"colorbar\":{\"outlinewidth\":0,\"ticks\":\"\"}},\"type\":\"scattergeo\"}],\"scattergl\":[{\"marker\":{\"colorbar\":{\"outlinewidth\":0,\"ticks\":\"\"}},\"type\":\"scattergl\"}],\"scattermapbox\":[{\"marker\":{\"colorbar\":{\"outlinewidth\":0,\"ticks\":\"\"}},\"type\":\"scattermapbox\"}],\"scatterpolar\":[{\"marker\":{\"colorbar\":{\"outlinewidth\":0,\"ticks\":\"\"}},\"type\":\"scatterpolar\"}],\"scatterpolargl\":[{\"marker\":{\"colorbar\":{\"outlinewidth\":0,\"ticks\":\"\"}},\"type\":\"scatterpolargl\"}],\"scatterternary\":[{\"marker\":{\"colorbar\":{\"outlinewidth\":0,\"ticks\":\"\"}},\"type\":\"scatterternary\"}],\"surface\":[{\"colorbar\":{\"outlinewidth\":0,\"ticks\":\"\"},\"colorscale\":[[0.0,\"#0d0887\"],[0.1111111111111111,\"#46039f\"],[0.2222222222222222,\"#7201a8\"],[0.3333333333333333,\"#9c179e\"],[0.4444444444444444,\"#bd3786\"],[0.5555555555555556,\"#d8576b\"],[0.6666666666666666,\"#ed7953\"],[0.7777777777777778,\"#fb9f3a\"],[0.8888888888888888,\"#fdca26\"],[1.0,\"#f0f921\"]],\"type\":\"surface\"}],\"table\":[{\"cells\":{\"fill\":{\"color\":\"#EBF0F8\"},\"line\":{\"color\":\"white\"}},\"header\":{\"fill\":{\"color\":\"#C8D4E3\"},\"line\":{\"color\":\"white\"}},\"type\":\"table\"}]},\"layout\":{\"annotationdefaults\":{\"arrowcolor\":\"#2a3f5f\",\"arrowhead\":0,\"arrowwidth\":1},\"autotypenumbers\":\"strict\",\"coloraxis\":{\"colorbar\":{\"outlinewidth\":0,\"ticks\":\"\"}},\"colorscale\":{\"diverging\":[[0,\"#8e0152\"],[0.1,\"#c51b7d\"],[0.2,\"#de77ae\"],[0.3,\"#f1b6da\"],[0.4,\"#fde0ef\"],[0.5,\"#f7f7f7\"],[0.6,\"#e6f5d0\"],[0.7,\"#b8e186\"],[0.8,\"#7fbc41\"],[0.9,\"#4d9221\"],[1,\"#276419\"]],\"sequential\":[[0.0,\"#0d0887\"],[0.1111111111111111,\"#46039f\"],[0.2222222222222222,\"#7201a8\"],[0.3333333333333333,\"#9c179e\"],[0.4444444444444444,\"#bd3786\"],[0.5555555555555556,\"#d8576b\"],[0.6666666666666666,\"#ed7953\"],[0.7777777777777778,\"#fb9f3a\"],[0.8888888888888888,\"#fdca26\"],[1.0,\"#f0f921\"]],\"sequentialminus\":[[0.0,\"#0d0887\"],[0.1111111111111111,\"#46039f\"],[0.2222222222222222,\"#7201a8\"],[0.3333333333333333,\"#9c179e\"],[0.4444444444444444,\"#bd3786\"],[0.5555555555555556,\"#d8576b\"],[0.6666666666666666,\"#ed7953\"],[0.7777777777777778,\"#fb9f3a\"],[0.8888888888888888,\"#fdca26\"],[1.0,\"#f0f921\"]]},\"colorway\":[\"#636efa\",\"#EF553B\",\"#00cc96\",\"#ab63fa\",\"#FFA15A\",\"#19d3f3\",\"#FF6692\",\"#B6E880\",\"#FF97FF\",\"#FECB52\"],\"font\":{\"color\":\"#2a3f5f\"},\"geo\":{\"bgcolor\":\"white\",\"lakecolor\":\"white\",\"landcolor\":\"#E5ECF6\",\"showlakes\":true,\"showland\":true,\"subunitcolor\":\"white\"},\"hoverlabel\":{\"align\":\"left\"},\"hovermode\":\"closest\",\"mapbox\":{\"style\":\"light\"},\"paper_bgcolor\":\"white\",\"plot_bgcolor\":\"#E5ECF6\",\"polar\":{\"angularaxis\":{\"gridcolor\":\"white\",\"linecolor\":\"white\",\"ticks\":\"\"},\"bgcolor\":\"#E5ECF6\",\"radialaxis\":{\"gridcolor\":\"white\",\"linecolor\":\"white\",\"ticks\":\"\"}},\"scene\":{\"xaxis\":{\"backgroundcolor\":\"#E5ECF6\",\"gridcolor\":\"white\",\"gridwidth\":2,\"linecolor\":\"white\",\"showbackground\":true,\"ticks\":\"\",\"zerolinecolor\":\"white\"},\"yaxis\":{\"backgroundcolor\":\"#E5ECF6\",\"gridcolor\":\"white\",\"gridwidth\":2,\"linecolor\":\"white\",\"showbackground\":true,\"ticks\":\"\",\"zerolinecolor\":\"white\"},\"zaxis\":{\"backgroundcolor\":\"#E5ECF6\",\"gridcolor\":\"white\",\"gridwidth\":2,\"linecolor\":\"white\",\"showbackground\":true,\"ticks\":\"\",\"zerolinecolor\":\"white\"}},\"shapedefaults\":{\"line\":{\"color\":\"#2a3f5f\"}},\"ternary\":{\"aaxis\":{\"gridcolor\":\"white\",\"linecolor\":\"white\",\"ticks\":\"\"},\"baxis\":{\"gridcolor\":\"white\",\"linecolor\":\"white\",\"ticks\":\"\"},\"bgcolor\":\"#E5ECF6\",\"caxis\":{\"gridcolor\":\"white\",\"linecolor\":\"white\",\"ticks\":\"\"}},\"title\":{\"x\":0.05},\"xaxis\":{\"automargin\":true,\"gridcolor\":\"white\",\"linecolor\":\"white\",\"ticks\":\"\",\"title\":{\"standoff\":15},\"zerolinecolor\":\"white\",\"zerolinewidth\":2},\"yaxis\":{\"automargin\":true,\"gridcolor\":\"white\",\"linecolor\":\"white\",\"ticks\":\"\",\"title\":{\"standoff\":15},\"zerolinecolor\":\"white\",\"zerolinewidth\":2}}}},                        {\"responsive\": true}                    ).then(function(){\n",
       "                            \n",
       "var gd = document.getElementById('3bd73aa9-2015-427c-8fee-3ec604c2018a');\n",
       "var x = new MutationObserver(function (mutations, observer) {{\n",
       "        var display = window.getComputedStyle(gd).display;\n",
       "        if (!display || display === 'none') {{\n",
       "            console.log([gd, 'removed!']);\n",
       "            Plotly.purge(gd);\n",
       "            observer.disconnect();\n",
       "        }}\n",
       "}});\n",
       "\n",
       "// Listen for the removal of the full notebook cells\n",
       "var notebookContainer = gd.closest('#notebook-container');\n",
       "if (notebookContainer) {{\n",
       "    x.observe(notebookContainer, {childList: true});\n",
       "}}\n",
       "\n",
       "// Listen for the clearing of the current output cell\n",
       "var outputEl = gd.closest('.output');\n",
       "if (outputEl) {{\n",
       "    x.observe(outputEl, {childList: true});\n",
       "}}\n",
       "\n",
       "                        })                };                });            </script>        </div>"
      ]
     },
     "metadata": {},
     "output_type": "display_data"
    }
   ],
   "source": [
    "from plotly import graph_objs as go\n",
    "\n",
    "\n",
    "\n",
    "fig=go.Figure()\n",
    "fig.add_trace(go.Scatter(x=dt.Continent, y = dt.Average, mode = 'lines + markers', name = 'Average'))\n",
    "fig.add_trace(go.Scatter(x=dt.Continent, y = dt.Male, mode = 'lines + markers', name = 'Male'))\n",
    "fig.add_trace(go.Scatter(x=dt.Continent, y = dt.Female, mode = 'lines + markers', name = 'Female',\n",
    "                        line = dict(color = 'firebrick', width = 2, dash = 'dashdot')))"
   ]
  },
  {
   "cell_type": "code",
   "execution_count": 6,
   "metadata": {
    "extensions": {
     "jupyter_dashboards": {
      "version": 1,
      "views": {
       "grid_default": {},
       "report_default": {}
      }
     }
    }
   },
   "outputs": [
    {
     "data": {
      "application/vnd.plotly.v1+json": {
       "config": {
        "plotlyServerURL": "https://plot.ly"
       },
       "data": [
        {
         "coloraxis": "coloraxis",
         "hovertemplate": "Continent: %{x}<br>Life Expectancy: %{y}<br>Range: %{z}<extra></extra>",
         "name": "0",
         "type": "heatmap",
         "x": [
          "Africa",
          "Asia",
          "Europe",
          "North America",
          "Ocenia",
          "South America"
         ],
         "xaxis": "x",
         "y": [
          "Average",
          "Male",
          "Female"
         ],
         "yaxis": "y",
         "z": [
          [
           61.00833333,
           80.8496,
           82.50105263,
           75.66233333,
           83.074,
           74.386
          ],
          [
           59.04183333,
           78.071,
           80.38631579,
           73.24433333,
           83.074,
           72.374
          ],
          [
           62.968,
           83.6376,
           84.57157895,
           78.09733333,
           84.858,
           76.548
          ]
         ]
        }
       ],
       "layout": {
        "coloraxis": {
         "colorbar": {
          "title": {
           "text": "Range"
          }
         },
         "colorscale": [
          [
           0,
           "#0d0887"
          ],
          [
           0.1111111111111111,
           "#46039f"
          ],
          [
           0.2222222222222222,
           "#7201a8"
          ],
          [
           0.3333333333333333,
           "#9c179e"
          ],
          [
           0.4444444444444444,
           "#bd3786"
          ],
          [
           0.5555555555555556,
           "#d8576b"
          ],
          [
           0.6666666666666666,
           "#ed7953"
          ],
          [
           0.7777777777777778,
           "#fb9f3a"
          ],
          [
           0.8888888888888888,
           "#fdca26"
          ],
          [
           1,
           "#f0f921"
          ]
         ]
        },
        "margin": {
         "t": 60
        },
        "template": {
         "data": {
          "bar": [
           {
            "error_x": {
             "color": "#2a3f5f"
            },
            "error_y": {
             "color": "#2a3f5f"
            },
            "marker": {
             "line": {
              "color": "#E5ECF6",
              "width": 0.5
             },
             "pattern": {
              "fillmode": "overlay",
              "size": 10,
              "solidity": 0.2
             }
            },
            "type": "bar"
           }
          ],
          "barpolar": [
           {
            "marker": {
             "line": {
              "color": "#E5ECF6",
              "width": 0.5
             },
             "pattern": {
              "fillmode": "overlay",
              "size": 10,
              "solidity": 0.2
             }
            },
            "type": "barpolar"
           }
          ],
          "carpet": [
           {
            "aaxis": {
             "endlinecolor": "#2a3f5f",
             "gridcolor": "white",
             "linecolor": "white",
             "minorgridcolor": "white",
             "startlinecolor": "#2a3f5f"
            },
            "baxis": {
             "endlinecolor": "#2a3f5f",
             "gridcolor": "white",
             "linecolor": "white",
             "minorgridcolor": "white",
             "startlinecolor": "#2a3f5f"
            },
            "type": "carpet"
           }
          ],
          "choropleth": [
           {
            "colorbar": {
             "outlinewidth": 0,
             "ticks": ""
            },
            "type": "choropleth"
           }
          ],
          "contour": [
           {
            "colorbar": {
             "outlinewidth": 0,
             "ticks": ""
            },
            "colorscale": [
             [
              0,
              "#0d0887"
             ],
             [
              0.1111111111111111,
              "#46039f"
             ],
             [
              0.2222222222222222,
              "#7201a8"
             ],
             [
              0.3333333333333333,
              "#9c179e"
             ],
             [
              0.4444444444444444,
              "#bd3786"
             ],
             [
              0.5555555555555556,
              "#d8576b"
             ],
             [
              0.6666666666666666,
              "#ed7953"
             ],
             [
              0.7777777777777778,
              "#fb9f3a"
             ],
             [
              0.8888888888888888,
              "#fdca26"
             ],
             [
              1,
              "#f0f921"
             ]
            ],
            "type": "contour"
           }
          ],
          "contourcarpet": [
           {
            "colorbar": {
             "outlinewidth": 0,
             "ticks": ""
            },
            "type": "contourcarpet"
           }
          ],
          "heatmap": [
           {
            "colorbar": {
             "outlinewidth": 0,
             "ticks": ""
            },
            "colorscale": [
             [
              0,
              "#0d0887"
             ],
             [
              0.1111111111111111,
              "#46039f"
             ],
             [
              0.2222222222222222,
              "#7201a8"
             ],
             [
              0.3333333333333333,
              "#9c179e"
             ],
             [
              0.4444444444444444,
              "#bd3786"
             ],
             [
              0.5555555555555556,
              "#d8576b"
             ],
             [
              0.6666666666666666,
              "#ed7953"
             ],
             [
              0.7777777777777778,
              "#fb9f3a"
             ],
             [
              0.8888888888888888,
              "#fdca26"
             ],
             [
              1,
              "#f0f921"
             ]
            ],
            "type": "heatmap"
           }
          ],
          "heatmapgl": [
           {
            "colorbar": {
             "outlinewidth": 0,
             "ticks": ""
            },
            "colorscale": [
             [
              0,
              "#0d0887"
             ],
             [
              0.1111111111111111,
              "#46039f"
             ],
             [
              0.2222222222222222,
              "#7201a8"
             ],
             [
              0.3333333333333333,
              "#9c179e"
             ],
             [
              0.4444444444444444,
              "#bd3786"
             ],
             [
              0.5555555555555556,
              "#d8576b"
             ],
             [
              0.6666666666666666,
              "#ed7953"
             ],
             [
              0.7777777777777778,
              "#fb9f3a"
             ],
             [
              0.8888888888888888,
              "#fdca26"
             ],
             [
              1,
              "#f0f921"
             ]
            ],
            "type": "heatmapgl"
           }
          ],
          "histogram": [
           {
            "marker": {
             "pattern": {
              "fillmode": "overlay",
              "size": 10,
              "solidity": 0.2
             }
            },
            "type": "histogram"
           }
          ],
          "histogram2d": [
           {
            "colorbar": {
             "outlinewidth": 0,
             "ticks": ""
            },
            "colorscale": [
             [
              0,
              "#0d0887"
             ],
             [
              0.1111111111111111,
              "#46039f"
             ],
             [
              0.2222222222222222,
              "#7201a8"
             ],
             [
              0.3333333333333333,
              "#9c179e"
             ],
             [
              0.4444444444444444,
              "#bd3786"
             ],
             [
              0.5555555555555556,
              "#d8576b"
             ],
             [
              0.6666666666666666,
              "#ed7953"
             ],
             [
              0.7777777777777778,
              "#fb9f3a"
             ],
             [
              0.8888888888888888,
              "#fdca26"
             ],
             [
              1,
              "#f0f921"
             ]
            ],
            "type": "histogram2d"
           }
          ],
          "histogram2dcontour": [
           {
            "colorbar": {
             "outlinewidth": 0,
             "ticks": ""
            },
            "colorscale": [
             [
              0,
              "#0d0887"
             ],
             [
              0.1111111111111111,
              "#46039f"
             ],
             [
              0.2222222222222222,
              "#7201a8"
             ],
             [
              0.3333333333333333,
              "#9c179e"
             ],
             [
              0.4444444444444444,
              "#bd3786"
             ],
             [
              0.5555555555555556,
              "#d8576b"
             ],
             [
              0.6666666666666666,
              "#ed7953"
             ],
             [
              0.7777777777777778,
              "#fb9f3a"
             ],
             [
              0.8888888888888888,
              "#fdca26"
             ],
             [
              1,
              "#f0f921"
             ]
            ],
            "type": "histogram2dcontour"
           }
          ],
          "mesh3d": [
           {
            "colorbar": {
             "outlinewidth": 0,
             "ticks": ""
            },
            "type": "mesh3d"
           }
          ],
          "parcoords": [
           {
            "line": {
             "colorbar": {
              "outlinewidth": 0,
              "ticks": ""
             }
            },
            "type": "parcoords"
           }
          ],
          "pie": [
           {
            "automargin": true,
            "type": "pie"
           }
          ],
          "scatter": [
           {
            "marker": {
             "colorbar": {
              "outlinewidth": 0,
              "ticks": ""
             }
            },
            "type": "scatter"
           }
          ],
          "scatter3d": [
           {
            "line": {
             "colorbar": {
              "outlinewidth": 0,
              "ticks": ""
             }
            },
            "marker": {
             "colorbar": {
              "outlinewidth": 0,
              "ticks": ""
             }
            },
            "type": "scatter3d"
           }
          ],
          "scattercarpet": [
           {
            "marker": {
             "colorbar": {
              "outlinewidth": 0,
              "ticks": ""
             }
            },
            "type": "scattercarpet"
           }
          ],
          "scattergeo": [
           {
            "marker": {
             "colorbar": {
              "outlinewidth": 0,
              "ticks": ""
             }
            },
            "type": "scattergeo"
           }
          ],
          "scattergl": [
           {
            "marker": {
             "colorbar": {
              "outlinewidth": 0,
              "ticks": ""
             }
            },
            "type": "scattergl"
           }
          ],
          "scattermapbox": [
           {
            "marker": {
             "colorbar": {
              "outlinewidth": 0,
              "ticks": ""
             }
            },
            "type": "scattermapbox"
           }
          ],
          "scatterpolar": [
           {
            "marker": {
             "colorbar": {
              "outlinewidth": 0,
              "ticks": ""
             }
            },
            "type": "scatterpolar"
           }
          ],
          "scatterpolargl": [
           {
            "marker": {
             "colorbar": {
              "outlinewidth": 0,
              "ticks": ""
             }
            },
            "type": "scatterpolargl"
           }
          ],
          "scatterternary": [
           {
            "marker": {
             "colorbar": {
              "outlinewidth": 0,
              "ticks": ""
             }
            },
            "type": "scatterternary"
           }
          ],
          "surface": [
           {
            "colorbar": {
             "outlinewidth": 0,
             "ticks": ""
            },
            "colorscale": [
             [
              0,
              "#0d0887"
             ],
             [
              0.1111111111111111,
              "#46039f"
             ],
             [
              0.2222222222222222,
              "#7201a8"
             ],
             [
              0.3333333333333333,
              "#9c179e"
             ],
             [
              0.4444444444444444,
              "#bd3786"
             ],
             [
              0.5555555555555556,
              "#d8576b"
             ],
             [
              0.6666666666666666,
              "#ed7953"
             ],
             [
              0.7777777777777778,
              "#fb9f3a"
             ],
             [
              0.8888888888888888,
              "#fdca26"
             ],
             [
              1,
              "#f0f921"
             ]
            ],
            "type": "surface"
           }
          ],
          "table": [
           {
            "cells": {
             "fill": {
              "color": "#EBF0F8"
             },
             "line": {
              "color": "white"
             }
            },
            "header": {
             "fill": {
              "color": "#C8D4E3"
             },
             "line": {
              "color": "white"
             }
            },
            "type": "table"
           }
          ]
         },
         "layout": {
          "annotationdefaults": {
           "arrowcolor": "#2a3f5f",
           "arrowhead": 0,
           "arrowwidth": 1
          },
          "autotypenumbers": "strict",
          "coloraxis": {
           "colorbar": {
            "outlinewidth": 0,
            "ticks": ""
           }
          },
          "colorscale": {
           "diverging": [
            [
             0,
             "#8e0152"
            ],
            [
             0.1,
             "#c51b7d"
            ],
            [
             0.2,
             "#de77ae"
            ],
            [
             0.3,
             "#f1b6da"
            ],
            [
             0.4,
             "#fde0ef"
            ],
            [
             0.5,
             "#f7f7f7"
            ],
            [
             0.6,
             "#e6f5d0"
            ],
            [
             0.7,
             "#b8e186"
            ],
            [
             0.8,
             "#7fbc41"
            ],
            [
             0.9,
             "#4d9221"
            ],
            [
             1,
             "#276419"
            ]
           ],
           "sequential": [
            [
             0,
             "#0d0887"
            ],
            [
             0.1111111111111111,
             "#46039f"
            ],
            [
             0.2222222222222222,
             "#7201a8"
            ],
            [
             0.3333333333333333,
             "#9c179e"
            ],
            [
             0.4444444444444444,
             "#bd3786"
            ],
            [
             0.5555555555555556,
             "#d8576b"
            ],
            [
             0.6666666666666666,
             "#ed7953"
            ],
            [
             0.7777777777777778,
             "#fb9f3a"
            ],
            [
             0.8888888888888888,
             "#fdca26"
            ],
            [
             1,
             "#f0f921"
            ]
           ],
           "sequentialminus": [
            [
             0,
             "#0d0887"
            ],
            [
             0.1111111111111111,
             "#46039f"
            ],
            [
             0.2222222222222222,
             "#7201a8"
            ],
            [
             0.3333333333333333,
             "#9c179e"
            ],
            [
             0.4444444444444444,
             "#bd3786"
            ],
            [
             0.5555555555555556,
             "#d8576b"
            ],
            [
             0.6666666666666666,
             "#ed7953"
            ],
            [
             0.7777777777777778,
             "#fb9f3a"
            ],
            [
             0.8888888888888888,
             "#fdca26"
            ],
            [
             1,
             "#f0f921"
            ]
           ]
          },
          "colorway": [
           "#636efa",
           "#EF553B",
           "#00cc96",
           "#ab63fa",
           "#FFA15A",
           "#19d3f3",
           "#FF6692",
           "#B6E880",
           "#FF97FF",
           "#FECB52"
          ],
          "font": {
           "color": "#2a3f5f"
          },
          "geo": {
           "bgcolor": "white",
           "lakecolor": "white",
           "landcolor": "#E5ECF6",
           "showlakes": true,
           "showland": true,
           "subunitcolor": "white"
          },
          "hoverlabel": {
           "align": "left"
          },
          "hovermode": "closest",
          "mapbox": {
           "style": "light"
          },
          "paper_bgcolor": "white",
          "plot_bgcolor": "#E5ECF6",
          "polar": {
           "angularaxis": {
            "gridcolor": "white",
            "linecolor": "white",
            "ticks": ""
           },
           "bgcolor": "#E5ECF6",
           "radialaxis": {
            "gridcolor": "white",
            "linecolor": "white",
            "ticks": ""
           }
          },
          "scene": {
           "xaxis": {
            "backgroundcolor": "#E5ECF6",
            "gridcolor": "white",
            "gridwidth": 2,
            "linecolor": "white",
            "showbackground": true,
            "ticks": "",
            "zerolinecolor": "white"
           },
           "yaxis": {
            "backgroundcolor": "#E5ECF6",
            "gridcolor": "white",
            "gridwidth": 2,
            "linecolor": "white",
            "showbackground": true,
            "ticks": "",
            "zerolinecolor": "white"
           },
           "zaxis": {
            "backgroundcolor": "#E5ECF6",
            "gridcolor": "white",
            "gridwidth": 2,
            "linecolor": "white",
            "showbackground": true,
            "ticks": "",
            "zerolinecolor": "white"
           }
          },
          "shapedefaults": {
           "line": {
            "color": "#2a3f5f"
           }
          },
          "ternary": {
           "aaxis": {
            "gridcolor": "white",
            "linecolor": "white",
            "ticks": ""
           },
           "baxis": {
            "gridcolor": "white",
            "linecolor": "white",
            "ticks": ""
           },
           "bgcolor": "#E5ECF6",
           "caxis": {
            "gridcolor": "white",
            "linecolor": "white",
            "ticks": ""
           }
          },
          "title": {
           "x": 0.05
          },
          "xaxis": {
           "automargin": true,
           "gridcolor": "white",
           "linecolor": "white",
           "ticks": "",
           "title": {
            "standoff": 15
           },
           "zerolinecolor": "white",
           "zerolinewidth": 2
          },
          "yaxis": {
           "automargin": true,
           "gridcolor": "white",
           "linecolor": "white",
           "ticks": "",
           "title": {
            "standoff": 15
           },
           "zerolinecolor": "white",
           "zerolinewidth": 2
          }
         }
        },
        "xaxis": {
         "anchor": "y",
         "constrain": "domain",
         "domain": [
          0,
          1
         ],
         "scaleanchor": "y",
         "side": "top",
         "title": {
          "text": "Continent"
         }
        },
        "yaxis": {
         "anchor": "x",
         "autorange": "reversed",
         "constrain": "domain",
         "domain": [
          0,
          1
         ],
         "title": {
          "text": "Life Expectancy"
         }
        }
       }
      },
      "text/html": [
       "<div>                            <div id=\"3e7058eb-b868-49c2-bc1d-f942b4feea2b\" class=\"plotly-graph-div\" style=\"height:525px; width:100%;\"></div>            <script type=\"text/javascript\">                require([\"plotly\"], function(Plotly) {                    window.PLOTLYENV=window.PLOTLYENV || {};                                    if (document.getElementById(\"3e7058eb-b868-49c2-bc1d-f942b4feea2b\")) {                    Plotly.newPlot(                        \"3e7058eb-b868-49c2-bc1d-f942b4feea2b\",                        [{\"coloraxis\":\"coloraxis\",\"hovertemplate\":\"Continent: %{x}<br>Life Expectancy: %{y}<br>Range: %{z}<extra></extra>\",\"name\":\"0\",\"type\":\"heatmap\",\"x\":[\"Africa\",\"Asia\",\"Europe\",\"North America\",\"Ocenia\",\"South America\"],\"xaxis\":\"x\",\"y\":[\"Average\",\"Male\",\"Female\"],\"yaxis\":\"y\",\"z\":[[61.00833333,80.8496,82.50105263,75.66233333,83.074,74.386],[59.04183333,78.071,80.38631579,73.24433333,83.074,72.374],[62.968,83.6376,84.57157895,78.09733333,84.858,76.548]]}],                        {\"coloraxis\":{\"colorbar\":{\"title\":{\"text\":\"Range\"}},\"colorscale\":[[0.0,\"#0d0887\"],[0.1111111111111111,\"#46039f\"],[0.2222222222222222,\"#7201a8\"],[0.3333333333333333,\"#9c179e\"],[0.4444444444444444,\"#bd3786\"],[0.5555555555555556,\"#d8576b\"],[0.6666666666666666,\"#ed7953\"],[0.7777777777777778,\"#fb9f3a\"],[0.8888888888888888,\"#fdca26\"],[1.0,\"#f0f921\"]]},\"margin\":{\"t\":60},\"template\":{\"data\":{\"bar\":[{\"error_x\":{\"color\":\"#2a3f5f\"},\"error_y\":{\"color\":\"#2a3f5f\"},\"marker\":{\"line\":{\"color\":\"#E5ECF6\",\"width\":0.5},\"pattern\":{\"fillmode\":\"overlay\",\"size\":10,\"solidity\":0.2}},\"type\":\"bar\"}],\"barpolar\":[{\"marker\":{\"line\":{\"color\":\"#E5ECF6\",\"width\":0.5},\"pattern\":{\"fillmode\":\"overlay\",\"size\":10,\"solidity\":0.2}},\"type\":\"barpolar\"}],\"carpet\":[{\"aaxis\":{\"endlinecolor\":\"#2a3f5f\",\"gridcolor\":\"white\",\"linecolor\":\"white\",\"minorgridcolor\":\"white\",\"startlinecolor\":\"#2a3f5f\"},\"baxis\":{\"endlinecolor\":\"#2a3f5f\",\"gridcolor\":\"white\",\"linecolor\":\"white\",\"minorgridcolor\":\"white\",\"startlinecolor\":\"#2a3f5f\"},\"type\":\"carpet\"}],\"choropleth\":[{\"colorbar\":{\"outlinewidth\":0,\"ticks\":\"\"},\"type\":\"choropleth\"}],\"contour\":[{\"colorbar\":{\"outlinewidth\":0,\"ticks\":\"\"},\"colorscale\":[[0.0,\"#0d0887\"],[0.1111111111111111,\"#46039f\"],[0.2222222222222222,\"#7201a8\"],[0.3333333333333333,\"#9c179e\"],[0.4444444444444444,\"#bd3786\"],[0.5555555555555556,\"#d8576b\"],[0.6666666666666666,\"#ed7953\"],[0.7777777777777778,\"#fb9f3a\"],[0.8888888888888888,\"#fdca26\"],[1.0,\"#f0f921\"]],\"type\":\"contour\"}],\"contourcarpet\":[{\"colorbar\":{\"outlinewidth\":0,\"ticks\":\"\"},\"type\":\"contourcarpet\"}],\"heatmap\":[{\"colorbar\":{\"outlinewidth\":0,\"ticks\":\"\"},\"colorscale\":[[0.0,\"#0d0887\"],[0.1111111111111111,\"#46039f\"],[0.2222222222222222,\"#7201a8\"],[0.3333333333333333,\"#9c179e\"],[0.4444444444444444,\"#bd3786\"],[0.5555555555555556,\"#d8576b\"],[0.6666666666666666,\"#ed7953\"],[0.7777777777777778,\"#fb9f3a\"],[0.8888888888888888,\"#fdca26\"],[1.0,\"#f0f921\"]],\"type\":\"heatmap\"}],\"heatmapgl\":[{\"colorbar\":{\"outlinewidth\":0,\"ticks\":\"\"},\"colorscale\":[[0.0,\"#0d0887\"],[0.1111111111111111,\"#46039f\"],[0.2222222222222222,\"#7201a8\"],[0.3333333333333333,\"#9c179e\"],[0.4444444444444444,\"#bd3786\"],[0.5555555555555556,\"#d8576b\"],[0.6666666666666666,\"#ed7953\"],[0.7777777777777778,\"#fb9f3a\"],[0.8888888888888888,\"#fdca26\"],[1.0,\"#f0f921\"]],\"type\":\"heatmapgl\"}],\"histogram\":[{\"marker\":{\"pattern\":{\"fillmode\":\"overlay\",\"size\":10,\"solidity\":0.2}},\"type\":\"histogram\"}],\"histogram2d\":[{\"colorbar\":{\"outlinewidth\":0,\"ticks\":\"\"},\"colorscale\":[[0.0,\"#0d0887\"],[0.1111111111111111,\"#46039f\"],[0.2222222222222222,\"#7201a8\"],[0.3333333333333333,\"#9c179e\"],[0.4444444444444444,\"#bd3786\"],[0.5555555555555556,\"#d8576b\"],[0.6666666666666666,\"#ed7953\"],[0.7777777777777778,\"#fb9f3a\"],[0.8888888888888888,\"#fdca26\"],[1.0,\"#f0f921\"]],\"type\":\"histogram2d\"}],\"histogram2dcontour\":[{\"colorbar\":{\"outlinewidth\":0,\"ticks\":\"\"},\"colorscale\":[[0.0,\"#0d0887\"],[0.1111111111111111,\"#46039f\"],[0.2222222222222222,\"#7201a8\"],[0.3333333333333333,\"#9c179e\"],[0.4444444444444444,\"#bd3786\"],[0.5555555555555556,\"#d8576b\"],[0.6666666666666666,\"#ed7953\"],[0.7777777777777778,\"#fb9f3a\"],[0.8888888888888888,\"#fdca26\"],[1.0,\"#f0f921\"]],\"type\":\"histogram2dcontour\"}],\"mesh3d\":[{\"colorbar\":{\"outlinewidth\":0,\"ticks\":\"\"},\"type\":\"mesh3d\"}],\"parcoords\":[{\"line\":{\"colorbar\":{\"outlinewidth\":0,\"ticks\":\"\"}},\"type\":\"parcoords\"}],\"pie\":[{\"automargin\":true,\"type\":\"pie\"}],\"scatter\":[{\"marker\":{\"colorbar\":{\"outlinewidth\":0,\"ticks\":\"\"}},\"type\":\"scatter\"}],\"scatter3d\":[{\"line\":{\"colorbar\":{\"outlinewidth\":0,\"ticks\":\"\"}},\"marker\":{\"colorbar\":{\"outlinewidth\":0,\"ticks\":\"\"}},\"type\":\"scatter3d\"}],\"scattercarpet\":[{\"marker\":{\"colorbar\":{\"outlinewidth\":0,\"ticks\":\"\"}},\"type\":\"scattercarpet\"}],\"scattergeo\":[{\"marker\":{\"colorbar\":{\"outlinewidth\":0,\"ticks\":\"\"}},\"type\":\"scattergeo\"}],\"scattergl\":[{\"marker\":{\"colorbar\":{\"outlinewidth\":0,\"ticks\":\"\"}},\"type\":\"scattergl\"}],\"scattermapbox\":[{\"marker\":{\"colorbar\":{\"outlinewidth\":0,\"ticks\":\"\"}},\"type\":\"scattermapbox\"}],\"scatterpolar\":[{\"marker\":{\"colorbar\":{\"outlinewidth\":0,\"ticks\":\"\"}},\"type\":\"scatterpolar\"}],\"scatterpolargl\":[{\"marker\":{\"colorbar\":{\"outlinewidth\":0,\"ticks\":\"\"}},\"type\":\"scatterpolargl\"}],\"scatterternary\":[{\"marker\":{\"colorbar\":{\"outlinewidth\":0,\"ticks\":\"\"}},\"type\":\"scatterternary\"}],\"surface\":[{\"colorbar\":{\"outlinewidth\":0,\"ticks\":\"\"},\"colorscale\":[[0.0,\"#0d0887\"],[0.1111111111111111,\"#46039f\"],[0.2222222222222222,\"#7201a8\"],[0.3333333333333333,\"#9c179e\"],[0.4444444444444444,\"#bd3786\"],[0.5555555555555556,\"#d8576b\"],[0.6666666666666666,\"#ed7953\"],[0.7777777777777778,\"#fb9f3a\"],[0.8888888888888888,\"#fdca26\"],[1.0,\"#f0f921\"]],\"type\":\"surface\"}],\"table\":[{\"cells\":{\"fill\":{\"color\":\"#EBF0F8\"},\"line\":{\"color\":\"white\"}},\"header\":{\"fill\":{\"color\":\"#C8D4E3\"},\"line\":{\"color\":\"white\"}},\"type\":\"table\"}]},\"layout\":{\"annotationdefaults\":{\"arrowcolor\":\"#2a3f5f\",\"arrowhead\":0,\"arrowwidth\":1},\"autotypenumbers\":\"strict\",\"coloraxis\":{\"colorbar\":{\"outlinewidth\":0,\"ticks\":\"\"}},\"colorscale\":{\"diverging\":[[0,\"#8e0152\"],[0.1,\"#c51b7d\"],[0.2,\"#de77ae\"],[0.3,\"#f1b6da\"],[0.4,\"#fde0ef\"],[0.5,\"#f7f7f7\"],[0.6,\"#e6f5d0\"],[0.7,\"#b8e186\"],[0.8,\"#7fbc41\"],[0.9,\"#4d9221\"],[1,\"#276419\"]],\"sequential\":[[0.0,\"#0d0887\"],[0.1111111111111111,\"#46039f\"],[0.2222222222222222,\"#7201a8\"],[0.3333333333333333,\"#9c179e\"],[0.4444444444444444,\"#bd3786\"],[0.5555555555555556,\"#d8576b\"],[0.6666666666666666,\"#ed7953\"],[0.7777777777777778,\"#fb9f3a\"],[0.8888888888888888,\"#fdca26\"],[1.0,\"#f0f921\"]],\"sequentialminus\":[[0.0,\"#0d0887\"],[0.1111111111111111,\"#46039f\"],[0.2222222222222222,\"#7201a8\"],[0.3333333333333333,\"#9c179e\"],[0.4444444444444444,\"#bd3786\"],[0.5555555555555556,\"#d8576b\"],[0.6666666666666666,\"#ed7953\"],[0.7777777777777778,\"#fb9f3a\"],[0.8888888888888888,\"#fdca26\"],[1.0,\"#f0f921\"]]},\"colorway\":[\"#636efa\",\"#EF553B\",\"#00cc96\",\"#ab63fa\",\"#FFA15A\",\"#19d3f3\",\"#FF6692\",\"#B6E880\",\"#FF97FF\",\"#FECB52\"],\"font\":{\"color\":\"#2a3f5f\"},\"geo\":{\"bgcolor\":\"white\",\"lakecolor\":\"white\",\"landcolor\":\"#E5ECF6\",\"showlakes\":true,\"showland\":true,\"subunitcolor\":\"white\"},\"hoverlabel\":{\"align\":\"left\"},\"hovermode\":\"closest\",\"mapbox\":{\"style\":\"light\"},\"paper_bgcolor\":\"white\",\"plot_bgcolor\":\"#E5ECF6\",\"polar\":{\"angularaxis\":{\"gridcolor\":\"white\",\"linecolor\":\"white\",\"ticks\":\"\"},\"bgcolor\":\"#E5ECF6\",\"radialaxis\":{\"gridcolor\":\"white\",\"linecolor\":\"white\",\"ticks\":\"\"}},\"scene\":{\"xaxis\":{\"backgroundcolor\":\"#E5ECF6\",\"gridcolor\":\"white\",\"gridwidth\":2,\"linecolor\":\"white\",\"showbackground\":true,\"ticks\":\"\",\"zerolinecolor\":\"white\"},\"yaxis\":{\"backgroundcolor\":\"#E5ECF6\",\"gridcolor\":\"white\",\"gridwidth\":2,\"linecolor\":\"white\",\"showbackground\":true,\"ticks\":\"\",\"zerolinecolor\":\"white\"},\"zaxis\":{\"backgroundcolor\":\"#E5ECF6\",\"gridcolor\":\"white\",\"gridwidth\":2,\"linecolor\":\"white\",\"showbackground\":true,\"ticks\":\"\",\"zerolinecolor\":\"white\"}},\"shapedefaults\":{\"line\":{\"color\":\"#2a3f5f\"}},\"ternary\":{\"aaxis\":{\"gridcolor\":\"white\",\"linecolor\":\"white\",\"ticks\":\"\"},\"baxis\":{\"gridcolor\":\"white\",\"linecolor\":\"white\",\"ticks\":\"\"},\"bgcolor\":\"#E5ECF6\",\"caxis\":{\"gridcolor\":\"white\",\"linecolor\":\"white\",\"ticks\":\"\"}},\"title\":{\"x\":0.05},\"xaxis\":{\"automargin\":true,\"gridcolor\":\"white\",\"linecolor\":\"white\",\"ticks\":\"\",\"title\":{\"standoff\":15},\"zerolinecolor\":\"white\",\"zerolinewidth\":2},\"yaxis\":{\"automargin\":true,\"gridcolor\":\"white\",\"linecolor\":\"white\",\"ticks\":\"\",\"title\":{\"standoff\":15},\"zerolinecolor\":\"white\",\"zerolinewidth\":2}}},\"xaxis\":{\"anchor\":\"y\",\"constrain\":\"domain\",\"domain\":[0.0,1.0],\"scaleanchor\":\"y\",\"side\":\"top\",\"title\":{\"text\":\"Continent\"}},\"yaxis\":{\"anchor\":\"x\",\"autorange\":\"reversed\",\"constrain\":\"domain\",\"domain\":[0.0,1.0],\"title\":{\"text\":\"Life Expectancy\"}}},                        {\"responsive\": true}                    ).then(function(){\n",
       "                            \n",
       "var gd = document.getElementById('3e7058eb-b868-49c2-bc1d-f942b4feea2b');\n",
       "var x = new MutationObserver(function (mutations, observer) {{\n",
       "        var display = window.getComputedStyle(gd).display;\n",
       "        if (!display || display === 'none') {{\n",
       "            console.log([gd, 'removed!']);\n",
       "            Plotly.purge(gd);\n",
       "            observer.disconnect();\n",
       "        }}\n",
       "}});\n",
       "\n",
       "// Listen for the removal of the full notebook cells\n",
       "var notebookContainer = gd.closest('#notebook-container');\n",
       "if (notebookContainer) {{\n",
       "    x.observe(notebookContainer, {childList: true});\n",
       "}}\n",
       "\n",
       "// Listen for the clearing of the current output cell\n",
       "var outputEl = gd.closest('.output');\n",
       "if (outputEl) {{\n",
       "    x.observe(outputEl, {childList: true});\n",
       "}}\n",
       "\n",
       "                        })                };                });            </script>        </div>"
      ]
     },
     "metadata": {},
     "output_type": "display_data"
    }
   ],
   "source": [
    "import plotly.express as px\n",
    "data=[[61.00833333, 80.8496, 82.50105263, 75.66233333, 83.074, 74.386], \n",
    "      [59.04183333, 78.071, 80.38631579, 73.24433333, 83.074, 72.374], \n",
    "      [62.968, 83.6376, 84.57157895, 78.09733333, 84.858, 76.548]]\n",
    "fig = px.imshow(data,\n",
    "                labels=dict(x=\"Continent\", y=\"Life Expectancy\", color=\"Range\"),\n",
    "                x=[ 'Africa', 'Asia', 'Europe', 'North America', 'Ocenia', 'South America'],\n",
    "                y=[ 'Average', 'Male', 'Female']\n",
    "               )\n",
    "fig.update_xaxes(side=\"top\")\n",
    "fig.show()"
   ]
  },
  {
   "cell_type": "code",
   "execution_count": 7,
   "metadata": {
    "extensions": {
     "jupyter_dashboards": {
      "version": 1,
      "views": {
       "grid_default": {},
       "report_default": {}
      }
     }
    },
    "scrolled": true
   },
   "outputs": [
    {
     "data": {
      "application/vnd.plotly.v1+json": {
       "config": {
        "plotlyServerURL": "https://plot.ly"
       },
       "data": [
        {
         "name": "Colombia",
         "type": "bar",
         "x": [
          "Average",
          "Male Life Expectancy",
          "Female Life Expectancy",
          "d",
          "e"
         ],
         "y": [
          85,
          82.13,
          87.91
         ]
        },
        {
         "name": "Hongkong",
         "type": "bar",
         "x": [
          "Average",
          "Male Life Expectancy",
          "Female Life Expectancy",
          "d",
          "e"
         ],
         "y": [
          84.42,
          81.46,
          87.36
         ]
        },
        {
         "name": "Philippines",
         "type": "bar",
         "x": [
          "Average",
          "Male Life Expectancy",
          "Female Life Expectancy",
          "d",
          "e"
         ],
         "y": [
          82.29,
          79.34,
          85.04
         ]
        },
        {
         "name": "Myanmar",
         "type": "bar",
         "x": [
          "Average",
          "Male Life Expectancy",
          "Female Life Expectancy",
          "d",
          "e"
         ],
         "y": [
          64.12,
          61.11,
          66.92
         ]
        },
        {
         "name": "Uganda",
         "type": "bar",
         "x": [
          "Average",
          "Male Life Expectancy",
          "Female Life Expectancy",
          "d",
          "e"
         ],
         "y": [
          63.73,
          61.36,
          65.99
         ]
        }
       ],
       "layout": {
        "barmode": "stack",
        "template": {
         "data": {
          "bar": [
           {
            "error_x": {
             "color": "#2a3f5f"
            },
            "error_y": {
             "color": "#2a3f5f"
            },
            "marker": {
             "line": {
              "color": "#E5ECF6",
              "width": 0.5
             },
             "pattern": {
              "fillmode": "overlay",
              "size": 10,
              "solidity": 0.2
             }
            },
            "type": "bar"
           }
          ],
          "barpolar": [
           {
            "marker": {
             "line": {
              "color": "#E5ECF6",
              "width": 0.5
             },
             "pattern": {
              "fillmode": "overlay",
              "size": 10,
              "solidity": 0.2
             }
            },
            "type": "barpolar"
           }
          ],
          "carpet": [
           {
            "aaxis": {
             "endlinecolor": "#2a3f5f",
             "gridcolor": "white",
             "linecolor": "white",
             "minorgridcolor": "white",
             "startlinecolor": "#2a3f5f"
            },
            "baxis": {
             "endlinecolor": "#2a3f5f",
             "gridcolor": "white",
             "linecolor": "white",
             "minorgridcolor": "white",
             "startlinecolor": "#2a3f5f"
            },
            "type": "carpet"
           }
          ],
          "choropleth": [
           {
            "colorbar": {
             "outlinewidth": 0,
             "ticks": ""
            },
            "type": "choropleth"
           }
          ],
          "contour": [
           {
            "colorbar": {
             "outlinewidth": 0,
             "ticks": ""
            },
            "colorscale": [
             [
              0,
              "#0d0887"
             ],
             [
              0.1111111111111111,
              "#46039f"
             ],
             [
              0.2222222222222222,
              "#7201a8"
             ],
             [
              0.3333333333333333,
              "#9c179e"
             ],
             [
              0.4444444444444444,
              "#bd3786"
             ],
             [
              0.5555555555555556,
              "#d8576b"
             ],
             [
              0.6666666666666666,
              "#ed7953"
             ],
             [
              0.7777777777777778,
              "#fb9f3a"
             ],
             [
              0.8888888888888888,
              "#fdca26"
             ],
             [
              1,
              "#f0f921"
             ]
            ],
            "type": "contour"
           }
          ],
          "contourcarpet": [
           {
            "colorbar": {
             "outlinewidth": 0,
             "ticks": ""
            },
            "type": "contourcarpet"
           }
          ],
          "heatmap": [
           {
            "colorbar": {
             "outlinewidth": 0,
             "ticks": ""
            },
            "colorscale": [
             [
              0,
              "#0d0887"
             ],
             [
              0.1111111111111111,
              "#46039f"
             ],
             [
              0.2222222222222222,
              "#7201a8"
             ],
             [
              0.3333333333333333,
              "#9c179e"
             ],
             [
              0.4444444444444444,
              "#bd3786"
             ],
             [
              0.5555555555555556,
              "#d8576b"
             ],
             [
              0.6666666666666666,
              "#ed7953"
             ],
             [
              0.7777777777777778,
              "#fb9f3a"
             ],
             [
              0.8888888888888888,
              "#fdca26"
             ],
             [
              1,
              "#f0f921"
             ]
            ],
            "type": "heatmap"
           }
          ],
          "heatmapgl": [
           {
            "colorbar": {
             "outlinewidth": 0,
             "ticks": ""
            },
            "colorscale": [
             [
              0,
              "#0d0887"
             ],
             [
              0.1111111111111111,
              "#46039f"
             ],
             [
              0.2222222222222222,
              "#7201a8"
             ],
             [
              0.3333333333333333,
              "#9c179e"
             ],
             [
              0.4444444444444444,
              "#bd3786"
             ],
             [
              0.5555555555555556,
              "#d8576b"
             ],
             [
              0.6666666666666666,
              "#ed7953"
             ],
             [
              0.7777777777777778,
              "#fb9f3a"
             ],
             [
              0.8888888888888888,
              "#fdca26"
             ],
             [
              1,
              "#f0f921"
             ]
            ],
            "type": "heatmapgl"
           }
          ],
          "histogram": [
           {
            "marker": {
             "pattern": {
              "fillmode": "overlay",
              "size": 10,
              "solidity": 0.2
             }
            },
            "type": "histogram"
           }
          ],
          "histogram2d": [
           {
            "colorbar": {
             "outlinewidth": 0,
             "ticks": ""
            },
            "colorscale": [
             [
              0,
              "#0d0887"
             ],
             [
              0.1111111111111111,
              "#46039f"
             ],
             [
              0.2222222222222222,
              "#7201a8"
             ],
             [
              0.3333333333333333,
              "#9c179e"
             ],
             [
              0.4444444444444444,
              "#bd3786"
             ],
             [
              0.5555555555555556,
              "#d8576b"
             ],
             [
              0.6666666666666666,
              "#ed7953"
             ],
             [
              0.7777777777777778,
              "#fb9f3a"
             ],
             [
              0.8888888888888888,
              "#fdca26"
             ],
             [
              1,
              "#f0f921"
             ]
            ],
            "type": "histogram2d"
           }
          ],
          "histogram2dcontour": [
           {
            "colorbar": {
             "outlinewidth": 0,
             "ticks": ""
            },
            "colorscale": [
             [
              0,
              "#0d0887"
             ],
             [
              0.1111111111111111,
              "#46039f"
             ],
             [
              0.2222222222222222,
              "#7201a8"
             ],
             [
              0.3333333333333333,
              "#9c179e"
             ],
             [
              0.4444444444444444,
              "#bd3786"
             ],
             [
              0.5555555555555556,
              "#d8576b"
             ],
             [
              0.6666666666666666,
              "#ed7953"
             ],
             [
              0.7777777777777778,
              "#fb9f3a"
             ],
             [
              0.8888888888888888,
              "#fdca26"
             ],
             [
              1,
              "#f0f921"
             ]
            ],
            "type": "histogram2dcontour"
           }
          ],
          "mesh3d": [
           {
            "colorbar": {
             "outlinewidth": 0,
             "ticks": ""
            },
            "type": "mesh3d"
           }
          ],
          "parcoords": [
           {
            "line": {
             "colorbar": {
              "outlinewidth": 0,
              "ticks": ""
             }
            },
            "type": "parcoords"
           }
          ],
          "pie": [
           {
            "automargin": true,
            "type": "pie"
           }
          ],
          "scatter": [
           {
            "marker": {
             "colorbar": {
              "outlinewidth": 0,
              "ticks": ""
             }
            },
            "type": "scatter"
           }
          ],
          "scatter3d": [
           {
            "line": {
             "colorbar": {
              "outlinewidth": 0,
              "ticks": ""
             }
            },
            "marker": {
             "colorbar": {
              "outlinewidth": 0,
              "ticks": ""
             }
            },
            "type": "scatter3d"
           }
          ],
          "scattercarpet": [
           {
            "marker": {
             "colorbar": {
              "outlinewidth": 0,
              "ticks": ""
             }
            },
            "type": "scattercarpet"
           }
          ],
          "scattergeo": [
           {
            "marker": {
             "colorbar": {
              "outlinewidth": 0,
              "ticks": ""
             }
            },
            "type": "scattergeo"
           }
          ],
          "scattergl": [
           {
            "marker": {
             "colorbar": {
              "outlinewidth": 0,
              "ticks": ""
             }
            },
            "type": "scattergl"
           }
          ],
          "scattermapbox": [
           {
            "marker": {
             "colorbar": {
              "outlinewidth": 0,
              "ticks": ""
             }
            },
            "type": "scattermapbox"
           }
          ],
          "scatterpolar": [
           {
            "marker": {
             "colorbar": {
              "outlinewidth": 0,
              "ticks": ""
             }
            },
            "type": "scatterpolar"
           }
          ],
          "scatterpolargl": [
           {
            "marker": {
             "colorbar": {
              "outlinewidth": 0,
              "ticks": ""
             }
            },
            "type": "scatterpolargl"
           }
          ],
          "scatterternary": [
           {
            "marker": {
             "colorbar": {
              "outlinewidth": 0,
              "ticks": ""
             }
            },
            "type": "scatterternary"
           }
          ],
          "surface": [
           {
            "colorbar": {
             "outlinewidth": 0,
             "ticks": ""
            },
            "colorscale": [
             [
              0,
              "#0d0887"
             ],
             [
              0.1111111111111111,
              "#46039f"
             ],
             [
              0.2222222222222222,
              "#7201a8"
             ],
             [
              0.3333333333333333,
              "#9c179e"
             ],
             [
              0.4444444444444444,
              "#bd3786"
             ],
             [
              0.5555555555555556,
              "#d8576b"
             ],
             [
              0.6666666666666666,
              "#ed7953"
             ],
             [
              0.7777777777777778,
              "#fb9f3a"
             ],
             [
              0.8888888888888888,
              "#fdca26"
             ],
             [
              1,
              "#f0f921"
             ]
            ],
            "type": "surface"
           }
          ],
          "table": [
           {
            "cells": {
             "fill": {
              "color": "#EBF0F8"
             },
             "line": {
              "color": "white"
             }
            },
            "header": {
             "fill": {
              "color": "#C8D4E3"
             },
             "line": {
              "color": "white"
             }
            },
            "type": "table"
           }
          ]
         },
         "layout": {
          "annotationdefaults": {
           "arrowcolor": "#2a3f5f",
           "arrowhead": 0,
           "arrowwidth": 1
          },
          "autotypenumbers": "strict",
          "coloraxis": {
           "colorbar": {
            "outlinewidth": 0,
            "ticks": ""
           }
          },
          "colorscale": {
           "diverging": [
            [
             0,
             "#8e0152"
            ],
            [
             0.1,
             "#c51b7d"
            ],
            [
             0.2,
             "#de77ae"
            ],
            [
             0.3,
             "#f1b6da"
            ],
            [
             0.4,
             "#fde0ef"
            ],
            [
             0.5,
             "#f7f7f7"
            ],
            [
             0.6,
             "#e6f5d0"
            ],
            [
             0.7,
             "#b8e186"
            ],
            [
             0.8,
             "#7fbc41"
            ],
            [
             0.9,
             "#4d9221"
            ],
            [
             1,
             "#276419"
            ]
           ],
           "sequential": [
            [
             0,
             "#0d0887"
            ],
            [
             0.1111111111111111,
             "#46039f"
            ],
            [
             0.2222222222222222,
             "#7201a8"
            ],
            [
             0.3333333333333333,
             "#9c179e"
            ],
            [
             0.4444444444444444,
             "#bd3786"
            ],
            [
             0.5555555555555556,
             "#d8576b"
            ],
            [
             0.6666666666666666,
             "#ed7953"
            ],
            [
             0.7777777777777778,
             "#fb9f3a"
            ],
            [
             0.8888888888888888,
             "#fdca26"
            ],
            [
             1,
             "#f0f921"
            ]
           ],
           "sequentialminus": [
            [
             0,
             "#0d0887"
            ],
            [
             0.1111111111111111,
             "#46039f"
            ],
            [
             0.2222222222222222,
             "#7201a8"
            ],
            [
             0.3333333333333333,
             "#9c179e"
            ],
            [
             0.4444444444444444,
             "#bd3786"
            ],
            [
             0.5555555555555556,
             "#d8576b"
            ],
            [
             0.6666666666666666,
             "#ed7953"
            ],
            [
             0.7777777777777778,
             "#fb9f3a"
            ],
            [
             0.8888888888888888,
             "#fdca26"
            ],
            [
             1,
             "#f0f921"
            ]
           ]
          },
          "colorway": [
           "#636efa",
           "#EF553B",
           "#00cc96",
           "#ab63fa",
           "#FFA15A",
           "#19d3f3",
           "#FF6692",
           "#B6E880",
           "#FF97FF",
           "#FECB52"
          ],
          "font": {
           "color": "#2a3f5f"
          },
          "geo": {
           "bgcolor": "white",
           "lakecolor": "white",
           "landcolor": "#E5ECF6",
           "showlakes": true,
           "showland": true,
           "subunitcolor": "white"
          },
          "hoverlabel": {
           "align": "left"
          },
          "hovermode": "closest",
          "mapbox": {
           "style": "light"
          },
          "paper_bgcolor": "white",
          "plot_bgcolor": "#E5ECF6",
          "polar": {
           "angularaxis": {
            "gridcolor": "white",
            "linecolor": "white",
            "ticks": ""
           },
           "bgcolor": "#E5ECF6",
           "radialaxis": {
            "gridcolor": "white",
            "linecolor": "white",
            "ticks": ""
           }
          },
          "scene": {
           "xaxis": {
            "backgroundcolor": "#E5ECF6",
            "gridcolor": "white",
            "gridwidth": 2,
            "linecolor": "white",
            "showbackground": true,
            "ticks": "",
            "zerolinecolor": "white"
           },
           "yaxis": {
            "backgroundcolor": "#E5ECF6",
            "gridcolor": "white",
            "gridwidth": 2,
            "linecolor": "white",
            "showbackground": true,
            "ticks": "",
            "zerolinecolor": "white"
           },
           "zaxis": {
            "backgroundcolor": "#E5ECF6",
            "gridcolor": "white",
            "gridwidth": 2,
            "linecolor": "white",
            "showbackground": true,
            "ticks": "",
            "zerolinecolor": "white"
           }
          },
          "shapedefaults": {
           "line": {
            "color": "#2a3f5f"
           }
          },
          "ternary": {
           "aaxis": {
            "gridcolor": "white",
            "linecolor": "white",
            "ticks": ""
           },
           "baxis": {
            "gridcolor": "white",
            "linecolor": "white",
            "ticks": ""
           },
           "bgcolor": "#E5ECF6",
           "caxis": {
            "gridcolor": "white",
            "linecolor": "white",
            "ticks": ""
           }
          },
          "title": {
           "x": 0.05
          },
          "xaxis": {
           "automargin": true,
           "gridcolor": "white",
           "linecolor": "white",
           "ticks": "",
           "title": {
            "standoff": 15
           },
           "zerolinecolor": "white",
           "zerolinewidth": 2
          },
          "yaxis": {
           "automargin": true,
           "gridcolor": "white",
           "linecolor": "white",
           "ticks": "",
           "title": {
            "standoff": 15
           },
           "zerolinecolor": "white",
           "zerolinewidth": 2
          }
         }
        },
        "xaxis": {
         "categoryorder": "category ascending"
        }
       }
      },
      "text/html": [
       "<div>                            <div id=\"8413c2a3-94db-47b7-8551-f2bfe55a6703\" class=\"plotly-graph-div\" style=\"height:525px; width:100%;\"></div>            <script type=\"text/javascript\">                require([\"plotly\"], function(Plotly) {                    window.PLOTLYENV=window.PLOTLYENV || {};                                    if (document.getElementById(\"8413c2a3-94db-47b7-8551-f2bfe55a6703\")) {                    Plotly.newPlot(                        \"8413c2a3-94db-47b7-8551-f2bfe55a6703\",                        [{\"name\":\"Colombia\",\"type\":\"bar\",\"x\":[\"Average\",\"Male Life Expectancy\",\"Female Life Expectancy\",\"d\",\"e\"],\"y\":[85.0,82.13,87.91]},{\"name\":\"Hongkong\",\"type\":\"bar\",\"x\":[\"Average\",\"Male Life Expectancy\",\"Female Life Expectancy\",\"d\",\"e\"],\"y\":[84.42,81.46,87.36]},{\"name\":\"Philippines\",\"type\":\"bar\",\"x\":[\"Average\",\"Male Life Expectancy\",\"Female Life Expectancy\",\"d\",\"e\"],\"y\":[82.29,79.34,85.04]},{\"name\":\"Myanmar\",\"type\":\"bar\",\"x\":[\"Average\",\"Male Life Expectancy\",\"Female Life Expectancy\",\"d\",\"e\"],\"y\":[64.12,61.11,66.92]},{\"name\":\"Uganda\",\"type\":\"bar\",\"x\":[\"Average\",\"Male Life Expectancy\",\"Female Life Expectancy\",\"d\",\"e\"],\"y\":[63.73,61.36,65.99]}],                        {\"barmode\":\"stack\",\"template\":{\"data\":{\"bar\":[{\"error_x\":{\"color\":\"#2a3f5f\"},\"error_y\":{\"color\":\"#2a3f5f\"},\"marker\":{\"line\":{\"color\":\"#E5ECF6\",\"width\":0.5},\"pattern\":{\"fillmode\":\"overlay\",\"size\":10,\"solidity\":0.2}},\"type\":\"bar\"}],\"barpolar\":[{\"marker\":{\"line\":{\"color\":\"#E5ECF6\",\"width\":0.5},\"pattern\":{\"fillmode\":\"overlay\",\"size\":10,\"solidity\":0.2}},\"type\":\"barpolar\"}],\"carpet\":[{\"aaxis\":{\"endlinecolor\":\"#2a3f5f\",\"gridcolor\":\"white\",\"linecolor\":\"white\",\"minorgridcolor\":\"white\",\"startlinecolor\":\"#2a3f5f\"},\"baxis\":{\"endlinecolor\":\"#2a3f5f\",\"gridcolor\":\"white\",\"linecolor\":\"white\",\"minorgridcolor\":\"white\",\"startlinecolor\":\"#2a3f5f\"},\"type\":\"carpet\"}],\"choropleth\":[{\"colorbar\":{\"outlinewidth\":0,\"ticks\":\"\"},\"type\":\"choropleth\"}],\"contour\":[{\"colorbar\":{\"outlinewidth\":0,\"ticks\":\"\"},\"colorscale\":[[0.0,\"#0d0887\"],[0.1111111111111111,\"#46039f\"],[0.2222222222222222,\"#7201a8\"],[0.3333333333333333,\"#9c179e\"],[0.4444444444444444,\"#bd3786\"],[0.5555555555555556,\"#d8576b\"],[0.6666666666666666,\"#ed7953\"],[0.7777777777777778,\"#fb9f3a\"],[0.8888888888888888,\"#fdca26\"],[1.0,\"#f0f921\"]],\"type\":\"contour\"}],\"contourcarpet\":[{\"colorbar\":{\"outlinewidth\":0,\"ticks\":\"\"},\"type\":\"contourcarpet\"}],\"heatmap\":[{\"colorbar\":{\"outlinewidth\":0,\"ticks\":\"\"},\"colorscale\":[[0.0,\"#0d0887\"],[0.1111111111111111,\"#46039f\"],[0.2222222222222222,\"#7201a8\"],[0.3333333333333333,\"#9c179e\"],[0.4444444444444444,\"#bd3786\"],[0.5555555555555556,\"#d8576b\"],[0.6666666666666666,\"#ed7953\"],[0.7777777777777778,\"#fb9f3a\"],[0.8888888888888888,\"#fdca26\"],[1.0,\"#f0f921\"]],\"type\":\"heatmap\"}],\"heatmapgl\":[{\"colorbar\":{\"outlinewidth\":0,\"ticks\":\"\"},\"colorscale\":[[0.0,\"#0d0887\"],[0.1111111111111111,\"#46039f\"],[0.2222222222222222,\"#7201a8\"],[0.3333333333333333,\"#9c179e\"],[0.4444444444444444,\"#bd3786\"],[0.5555555555555556,\"#d8576b\"],[0.6666666666666666,\"#ed7953\"],[0.7777777777777778,\"#fb9f3a\"],[0.8888888888888888,\"#fdca26\"],[1.0,\"#f0f921\"]],\"type\":\"heatmapgl\"}],\"histogram\":[{\"marker\":{\"pattern\":{\"fillmode\":\"overlay\",\"size\":10,\"solidity\":0.2}},\"type\":\"histogram\"}],\"histogram2d\":[{\"colorbar\":{\"outlinewidth\":0,\"ticks\":\"\"},\"colorscale\":[[0.0,\"#0d0887\"],[0.1111111111111111,\"#46039f\"],[0.2222222222222222,\"#7201a8\"],[0.3333333333333333,\"#9c179e\"],[0.4444444444444444,\"#bd3786\"],[0.5555555555555556,\"#d8576b\"],[0.6666666666666666,\"#ed7953\"],[0.7777777777777778,\"#fb9f3a\"],[0.8888888888888888,\"#fdca26\"],[1.0,\"#f0f921\"]],\"type\":\"histogram2d\"}],\"histogram2dcontour\":[{\"colorbar\":{\"outlinewidth\":0,\"ticks\":\"\"},\"colorscale\":[[0.0,\"#0d0887\"],[0.1111111111111111,\"#46039f\"],[0.2222222222222222,\"#7201a8\"],[0.3333333333333333,\"#9c179e\"],[0.4444444444444444,\"#bd3786\"],[0.5555555555555556,\"#d8576b\"],[0.6666666666666666,\"#ed7953\"],[0.7777777777777778,\"#fb9f3a\"],[0.8888888888888888,\"#fdca26\"],[1.0,\"#f0f921\"]],\"type\":\"histogram2dcontour\"}],\"mesh3d\":[{\"colorbar\":{\"outlinewidth\":0,\"ticks\":\"\"},\"type\":\"mesh3d\"}],\"parcoords\":[{\"line\":{\"colorbar\":{\"outlinewidth\":0,\"ticks\":\"\"}},\"type\":\"parcoords\"}],\"pie\":[{\"automargin\":true,\"type\":\"pie\"}],\"scatter\":[{\"marker\":{\"colorbar\":{\"outlinewidth\":0,\"ticks\":\"\"}},\"type\":\"scatter\"}],\"scatter3d\":[{\"line\":{\"colorbar\":{\"outlinewidth\":0,\"ticks\":\"\"}},\"marker\":{\"colorbar\":{\"outlinewidth\":0,\"ticks\":\"\"}},\"type\":\"scatter3d\"}],\"scattercarpet\":[{\"marker\":{\"colorbar\":{\"outlinewidth\":0,\"ticks\":\"\"}},\"type\":\"scattercarpet\"}],\"scattergeo\":[{\"marker\":{\"colorbar\":{\"outlinewidth\":0,\"ticks\":\"\"}},\"type\":\"scattergeo\"}],\"scattergl\":[{\"marker\":{\"colorbar\":{\"outlinewidth\":0,\"ticks\":\"\"}},\"type\":\"scattergl\"}],\"scattermapbox\":[{\"marker\":{\"colorbar\":{\"outlinewidth\":0,\"ticks\":\"\"}},\"type\":\"scattermapbox\"}],\"scatterpolar\":[{\"marker\":{\"colorbar\":{\"outlinewidth\":0,\"ticks\":\"\"}},\"type\":\"scatterpolar\"}],\"scatterpolargl\":[{\"marker\":{\"colorbar\":{\"outlinewidth\":0,\"ticks\":\"\"}},\"type\":\"scatterpolargl\"}],\"scatterternary\":[{\"marker\":{\"colorbar\":{\"outlinewidth\":0,\"ticks\":\"\"}},\"type\":\"scatterternary\"}],\"surface\":[{\"colorbar\":{\"outlinewidth\":0,\"ticks\":\"\"},\"colorscale\":[[0.0,\"#0d0887\"],[0.1111111111111111,\"#46039f\"],[0.2222222222222222,\"#7201a8\"],[0.3333333333333333,\"#9c179e\"],[0.4444444444444444,\"#bd3786\"],[0.5555555555555556,\"#d8576b\"],[0.6666666666666666,\"#ed7953\"],[0.7777777777777778,\"#fb9f3a\"],[0.8888888888888888,\"#fdca26\"],[1.0,\"#f0f921\"]],\"type\":\"surface\"}],\"table\":[{\"cells\":{\"fill\":{\"color\":\"#EBF0F8\"},\"line\":{\"color\":\"white\"}},\"header\":{\"fill\":{\"color\":\"#C8D4E3\"},\"line\":{\"color\":\"white\"}},\"type\":\"table\"}]},\"layout\":{\"annotationdefaults\":{\"arrowcolor\":\"#2a3f5f\",\"arrowhead\":0,\"arrowwidth\":1},\"autotypenumbers\":\"strict\",\"coloraxis\":{\"colorbar\":{\"outlinewidth\":0,\"ticks\":\"\"}},\"colorscale\":{\"diverging\":[[0,\"#8e0152\"],[0.1,\"#c51b7d\"],[0.2,\"#de77ae\"],[0.3,\"#f1b6da\"],[0.4,\"#fde0ef\"],[0.5,\"#f7f7f7\"],[0.6,\"#e6f5d0\"],[0.7,\"#b8e186\"],[0.8,\"#7fbc41\"],[0.9,\"#4d9221\"],[1,\"#276419\"]],\"sequential\":[[0.0,\"#0d0887\"],[0.1111111111111111,\"#46039f\"],[0.2222222222222222,\"#7201a8\"],[0.3333333333333333,\"#9c179e\"],[0.4444444444444444,\"#bd3786\"],[0.5555555555555556,\"#d8576b\"],[0.6666666666666666,\"#ed7953\"],[0.7777777777777778,\"#fb9f3a\"],[0.8888888888888888,\"#fdca26\"],[1.0,\"#f0f921\"]],\"sequentialminus\":[[0.0,\"#0d0887\"],[0.1111111111111111,\"#46039f\"],[0.2222222222222222,\"#7201a8\"],[0.3333333333333333,\"#9c179e\"],[0.4444444444444444,\"#bd3786\"],[0.5555555555555556,\"#d8576b\"],[0.6666666666666666,\"#ed7953\"],[0.7777777777777778,\"#fb9f3a\"],[0.8888888888888888,\"#fdca26\"],[1.0,\"#f0f921\"]]},\"colorway\":[\"#636efa\",\"#EF553B\",\"#00cc96\",\"#ab63fa\",\"#FFA15A\",\"#19d3f3\",\"#FF6692\",\"#B6E880\",\"#FF97FF\",\"#FECB52\"],\"font\":{\"color\":\"#2a3f5f\"},\"geo\":{\"bgcolor\":\"white\",\"lakecolor\":\"white\",\"landcolor\":\"#E5ECF6\",\"showlakes\":true,\"showland\":true,\"subunitcolor\":\"white\"},\"hoverlabel\":{\"align\":\"left\"},\"hovermode\":\"closest\",\"mapbox\":{\"style\":\"light\"},\"paper_bgcolor\":\"white\",\"plot_bgcolor\":\"#E5ECF6\",\"polar\":{\"angularaxis\":{\"gridcolor\":\"white\",\"linecolor\":\"white\",\"ticks\":\"\"},\"bgcolor\":\"#E5ECF6\",\"radialaxis\":{\"gridcolor\":\"white\",\"linecolor\":\"white\",\"ticks\":\"\"}},\"scene\":{\"xaxis\":{\"backgroundcolor\":\"#E5ECF6\",\"gridcolor\":\"white\",\"gridwidth\":2,\"linecolor\":\"white\",\"showbackground\":true,\"ticks\":\"\",\"zerolinecolor\":\"white\"},\"yaxis\":{\"backgroundcolor\":\"#E5ECF6\",\"gridcolor\":\"white\",\"gridwidth\":2,\"linecolor\":\"white\",\"showbackground\":true,\"ticks\":\"\",\"zerolinecolor\":\"white\"},\"zaxis\":{\"backgroundcolor\":\"#E5ECF6\",\"gridcolor\":\"white\",\"gridwidth\":2,\"linecolor\":\"white\",\"showbackground\":true,\"ticks\":\"\",\"zerolinecolor\":\"white\"}},\"shapedefaults\":{\"line\":{\"color\":\"#2a3f5f\"}},\"ternary\":{\"aaxis\":{\"gridcolor\":\"white\",\"linecolor\":\"white\",\"ticks\":\"\"},\"baxis\":{\"gridcolor\":\"white\",\"linecolor\":\"white\",\"ticks\":\"\"},\"bgcolor\":\"#E5ECF6\",\"caxis\":{\"gridcolor\":\"white\",\"linecolor\":\"white\",\"ticks\":\"\"}},\"title\":{\"x\":0.05},\"xaxis\":{\"automargin\":true,\"gridcolor\":\"white\",\"linecolor\":\"white\",\"ticks\":\"\",\"title\":{\"standoff\":15},\"zerolinecolor\":\"white\",\"zerolinewidth\":2},\"yaxis\":{\"automargin\":true,\"gridcolor\":\"white\",\"linecolor\":\"white\",\"ticks\":\"\",\"title\":{\"standoff\":15},\"zerolinecolor\":\"white\",\"zerolinewidth\":2}}},\"xaxis\":{\"categoryorder\":\"category ascending\"}},                        {\"responsive\": true}                    ).then(function(){\n",
       "                            \n",
       "var gd = document.getElementById('8413c2a3-94db-47b7-8551-f2bfe55a6703');\n",
       "var x = new MutationObserver(function (mutations, observer) {{\n",
       "        var display = window.getComputedStyle(gd).display;\n",
       "        if (!display || display === 'none') {{\n",
       "            console.log([gd, 'removed!']);\n",
       "            Plotly.purge(gd);\n",
       "            observer.disconnect();\n",
       "        }}\n",
       "}});\n",
       "\n",
       "// Listen for the removal of the full notebook cells\n",
       "var notebookContainer = gd.closest('#notebook-container');\n",
       "if (notebookContainer) {{\n",
       "    x.observe(notebookContainer, {childList: true});\n",
       "}}\n",
       "\n",
       "// Listen for the clearing of the current output cell\n",
       "var outputEl = gd.closest('.output');\n",
       "if (outputEl) {{\n",
       "    x.observe(outputEl, {childList: true});\n",
       "}}\n",
       "\n",
       "                        })                };                });            </script>        </div>"
      ]
     },
     "metadata": {},
     "output_type": "display_data"
    }
   ],
   "source": [
    "import plotly.graph_objects as go\n",
    "\n",
    "x=['Average', 'Male Life Expectancy', 'Female Life Expectancy', 'd', 'e']\n",
    "fig = go.Figure(go.Bar(x=x, y=[85.0, 82.13, 87.91], name='Colombia'))\n",
    "fig.add_trace(go.Bar(x=x, y=[84.42, 81.46, 87.36], name='Hongkong'))\n",
    "fig.add_trace(go.Bar(x=x, y=[82.29, 79.34, 85.04], name='Philippines'))\n",
    "fig.add_trace(go.Bar(x=x, y=[64.12, 61.11, 66.92], name='Myanmar'))\n",
    "fig.add_trace(go.Bar(x=x, y=[63.73, 61.36, 65.99], name='Uganda'))\n",
    "\n",
    "fig.update_layout(barmode='stack', xaxis={'categoryorder':'category ascending'})\n",
    "fig.show()"
   ]
  },
  {
   "cell_type": "code",
   "execution_count": 8,
   "metadata": {
    "extensions": {
     "jupyter_dashboards": {
      "version": 1,
      "views": {
       "grid_default": {},
       "report_default": {}
      }
     }
    }
   },
   "outputs": [
    {
     "data": {
      "text/html": [
       "<div>\n",
       "<style scoped>\n",
       "    .dataframe tbody tr th:only-of-type {\n",
       "        vertical-align: middle;\n",
       "    }\n",
       "\n",
       "    .dataframe tbody tr th {\n",
       "        vertical-align: top;\n",
       "    }\n",
       "\n",
       "    .dataframe thead th {\n",
       "        text-align: right;\n",
       "    }\n",
       "</style>\n",
       "<table border=\"1\" class=\"dataframe\">\n",
       "  <thead>\n",
       "    <tr style=\"text-align: right;\">\n",
       "      <th></th>\n",
       "      <th>Country</th>\n",
       "      <th>Continent</th>\n",
       "      <th>Year</th>\n",
       "      <th>Status</th>\n",
       "      <th>Life_expectancy</th>\n",
       "      <th>AdultMortality</th>\n",
       "      <th>infant_deaths</th>\n",
       "      <th>Alcohol</th>\n",
       "      <th>percentage_expenditure</th>\n",
       "      <th>Hepatitis_B</th>\n",
       "      <th>...</th>\n",
       "      <th>Polio</th>\n",
       "      <th>Total_expenditure</th>\n",
       "      <th>Diphtheria</th>\n",
       "      <th>HIV/AIDS</th>\n",
       "      <th>GDP</th>\n",
       "      <th>Population</th>\n",
       "      <th>thinness_1-19_years</th>\n",
       "      <th>thinness_5-9_years</th>\n",
       "      <th>Income_composition_of_resources</th>\n",
       "      <th>Schooling</th>\n",
       "    </tr>\n",
       "  </thead>\n",
       "  <tbody>\n",
       "    <tr>\n",
       "      <th>0</th>\n",
       "      <td>Afghanistan</td>\n",
       "      <td>Asia</td>\n",
       "      <td>2015</td>\n",
       "      <td>Developing</td>\n",
       "      <td>65.0</td>\n",
       "      <td>263.0</td>\n",
       "      <td>62</td>\n",
       "      <td>0.01</td>\n",
       "      <td>71.279624</td>\n",
       "      <td>65.0</td>\n",
       "      <td>...</td>\n",
       "      <td>6</td>\n",
       "      <td>8.16</td>\n",
       "      <td>65</td>\n",
       "      <td>0.1</td>\n",
       "      <td>584.259210</td>\n",
       "      <td>33736494.0</td>\n",
       "      <td>17.2</td>\n",
       "      <td>17.3</td>\n",
       "      <td>0.479</td>\n",
       "      <td>10.1</td>\n",
       "    </tr>\n",
       "    <tr>\n",
       "      <th>1</th>\n",
       "      <td>Albania</td>\n",
       "      <td>Europe</td>\n",
       "      <td>2015</td>\n",
       "      <td>Developing</td>\n",
       "      <td>77.8</td>\n",
       "      <td>74.0</td>\n",
       "      <td>0</td>\n",
       "      <td>4.60</td>\n",
       "      <td>364.975229</td>\n",
       "      <td>99.0</td>\n",
       "      <td>...</td>\n",
       "      <td>99</td>\n",
       "      <td>6.00</td>\n",
       "      <td>99</td>\n",
       "      <td>0.1</td>\n",
       "      <td>3954.227830</td>\n",
       "      <td>28873.0</td>\n",
       "      <td>1.2</td>\n",
       "      <td>1.3</td>\n",
       "      <td>0.762</td>\n",
       "      <td>14.2</td>\n",
       "    </tr>\n",
       "    <tr>\n",
       "      <th>2</th>\n",
       "      <td>Algeria</td>\n",
       "      <td>Africa</td>\n",
       "      <td>2015</td>\n",
       "      <td>Developing</td>\n",
       "      <td>75.6</td>\n",
       "      <td>19.0</td>\n",
       "      <td>21</td>\n",
       "      <td>NaN</td>\n",
       "      <td>0.000000</td>\n",
       "      <td>95.0</td>\n",
       "      <td>...</td>\n",
       "      <td>95</td>\n",
       "      <td>NaN</td>\n",
       "      <td>95</td>\n",
       "      <td>0.1</td>\n",
       "      <td>4132.762920</td>\n",
       "      <td>39871528.0</td>\n",
       "      <td>6.0</td>\n",
       "      <td>5.8</td>\n",
       "      <td>0.743</td>\n",
       "      <td>14.4</td>\n",
       "    </tr>\n",
       "    <tr>\n",
       "      <th>3</th>\n",
       "      <td>Angola</td>\n",
       "      <td>Africa</td>\n",
       "      <td>2015</td>\n",
       "      <td>Developing</td>\n",
       "      <td>52.4</td>\n",
       "      <td>335.0</td>\n",
       "      <td>66</td>\n",
       "      <td>NaN</td>\n",
       "      <td>0.000000</td>\n",
       "      <td>64.0</td>\n",
       "      <td>...</td>\n",
       "      <td>7</td>\n",
       "      <td>NaN</td>\n",
       "      <td>64</td>\n",
       "      <td>1.9</td>\n",
       "      <td>3695.793748</td>\n",
       "      <td>2785935.0</td>\n",
       "      <td>8.3</td>\n",
       "      <td>8.2</td>\n",
       "      <td>0.531</td>\n",
       "      <td>11.4</td>\n",
       "    </tr>\n",
       "    <tr>\n",
       "      <th>4</th>\n",
       "      <td>Antigua and Barbuda</td>\n",
       "      <td>North America</td>\n",
       "      <td>2015</td>\n",
       "      <td>Developing</td>\n",
       "      <td>76.4</td>\n",
       "      <td>13.0</td>\n",
       "      <td>0</td>\n",
       "      <td>NaN</td>\n",
       "      <td>0.000000</td>\n",
       "      <td>99.0</td>\n",
       "      <td>...</td>\n",
       "      <td>86</td>\n",
       "      <td>NaN</td>\n",
       "      <td>99</td>\n",
       "      <td>0.2</td>\n",
       "      <td>13566.954100</td>\n",
       "      <td>NaN</td>\n",
       "      <td>3.3</td>\n",
       "      <td>3.3</td>\n",
       "      <td>0.784</td>\n",
       "      <td>13.9</td>\n",
       "    </tr>\n",
       "  </tbody>\n",
       "</table>\n",
       "<p>5 rows × 23 columns</p>\n",
       "</div>"
      ],
      "text/plain": [
       "               Country      Continent  Year      Status  Life_expectancy  \\\n",
       "0          Afghanistan           Asia  2015  Developing             65.0   \n",
       "1              Albania         Europe  2015  Developing             77.8   \n",
       "2              Algeria         Africa  2015  Developing             75.6   \n",
       "3               Angola         Africa  2015  Developing             52.4   \n",
       "4  Antigua and Barbuda  North America  2015  Developing             76.4   \n",
       "\n",
       "   AdultMortality  infant_deaths  Alcohol  percentage_expenditure  \\\n",
       "0           263.0             62     0.01               71.279624   \n",
       "1            74.0              0     4.60              364.975229   \n",
       "2            19.0             21      NaN                0.000000   \n",
       "3           335.0             66      NaN                0.000000   \n",
       "4            13.0              0      NaN                0.000000   \n",
       "\n",
       "   Hepatitis_B  ...  Polio  Total_expenditure  Diphtheria   HIV/AIDS  \\\n",
       "0         65.0  ...      6               8.16          65        0.1   \n",
       "1         99.0  ...     99               6.00          99        0.1   \n",
       "2         95.0  ...     95                NaN          95        0.1   \n",
       "3         64.0  ...      7                NaN          64        1.9   \n",
       "4         99.0  ...     86                NaN          99        0.2   \n",
       "\n",
       "            GDP  Population   thinness_1-19_years   thinness_5-9_years  \\\n",
       "0    584.259210  33736494.0                  17.2                 17.3   \n",
       "1   3954.227830     28873.0                   1.2                  1.3   \n",
       "2   4132.762920  39871528.0                   6.0                  5.8   \n",
       "3   3695.793748   2785935.0                   8.3                  8.2   \n",
       "4  13566.954100         NaN                   3.3                  3.3   \n",
       "\n",
       "   Income_composition_of_resources  Schooling  \n",
       "0                            0.479       10.1  \n",
       "1                            0.762       14.2  \n",
       "2                            0.743       14.4  \n",
       "3                            0.531       11.4  \n",
       "4                            0.784       13.9  \n",
       "\n",
       "[5 rows x 23 columns]"
      ]
     },
     "execution_count": 8,
     "metadata": {},
     "output_type": "execute_result"
    }
   ],
   "source": [
    "nd = pd.read_csv(r'C:\\Users\\ESEE Ent\\clean_lifeexpectancydata.csv', sep = ',', encoding= 'unicode_escape')\n",
    "nd.head()"
   ]
  },
  {
   "cell_type": "code",
   "execution_count": 9,
   "metadata": {
    "extensions": {
     "jupyter_dashboards": {
      "version": 1,
      "views": {
       "grid_default": {},
       "report_default": {}
      }
     }
    }
   },
   "outputs": [
    {
     "data": {
      "text/html": [
       "<style  type=\"text/css\" >\n",
       "#T_71417c81_5dbc_11ec_8f98_cbee68bc0202row0_col1,#T_71417c81_5dbc_11ec_8f98_cbee68bc0202row0_col4,#T_71417c81_5dbc_11ec_8f98_cbee68bc0202row0_col5,#T_71417c81_5dbc_11ec_8f98_cbee68bc0202row0_col6,#T_71417c81_5dbc_11ec_8f98_cbee68bc0202row0_col7,#T_71417c81_5dbc_11ec_8f98_cbee68bc0202row0_col9,#T_71417c81_5dbc_11ec_8f98_cbee68bc0202row0_col10,#T_71417c81_5dbc_11ec_8f98_cbee68bc0202row0_col12,#T_71417c81_5dbc_11ec_8f98_cbee68bc0202row0_col14,#T_71417c81_5dbc_11ec_8f98_cbee68bc0202row1_col1,#T_71417c81_5dbc_11ec_8f98_cbee68bc0202row1_col4,#T_71417c81_5dbc_11ec_8f98_cbee68bc0202row1_col5,#T_71417c81_5dbc_11ec_8f98_cbee68bc0202row1_col6,#T_71417c81_5dbc_11ec_8f98_cbee68bc0202row1_col7,#T_71417c81_5dbc_11ec_8f98_cbee68bc0202row1_col10,#T_71417c81_5dbc_11ec_8f98_cbee68bc0202row1_col12,#T_71417c81_5dbc_11ec_8f98_cbee68bc0202row1_col14,#T_71417c81_5dbc_11ec_8f98_cbee68bc0202row2_col1,#T_71417c81_5dbc_11ec_8f98_cbee68bc0202row2_col4,#T_71417c81_5dbc_11ec_8f98_cbee68bc0202row2_col5,#T_71417c81_5dbc_11ec_8f98_cbee68bc0202row2_col6,#T_71417c81_5dbc_11ec_8f98_cbee68bc0202row2_col8,#T_71417c81_5dbc_11ec_8f98_cbee68bc0202row2_col9,#T_71417c81_5dbc_11ec_8f98_cbee68bc0202row2_col10,#T_71417c81_5dbc_11ec_8f98_cbee68bc0202row2_col12,#T_71417c81_5dbc_11ec_8f98_cbee68bc0202row2_col14,#T_71417c81_5dbc_11ec_8f98_cbee68bc0202row2_col16,#T_71417c81_5dbc_11ec_8f98_cbee68bc0202row3_col1,#T_71417c81_5dbc_11ec_8f98_cbee68bc0202row3_col5,#T_71417c81_5dbc_11ec_8f98_cbee68bc0202row3_col6,#T_71417c81_5dbc_11ec_8f98_cbee68bc0202row3_col12,#T_71417c81_5dbc_11ec_8f98_cbee68bc0202row3_col14,#T_71417c81_5dbc_11ec_8f98_cbee68bc0202row4_col1,#T_71417c81_5dbc_11ec_8f98_cbee68bc0202row4_col5,#T_71417c81_5dbc_11ec_8f98_cbee68bc0202row4_col6,#T_71417c81_5dbc_11ec_8f98_cbee68bc0202row4_col7,#T_71417c81_5dbc_11ec_8f98_cbee68bc0202row4_col12,#T_71417c81_5dbc_11ec_8f98_cbee68bc0202row4_col14,#T_71417c81_5dbc_11ec_8f98_cbee68bc0202row4_col16,#T_71417c81_5dbc_11ec_8f98_cbee68bc0202row5_col1,#T_71417c81_5dbc_11ec_8f98_cbee68bc0202row5_col3,#T_71417c81_5dbc_11ec_8f98_cbee68bc0202row5_col4,#T_71417c81_5dbc_11ec_8f98_cbee68bc0202row5_col5,#T_71417c81_5dbc_11ec_8f98_cbee68bc0202row5_col6,#T_71417c81_5dbc_11ec_8f98_cbee68bc0202row5_col7,#T_71417c81_5dbc_11ec_8f98_cbee68bc0202row5_col10,#T_71417c81_5dbc_11ec_8f98_cbee68bc0202row5_col12,#T_71417c81_5dbc_11ec_8f98_cbee68bc0202row5_col14,#T_71417c81_5dbc_11ec_8f98_cbee68bc0202row5_col17,#T_71417c81_5dbc_11ec_8f98_cbee68bc0202row5_col18,#T_71417c81_5dbc_11ec_8f98_cbee68bc0202row6_col1,#T_71417c81_5dbc_11ec_8f98_cbee68bc0202row6_col4,#T_71417c81_5dbc_11ec_8f98_cbee68bc0202row6_col6,#T_71417c81_5dbc_11ec_8f98_cbee68bc0202row6_col8,#T_71417c81_5dbc_11ec_8f98_cbee68bc0202row6_col10,#T_71417c81_5dbc_11ec_8f98_cbee68bc0202row6_col12,#T_71417c81_5dbc_11ec_8f98_cbee68bc0202row6_col14,#T_71417c81_5dbc_11ec_8f98_cbee68bc0202row6_col16,#T_71417c81_5dbc_11ec_8f98_cbee68bc0202row7_col1,#T_71417c81_5dbc_11ec_8f98_cbee68bc0202row7_col5,#T_71417c81_5dbc_11ec_8f98_cbee68bc0202row7_col6,#T_71417c81_5dbc_11ec_8f98_cbee68bc0202row7_col12,#T_71417c81_5dbc_11ec_8f98_cbee68bc0202row7_col14,#T_71417c81_5dbc_11ec_8f98_cbee68bc0202row8_col1,#T_71417c81_5dbc_11ec_8f98_cbee68bc0202row8_col5,#T_71417c81_5dbc_11ec_8f98_cbee68bc0202row8_col6,#T_71417c81_5dbc_11ec_8f98_cbee68bc0202row8_col12,#T_71417c81_5dbc_11ec_8f98_cbee68bc0202row8_col14,#T_71417c81_5dbc_11ec_8f98_cbee68bc0202row9_col1,#T_71417c81_5dbc_11ec_8f98_cbee68bc0202row9_col5,#T_71417c81_5dbc_11ec_8f98_cbee68bc0202row9_col6,#T_71417c81_5dbc_11ec_8f98_cbee68bc0202row9_col12,#T_71417c81_5dbc_11ec_8f98_cbee68bc0202row9_col14,#T_71417c81_5dbc_11ec_8f98_cbee68bc0202row10_col1,#T_71417c81_5dbc_11ec_8f98_cbee68bc0202row10_col3,#T_71417c81_5dbc_11ec_8f98_cbee68bc0202row10_col4,#T_71417c81_5dbc_11ec_8f98_cbee68bc0202row10_col5,#T_71417c81_5dbc_11ec_8f98_cbee68bc0202row10_col6,#T_71417c81_5dbc_11ec_8f98_cbee68bc0202row10_col7,#T_71417c81_5dbc_11ec_8f98_cbee68bc0202row10_col8,#T_71417c81_5dbc_11ec_8f98_cbee68bc0202row10_col10,#T_71417c81_5dbc_11ec_8f98_cbee68bc0202row10_col12,#T_71417c81_5dbc_11ec_8f98_cbee68bc0202row10_col14,#T_71417c81_5dbc_11ec_8f98_cbee68bc0202row10_col16,#T_71417c81_5dbc_11ec_8f98_cbee68bc0202row11_col1,#T_71417c81_5dbc_11ec_8f98_cbee68bc0202row11_col4,#T_71417c81_5dbc_11ec_8f98_cbee68bc0202row11_col5,#T_71417c81_5dbc_11ec_8f98_cbee68bc0202row11_col6,#T_71417c81_5dbc_11ec_8f98_cbee68bc0202row11_col12,#T_71417c81_5dbc_11ec_8f98_cbee68bc0202row11_col14,#T_71417c81_5dbc_11ec_8f98_cbee68bc0202row11_col16,#T_71417c81_5dbc_11ec_8f98_cbee68bc0202row12_col1,#T_71417c81_5dbc_11ec_8f98_cbee68bc0202row12_col5,#T_71417c81_5dbc_11ec_8f98_cbee68bc0202row12_col6,#T_71417c81_5dbc_11ec_8f98_cbee68bc0202row12_col12,#T_71417c81_5dbc_11ec_8f98_cbee68bc0202row12_col14,#T_71417c81_5dbc_11ec_8f98_cbee68bc0202row13_col1,#T_71417c81_5dbc_11ec_8f98_cbee68bc0202row13_col4,#T_71417c81_5dbc_11ec_8f98_cbee68bc0202row13_col5,#T_71417c81_5dbc_11ec_8f98_cbee68bc0202row13_col6,#T_71417c81_5dbc_11ec_8f98_cbee68bc0202row13_col10,#T_71417c81_5dbc_11ec_8f98_cbee68bc0202row13_col12,#T_71417c81_5dbc_11ec_8f98_cbee68bc0202row13_col14,#T_71417c81_5dbc_11ec_8f98_cbee68bc0202row14_col1,#T_71417c81_5dbc_11ec_8f98_cbee68bc0202row14_col5,#T_71417c81_5dbc_11ec_8f98_cbee68bc0202row14_col6,#T_71417c81_5dbc_11ec_8f98_cbee68bc0202row14_col12,#T_71417c81_5dbc_11ec_8f98_cbee68bc0202row14_col14,#T_71417c81_5dbc_11ec_8f98_cbee68bc0202row14_col15,#T_71417c81_5dbc_11ec_8f98_cbee68bc0202row14_col16,#T_71417c81_5dbc_11ec_8f98_cbee68bc0202row14_col19,#T_71417c81_5dbc_11ec_8f98_cbee68bc0202row14_col20,#T_71417c81_5dbc_11ec_8f98_cbee68bc0202row15_col1,#T_71417c81_5dbc_11ec_8f98_cbee68bc0202row15_col5,#T_71417c81_5dbc_11ec_8f98_cbee68bc0202row15_col6,#T_71417c81_5dbc_11ec_8f98_cbee68bc0202row15_col11,#T_71417c81_5dbc_11ec_8f98_cbee68bc0202row15_col12,#T_71417c81_5dbc_11ec_8f98_cbee68bc0202row15_col13,#T_71417c81_5dbc_11ec_8f98_cbee68bc0202row15_col14,#T_71417c81_5dbc_11ec_8f98_cbee68bc0202row16_col1,#T_71417c81_5dbc_11ec_8f98_cbee68bc0202row16_col4,#T_71417c81_5dbc_11ec_8f98_cbee68bc0202row16_col5,#T_71417c81_5dbc_11ec_8f98_cbee68bc0202row16_col6,#T_71417c81_5dbc_11ec_8f98_cbee68bc0202row16_col8,#T_71417c81_5dbc_11ec_8f98_cbee68bc0202row16_col10,#T_71417c81_5dbc_11ec_8f98_cbee68bc0202row16_col12,#T_71417c81_5dbc_11ec_8f98_cbee68bc0202row16_col14,#T_71417c81_5dbc_11ec_8f98_cbee68bc0202row16_col16,#T_71417c81_5dbc_11ec_8f98_cbee68bc0202row17_col1,#T_71417c81_5dbc_11ec_8f98_cbee68bc0202row17_col5,#T_71417c81_5dbc_11ec_8f98_cbee68bc0202row17_col6,#T_71417c81_5dbc_11ec_8f98_cbee68bc0202row17_col12,#T_71417c81_5dbc_11ec_8f98_cbee68bc0202row17_col14,#T_71417c81_5dbc_11ec_8f98_cbee68bc0202row18_col1,#T_71417c81_5dbc_11ec_8f98_cbee68bc0202row18_col4,#T_71417c81_5dbc_11ec_8f98_cbee68bc0202row18_col6,#T_71417c81_5dbc_11ec_8f98_cbee68bc0202row18_col7,#T_71417c81_5dbc_11ec_8f98_cbee68bc0202row18_col10,#T_71417c81_5dbc_11ec_8f98_cbee68bc0202row18_col12,#T_71417c81_5dbc_11ec_8f98_cbee68bc0202row18_col14,#T_71417c81_5dbc_11ec_8f98_cbee68bc0202row19_col1,#T_71417c81_5dbc_11ec_8f98_cbee68bc0202row19_col2,#T_71417c81_5dbc_11ec_8f98_cbee68bc0202row19_col4,#T_71417c81_5dbc_11ec_8f98_cbee68bc0202row19_col5,#T_71417c81_5dbc_11ec_8f98_cbee68bc0202row19_col6,#T_71417c81_5dbc_11ec_8f98_cbee68bc0202row19_col10,#T_71417c81_5dbc_11ec_8f98_cbee68bc0202row19_col12,#T_71417c81_5dbc_11ec_8f98_cbee68bc0202row19_col14{\n",
       "            background-color:  #0d0887;\n",
       "            color:  #f1f1f1;\n",
       "        }#T_71417c81_5dbc_11ec_8f98_cbee68bc0202row0_col2,#T_71417c81_5dbc_11ec_8f98_cbee68bc0202row3_col3,#T_71417c81_5dbc_11ec_8f98_cbee68bc0202row3_col4,#T_71417c81_5dbc_11ec_8f98_cbee68bc0202row4_col4,#T_71417c81_5dbc_11ec_8f98_cbee68bc0202row4_col10,#T_71417c81_5dbc_11ec_8f98_cbee68bc0202row4_col11,#T_71417c81_5dbc_11ec_8f98_cbee68bc0202row6_col17,#T_71417c81_5dbc_11ec_8f98_cbee68bc0202row6_col18,#T_71417c81_5dbc_11ec_8f98_cbee68bc0202row7_col15,#T_71417c81_5dbc_11ec_8f98_cbee68bc0202row7_col20,#T_71417c81_5dbc_11ec_8f98_cbee68bc0202row8_col16,#T_71417c81_5dbc_11ec_8f98_cbee68bc0202row12_col4,#T_71417c81_5dbc_11ec_8f98_cbee68bc0202row12_col10,#T_71417c81_5dbc_11ec_8f98_cbee68bc0202row14_col7,#T_71417c81_5dbc_11ec_8f98_cbee68bc0202row15_col4,#T_71417c81_5dbc_11ec_8f98_cbee68bc0202row15_col8,#T_71417c81_5dbc_11ec_8f98_cbee68bc0202row16_col11,#T_71417c81_5dbc_11ec_8f98_cbee68bc0202row16_col13,#T_71417c81_5dbc_11ec_8f98_cbee68bc0202row18_col5,#T_71417c81_5dbc_11ec_8f98_cbee68bc0202row18_col19,#T_71417c81_5dbc_11ec_8f98_cbee68bc0202row19_col9{\n",
       "            background-color:  #f0f921;\n",
       "            color:  #000000;\n",
       "        }#T_71417c81_5dbc_11ec_8f98_cbee68bc0202row0_col3,#T_71417c81_5dbc_11ec_8f98_cbee68bc0202row6_col20{\n",
       "            background-color:  #f9973f;\n",
       "            color:  #000000;\n",
       "        }#T_71417c81_5dbc_11ec_8f98_cbee68bc0202row0_col8,#T_71417c81_5dbc_11ec_8f98_cbee68bc0202row2_col3{\n",
       "            background-color:  #3e049c;\n",
       "            color:  #f1f1f1;\n",
       "        }#T_71417c81_5dbc_11ec_8f98_cbee68bc0202row0_col11,#T_71417c81_5dbc_11ec_8f98_cbee68bc0202row0_col13,#T_71417c81_5dbc_11ec_8f98_cbee68bc0202row7_col4,#T_71417c81_5dbc_11ec_8f98_cbee68bc0202row8_col4,#T_71417c81_5dbc_11ec_8f98_cbee68bc0202row9_col4,#T_71417c81_5dbc_11ec_8f98_cbee68bc0202row11_col11,#T_71417c81_5dbc_11ec_8f98_cbee68bc0202row11_col13,#T_71417c81_5dbc_11ec_8f98_cbee68bc0202row14_col4,#T_71417c81_5dbc_11ec_8f98_cbee68bc0202row17_col4,#T_71417c81_5dbc_11ec_8f98_cbee68bc0202row17_col11,#T_71417c81_5dbc_11ec_8f98_cbee68bc0202row17_col13,#T_71417c81_5dbc_11ec_8f98_cbee68bc0202row18_col11,#T_71417c81_5dbc_11ec_8f98_cbee68bc0202row18_col13{\n",
       "            background-color:  #cc4778;\n",
       "            color:  #f1f1f1;\n",
       "        }#T_71417c81_5dbc_11ec_8f98_cbee68bc0202row0_col15,#T_71417c81_5dbc_11ec_8f98_cbee68bc0202row16_col2{\n",
       "            background-color:  #2a0593;\n",
       "            color:  #f1f1f1;\n",
       "        }#T_71417c81_5dbc_11ec_8f98_cbee68bc0202row0_col16,#T_71417c81_5dbc_11ec_8f98_cbee68bc0202row9_col15{\n",
       "            background-color:  #100788;\n",
       "            color:  #f1f1f1;\n",
       "        }#T_71417c81_5dbc_11ec_8f98_cbee68bc0202row0_col17{\n",
       "            background-color:  #d8576b;\n",
       "            color:  #000000;\n",
       "        }#T_71417c81_5dbc_11ec_8f98_cbee68bc0202row0_col18,#T_71417c81_5dbc_11ec_8f98_cbee68bc0202row2_col2,#T_71417c81_5dbc_11ec_8f98_cbee68bc0202row3_col2{\n",
       "            background-color:  #d14e72;\n",
       "            color:  #000000;\n",
       "        }#T_71417c81_5dbc_11ec_8f98_cbee68bc0202row0_col19{\n",
       "            background-color:  #f9dd25;\n",
       "            color:  #000000;\n",
       "        }#T_71417c81_5dbc_11ec_8f98_cbee68bc0202row0_col20{\n",
       "            background-color:  #feba2c;\n",
       "            color:  #000000;\n",
       "        }#T_71417c81_5dbc_11ec_8f98_cbee68bc0202row1_col2,#T_71417c81_5dbc_11ec_8f98_cbee68bc0202row16_col20{\n",
       "            background-color:  #ef7e50;\n",
       "            color:  #000000;\n",
       "        }#T_71417c81_5dbc_11ec_8f98_cbee68bc0202row1_col3,#T_71417c81_5dbc_11ec_8f98_cbee68bc0202row3_col10,#T_71417c81_5dbc_11ec_8f98_cbee68bc0202row9_col10,#T_71417c81_5dbc_11ec_8f98_cbee68bc0202row14_col10,#T_71417c81_5dbc_11ec_8f98_cbee68bc0202row15_col10{\n",
       "            background-color:  #ed7953;\n",
       "            color:  #000000;\n",
       "        }#T_71417c81_5dbc_11ec_8f98_cbee68bc0202row1_col8,#T_71417c81_5dbc_11ec_8f98_cbee68bc0202row3_col8{\n",
       "            background-color:  #280592;\n",
       "            color:  #f1f1f1;\n",
       "        }#T_71417c81_5dbc_11ec_8f98_cbee68bc0202row1_col9{\n",
       "            background-color:  #fdb22f;\n",
       "            color:  #000000;\n",
       "        }#T_71417c81_5dbc_11ec_8f98_cbee68bc0202row1_col11,#T_71417c81_5dbc_11ec_8f98_cbee68bc0202row1_col13,#T_71417c81_5dbc_11ec_8f98_cbee68bc0202row7_col11,#T_71417c81_5dbc_11ec_8f98_cbee68bc0202row7_col13,#T_71417c81_5dbc_11ec_8f98_cbee68bc0202row9_col11,#T_71417c81_5dbc_11ec_8f98_cbee68bc0202row9_col13{\n",
       "            background-color:  #7e03a8;\n",
       "            color:  #f1f1f1;\n",
       "        }#T_71417c81_5dbc_11ec_8f98_cbee68bc0202row1_col15,#T_71417c81_5dbc_11ec_8f98_cbee68bc0202row14_col2{\n",
       "            background-color:  #3f049c;\n",
       "            color:  #f1f1f1;\n",
       "        }#T_71417c81_5dbc_11ec_8f98_cbee68bc0202row1_col16,#T_71417c81_5dbc_11ec_8f98_cbee68bc0202row13_col3{\n",
       "            background-color:  #4b03a1;\n",
       "            color:  #f1f1f1;\n",
       "        }#T_71417c81_5dbc_11ec_8f98_cbee68bc0202row1_col17{\n",
       "            background-color:  #ad2793;\n",
       "            color:  #f1f1f1;\n",
       "        }#T_71417c81_5dbc_11ec_8f98_cbee68bc0202row1_col18,#T_71417c81_5dbc_11ec_8f98_cbee68bc0202row10_col18,#T_71417c81_5dbc_11ec_8f98_cbee68bc0202row16_col18,#T_71417c81_5dbc_11ec_8f98_cbee68bc0202row17_col18{\n",
       "            background-color:  #9511a1;\n",
       "            color:  #f1f1f1;\n",
       "        }#T_71417c81_5dbc_11ec_8f98_cbee68bc0202row1_col19,#T_71417c81_5dbc_11ec_8f98_cbee68bc0202row6_col19,#T_71417c81_5dbc_11ec_8f98_cbee68bc0202row17_col19{\n",
       "            background-color:  #f3ee27;\n",
       "            color:  #000000;\n",
       "        }#T_71417c81_5dbc_11ec_8f98_cbee68bc0202row1_col20{\n",
       "            background-color:  #f8df25;\n",
       "            color:  #000000;\n",
       "        }#T_71417c81_5dbc_11ec_8f98_cbee68bc0202row2_col7,#T_71417c81_5dbc_11ec_8f98_cbee68bc0202row3_col7,#T_71417c81_5dbc_11ec_8f98_cbee68bc0202row5_col19,#T_71417c81_5dbc_11ec_8f98_cbee68bc0202row7_col19,#T_71417c81_5dbc_11ec_8f98_cbee68bc0202row8_col7{\n",
       "            background-color:  #f1f525;\n",
       "            color:  #000000;\n",
       "        }#T_71417c81_5dbc_11ec_8f98_cbee68bc0202row2_col11,#T_71417c81_5dbc_11ec_8f98_cbee68bc0202row2_col13,#T_71417c81_5dbc_11ec_8f98_cbee68bc0202row4_col20,#T_71417c81_5dbc_11ec_8f98_cbee68bc0202row5_col11,#T_71417c81_5dbc_11ec_8f98_cbee68bc0202row5_col13,#T_71417c81_5dbc_11ec_8f98_cbee68bc0202row8_col11,#T_71417c81_5dbc_11ec_8f98_cbee68bc0202row8_col13,#T_71417c81_5dbc_11ec_8f98_cbee68bc0202row19_col11,#T_71417c81_5dbc_11ec_8f98_cbee68bc0202row19_col13{\n",
       "            background-color:  #f89540;\n",
       "            color:  #000000;\n",
       "        }#T_71417c81_5dbc_11ec_8f98_cbee68bc0202row2_col15{\n",
       "            background-color:  #260591;\n",
       "            color:  #f1f1f1;\n",
       "        }#T_71417c81_5dbc_11ec_8f98_cbee68bc0202row2_col17,#T_71417c81_5dbc_11ec_8f98_cbee68bc0202row7_col10,#T_71417c81_5dbc_11ec_8f98_cbee68bc0202row8_col10,#T_71417c81_5dbc_11ec_8f98_cbee68bc0202row10_col17,#T_71417c81_5dbc_11ec_8f98_cbee68bc0202row11_col10,#T_71417c81_5dbc_11ec_8f98_cbee68bc0202row16_col17,#T_71417c81_5dbc_11ec_8f98_cbee68bc0202row17_col10,#T_71417c81_5dbc_11ec_8f98_cbee68bc0202row17_col17{\n",
       "            background-color:  #9c179e;\n",
       "            color:  #f1f1f1;\n",
       "        }#T_71417c81_5dbc_11ec_8f98_cbee68bc0202row2_col18,#T_71417c81_5dbc_11ec_8f98_cbee68bc0202row14_col18{\n",
       "            background-color:  #a72197;\n",
       "            color:  #f1f1f1;\n",
       "        }#T_71417c81_5dbc_11ec_8f98_cbee68bc0202row2_col19,#T_71417c81_5dbc_11ec_8f98_cbee68bc0202row19_col19{\n",
       "            background-color:  #fcce25;\n",
       "            color:  #000000;\n",
       "        }#T_71417c81_5dbc_11ec_8f98_cbee68bc0202row2_col20{\n",
       "            background-color:  #f2844b;\n",
       "            color:  #000000;\n",
       "        }#T_71417c81_5dbc_11ec_8f98_cbee68bc0202row3_col9{\n",
       "            background-color:  #fcd225;\n",
       "            color:  #000000;\n",
       "        }#T_71417c81_5dbc_11ec_8f98_cbee68bc0202row3_col11,#T_71417c81_5dbc_11ec_8f98_cbee68bc0202row3_col13,#T_71417c81_5dbc_11ec_8f98_cbee68bc0202row4_col13,#T_71417c81_5dbc_11ec_8f98_cbee68bc0202row6_col11,#T_71417c81_5dbc_11ec_8f98_cbee68bc0202row6_col13{\n",
       "            background-color:  #e66c5c;\n",
       "            color:  #000000;\n",
       "        }#T_71417c81_5dbc_11ec_8f98_cbee68bc0202row3_col15{\n",
       "            background-color:  #7a02a8;\n",
       "            color:  #f1f1f1;\n",
       "        }#T_71417c81_5dbc_11ec_8f98_cbee68bc0202row3_col16,#T_71417c81_5dbc_11ec_8f98_cbee68bc0202row7_col8{\n",
       "            background-color:  #ab2494;\n",
       "            color:  #f1f1f1;\n",
       "        }#T_71417c81_5dbc_11ec_8f98_cbee68bc0202row3_col17,#T_71417c81_5dbc_11ec_8f98_cbee68bc0202row6_col2,#T_71417c81_5dbc_11ec_8f98_cbee68bc0202row18_col17,#T_71417c81_5dbc_11ec_8f98_cbee68bc0202row19_col17{\n",
       "            background-color:  #7201a8;\n",
       "            color:  #f1f1f1;\n",
       "        }#T_71417c81_5dbc_11ec_8f98_cbee68bc0202row3_col18,#T_71417c81_5dbc_11ec_8f98_cbee68bc0202row19_col18{\n",
       "            background-color:  #8305a7;\n",
       "            color:  #f1f1f1;\n",
       "        }#T_71417c81_5dbc_11ec_8f98_cbee68bc0202row3_col19{\n",
       "            background-color:  #fdcb26;\n",
       "            color:  #000000;\n",
       "        }#T_71417c81_5dbc_11ec_8f98_cbee68bc0202row3_col20,#T_71417c81_5dbc_11ec_8f98_cbee68bc0202row9_col20,#T_71417c81_5dbc_11ec_8f98_cbee68bc0202row12_col20,#T_71417c81_5dbc_11ec_8f98_cbee68bc0202row15_col20{\n",
       "            background-color:  #fca636;\n",
       "            color:  #000000;\n",
       "        }#T_71417c81_5dbc_11ec_8f98_cbee68bc0202row4_col2{\n",
       "            background-color:  #9613a1;\n",
       "            color:  #f1f1f1;\n",
       "        }#T_71417c81_5dbc_11ec_8f98_cbee68bc0202row4_col3,#T_71417c81_5dbc_11ec_8f98_cbee68bc0202row6_col3{\n",
       "            background-color:  #6300a7;\n",
       "            color:  #f1f1f1;\n",
       "        }#T_71417c81_5dbc_11ec_8f98_cbee68bc0202row4_col8,#T_71417c81_5dbc_11ec_8f98_cbee68bc0202row5_col8,#T_71417c81_5dbc_11ec_8f98_cbee68bc0202row5_col16{\n",
       "            background-color:  #6100a7;\n",
       "            color:  #f1f1f1;\n",
       "        }#T_71417c81_5dbc_11ec_8f98_cbee68bc0202row4_col9{\n",
       "            background-color:  #a51f99;\n",
       "            color:  #f1f1f1;\n",
       "        }#T_71417c81_5dbc_11ec_8f98_cbee68bc0202row4_col15,#T_71417c81_5dbc_11ec_8f98_cbee68bc0202row13_col17,#T_71417c81_5dbc_11ec_8f98_cbee68bc0202row14_col17{\n",
       "            background-color:  #e3685f;\n",
       "            color:  #000000;\n",
       "        }#T_71417c81_5dbc_11ec_8f98_cbee68bc0202row4_col17,#T_71417c81_5dbc_11ec_8f98_cbee68bc0202row12_col19,#T_71417c81_5dbc_11ec_8f98_cbee68bc0202row16_col19{\n",
       "            background-color:  #f8e125;\n",
       "            color:  #000000;\n",
       "        }#T_71417c81_5dbc_11ec_8f98_cbee68bc0202row4_col18{\n",
       "            background-color:  #fca338;\n",
       "            color:  #000000;\n",
       "        }#T_71417c81_5dbc_11ec_8f98_cbee68bc0202row4_col19,#T_71417c81_5dbc_11ec_8f98_cbee68bc0202row7_col9,#T_71417c81_5dbc_11ec_8f98_cbee68bc0202row8_col9{\n",
       "            background-color:  #f7e425;\n",
       "            color:  #000000;\n",
       "        }#T_71417c81_5dbc_11ec_8f98_cbee68bc0202row5_col2,#T_71417c81_5dbc_11ec_8f98_cbee68bc0202row11_col3{\n",
       "            background-color:  #8606a6;\n",
       "            color:  #f1f1f1;\n",
       "        }#T_71417c81_5dbc_11ec_8f98_cbee68bc0202row5_col9,#T_71417c81_5dbc_11ec_8f98_cbee68bc0202row12_col8{\n",
       "            background-color:  #fca934;\n",
       "            color:  #000000;\n",
       "        }#T_71417c81_5dbc_11ec_8f98_cbee68bc0202row5_col15,#T_71417c81_5dbc_11ec_8f98_cbee68bc0202row7_col18,#T_71417c81_5dbc_11ec_8f98_cbee68bc0202row9_col2,#T_71417c81_5dbc_11ec_8f98_cbee68bc0202row9_col18,#T_71417c81_5dbc_11ec_8f98_cbee68bc0202row10_col2,#T_71417c81_5dbc_11ec_8f98_cbee68bc0202row12_col18{\n",
       "            background-color:  #5901a5;\n",
       "            color:  #f1f1f1;\n",
       "        }#T_71417c81_5dbc_11ec_8f98_cbee68bc0202row5_col20,#T_71417c81_5dbc_11ec_8f98_cbee68bc0202row11_col20,#T_71417c81_5dbc_11ec_8f98_cbee68bc0202row17_col15{\n",
       "            background-color:  #fba139;\n",
       "            color:  #000000;\n",
       "        }#T_71417c81_5dbc_11ec_8f98_cbee68bc0202row6_col5{\n",
       "            background-color:  #8f0da4;\n",
       "            color:  #f1f1f1;\n",
       "        }#T_71417c81_5dbc_11ec_8f98_cbee68bc0202row6_col7,#T_71417c81_5dbc_11ec_8f98_cbee68bc0202row11_col7{\n",
       "            background-color:  #f3f027;\n",
       "            color:  #000000;\n",
       "        }#T_71417c81_5dbc_11ec_8f98_cbee68bc0202row6_col9{\n",
       "            background-color:  #b83289;\n",
       "            color:  #f1f1f1;\n",
       "        }#T_71417c81_5dbc_11ec_8f98_cbee68bc0202row6_col15,#T_71417c81_5dbc_11ec_8f98_cbee68bc0202row7_col7,#T_71417c81_5dbc_11ec_8f98_cbee68bc0202row9_col7,#T_71417c81_5dbc_11ec_8f98_cbee68bc0202row11_col19{\n",
       "            background-color:  #f7e225;\n",
       "            color:  #000000;\n",
       "        }#T_71417c81_5dbc_11ec_8f98_cbee68bc0202row7_col2,#T_71417c81_5dbc_11ec_8f98_cbee68bc0202row8_col2{\n",
       "            background-color:  #6001a6;\n",
       "            color:  #f1f1f1;\n",
       "        }#T_71417c81_5dbc_11ec_8f98_cbee68bc0202row7_col3,#T_71417c81_5dbc_11ec_8f98_cbee68bc0202row18_col3{\n",
       "            background-color:  #910ea3;\n",
       "            color:  #f1f1f1;\n",
       "        }#T_71417c81_5dbc_11ec_8f98_cbee68bc0202row7_col16{\n",
       "            background-color:  #ce4b75;\n",
       "            color:  #000000;\n",
       "        }#T_71417c81_5dbc_11ec_8f98_cbee68bc0202row7_col17,#T_71417c81_5dbc_11ec_8f98_cbee68bc0202row8_col17,#T_71417c81_5dbc_11ec_8f98_cbee68bc0202row9_col17,#T_71417c81_5dbc_11ec_8f98_cbee68bc0202row12_col2,#T_71417c81_5dbc_11ec_8f98_cbee68bc0202row13_col2,#T_71417c81_5dbc_11ec_8f98_cbee68bc0202row13_col8,#T_71417c81_5dbc_11ec_8f98_cbee68bc0202row15_col17{\n",
       "            background-color:  #46039f;\n",
       "            color:  #f1f1f1;\n",
       "        }#T_71417c81_5dbc_11ec_8f98_cbee68bc0202row8_col3,#T_71417c81_5dbc_11ec_8f98_cbee68bc0202row9_col3,#T_71417c81_5dbc_11ec_8f98_cbee68bc0202row13_col16{\n",
       "            background-color:  #6f00a8;\n",
       "            color:  #f1f1f1;\n",
       "        }#T_71417c81_5dbc_11ec_8f98_cbee68bc0202row8_col8{\n",
       "            background-color:  #de6164;\n",
       "            color:  #000000;\n",
       "        }#T_71417c81_5dbc_11ec_8f98_cbee68bc0202row8_col15,#T_71417c81_5dbc_11ec_8f98_cbee68bc0202row14_col3,#T_71417c81_5dbc_11ec_8f98_cbee68bc0202row15_col3{\n",
       "            background-color:  #c03a83;\n",
       "            color:  #f1f1f1;\n",
       "        }#T_71417c81_5dbc_11ec_8f98_cbee68bc0202row8_col18,#T_71417c81_5dbc_11ec_8f98_cbee68bc0202row15_col18{\n",
       "            background-color:  #43039e;\n",
       "            color:  #f1f1f1;\n",
       "        }#T_71417c81_5dbc_11ec_8f98_cbee68bc0202row8_col19,#T_71417c81_5dbc_11ec_8f98_cbee68bc0202row10_col20{\n",
       "            background-color:  #f9dc24;\n",
       "            color:  #000000;\n",
       "        }#T_71417c81_5dbc_11ec_8f98_cbee68bc0202row8_col20,#T_71417c81_5dbc_11ec_8f98_cbee68bc0202row16_col9,#T_71417c81_5dbc_11ec_8f98_cbee68bc0202row18_col9,#T_71417c81_5dbc_11ec_8f98_cbee68bc0202row18_col20{\n",
       "            background-color:  #fdc229;\n",
       "            color:  #000000;\n",
       "        }#T_71417c81_5dbc_11ec_8f98_cbee68bc0202row9_col8{\n",
       "            background-color:  #fdac33;\n",
       "            color:  #000000;\n",
       "        }#T_71417c81_5dbc_11ec_8f98_cbee68bc0202row9_col9{\n",
       "            background-color:  #fcd025;\n",
       "            color:  #000000;\n",
       "        }#T_71417c81_5dbc_11ec_8f98_cbee68bc0202row9_col16{\n",
       "            background-color:  #16078a;\n",
       "            color:  #f1f1f1;\n",
       "        }#T_71417c81_5dbc_11ec_8f98_cbee68bc0202row9_col19,#T_71417c81_5dbc_11ec_8f98_cbee68bc0202row11_col9{\n",
       "            background-color:  #fada24;\n",
       "            color:  #000000;\n",
       "        }#T_71417c81_5dbc_11ec_8f98_cbee68bc0202row10_col9{\n",
       "            background-color:  #fec029;\n",
       "            color:  #000000;\n",
       "        }#T_71417c81_5dbc_11ec_8f98_cbee68bc0202row10_col11,#T_71417c81_5dbc_11ec_8f98_cbee68bc0202row10_col13,#T_71417c81_5dbc_11ec_8f98_cbee68bc0202row11_col2{\n",
       "            background-color:  #4c02a1;\n",
       "            color:  #f1f1f1;\n",
       "        }#T_71417c81_5dbc_11ec_8f98_cbee68bc0202row10_col15,#T_71417c81_5dbc_11ec_8f98_cbee68bc0202row13_col15{\n",
       "            background-color:  #41049d;\n",
       "            color:  #f1f1f1;\n",
       "        }#T_71417c81_5dbc_11ec_8f98_cbee68bc0202row10_col19,#T_71417c81_5dbc_11ec_8f98_cbee68bc0202row15_col19,#T_71417c81_5dbc_11ec_8f98_cbee68bc0202row19_col7{\n",
       "            background-color:  #f4ed27;\n",
       "            color:  #000000;\n",
       "        }#T_71417c81_5dbc_11ec_8f98_cbee68bc0202row11_col8{\n",
       "            background-color:  #b42e8d;\n",
       "            color:  #f1f1f1;\n",
       "        }#T_71417c81_5dbc_11ec_8f98_cbee68bc0202row11_col15{\n",
       "            background-color:  #e76e5b;\n",
       "            color:  #000000;\n",
       "        }#T_71417c81_5dbc_11ec_8f98_cbee68bc0202row11_col17{\n",
       "            background-color:  #bd3786;\n",
       "            color:  #f1f1f1;\n",
       "        }#T_71417c81_5dbc_11ec_8f98_cbee68bc0202row11_col18,#T_71417c81_5dbc_11ec_8f98_cbee68bc0202row19_col15{\n",
       "            background-color:  #b6308b;\n",
       "            color:  #f1f1f1;\n",
       "        }#T_71417c81_5dbc_11ec_8f98_cbee68bc0202row12_col3,#T_71417c81_5dbc_11ec_8f98_cbee68bc0202row12_col7,#T_71417c81_5dbc_11ec_8f98_cbee68bc0202row12_col11,#T_71417c81_5dbc_11ec_8f98_cbee68bc0202row12_col13,#T_71417c81_5dbc_11ec_8f98_cbee68bc0202row13_col11,#T_71417c81_5dbc_11ec_8f98_cbee68bc0202row13_col13,#T_71417c81_5dbc_11ec_8f98_cbee68bc0202row14_col11,#T_71417c81_5dbc_11ec_8f98_cbee68bc0202row14_col13{\n",
       "            background-color:  #fdc527;\n",
       "            color:  #000000;\n",
       "        }#T_71417c81_5dbc_11ec_8f98_cbee68bc0202row12_col9,#T_71417c81_5dbc_11ec_8f98_cbee68bc0202row17_col20{\n",
       "            background-color:  #fdca26;\n",
       "            color:  #000000;\n",
       "        }#T_71417c81_5dbc_11ec_8f98_cbee68bc0202row12_col15{\n",
       "            background-color:  #e97257;\n",
       "            color:  #000000;\n",
       "        }#T_71417c81_5dbc_11ec_8f98_cbee68bc0202row12_col16{\n",
       "            background-color:  #5302a3;\n",
       "            color:  #f1f1f1;\n",
       "        }#T_71417c81_5dbc_11ec_8f98_cbee68bc0202row12_col17{\n",
       "            background-color:  #5c01a6;\n",
       "            color:  #f1f1f1;\n",
       "        }#T_71417c81_5dbc_11ec_8f98_cbee68bc0202row13_col7{\n",
       "            background-color:  #f07f4f;\n",
       "            color:  #000000;\n",
       "        }#T_71417c81_5dbc_11ec_8f98_cbee68bc0202row13_col9{\n",
       "            background-color:  #feb72d;\n",
       "            color:  #000000;\n",
       "        }#T_71417c81_5dbc_11ec_8f98_cbee68bc0202row13_col18{\n",
       "            background-color:  #dd5e66;\n",
       "            color:  #000000;\n",
       "        }#T_71417c81_5dbc_11ec_8f98_cbee68bc0202row13_col19,#T_71417c81_5dbc_11ec_8f98_cbee68bc0202row15_col9,#T_71417c81_5dbc_11ec_8f98_cbee68bc0202row16_col7,#T_71417c81_5dbc_11ec_8f98_cbee68bc0202row17_col7{\n",
       "            background-color:  #f6e826;\n",
       "            color:  #000000;\n",
       "        }#T_71417c81_5dbc_11ec_8f98_cbee68bc0202row13_col20{\n",
       "            background-color:  #fb9f3a;\n",
       "            color:  #000000;\n",
       "        }#T_71417c81_5dbc_11ec_8f98_cbee68bc0202row14_col8,#T_71417c81_5dbc_11ec_8f98_cbee68bc0202row17_col8{\n",
       "            background-color:  #240691;\n",
       "            color:  #f1f1f1;\n",
       "        }#T_71417c81_5dbc_11ec_8f98_cbee68bc0202row14_col9{\n",
       "            background-color:  #b22b8f;\n",
       "            color:  #f1f1f1;\n",
       "        }#T_71417c81_5dbc_11ec_8f98_cbee68bc0202row15_col2{\n",
       "            background-color:  #38049a;\n",
       "            color:  #f1f1f1;\n",
       "        }#T_71417c81_5dbc_11ec_8f98_cbee68bc0202row15_col7{\n",
       "            background-color:  #d9586a;\n",
       "            color:  #000000;\n",
       "        }#T_71417c81_5dbc_11ec_8f98_cbee68bc0202row15_col15{\n",
       "            background-color:  #fa9b3d;\n",
       "            color:  #000000;\n",
       "        }#T_71417c81_5dbc_11ec_8f98_cbee68bc0202row15_col16{\n",
       "            background-color:  #370499;\n",
       "            color:  #f1f1f1;\n",
       "        }#T_71417c81_5dbc_11ec_8f98_cbee68bc0202row16_col3{\n",
       "            background-color:  #b7318a;\n",
       "            color:  #f1f1f1;\n",
       "        }#T_71417c81_5dbc_11ec_8f98_cbee68bc0202row16_col15{\n",
       "            background-color:  #1b068d;\n",
       "            color:  #f1f1f1;\n",
       "        }#T_71417c81_5dbc_11ec_8f98_cbee68bc0202row17_col2{\n",
       "            background-color:  #220690;\n",
       "            color:  #f1f1f1;\n",
       "        }#T_71417c81_5dbc_11ec_8f98_cbee68bc0202row17_col3{\n",
       "            background-color:  #7b02a8;\n",
       "            color:  #f1f1f1;\n",
       "        }#T_71417c81_5dbc_11ec_8f98_cbee68bc0202row17_col9{\n",
       "            background-color:  #fdc627;\n",
       "            color:  #000000;\n",
       "        }#T_71417c81_5dbc_11ec_8f98_cbee68bc0202row17_col16{\n",
       "            background-color:  #a62098;\n",
       "            color:  #f1f1f1;\n",
       "        }#T_71417c81_5dbc_11ec_8f98_cbee68bc0202row18_col2{\n",
       "            background-color:  #19068c;\n",
       "            color:  #f1f1f1;\n",
       "        }#T_71417c81_5dbc_11ec_8f98_cbee68bc0202row18_col8{\n",
       "            background-color:  #350498;\n",
       "            color:  #f1f1f1;\n",
       "        }#T_71417c81_5dbc_11ec_8f98_cbee68bc0202row18_col15{\n",
       "            background-color:  #4e02a2;\n",
       "            color:  #f1f1f1;\n",
       "        }#T_71417c81_5dbc_11ec_8f98_cbee68bc0202row18_col16,#T_71417c81_5dbc_11ec_8f98_cbee68bc0202row19_col8,#T_71417c81_5dbc_11ec_8f98_cbee68bc0202row19_col16{\n",
       "            background-color:  #130789;\n",
       "            color:  #f1f1f1;\n",
       "        }#T_71417c81_5dbc_11ec_8f98_cbee68bc0202row18_col18{\n",
       "            background-color:  #6e00a8;\n",
       "            color:  #f1f1f1;\n",
       "        }#T_71417c81_5dbc_11ec_8f98_cbee68bc0202row19_col3{\n",
       "            background-color:  #5601a4;\n",
       "            color:  #f1f1f1;\n",
       "        }#T_71417c81_5dbc_11ec_8f98_cbee68bc0202row19_col20{\n",
       "            background-color:  #f48948;\n",
       "            color:  #000000;\n",
       "        }</style><table id=\"T_71417c81_5dbc_11ec_8f98_cbee68bc0202\" ><thead>    <tr>        <th class=\"blank level0\" ></th>        <th class=\"col_heading level0 col0\" >Country</th>        <th class=\"col_heading level0 col1\" >Year</th>        <th class=\"col_heading level0 col2\" >Life_expectancy</th>        <th class=\"col_heading level0 col3\" >AdultMortality</th>        <th class=\"col_heading level0 col4\" >infant_deaths</th>        <th class=\"col_heading level0 col5\" >Alcohol</th>        <th class=\"col_heading level0 col6\" >percentage_expenditure</th>        <th class=\"col_heading level0 col7\" >Hepatitis_B</th>        <th class=\"col_heading level0 col8\" >Measles </th>        <th class=\"col_heading level0 col9\" > BMI </th>        <th class=\"col_heading level0 col10\" >under-five_deaths </th>        <th class=\"col_heading level0 col11\" >Polio</th>        <th class=\"col_heading level0 col12\" >Total_expenditure</th>        <th class=\"col_heading level0 col13\" >Diphtheria</th>        <th class=\"col_heading level0 col14\" > HIV/AIDS</th>        <th class=\"col_heading level0 col15\" >GDP</th>        <th class=\"col_heading level0 col16\" >Population</th>        <th class=\"col_heading level0 col17\" > thinness_1-19_years</th>        <th class=\"col_heading level0 col18\" > thinness_5-9_years</th>        <th class=\"col_heading level0 col19\" >Income_composition_of_resources</th>        <th class=\"col_heading level0 col20\" >Schooling</th>    </tr></thead><tbody>\n",
       "                <tr>\n",
       "                        <th id=\"T_71417c81_5dbc_11ec_8f98_cbee68bc0202level0_row0\" class=\"row_heading level0 row0\" >0</th>\n",
       "                        <td id=\"T_71417c81_5dbc_11ec_8f98_cbee68bc0202row0_col0\" class=\"data row0 col0\" >Slovenia</td>\n",
       "                        <td id=\"T_71417c81_5dbc_11ec_8f98_cbee68bc0202row0_col1\" class=\"data row0 col1\" >2015</td>\n",
       "                        <td id=\"T_71417c81_5dbc_11ec_8f98_cbee68bc0202row0_col2\" class=\"data row0 col2\" >88.000000</td>\n",
       "                        <td id=\"T_71417c81_5dbc_11ec_8f98_cbee68bc0202row0_col3\" class=\"data row0 col3\" >74.000000</td>\n",
       "                        <td id=\"T_71417c81_5dbc_11ec_8f98_cbee68bc0202row0_col4\" class=\"data row0 col4\" >0</td>\n",
       "                        <td id=\"T_71417c81_5dbc_11ec_8f98_cbee68bc0202row0_col5\" class=\"data row0 col5\" >0.000000</td>\n",
       "                        <td id=\"T_71417c81_5dbc_11ec_8f98_cbee68bc0202row0_col6\" class=\"data row0 col6\" >0.000000</td>\n",
       "                        <td id=\"T_71417c81_5dbc_11ec_8f98_cbee68bc0202row0_col7\" class=\"data row0 col7\" >0.000000</td>\n",
       "                        <td id=\"T_71417c81_5dbc_11ec_8f98_cbee68bc0202row0_col8\" class=\"data row0 col8\" >18</td>\n",
       "                        <td id=\"T_71417c81_5dbc_11ec_8f98_cbee68bc0202row0_col9\" class=\"data row0 col9\" >6.100000</td>\n",
       "                        <td id=\"T_71417c81_5dbc_11ec_8f98_cbee68bc0202row0_col10\" class=\"data row0 col10\" >0</td>\n",
       "                        <td id=\"T_71417c81_5dbc_11ec_8f98_cbee68bc0202row0_col11\" class=\"data row0 col11\" >95</td>\n",
       "                        <td id=\"T_71417c81_5dbc_11ec_8f98_cbee68bc0202row0_col12\" class=\"data row0 col12\" >0.000000</td>\n",
       "                        <td id=\"T_71417c81_5dbc_11ec_8f98_cbee68bc0202row0_col13\" class=\"data row0 col13\" >95</td>\n",
       "                        <td id=\"T_71417c81_5dbc_11ec_8f98_cbee68bc0202row0_col14\" class=\"data row0 col14\" >0.100000</td>\n",
       "                        <td id=\"T_71417c81_5dbc_11ec_8f98_cbee68bc0202row0_col15\" class=\"data row0 col15\" >2729.863830</td>\n",
       "                        <td id=\"T_71417c81_5dbc_11ec_8f98_cbee68bc0202row0_col16\" class=\"data row0 col16\" >263531.000000</td>\n",
       "                        <td id=\"T_71417c81_5dbc_11ec_8f98_cbee68bc0202row0_col17\" class=\"data row0 col17\" >1.400000</td>\n",
       "                        <td id=\"T_71417c81_5dbc_11ec_8f98_cbee68bc0202row0_col18\" class=\"data row0 col18\" >1.300000</td>\n",
       "                        <td id=\"T_71417c81_5dbc_11ec_8f98_cbee68bc0202row0_col19\" class=\"data row0 col19\" >0.888000</td>\n",
       "                        <td id=\"T_71417c81_5dbc_11ec_8f98_cbee68bc0202row0_col20\" class=\"data row0 col20\" >17.300000</td>\n",
       "            </tr>\n",
       "            <tr>\n",
       "                        <th id=\"T_71417c81_5dbc_11ec_8f98_cbee68bc0202level0_row1\" class=\"row_heading level0 row1\" >1</th>\n",
       "                        <td id=\"T_71417c81_5dbc_11ec_8f98_cbee68bc0202row1_col0\" class=\"data row1 col0\" >Denmark</td>\n",
       "                        <td id=\"T_71417c81_5dbc_11ec_8f98_cbee68bc0202row1_col1\" class=\"data row1 col1\" >2015</td>\n",
       "                        <td id=\"T_71417c81_5dbc_11ec_8f98_cbee68bc0202row1_col2\" class=\"data row1 col2\" >86.000000</td>\n",
       "                        <td id=\"T_71417c81_5dbc_11ec_8f98_cbee68bc0202row1_col3\" class=\"data row1 col3\" >71.000000</td>\n",
       "                        <td id=\"T_71417c81_5dbc_11ec_8f98_cbee68bc0202row1_col4\" class=\"data row1 col4\" >0</td>\n",
       "                        <td id=\"T_71417c81_5dbc_11ec_8f98_cbee68bc0202row1_col5\" class=\"data row1 col5\" >0.000000</td>\n",
       "                        <td id=\"T_71417c81_5dbc_11ec_8f98_cbee68bc0202row1_col6\" class=\"data row1 col6\" >0.000000</td>\n",
       "                        <td id=\"T_71417c81_5dbc_11ec_8f98_cbee68bc0202row1_col7\" class=\"data row1 col7\" >0.000000</td>\n",
       "                        <td id=\"T_71417c81_5dbc_11ec_8f98_cbee68bc0202row1_col8\" class=\"data row1 col8\" >9</td>\n",
       "                        <td id=\"T_71417c81_5dbc_11ec_8f98_cbee68bc0202row1_col9\" class=\"data row1 col9\" >58.800000</td>\n",
       "                        <td id=\"T_71417c81_5dbc_11ec_8f98_cbee68bc0202row1_col10\" class=\"data row1 col10\" >0</td>\n",
       "                        <td id=\"T_71417c81_5dbc_11ec_8f98_cbee68bc0202row1_col11\" class=\"data row1 col11\" >93</td>\n",
       "                        <td id=\"T_71417c81_5dbc_11ec_8f98_cbee68bc0202row1_col12\" class=\"data row1 col12\" >0.000000</td>\n",
       "                        <td id=\"T_71417c81_5dbc_11ec_8f98_cbee68bc0202row1_col13\" class=\"data row1 col13\" >93</td>\n",
       "                        <td id=\"T_71417c81_5dbc_11ec_8f98_cbee68bc0202row1_col14\" class=\"data row1 col14\" >0.100000</td>\n",
       "                        <td id=\"T_71417c81_5dbc_11ec_8f98_cbee68bc0202row1_col15\" class=\"data row1 col15\" >5314.644160</td>\n",
       "                        <td id=\"T_71417c81_5dbc_11ec_8f98_cbee68bc0202row1_col16\" class=\"data row1 col16\" >5683483.000000</td>\n",
       "                        <td id=\"T_71417c81_5dbc_11ec_8f98_cbee68bc0202row1_col17\" class=\"data row1 col17\" >1.100000</td>\n",
       "                        <td id=\"T_71417c81_5dbc_11ec_8f98_cbee68bc0202row1_col18\" class=\"data row1 col18\" >0.900000</td>\n",
       "                        <td id=\"T_71417c81_5dbc_11ec_8f98_cbee68bc0202row1_col19\" class=\"data row1 col19\" >0.923000</td>\n",
       "                        <td id=\"T_71417c81_5dbc_11ec_8f98_cbee68bc0202row1_col20\" class=\"data row1 col20\" >19.200000</td>\n",
       "            </tr>\n",
       "            <tr>\n",
       "                        <th id=\"T_71417c81_5dbc_11ec_8f98_cbee68bc0202level0_row2\" class=\"row_heading level0 row2\" >2</th>\n",
       "                        <td id=\"T_71417c81_5dbc_11ec_8f98_cbee68bc0202row2_col0\" class=\"data row2 col0\" >Cyprus</td>\n",
       "                        <td id=\"T_71417c81_5dbc_11ec_8f98_cbee68bc0202row2_col1\" class=\"data row2 col1\" >2015</td>\n",
       "                        <td id=\"T_71417c81_5dbc_11ec_8f98_cbee68bc0202row2_col2\" class=\"data row2 col2\" >85.000000</td>\n",
       "                        <td id=\"T_71417c81_5dbc_11ec_8f98_cbee68bc0202row2_col3\" class=\"data row2 col3\" >52.000000</td>\n",
       "                        <td id=\"T_71417c81_5dbc_11ec_8f98_cbee68bc0202row2_col4\" class=\"data row2 col4\" >0</td>\n",
       "                        <td id=\"T_71417c81_5dbc_11ec_8f98_cbee68bc0202row2_col5\" class=\"data row2 col5\" >0.000000</td>\n",
       "                        <td id=\"T_71417c81_5dbc_11ec_8f98_cbee68bc0202row2_col6\" class=\"data row2 col6\" >0.000000</td>\n",
       "                        <td id=\"T_71417c81_5dbc_11ec_8f98_cbee68bc0202row2_col7\" class=\"data row2 col7\" >97.000000</td>\n",
       "                        <td id=\"T_71417c81_5dbc_11ec_8f98_cbee68bc0202row2_col8\" class=\"data row2 col8\" >0</td>\n",
       "                        <td id=\"T_71417c81_5dbc_11ec_8f98_cbee68bc0202row2_col9\" class=\"data row2 col9\" >6.300000</td>\n",
       "                        <td id=\"T_71417c81_5dbc_11ec_8f98_cbee68bc0202row2_col10\" class=\"data row2 col10\" >0</td>\n",
       "                        <td id=\"T_71417c81_5dbc_11ec_8f98_cbee68bc0202row2_col11\" class=\"data row2 col11\" >97</td>\n",
       "                        <td id=\"T_71417c81_5dbc_11ec_8f98_cbee68bc0202row2_col12\" class=\"data row2 col12\" >0.000000</td>\n",
       "                        <td id=\"T_71417c81_5dbc_11ec_8f98_cbee68bc0202row2_col13\" class=\"data row2 col13\" >97</td>\n",
       "                        <td id=\"T_71417c81_5dbc_11ec_8f98_cbee68bc0202row2_col14\" class=\"data row2 col14\" >0.100000</td>\n",
       "                        <td id=\"T_71417c81_5dbc_11ec_8f98_cbee68bc0202row2_col15\" class=\"data row2 col15\" >2375.112700</td>\n",
       "                        <td id=\"T_71417c81_5dbc_11ec_8f98_cbee68bc0202row2_col16\" class=\"data row2 col16\" >116985.000000</td>\n",
       "                        <td id=\"T_71417c81_5dbc_11ec_8f98_cbee68bc0202row2_col17\" class=\"data row2 col17\" >1.000000</td>\n",
       "                        <td id=\"T_71417c81_5dbc_11ec_8f98_cbee68bc0202row2_col18\" class=\"data row2 col18\" >1.000000</td>\n",
       "                        <td id=\"T_71417c81_5dbc_11ec_8f98_cbee68bc0202row2_col19\" class=\"data row2 col19\" >0.854000</td>\n",
       "                        <td id=\"T_71417c81_5dbc_11ec_8f98_cbee68bc0202row2_col20\" class=\"data row2 col20\" >14.300000</td>\n",
       "            </tr>\n",
       "            <tr>\n",
       "                        <th id=\"T_71417c81_5dbc_11ec_8f98_cbee68bc0202level0_row3\" class=\"row_heading level0 row3\" >3</th>\n",
       "                        <td id=\"T_71417c81_5dbc_11ec_8f98_cbee68bc0202row3_col0\" class=\"data row3 col0\" >Chile</td>\n",
       "                        <td id=\"T_71417c81_5dbc_11ec_8f98_cbee68bc0202row3_col1\" class=\"data row3 col1\" >2015</td>\n",
       "                        <td id=\"T_71417c81_5dbc_11ec_8f98_cbee68bc0202row3_col2\" class=\"data row3 col2\" >85.000000</td>\n",
       "                        <td id=\"T_71417c81_5dbc_11ec_8f98_cbee68bc0202row3_col3\" class=\"data row3 col3\" >82.000000</td>\n",
       "                        <td id=\"T_71417c81_5dbc_11ec_8f98_cbee68bc0202row3_col4\" class=\"data row3 col4\" >2</td>\n",
       "                        <td id=\"T_71417c81_5dbc_11ec_8f98_cbee68bc0202row3_col5\" class=\"data row3 col5\" >0.000000</td>\n",
       "                        <td id=\"T_71417c81_5dbc_11ec_8f98_cbee68bc0202row3_col6\" class=\"data row3 col6\" >0.000000</td>\n",
       "                        <td id=\"T_71417c81_5dbc_11ec_8f98_cbee68bc0202row3_col7\" class=\"data row3 col7\" >97.000000</td>\n",
       "                        <td id=\"T_71417c81_5dbc_11ec_8f98_cbee68bc0202row3_col8\" class=\"data row3 col8\" >9</td>\n",
       "                        <td id=\"T_71417c81_5dbc_11ec_8f98_cbee68bc0202row3_col9\" class=\"data row3 col9\" >63.800000</td>\n",
       "                        <td id=\"T_71417c81_5dbc_11ec_8f98_cbee68bc0202row3_col10\" class=\"data row3 col10\" >2</td>\n",
       "                        <td id=\"T_71417c81_5dbc_11ec_8f98_cbee68bc0202row3_col11\" class=\"data row3 col11\" >96</td>\n",
       "                        <td id=\"T_71417c81_5dbc_11ec_8f98_cbee68bc0202row3_col12\" class=\"data row3 col12\" >0.000000</td>\n",
       "                        <td id=\"T_71417c81_5dbc_11ec_8f98_cbee68bc0202row3_col13\" class=\"data row3 col13\" >96</td>\n",
       "                        <td id=\"T_71417c81_5dbc_11ec_8f98_cbee68bc0202row3_col14\" class=\"data row3 col14\" >0.100000</td>\n",
       "                        <td id=\"T_71417c81_5dbc_11ec_8f98_cbee68bc0202row3_col15\" class=\"data row3 col15\" >13653.226400</td>\n",
       "                        <td id=\"T_71417c81_5dbc_11ec_8f98_cbee68bc0202row3_col16\" class=\"data row3 col16\" >17762681.000000</td>\n",
       "                        <td id=\"T_71417c81_5dbc_11ec_8f98_cbee68bc0202row3_col17\" class=\"data row3 col17\" >0.800000</td>\n",
       "                        <td id=\"T_71417c81_5dbc_11ec_8f98_cbee68bc0202row3_col18\" class=\"data row3 col18\" >0.800000</td>\n",
       "                        <td id=\"T_71417c81_5dbc_11ec_8f98_cbee68bc0202row3_col19\" class=\"data row3 col19\" >0.845000</td>\n",
       "                        <td id=\"T_71417c81_5dbc_11ec_8f98_cbee68bc0202row3_col20\" class=\"data row3 col20\" >16.300000</td>\n",
       "            </tr>\n",
       "            <tr>\n",
       "                        <th id=\"T_71417c81_5dbc_11ec_8f98_cbee68bc0202level0_row4\" class=\"row_heading level0 row4\" >4</th>\n",
       "                        <td id=\"T_71417c81_5dbc_11ec_8f98_cbee68bc0202row4_col0\" class=\"data row4 col0\" >Japan</td>\n",
       "                        <td id=\"T_71417c81_5dbc_11ec_8f98_cbee68bc0202row4_col1\" class=\"data row4 col1\" >2015</td>\n",
       "                        <td id=\"T_71417c81_5dbc_11ec_8f98_cbee68bc0202row4_col2\" class=\"data row4 col2\" >83.700000</td>\n",
       "                        <td id=\"T_71417c81_5dbc_11ec_8f98_cbee68bc0202row4_col3\" class=\"data row4 col3\" >55.000000</td>\n",
       "                        <td id=\"T_71417c81_5dbc_11ec_8f98_cbee68bc0202row4_col4\" class=\"data row4 col4\" >2</td>\n",
       "                        <td id=\"T_71417c81_5dbc_11ec_8f98_cbee68bc0202row4_col5\" class=\"data row4 col5\" >0.000000</td>\n",
       "                        <td id=\"T_71417c81_5dbc_11ec_8f98_cbee68bc0202row4_col6\" class=\"data row4 col6\" >0.000000</td>\n",
       "                        <td id=\"T_71417c81_5dbc_11ec_8f98_cbee68bc0202row4_col7\" class=\"data row4 col7\" >0.000000</td>\n",
       "                        <td id=\"T_71417c81_5dbc_11ec_8f98_cbee68bc0202row4_col8\" class=\"data row4 col8\" >35</td>\n",
       "                        <td id=\"T_71417c81_5dbc_11ec_8f98_cbee68bc0202row4_col9\" class=\"data row4 col9\" >29.000000</td>\n",
       "                        <td id=\"T_71417c81_5dbc_11ec_8f98_cbee68bc0202row4_col10\" class=\"data row4 col10\" >3</td>\n",
       "                        <td id=\"T_71417c81_5dbc_11ec_8f98_cbee68bc0202row4_col11\" class=\"data row4 col11\" >99</td>\n",
       "                        <td id=\"T_71417c81_5dbc_11ec_8f98_cbee68bc0202row4_col12\" class=\"data row4 col12\" >0.000000</td>\n",
       "                        <td id=\"T_71417c81_5dbc_11ec_8f98_cbee68bc0202row4_col13\" class=\"data row4 col13\" >96</td>\n",
       "                        <td id=\"T_71417c81_5dbc_11ec_8f98_cbee68bc0202row4_col14\" class=\"data row4 col14\" >0.100000</td>\n",
       "                        <td id=\"T_71417c81_5dbc_11ec_8f98_cbee68bc0202row4_col15\" class=\"data row4 col15\" >34474.137360</td>\n",
       "                        <td id=\"T_71417c81_5dbc_11ec_8f98_cbee68bc0202row4_col16\" class=\"data row4 col16\" >127141.000000</td>\n",
       "                        <td id=\"T_71417c81_5dbc_11ec_8f98_cbee68bc0202row4_col17\" class=\"data row4 col17\" >2.100000</td>\n",
       "                        <td id=\"T_71417c81_5dbc_11ec_8f98_cbee68bc0202row4_col18\" class=\"data row4 col18\" >1.800000</td>\n",
       "                        <td id=\"T_71417c81_5dbc_11ec_8f98_cbee68bc0202row4_col19\" class=\"data row4 col19\" >0.902000</td>\n",
       "                        <td id=\"T_71417c81_5dbc_11ec_8f98_cbee68bc0202row4_col20\" class=\"data row4 col20\" >15.300000</td>\n",
       "            </tr>\n",
       "            <tr>\n",
       "                        <th id=\"T_71417c81_5dbc_11ec_8f98_cbee68bc0202level0_row5\" class=\"row_heading level0 row5\" >5</th>\n",
       "                        <td id=\"T_71417c81_5dbc_11ec_8f98_cbee68bc0202row5_col0\" class=\"data row5 col0\" >Switzerland</td>\n",
       "                        <td id=\"T_71417c81_5dbc_11ec_8f98_cbee68bc0202row5_col1\" class=\"data row5 col1\" >2015</td>\n",
       "                        <td id=\"T_71417c81_5dbc_11ec_8f98_cbee68bc0202row5_col2\" class=\"data row5 col2\" >83.400000</td>\n",
       "                        <td id=\"T_71417c81_5dbc_11ec_8f98_cbee68bc0202row5_col3\" class=\"data row5 col3\" >49.000000</td>\n",
       "                        <td id=\"T_71417c81_5dbc_11ec_8f98_cbee68bc0202row5_col4\" class=\"data row5 col4\" >0</td>\n",
       "                        <td id=\"T_71417c81_5dbc_11ec_8f98_cbee68bc0202row5_col5\" class=\"data row5 col5\" >0.000000</td>\n",
       "                        <td id=\"T_71417c81_5dbc_11ec_8f98_cbee68bc0202row5_col6\" class=\"data row5 col6\" >0.000000</td>\n",
       "                        <td id=\"T_71417c81_5dbc_11ec_8f98_cbee68bc0202row5_col7\" class=\"data row5 col7\" >0.000000</td>\n",
       "                        <td id=\"T_71417c81_5dbc_11ec_8f98_cbee68bc0202row5_col8\" class=\"data row5 col8\" >35</td>\n",
       "                        <td id=\"T_71417c81_5dbc_11ec_8f98_cbee68bc0202row5_col9\" class=\"data row5 col9\" >57.400000</td>\n",
       "                        <td id=\"T_71417c81_5dbc_11ec_8f98_cbee68bc0202row5_col10\" class=\"data row5 col10\" >0</td>\n",
       "                        <td id=\"T_71417c81_5dbc_11ec_8f98_cbee68bc0202row5_col11\" class=\"data row5 col11\" >97</td>\n",
       "                        <td id=\"T_71417c81_5dbc_11ec_8f98_cbee68bc0202row5_col12\" class=\"data row5 col12\" >0.000000</td>\n",
       "                        <td id=\"T_71417c81_5dbc_11ec_8f98_cbee68bc0202row5_col13\" class=\"data row5 col13\" >97</td>\n",
       "                        <td id=\"T_71417c81_5dbc_11ec_8f98_cbee68bc0202row5_col14\" class=\"data row5 col14\" >0.100000</td>\n",
       "                        <td id=\"T_71417c81_5dbc_11ec_8f98_cbee68bc0202row5_col15\" class=\"data row5 col15\" >8989.842400</td>\n",
       "                        <td id=\"T_71417c81_5dbc_11ec_8f98_cbee68bc0202row5_col16\" class=\"data row5 col16\" >8282396.000000</td>\n",
       "                        <td id=\"T_71417c81_5dbc_11ec_8f98_cbee68bc0202row5_col17\" class=\"data row5 col17\" >0.400000</td>\n",
       "                        <td id=\"T_71417c81_5dbc_11ec_8f98_cbee68bc0202row5_col18\" class=\"data row5 col18\" >0.300000</td>\n",
       "                        <td id=\"T_71417c81_5dbc_11ec_8f98_cbee68bc0202row5_col19\" class=\"data row5 col19\" >0.938000</td>\n",
       "                        <td id=\"T_71417c81_5dbc_11ec_8f98_cbee68bc0202row5_col20\" class=\"data row5 col20\" >16.000000</td>\n",
       "            </tr>\n",
       "            <tr>\n",
       "                        <th id=\"T_71417c81_5dbc_11ec_8f98_cbee68bc0202level0_row6\" class=\"row_heading level0 row6\" >6</th>\n",
       "                        <td id=\"T_71417c81_5dbc_11ec_8f98_cbee68bc0202row6_col0\" class=\"data row6 col0\" >Singapore</td>\n",
       "                        <td id=\"T_71417c81_5dbc_11ec_8f98_cbee68bc0202row6_col1\" class=\"data row6 col1\" >2015</td>\n",
       "                        <td id=\"T_71417c81_5dbc_11ec_8f98_cbee68bc0202row6_col2\" class=\"data row6 col2\" >83.100000</td>\n",
       "                        <td id=\"T_71417c81_5dbc_11ec_8f98_cbee68bc0202row6_col3\" class=\"data row6 col3\" >55.000000</td>\n",
       "                        <td id=\"T_71417c81_5dbc_11ec_8f98_cbee68bc0202row6_col4\" class=\"data row6 col4\" >0</td>\n",
       "                        <td id=\"T_71417c81_5dbc_11ec_8f98_cbee68bc0202row6_col5\" class=\"data row6 col5\" >1.790000</td>\n",
       "                        <td id=\"T_71417c81_5dbc_11ec_8f98_cbee68bc0202row6_col6\" class=\"data row6 col6\" >0.000000</td>\n",
       "                        <td id=\"T_71417c81_5dbc_11ec_8f98_cbee68bc0202row6_col7\" class=\"data row6 col7\" >96.000000</td>\n",
       "                        <td id=\"T_71417c81_5dbc_11ec_8f98_cbee68bc0202row6_col8\" class=\"data row6 col8\" >0</td>\n",
       "                        <td id=\"T_71417c81_5dbc_11ec_8f98_cbee68bc0202row6_col9\" class=\"data row6 col9\" >33.200000</td>\n",
       "                        <td id=\"T_71417c81_5dbc_11ec_8f98_cbee68bc0202row6_col10\" class=\"data row6 col10\" >0</td>\n",
       "                        <td id=\"T_71417c81_5dbc_11ec_8f98_cbee68bc0202row6_col11\" class=\"data row6 col11\" >96</td>\n",
       "                        <td id=\"T_71417c81_5dbc_11ec_8f98_cbee68bc0202row6_col12\" class=\"data row6 col12\" >0.000000</td>\n",
       "                        <td id=\"T_71417c81_5dbc_11ec_8f98_cbee68bc0202row6_col13\" class=\"data row6 col13\" >96</td>\n",
       "                        <td id=\"T_71417c81_5dbc_11ec_8f98_cbee68bc0202row6_col14\" class=\"data row6 col14\" >0.100000</td>\n",
       "                        <td id=\"T_71417c81_5dbc_11ec_8f98_cbee68bc0202row6_col15\" class=\"data row6 col15\" >53629.737460</td>\n",
       "                        <td id=\"T_71417c81_5dbc_11ec_8f98_cbee68bc0202row6_col16\" class=\"data row6 col16\" >0.000000</td>\n",
       "                        <td id=\"T_71417c81_5dbc_11ec_8f98_cbee68bc0202row6_col17\" class=\"data row6 col17\" >2.200000</td>\n",
       "                        <td id=\"T_71417c81_5dbc_11ec_8f98_cbee68bc0202row6_col18\" class=\"data row6 col18\" >2.200000</td>\n",
       "                        <td id=\"T_71417c81_5dbc_11ec_8f98_cbee68bc0202row6_col19\" class=\"data row6 col19\" >0.924000</td>\n",
       "                        <td id=\"T_71417c81_5dbc_11ec_8f98_cbee68bc0202row6_col20\" class=\"data row6 col20\" >15.400000</td>\n",
       "            </tr>\n",
       "            <tr>\n",
       "                        <th id=\"T_71417c81_5dbc_11ec_8f98_cbee68bc0202level0_row7\" class=\"row_heading level0 row7\" >7</th>\n",
       "                        <td id=\"T_71417c81_5dbc_11ec_8f98_cbee68bc0202row7_col0\" class=\"data row7 col0\" >Australia</td>\n",
       "                        <td id=\"T_71417c81_5dbc_11ec_8f98_cbee68bc0202row7_col1\" class=\"data row7 col1\" >2015</td>\n",
       "                        <td id=\"T_71417c81_5dbc_11ec_8f98_cbee68bc0202row7_col2\" class=\"data row7 col2\" >82.800000</td>\n",
       "                        <td id=\"T_71417c81_5dbc_11ec_8f98_cbee68bc0202row7_col3\" class=\"data row7 col3\" >59.000000</td>\n",
       "                        <td id=\"T_71417c81_5dbc_11ec_8f98_cbee68bc0202row7_col4\" class=\"data row7 col4\" >1</td>\n",
       "                        <td id=\"T_71417c81_5dbc_11ec_8f98_cbee68bc0202row7_col5\" class=\"data row7 col5\" >0.000000</td>\n",
       "                        <td id=\"T_71417c81_5dbc_11ec_8f98_cbee68bc0202row7_col6\" class=\"data row7 col6\" >0.000000</td>\n",
       "                        <td id=\"T_71417c81_5dbc_11ec_8f98_cbee68bc0202row7_col7\" class=\"data row7 col7\" >93.000000</td>\n",
       "                        <td id=\"T_71417c81_5dbc_11ec_8f98_cbee68bc0202row7_col8\" class=\"data row7 col8\" >74</td>\n",
       "                        <td id=\"T_71417c81_5dbc_11ec_8f98_cbee68bc0202row7_col9\" class=\"data row7 col9\" >66.600000</td>\n",
       "                        <td id=\"T_71417c81_5dbc_11ec_8f98_cbee68bc0202row7_col10\" class=\"data row7 col10\" >1</td>\n",
       "                        <td id=\"T_71417c81_5dbc_11ec_8f98_cbee68bc0202row7_col11\" class=\"data row7 col11\" >93</td>\n",
       "                        <td id=\"T_71417c81_5dbc_11ec_8f98_cbee68bc0202row7_col12\" class=\"data row7 col12\" >0.000000</td>\n",
       "                        <td id=\"T_71417c81_5dbc_11ec_8f98_cbee68bc0202row7_col13\" class=\"data row7 col13\" >93</td>\n",
       "                        <td id=\"T_71417c81_5dbc_11ec_8f98_cbee68bc0202row7_col14\" class=\"data row7 col14\" >0.100000</td>\n",
       "                        <td id=\"T_71417c81_5dbc_11ec_8f98_cbee68bc0202row7_col15\" class=\"data row7 col15\" >56554.387600</td>\n",
       "                        <td id=\"T_71417c81_5dbc_11ec_8f98_cbee68bc0202row7_col16\" class=\"data row7 col16\" >23789338.000000</td>\n",
       "                        <td id=\"T_71417c81_5dbc_11ec_8f98_cbee68bc0202row7_col17\" class=\"data row7 col17\" >0.600000</td>\n",
       "                        <td id=\"T_71417c81_5dbc_11ec_8f98_cbee68bc0202row7_col18\" class=\"data row7 col18\" >0.600000</td>\n",
       "                        <td id=\"T_71417c81_5dbc_11ec_8f98_cbee68bc0202row7_col19\" class=\"data row7 col19\" >0.937000</td>\n",
       "                        <td id=\"T_71417c81_5dbc_11ec_8f98_cbee68bc0202row7_col20\" class=\"data row7 col20\" >20.400000</td>\n",
       "            </tr>\n",
       "            <tr>\n",
       "                        <th id=\"T_71417c81_5dbc_11ec_8f98_cbee68bc0202level0_row8\" class=\"row_heading level0 row8\" >8</th>\n",
       "                        <td id=\"T_71417c81_5dbc_11ec_8f98_cbee68bc0202row8_col0\" class=\"data row8 col0\" >Spain</td>\n",
       "                        <td id=\"T_71417c81_5dbc_11ec_8f98_cbee68bc0202row8_col1\" class=\"data row8 col1\" >2015</td>\n",
       "                        <td id=\"T_71417c81_5dbc_11ec_8f98_cbee68bc0202row8_col2\" class=\"data row8 col2\" >82.800000</td>\n",
       "                        <td id=\"T_71417c81_5dbc_11ec_8f98_cbee68bc0202row8_col3\" class=\"data row8 col3\" >56.000000</td>\n",
       "                        <td id=\"T_71417c81_5dbc_11ec_8f98_cbee68bc0202row8_col4\" class=\"data row8 col4\" >1</td>\n",
       "                        <td id=\"T_71417c81_5dbc_11ec_8f98_cbee68bc0202row8_col5\" class=\"data row8 col5\" >0.000000</td>\n",
       "                        <td id=\"T_71417c81_5dbc_11ec_8f98_cbee68bc0202row8_col6\" class=\"data row8 col6\" >0.000000</td>\n",
       "                        <td id=\"T_71417c81_5dbc_11ec_8f98_cbee68bc0202row8_col7\" class=\"data row8 col7\" >97.000000</td>\n",
       "                        <td id=\"T_71417c81_5dbc_11ec_8f98_cbee68bc0202row8_col8\" class=\"data row8 col8\" >115</td>\n",
       "                        <td id=\"T_71417c81_5dbc_11ec_8f98_cbee68bc0202row8_col9\" class=\"data row8 col9\" >66.600000</td>\n",
       "                        <td id=\"T_71417c81_5dbc_11ec_8f98_cbee68bc0202row8_col10\" class=\"data row8 col10\" >1</td>\n",
       "                        <td id=\"T_71417c81_5dbc_11ec_8f98_cbee68bc0202row8_col11\" class=\"data row8 col11\" >97</td>\n",
       "                        <td id=\"T_71417c81_5dbc_11ec_8f98_cbee68bc0202row8_col12\" class=\"data row8 col12\" >0.000000</td>\n",
       "                        <td id=\"T_71417c81_5dbc_11ec_8f98_cbee68bc0202row8_col13\" class=\"data row8 col13\" >97</td>\n",
       "                        <td id=\"T_71417c81_5dbc_11ec_8f98_cbee68bc0202row8_col14\" class=\"data row8 col14\" >0.100000</td>\n",
       "                        <td id=\"T_71417c81_5dbc_11ec_8f98_cbee68bc0202row8_col15\" class=\"data row8 col15\" >25683.845650</td>\n",
       "                        <td id=\"T_71417c81_5dbc_11ec_8f98_cbee68bc0202row8_col16\" class=\"data row8 col16\" >46447697.000000</td>\n",
       "                        <td id=\"T_71417c81_5dbc_11ec_8f98_cbee68bc0202row8_col17\" class=\"data row8 col17\" >0.600000</td>\n",
       "                        <td id=\"T_71417c81_5dbc_11ec_8f98_cbee68bc0202row8_col18\" class=\"data row8 col18\" >0.500000</td>\n",
       "                        <td id=\"T_71417c81_5dbc_11ec_8f98_cbee68bc0202row8_col19\" class=\"data row8 col19\" >0.882000</td>\n",
       "                        <td id=\"T_71417c81_5dbc_11ec_8f98_cbee68bc0202row8_col20\" class=\"data row8 col20\" >17.700000</td>\n",
       "            </tr>\n",
       "            <tr>\n",
       "                        <th id=\"T_71417c81_5dbc_11ec_8f98_cbee68bc0202level0_row9\" class=\"row_heading level0 row9\" >9</th>\n",
       "                        <td id=\"T_71417c81_5dbc_11ec_8f98_cbee68bc0202row9_col0\" class=\"data row9 col0\" >Italy</td>\n",
       "                        <td id=\"T_71417c81_5dbc_11ec_8f98_cbee68bc0202row9_col1\" class=\"data row9 col1\" >2015</td>\n",
       "                        <td id=\"T_71417c81_5dbc_11ec_8f98_cbee68bc0202row9_col2\" class=\"data row9 col2\" >82.700000</td>\n",
       "                        <td id=\"T_71417c81_5dbc_11ec_8f98_cbee68bc0202row9_col3\" class=\"data row9 col3\" >56.000000</td>\n",
       "                        <td id=\"T_71417c81_5dbc_11ec_8f98_cbee68bc0202row9_col4\" class=\"data row9 col4\" >1</td>\n",
       "                        <td id=\"T_71417c81_5dbc_11ec_8f98_cbee68bc0202row9_col5\" class=\"data row9 col5\" >0.000000</td>\n",
       "                        <td id=\"T_71417c81_5dbc_11ec_8f98_cbee68bc0202row9_col6\" class=\"data row9 col6\" >0.000000</td>\n",
       "                        <td id=\"T_71417c81_5dbc_11ec_8f98_cbee68bc0202row9_col7\" class=\"data row9 col7\" >93.000000</td>\n",
       "                        <td id=\"T_71417c81_5dbc_11ec_8f98_cbee68bc0202row9_col8\" class=\"data row9 col8\" >159</td>\n",
       "                        <td id=\"T_71417c81_5dbc_11ec_8f98_cbee68bc0202row9_col9\" class=\"data row9 col9\" >63.600000</td>\n",
       "                        <td id=\"T_71417c81_5dbc_11ec_8f98_cbee68bc0202row9_col10\" class=\"data row9 col10\" >2</td>\n",
       "                        <td id=\"T_71417c81_5dbc_11ec_8f98_cbee68bc0202row9_col11\" class=\"data row9 col11\" >93</td>\n",
       "                        <td id=\"T_71417c81_5dbc_11ec_8f98_cbee68bc0202row9_col12\" class=\"data row9 col12\" >0.000000</td>\n",
       "                        <td id=\"T_71417c81_5dbc_11ec_8f98_cbee68bc0202row9_col13\" class=\"data row9 col13\" >93</td>\n",
       "                        <td id=\"T_71417c81_5dbc_11ec_8f98_cbee68bc0202row9_col14\" class=\"data row9 col14\" >0.100000</td>\n",
       "                        <td id=\"T_71417c81_5dbc_11ec_8f98_cbee68bc0202row9_col15\" class=\"data row9 col15\" >349.147550</td>\n",
       "                        <td id=\"T_71417c81_5dbc_11ec_8f98_cbee68bc0202row9_col16\" class=\"data row9 col16\" >673582.000000</td>\n",
       "                        <td id=\"T_71417c81_5dbc_11ec_8f98_cbee68bc0202row9_col17\" class=\"data row9 col17\" >0.600000</td>\n",
       "                        <td id=\"T_71417c81_5dbc_11ec_8f98_cbee68bc0202row9_col18\" class=\"data row9 col18\" >0.600000</td>\n",
       "                        <td id=\"T_71417c81_5dbc_11ec_8f98_cbee68bc0202row9_col19\" class=\"data row9 col19\" >0.881000</td>\n",
       "                        <td id=\"T_71417c81_5dbc_11ec_8f98_cbee68bc0202row9_col20\" class=\"data row9 col20\" >16.300000</td>\n",
       "            </tr>\n",
       "            <tr>\n",
       "                        <th id=\"T_71417c81_5dbc_11ec_8f98_cbee68bc0202level0_row10\" class=\"row_heading level0 row10\" >10</th>\n",
       "                        <td id=\"T_71417c81_5dbc_11ec_8f98_cbee68bc0202row10_col0\" class=\"data row10 col0\" >Iceland</td>\n",
       "                        <td id=\"T_71417c81_5dbc_11ec_8f98_cbee68bc0202row10_col1\" class=\"data row10 col1\" >2015</td>\n",
       "                        <td id=\"T_71417c81_5dbc_11ec_8f98_cbee68bc0202row10_col2\" class=\"data row10 col2\" >82.700000</td>\n",
       "                        <td id=\"T_71417c81_5dbc_11ec_8f98_cbee68bc0202row10_col3\" class=\"data row10 col3\" >49.000000</td>\n",
       "                        <td id=\"T_71417c81_5dbc_11ec_8f98_cbee68bc0202row10_col4\" class=\"data row10 col4\" >0</td>\n",
       "                        <td id=\"T_71417c81_5dbc_11ec_8f98_cbee68bc0202row10_col5\" class=\"data row10 col5\" >0.000000</td>\n",
       "                        <td id=\"T_71417c81_5dbc_11ec_8f98_cbee68bc0202row10_col6\" class=\"data row10 col6\" >0.000000</td>\n",
       "                        <td id=\"T_71417c81_5dbc_11ec_8f98_cbee68bc0202row10_col7\" class=\"data row10 col7\" >0.000000</td>\n",
       "                        <td id=\"T_71417c81_5dbc_11ec_8f98_cbee68bc0202row10_col8\" class=\"data row10 col8\" >0</td>\n",
       "                        <td id=\"T_71417c81_5dbc_11ec_8f98_cbee68bc0202row10_col9\" class=\"data row10 col9\" >61.000000</td>\n",
       "                        <td id=\"T_71417c81_5dbc_11ec_8f98_cbee68bc0202row10_col10\" class=\"data row10 col10\" >0</td>\n",
       "                        <td id=\"T_71417c81_5dbc_11ec_8f98_cbee68bc0202row10_col11\" class=\"data row10 col11\" >92</td>\n",
       "                        <td id=\"T_71417c81_5dbc_11ec_8f98_cbee68bc0202row10_col12\" class=\"data row10 col12\" >0.000000</td>\n",
       "                        <td id=\"T_71417c81_5dbc_11ec_8f98_cbee68bc0202row10_col13\" class=\"data row10 col13\" >92</td>\n",
       "                        <td id=\"T_71417c81_5dbc_11ec_8f98_cbee68bc0202row10_col14\" class=\"data row10 col14\" >0.100000</td>\n",
       "                        <td id=\"T_71417c81_5dbc_11ec_8f98_cbee68bc0202row10_col15\" class=\"data row10 col15\" >5734.443600</td>\n",
       "                        <td id=\"T_71417c81_5dbc_11ec_8f98_cbee68bc0202row10_col16\" class=\"data row10 col16\" >33815.000000</td>\n",
       "                        <td id=\"T_71417c81_5dbc_11ec_8f98_cbee68bc0202row10_col17\" class=\"data row10 col17\" >1.000000</td>\n",
       "                        <td id=\"T_71417c81_5dbc_11ec_8f98_cbee68bc0202row10_col18\" class=\"data row10 col18\" >0.900000</td>\n",
       "                        <td id=\"T_71417c81_5dbc_11ec_8f98_cbee68bc0202row10_col19\" class=\"data row10 col19\" >0.919000</td>\n",
       "                        <td id=\"T_71417c81_5dbc_11ec_8f98_cbee68bc0202row10_col20\" class=\"data row10 col20\" >19.000000</td>\n",
       "            </tr>\n",
       "            <tr>\n",
       "                        <th id=\"T_71417c81_5dbc_11ec_8f98_cbee68bc0202level0_row11\" class=\"row_heading level0 row11\" >11</th>\n",
       "                        <td id=\"T_71417c81_5dbc_11ec_8f98_cbee68bc0202row11_col0\" class=\"data row11 col0\" >Israel</td>\n",
       "                        <td id=\"T_71417c81_5dbc_11ec_8f98_cbee68bc0202row11_col1\" class=\"data row11 col1\" >2015</td>\n",
       "                        <td id=\"T_71417c81_5dbc_11ec_8f98_cbee68bc0202row11_col2\" class=\"data row11 col2\" >82.500000</td>\n",
       "                        <td id=\"T_71417c81_5dbc_11ec_8f98_cbee68bc0202row11_col3\" class=\"data row11 col3\" >58.000000</td>\n",
       "                        <td id=\"T_71417c81_5dbc_11ec_8f98_cbee68bc0202row11_col4\" class=\"data row11 col4\" >0</td>\n",
       "                        <td id=\"T_71417c81_5dbc_11ec_8f98_cbee68bc0202row11_col5\" class=\"data row11 col5\" >0.000000</td>\n",
       "                        <td id=\"T_71417c81_5dbc_11ec_8f98_cbee68bc0202row11_col6\" class=\"data row11 col6\" >0.000000</td>\n",
       "                        <td id=\"T_71417c81_5dbc_11ec_8f98_cbee68bc0202row11_col7\" class=\"data row11 col7\" >96.000000</td>\n",
       "                        <td id=\"T_71417c81_5dbc_11ec_8f98_cbee68bc0202row11_col8\" class=\"data row11 col8\" >80</td>\n",
       "                        <td id=\"T_71417c81_5dbc_11ec_8f98_cbee68bc0202row11_col9\" class=\"data row11 col9\" >64.900000</td>\n",
       "                        <td id=\"T_71417c81_5dbc_11ec_8f98_cbee68bc0202row11_col10\" class=\"data row11 col10\" >1</td>\n",
       "                        <td id=\"T_71417c81_5dbc_11ec_8f98_cbee68bc0202row11_col11\" class=\"data row11 col11\" >95</td>\n",
       "                        <td id=\"T_71417c81_5dbc_11ec_8f98_cbee68bc0202row11_col12\" class=\"data row11 col12\" >0.000000</td>\n",
       "                        <td id=\"T_71417c81_5dbc_11ec_8f98_cbee68bc0202row11_col13\" class=\"data row11 col13\" >95</td>\n",
       "                        <td id=\"T_71417c81_5dbc_11ec_8f98_cbee68bc0202row11_col14\" class=\"data row11 col14\" >0.100000</td>\n",
       "                        <td id=\"T_71417c81_5dbc_11ec_8f98_cbee68bc0202row11_col15\" class=\"data row11 col15\" >35729.372530</td>\n",
       "                        <td id=\"T_71417c81_5dbc_11ec_8f98_cbee68bc0202row11_col16\" class=\"data row11 col16\" >8381.000000</td>\n",
       "                        <td id=\"T_71417c81_5dbc_11ec_8f98_cbee68bc0202row11_col17\" class=\"data row11 col17\" >1.200000</td>\n",
       "                        <td id=\"T_71417c81_5dbc_11ec_8f98_cbee68bc0202row11_col18\" class=\"data row11 col18\" >1.100000</td>\n",
       "                        <td id=\"T_71417c81_5dbc_11ec_8f98_cbee68bc0202row11_col19\" class=\"data row11 col19\" >0.898000</td>\n",
       "                        <td id=\"T_71417c81_5dbc_11ec_8f98_cbee68bc0202row11_col20\" class=\"data row11 col20\" >16.000000</td>\n",
       "            </tr>\n",
       "            <tr>\n",
       "                        <th id=\"T_71417c81_5dbc_11ec_8f98_cbee68bc0202level0_row12\" class=\"row_heading level0 row12\" >12</th>\n",
       "                        <td id=\"T_71417c81_5dbc_11ec_8f98_cbee68bc0202row12_col0\" class=\"data row12 col0\" >France</td>\n",
       "                        <td id=\"T_71417c81_5dbc_11ec_8f98_cbee68bc0202row12_col1\" class=\"data row12 col1\" >2015</td>\n",
       "                        <td id=\"T_71417c81_5dbc_11ec_8f98_cbee68bc0202row12_col2\" class=\"data row12 col2\" >82.400000</td>\n",
       "                        <td id=\"T_71417c81_5dbc_11ec_8f98_cbee68bc0202row12_col3\" class=\"data row12 col3\" >78.000000</td>\n",
       "                        <td id=\"T_71417c81_5dbc_11ec_8f98_cbee68bc0202row12_col4\" class=\"data row12 col4\" >2</td>\n",
       "                        <td id=\"T_71417c81_5dbc_11ec_8f98_cbee68bc0202row12_col5\" class=\"data row12 col5\" >0.000000</td>\n",
       "                        <td id=\"T_71417c81_5dbc_11ec_8f98_cbee68bc0202row12_col6\" class=\"data row12 col6\" >0.000000</td>\n",
       "                        <td id=\"T_71417c81_5dbc_11ec_8f98_cbee68bc0202row12_col7\" class=\"data row12 col7\" >86.000000</td>\n",
       "                        <td id=\"T_71417c81_5dbc_11ec_8f98_cbee68bc0202row12_col8\" class=\"data row12 col8\" >157</td>\n",
       "                        <td id=\"T_71417c81_5dbc_11ec_8f98_cbee68bc0202row12_col9\" class=\"data row12 col9\" >62.500000</td>\n",
       "                        <td id=\"T_71417c81_5dbc_11ec_8f98_cbee68bc0202row12_col10\" class=\"data row12 col10\" >3</td>\n",
       "                        <td id=\"T_71417c81_5dbc_11ec_8f98_cbee68bc0202row12_col11\" class=\"data row12 col11\" >98</td>\n",
       "                        <td id=\"T_71417c81_5dbc_11ec_8f98_cbee68bc0202row12_col12\" class=\"data row12 col12\" >0.000000</td>\n",
       "                        <td id=\"T_71417c81_5dbc_11ec_8f98_cbee68bc0202row12_col13\" class=\"data row12 col13\" >98</td>\n",
       "                        <td id=\"T_71417c81_5dbc_11ec_8f98_cbee68bc0202row12_col14\" class=\"data row12 col14\" >0.100000</td>\n",
       "                        <td id=\"T_71417c81_5dbc_11ec_8f98_cbee68bc0202row12_col15\" class=\"data row12 col15\" >36526.771100</td>\n",
       "                        <td id=\"T_71417c81_5dbc_11ec_8f98_cbee68bc0202row12_col16\" class=\"data row12 col16\" >6662468.000000</td>\n",
       "                        <td id=\"T_71417c81_5dbc_11ec_8f98_cbee68bc0202row12_col17\" class=\"data row12 col17\" >0.700000</td>\n",
       "                        <td id=\"T_71417c81_5dbc_11ec_8f98_cbee68bc0202row12_col18\" class=\"data row12 col18\" >0.600000</td>\n",
       "                        <td id=\"T_71417c81_5dbc_11ec_8f98_cbee68bc0202row12_col19\" class=\"data row12 col19\" >0.894000</td>\n",
       "                        <td id=\"T_71417c81_5dbc_11ec_8f98_cbee68bc0202row12_col20\" class=\"data row12 col20\" >16.300000</td>\n",
       "            </tr>\n",
       "            <tr>\n",
       "                        <th id=\"T_71417c81_5dbc_11ec_8f98_cbee68bc0202level0_row13\" class=\"row_heading level0 row13\" >13</th>\n",
       "                        <td id=\"T_71417c81_5dbc_11ec_8f98_cbee68bc0202row13_col0\" class=\"data row13 col0\" >Sweden</td>\n",
       "                        <td id=\"T_71417c81_5dbc_11ec_8f98_cbee68bc0202row13_col1\" class=\"data row13 col1\" >2015</td>\n",
       "                        <td id=\"T_71417c81_5dbc_11ec_8f98_cbee68bc0202row13_col2\" class=\"data row13 col2\" >82.400000</td>\n",
       "                        <td id=\"T_71417c81_5dbc_11ec_8f98_cbee68bc0202row13_col3\" class=\"data row13 col3\" >53.000000</td>\n",
       "                        <td id=\"T_71417c81_5dbc_11ec_8f98_cbee68bc0202row13_col4\" class=\"data row13 col4\" >0</td>\n",
       "                        <td id=\"T_71417c81_5dbc_11ec_8f98_cbee68bc0202row13_col5\" class=\"data row13 col5\" >0.000000</td>\n",
       "                        <td id=\"T_71417c81_5dbc_11ec_8f98_cbee68bc0202row13_col6\" class=\"data row13 col6\" >0.000000</td>\n",
       "                        <td id=\"T_71417c81_5dbc_11ec_8f98_cbee68bc0202row13_col7\" class=\"data row13 col7\" >67.000000</td>\n",
       "                        <td id=\"T_71417c81_5dbc_11ec_8f98_cbee68bc0202row13_col8\" class=\"data row13 col8\" >22</td>\n",
       "                        <td id=\"T_71417c81_5dbc_11ec_8f98_cbee68bc0202row13_col9\" class=\"data row13 col9\" >59.500000</td>\n",
       "                        <td id=\"T_71417c81_5dbc_11ec_8f98_cbee68bc0202row13_col10\" class=\"data row13 col10\" >0</td>\n",
       "                        <td id=\"T_71417c81_5dbc_11ec_8f98_cbee68bc0202row13_col11\" class=\"data row13 col11\" >98</td>\n",
       "                        <td id=\"T_71417c81_5dbc_11ec_8f98_cbee68bc0202row13_col12\" class=\"data row13 col12\" >0.000000</td>\n",
       "                        <td id=\"T_71417c81_5dbc_11ec_8f98_cbee68bc0202row13_col13\" class=\"data row13 col13\" >98</td>\n",
       "                        <td id=\"T_71417c81_5dbc_11ec_8f98_cbee68bc0202row13_col14\" class=\"data row13 col14\" >0.100000</td>\n",
       "                        <td id=\"T_71417c81_5dbc_11ec_8f98_cbee68bc0202row13_col15\" class=\"data row13 col15\" >5585.258470</td>\n",
       "                        <td id=\"T_71417c81_5dbc_11ec_8f98_cbee68bc0202row13_col16\" class=\"data row13 col16\" >9799186.000000</td>\n",
       "                        <td id=\"T_71417c81_5dbc_11ec_8f98_cbee68bc0202row13_col17\" class=\"data row13 col17\" >1.500000</td>\n",
       "                        <td id=\"T_71417c81_5dbc_11ec_8f98_cbee68bc0202row13_col18\" class=\"data row13 col18\" >1.400000</td>\n",
       "                        <td id=\"T_71417c81_5dbc_11ec_8f98_cbee68bc0202row13_col19\" class=\"data row13 col19\" >0.909000</td>\n",
       "                        <td id=\"T_71417c81_5dbc_11ec_8f98_cbee68bc0202row13_col20\" class=\"data row13 col20\" >15.900000</td>\n",
       "            </tr>\n",
       "            <tr>\n",
       "                        <th id=\"T_71417c81_5dbc_11ec_8f98_cbee68bc0202level0_row14\" class=\"row_heading level0 row14\" >14</th>\n",
       "                        <td id=\"T_71417c81_5dbc_11ec_8f98_cbee68bc0202row14_col0\" class=\"data row14 col0\" >Republic of Korea</td>\n",
       "                        <td id=\"T_71417c81_5dbc_11ec_8f98_cbee68bc0202row14_col1\" class=\"data row14 col1\" >2015</td>\n",
       "                        <td id=\"T_71417c81_5dbc_11ec_8f98_cbee68bc0202row14_col2\" class=\"data row14 col2\" >82.300000</td>\n",
       "                        <td id=\"T_71417c81_5dbc_11ec_8f98_cbee68bc0202row14_col3\" class=\"data row14 col3\" >64.000000</td>\n",
       "                        <td id=\"T_71417c81_5dbc_11ec_8f98_cbee68bc0202row14_col4\" class=\"data row14 col4\" >1</td>\n",
       "                        <td id=\"T_71417c81_5dbc_11ec_8f98_cbee68bc0202row14_col5\" class=\"data row14 col5\" >0.000000</td>\n",
       "                        <td id=\"T_71417c81_5dbc_11ec_8f98_cbee68bc0202row14_col6\" class=\"data row14 col6\" >0.000000</td>\n",
       "                        <td id=\"T_71417c81_5dbc_11ec_8f98_cbee68bc0202row14_col7\" class=\"data row14 col7\" >98.000000</td>\n",
       "                        <td id=\"T_71417c81_5dbc_11ec_8f98_cbee68bc0202row14_col8\" class=\"data row14 col8\" >7</td>\n",
       "                        <td id=\"T_71417c81_5dbc_11ec_8f98_cbee68bc0202row14_col9\" class=\"data row14 col9\" >31.700000</td>\n",
       "                        <td id=\"T_71417c81_5dbc_11ec_8f98_cbee68bc0202row14_col10\" class=\"data row14 col10\" >2</td>\n",
       "                        <td id=\"T_71417c81_5dbc_11ec_8f98_cbee68bc0202row14_col11\" class=\"data row14 col11\" >98</td>\n",
       "                        <td id=\"T_71417c81_5dbc_11ec_8f98_cbee68bc0202row14_col12\" class=\"data row14 col12\" >0.000000</td>\n",
       "                        <td id=\"T_71417c81_5dbc_11ec_8f98_cbee68bc0202row14_col13\" class=\"data row14 col13\" >98</td>\n",
       "                        <td id=\"T_71417c81_5dbc_11ec_8f98_cbee68bc0202row14_col14\" class=\"data row14 col14\" >0.100000</td>\n",
       "                        <td id=\"T_71417c81_5dbc_11ec_8f98_cbee68bc0202row14_col15\" class=\"data row14 col15\" >0.000000</td>\n",
       "                        <td id=\"T_71417c81_5dbc_11ec_8f98_cbee68bc0202row14_col16\" class=\"data row14 col16\" >0.000000</td>\n",
       "                        <td id=\"T_71417c81_5dbc_11ec_8f98_cbee68bc0202row14_col17\" class=\"data row14 col17\" >1.500000</td>\n",
       "                        <td id=\"T_71417c81_5dbc_11ec_8f98_cbee68bc0202row14_col18\" class=\"data row14 col18\" >1.000000</td>\n",
       "                        <td id=\"T_71417c81_5dbc_11ec_8f98_cbee68bc0202row14_col19\" class=\"data row14 col19\" >0.000000</td>\n",
       "                        <td id=\"T_71417c81_5dbc_11ec_8f98_cbee68bc0202row14_col20\" class=\"data row14 col20\" >0.000000</td>\n",
       "            </tr>\n",
       "            <tr>\n",
       "                        <th id=\"T_71417c81_5dbc_11ec_8f98_cbee68bc0202level0_row15\" class=\"row_heading level0 row15\" >15</th>\n",
       "                        <td id=\"T_71417c81_5dbc_11ec_8f98_cbee68bc0202row15_col0\" class=\"data row15 col0\" >Canada</td>\n",
       "                        <td id=\"T_71417c81_5dbc_11ec_8f98_cbee68bc0202row15_col1\" class=\"data row15 col1\" >2015</td>\n",
       "                        <td id=\"T_71417c81_5dbc_11ec_8f98_cbee68bc0202row15_col2\" class=\"data row15 col2\" >82.200000</td>\n",
       "                        <td id=\"T_71417c81_5dbc_11ec_8f98_cbee68bc0202row15_col3\" class=\"data row15 col3\" >64.000000</td>\n",
       "                        <td id=\"T_71417c81_5dbc_11ec_8f98_cbee68bc0202row15_col4\" class=\"data row15 col4\" >2</td>\n",
       "                        <td id=\"T_71417c81_5dbc_11ec_8f98_cbee68bc0202row15_col5\" class=\"data row15 col5\" >0.000000</td>\n",
       "                        <td id=\"T_71417c81_5dbc_11ec_8f98_cbee68bc0202row15_col6\" class=\"data row15 col6\" >0.000000</td>\n",
       "                        <td id=\"T_71417c81_5dbc_11ec_8f98_cbee68bc0202row15_col7\" class=\"data row15 col7\" >55.000000</td>\n",
       "                        <td id=\"T_71417c81_5dbc_11ec_8f98_cbee68bc0202row15_col8\" class=\"data row15 col8\" >195</td>\n",
       "                        <td id=\"T_71417c81_5dbc_11ec_8f98_cbee68bc0202row15_col9\" class=\"data row15 col9\" >67.000000</td>\n",
       "                        <td id=\"T_71417c81_5dbc_11ec_8f98_cbee68bc0202row15_col10\" class=\"data row15 col10\" >2</td>\n",
       "                        <td id=\"T_71417c81_5dbc_11ec_8f98_cbee68bc0202row15_col11\" class=\"data row15 col11\" >91</td>\n",
       "                        <td id=\"T_71417c81_5dbc_11ec_8f98_cbee68bc0202row15_col12\" class=\"data row15 col12\" >0.000000</td>\n",
       "                        <td id=\"T_71417c81_5dbc_11ec_8f98_cbee68bc0202row15_col13\" class=\"data row15 col13\" >91</td>\n",
       "                        <td id=\"T_71417c81_5dbc_11ec_8f98_cbee68bc0202row15_col14\" class=\"data row15 col14\" >0.100000</td>\n",
       "                        <td id=\"T_71417c81_5dbc_11ec_8f98_cbee68bc0202row15_col15\" class=\"data row15 col15\" >43315.744000</td>\n",
       "                        <td id=\"T_71417c81_5dbc_11ec_8f98_cbee68bc0202row15_col16\" class=\"data row15 col16\" >3584861.000000</td>\n",
       "                        <td id=\"T_71417c81_5dbc_11ec_8f98_cbee68bc0202row15_col17\" class=\"data row15 col17\" >0.600000</td>\n",
       "                        <td id=\"T_71417c81_5dbc_11ec_8f98_cbee68bc0202row15_col18\" class=\"data row15 col18\" >0.500000</td>\n",
       "                        <td id=\"T_71417c81_5dbc_11ec_8f98_cbee68bc0202row15_col19\" class=\"data row15 col19\" >0.919000</td>\n",
       "                        <td id=\"T_71417c81_5dbc_11ec_8f98_cbee68bc0202row15_col20\" class=\"data row15 col20\" >16.300000</td>\n",
       "            </tr>\n",
       "            <tr>\n",
       "                        <th id=\"T_71417c81_5dbc_11ec_8f98_cbee68bc0202level0_row16\" class=\"row_heading level0 row16\" >16</th>\n",
       "                        <td id=\"T_71417c81_5dbc_11ec_8f98_cbee68bc0202row16_col0\" class=\"data row16 col0\" >Luxembourg</td>\n",
       "                        <td id=\"T_71417c81_5dbc_11ec_8f98_cbee68bc0202row16_col1\" class=\"data row16 col1\" >2015</td>\n",
       "                        <td id=\"T_71417c81_5dbc_11ec_8f98_cbee68bc0202row16_col2\" class=\"data row16 col2\" >82.000000</td>\n",
       "                        <td id=\"T_71417c81_5dbc_11ec_8f98_cbee68bc0202row16_col3\" class=\"data row16 col3\" >63.000000</td>\n",
       "                        <td id=\"T_71417c81_5dbc_11ec_8f98_cbee68bc0202row16_col4\" class=\"data row16 col4\" >0</td>\n",
       "                        <td id=\"T_71417c81_5dbc_11ec_8f98_cbee68bc0202row16_col5\" class=\"data row16 col5\" >0.000000</td>\n",
       "                        <td id=\"T_71417c81_5dbc_11ec_8f98_cbee68bc0202row16_col6\" class=\"data row16 col6\" >0.000000</td>\n",
       "                        <td id=\"T_71417c81_5dbc_11ec_8f98_cbee68bc0202row16_col7\" class=\"data row16 col7\" >94.000000</td>\n",
       "                        <td id=\"T_71417c81_5dbc_11ec_8f98_cbee68bc0202row16_col8\" class=\"data row16 col8\" >0</td>\n",
       "                        <td id=\"T_71417c81_5dbc_11ec_8f98_cbee68bc0202row16_col9\" class=\"data row16 col9\" >61.300000</td>\n",
       "                        <td id=\"T_71417c81_5dbc_11ec_8f98_cbee68bc0202row16_col10\" class=\"data row16 col10\" >0</td>\n",
       "                        <td id=\"T_71417c81_5dbc_11ec_8f98_cbee68bc0202row16_col11\" class=\"data row16 col11\" >99</td>\n",
       "                        <td id=\"T_71417c81_5dbc_11ec_8f98_cbee68bc0202row16_col12\" class=\"data row16 col12\" >0.000000</td>\n",
       "                        <td id=\"T_71417c81_5dbc_11ec_8f98_cbee68bc0202row16_col13\" class=\"data row16 col13\" >99</td>\n",
       "                        <td id=\"T_71417c81_5dbc_11ec_8f98_cbee68bc0202row16_col14\" class=\"data row16 col14\" >0.100000</td>\n",
       "                        <td id=\"T_71417c81_5dbc_11ec_8f98_cbee68bc0202row16_col15\" class=\"data row16 col15\" >1199.822300</td>\n",
       "                        <td id=\"T_71417c81_5dbc_11ec_8f98_cbee68bc0202row16_col16\" class=\"data row16 col16\" >56964.000000</td>\n",
       "                        <td id=\"T_71417c81_5dbc_11ec_8f98_cbee68bc0202row16_col17\" class=\"data row16 col17\" >1.000000</td>\n",
       "                        <td id=\"T_71417c81_5dbc_11ec_8f98_cbee68bc0202row16_col18\" class=\"data row16 col18\" >0.900000</td>\n",
       "                        <td id=\"T_71417c81_5dbc_11ec_8f98_cbee68bc0202row16_col19\" class=\"data row16 col19\" >0.896000</td>\n",
       "                        <td id=\"T_71417c81_5dbc_11ec_8f98_cbee68bc0202row16_col20\" class=\"data row16 col20\" >13.900000</td>\n",
       "            </tr>\n",
       "            <tr>\n",
       "                        <th id=\"T_71417c81_5dbc_11ec_8f98_cbee68bc0202level0_row17\" class=\"row_heading level0 row17\" >17</th>\n",
       "                        <td id=\"T_71417c81_5dbc_11ec_8f98_cbee68bc0202row17_col0\" class=\"data row17 col0\" >Netherlands</td>\n",
       "                        <td id=\"T_71417c81_5dbc_11ec_8f98_cbee68bc0202row17_col1\" class=\"data row17 col1\" >2015</td>\n",
       "                        <td id=\"T_71417c81_5dbc_11ec_8f98_cbee68bc0202row17_col2\" class=\"data row17 col2\" >81.900000</td>\n",
       "                        <td id=\"T_71417c81_5dbc_11ec_8f98_cbee68bc0202row17_col3\" class=\"data row17 col3\" >57.000000</td>\n",
       "                        <td id=\"T_71417c81_5dbc_11ec_8f98_cbee68bc0202row17_col4\" class=\"data row17 col4\" >1</td>\n",
       "                        <td id=\"T_71417c81_5dbc_11ec_8f98_cbee68bc0202row17_col5\" class=\"data row17 col5\" >0.000000</td>\n",
       "                        <td id=\"T_71417c81_5dbc_11ec_8f98_cbee68bc0202row17_col6\" class=\"data row17 col6\" >0.000000</td>\n",
       "                        <td id=\"T_71417c81_5dbc_11ec_8f98_cbee68bc0202row17_col7\" class=\"data row17 col7\" >94.000000</td>\n",
       "                        <td id=\"T_71417c81_5dbc_11ec_8f98_cbee68bc0202row17_col8\" class=\"data row17 col8\" >7</td>\n",
       "                        <td id=\"T_71417c81_5dbc_11ec_8f98_cbee68bc0202row17_col9\" class=\"data row17 col9\" >62.100000</td>\n",
       "                        <td id=\"T_71417c81_5dbc_11ec_8f98_cbee68bc0202row17_col10\" class=\"data row17 col10\" >1</td>\n",
       "                        <td id=\"T_71417c81_5dbc_11ec_8f98_cbee68bc0202row17_col11\" class=\"data row17 col11\" >95</td>\n",
       "                        <td id=\"T_71417c81_5dbc_11ec_8f98_cbee68bc0202row17_col12\" class=\"data row17 col12\" >0.000000</td>\n",
       "                        <td id=\"T_71417c81_5dbc_11ec_8f98_cbee68bc0202row17_col13\" class=\"data row17 col13\" >95</td>\n",
       "                        <td id=\"T_71417c81_5dbc_11ec_8f98_cbee68bc0202row17_col14\" class=\"data row17 col14\" >0.100000</td>\n",
       "                        <td id=\"T_71417c81_5dbc_11ec_8f98_cbee68bc0202row17_col15\" class=\"data row17 col15\" >44292.884730</td>\n",
       "                        <td id=\"T_71417c81_5dbc_11ec_8f98_cbee68bc0202row17_col16\" class=\"data row17 col16\" >16939923.000000</td>\n",
       "                        <td id=\"T_71417c81_5dbc_11ec_8f98_cbee68bc0202row17_col17\" class=\"data row17 col17\" >1.000000</td>\n",
       "                        <td id=\"T_71417c81_5dbc_11ec_8f98_cbee68bc0202row17_col18\" class=\"data row17 col18\" >0.900000</td>\n",
       "                        <td id=\"T_71417c81_5dbc_11ec_8f98_cbee68bc0202row17_col19\" class=\"data row17 col19\" >0.923000</td>\n",
       "                        <td id=\"T_71417c81_5dbc_11ec_8f98_cbee68bc0202row17_col20\" class=\"data row17 col20\" >18.100000</td>\n",
       "            </tr>\n",
       "            <tr>\n",
       "                        <th id=\"T_71417c81_5dbc_11ec_8f98_cbee68bc0202level0_row18\" class=\"row_heading level0 row18\" >18</th>\n",
       "                        <td id=\"T_71417c81_5dbc_11ec_8f98_cbee68bc0202row18_col0\" class=\"data row18 col0\" >Norway</td>\n",
       "                        <td id=\"T_71417c81_5dbc_11ec_8f98_cbee68bc0202row18_col1\" class=\"data row18 col1\" >2015</td>\n",
       "                        <td id=\"T_71417c81_5dbc_11ec_8f98_cbee68bc0202row18_col2\" class=\"data row18 col2\" >81.800000</td>\n",
       "                        <td id=\"T_71417c81_5dbc_11ec_8f98_cbee68bc0202row18_col3\" class=\"data row18 col3\" >59.000000</td>\n",
       "                        <td id=\"T_71417c81_5dbc_11ec_8f98_cbee68bc0202row18_col4\" class=\"data row18 col4\" >0</td>\n",
       "                        <td id=\"T_71417c81_5dbc_11ec_8f98_cbee68bc0202row18_col5\" class=\"data row18 col5\" >5.970000</td>\n",
       "                        <td id=\"T_71417c81_5dbc_11ec_8f98_cbee68bc0202row18_col6\" class=\"data row18 col6\" >0.000000</td>\n",
       "                        <td id=\"T_71417c81_5dbc_11ec_8f98_cbee68bc0202row18_col7\" class=\"data row18 col7\" >0.000000</td>\n",
       "                        <td id=\"T_71417c81_5dbc_11ec_8f98_cbee68bc0202row18_col8\" class=\"data row18 col8\" >14</td>\n",
       "                        <td id=\"T_71417c81_5dbc_11ec_8f98_cbee68bc0202row18_col9\" class=\"data row18 col9\" >61.200000</td>\n",
       "                        <td id=\"T_71417c81_5dbc_11ec_8f98_cbee68bc0202row18_col10\" class=\"data row18 col10\" >0</td>\n",
       "                        <td id=\"T_71417c81_5dbc_11ec_8f98_cbee68bc0202row18_col11\" class=\"data row18 col11\" >95</td>\n",
       "                        <td id=\"T_71417c81_5dbc_11ec_8f98_cbee68bc0202row18_col12\" class=\"data row18 col12\" >0.000000</td>\n",
       "                        <td id=\"T_71417c81_5dbc_11ec_8f98_cbee68bc0202row18_col13\" class=\"data row18 col13\" >95</td>\n",
       "                        <td id=\"T_71417c81_5dbc_11ec_8f98_cbee68bc0202row18_col14\" class=\"data row18 col14\" >0.100000</td>\n",
       "                        <td id=\"T_71417c81_5dbc_11ec_8f98_cbee68bc0202row18_col15\" class=\"data row18 col15\" >7455.246540</td>\n",
       "                        <td id=\"T_71417c81_5dbc_11ec_8f98_cbee68bc0202row18_col16\" class=\"data row18 col16\" >518867.000000</td>\n",
       "                        <td id=\"T_71417c81_5dbc_11ec_8f98_cbee68bc0202row18_col17\" class=\"data row18 col17\" >0.800000</td>\n",
       "                        <td id=\"T_71417c81_5dbc_11ec_8f98_cbee68bc0202row18_col18\" class=\"data row18 col18\" >0.700000</td>\n",
       "                        <td id=\"T_71417c81_5dbc_11ec_8f98_cbee68bc0202row18_col19\" class=\"data row18 col19\" >0.948000</td>\n",
       "                        <td id=\"T_71417c81_5dbc_11ec_8f98_cbee68bc0202row18_col20\" class=\"data row18 col20\" >17.700000</td>\n",
       "            </tr>\n",
       "            <tr>\n",
       "                        <th id=\"T_71417c81_5dbc_11ec_8f98_cbee68bc0202level0_row19\" class=\"row_heading level0 row19\" >19</th>\n",
       "                        <td id=\"T_71417c81_5dbc_11ec_8f98_cbee68bc0202row19_col0\" class=\"data row19 col0\" >Malta</td>\n",
       "                        <td id=\"T_71417c81_5dbc_11ec_8f98_cbee68bc0202row19_col1\" class=\"data row19 col1\" >2015</td>\n",
       "                        <td id=\"T_71417c81_5dbc_11ec_8f98_cbee68bc0202row19_col2\" class=\"data row19 col2\" >81.700000</td>\n",
       "                        <td id=\"T_71417c81_5dbc_11ec_8f98_cbee68bc0202row19_col3\" class=\"data row19 col3\" >54.000000</td>\n",
       "                        <td id=\"T_71417c81_5dbc_11ec_8f98_cbee68bc0202row19_col4\" class=\"data row19 col4\" >0</td>\n",
       "                        <td id=\"T_71417c81_5dbc_11ec_8f98_cbee68bc0202row19_col5\" class=\"data row19 col5\" >0.000000</td>\n",
       "                        <td id=\"T_71417c81_5dbc_11ec_8f98_cbee68bc0202row19_col6\" class=\"data row19 col6\" >0.000000</td>\n",
       "                        <td id=\"T_71417c81_5dbc_11ec_8f98_cbee68bc0202row19_col7\" class=\"data row19 col7\" >95.000000</td>\n",
       "                        <td id=\"T_71417c81_5dbc_11ec_8f98_cbee68bc0202row19_col8\" class=\"data row19 col8\" >2</td>\n",
       "                        <td id=\"T_71417c81_5dbc_11ec_8f98_cbee68bc0202row19_col9\" class=\"data row19 col9\" >69.600000</td>\n",
       "                        <td id=\"T_71417c81_5dbc_11ec_8f98_cbee68bc0202row19_col10\" class=\"data row19 col10\" >0</td>\n",
       "                        <td id=\"T_71417c81_5dbc_11ec_8f98_cbee68bc0202row19_col11\" class=\"data row19 col11\" >97</td>\n",
       "                        <td id=\"T_71417c81_5dbc_11ec_8f98_cbee68bc0202row19_col12\" class=\"data row19 col12\" >0.000000</td>\n",
       "                        <td id=\"T_71417c81_5dbc_11ec_8f98_cbee68bc0202row19_col13\" class=\"data row19 col13\" >97</td>\n",
       "                        <td id=\"T_71417c81_5dbc_11ec_8f98_cbee68bc0202row19_col14\" class=\"data row19 col14\" >0.100000</td>\n",
       "                        <td id=\"T_71417c81_5dbc_11ec_8f98_cbee68bc0202row19_col15\" class=\"data row19 col15\" >23819.463600</td>\n",
       "                        <td id=\"T_71417c81_5dbc_11ec_8f98_cbee68bc0202row19_col16\" class=\"data row19 col16\" >431874.000000</td>\n",
       "                        <td id=\"T_71417c81_5dbc_11ec_8f98_cbee68bc0202row19_col17\" class=\"data row19 col17\" >0.800000</td>\n",
       "                        <td id=\"T_71417c81_5dbc_11ec_8f98_cbee68bc0202row19_col18\" class=\"data row19 col18\" >0.800000</td>\n",
       "                        <td id=\"T_71417c81_5dbc_11ec_8f98_cbee68bc0202row19_col19\" class=\"data row19 col19\" >0.853000</td>\n",
       "                        <td id=\"T_71417c81_5dbc_11ec_8f98_cbee68bc0202row19_col20\" class=\"data row19 col20\" >14.600000</td>\n",
       "            </tr>\n",
       "    </tbody></table>"
      ],
      "text/plain": [
       "<pandas.io.formats.style.Styler at 0x19e92436430>"
      ]
     },
     "execution_count": 9,
     "metadata": {},
     "output_type": "execute_result"
    }
   ],
   "source": [
    "top = nd.groupby('Country').sum()\n",
    "top_active = top.sort_values('Life_expectancy', ascending=False).reset_index()\n",
    "top_active.head(20).style.background_gradient(cmap='plasma')"
   ]
  },
  {
   "cell_type": "code",
   "execution_count": 10,
   "metadata": {
    "extensions": {
     "jupyter_dashboards": {
      "version": 1,
      "views": {
       "grid_default": {},
       "report_default": {}
      }
     }
    }
   },
   "outputs": [
    {
     "data": {
      "image/png": "[encoded data removed]",
      "text/plain": [
       "<Figure size 1080x720 with 2 Axes>"
      ]
     },
     "metadata": {
      "needs_background": "light"
     },
     "output_type": "display_data"
    }
   ],
   "source": [
    "plt.figure(figsize=(15,10))\n",
    "plt.title(\"HEATMAP\", fontsize=20)\n",
    "\n",
    "sns.heatmap(nd.corr(),annot=True)\n",
    "plt.show()"
   ]
  },
  {
   "cell_type": "code",
   "execution_count": 11,
   "metadata": {
    "extensions": {
     "jupyter_dashboards": {
      "version": 1,
      "views": {
       "grid_default": {},
       "report_default": {}
      }
     }
    }
   },
   "outputs": [
    {
     "data": {
      "image/png": "[encoded data removed]",
      "text/plain": [
       "<Figure size 1080x2160 with 18 Axes>"
      ]
     },
     "metadata": {
      "needs_background": "light"
     },
     "output_type": "display_data"
    }
   ],
   "source": [
    "plt.figure(figsize=(15,30))\n",
    "for i in range(1,19):\n",
    "    plt.subplot(6,3,i)\n",
    "    sns.regplot(x=nd.columns[i+3],y='Life_expectancy',data=nd)"
   ]
  },
  {
   "cell_type": "code",
   "execution_count": 12,
   "metadata": {
    "extensions": {
     "jupyter_dashboards": {
      "version": 1,
      "views": {
       "grid_default": {},
       "report_default": {}
      }
     }
    }
   },
   "outputs": [
    {
     "data": {
      "text/html": [
       "<div>\n",
       "<style scoped>\n",
       "    .dataframe tbody tr th:only-of-type {\n",
       "        vertical-align: middle;\n",
       "    }\n",
       "\n",
       "    .dataframe tbody tr th {\n",
       "        vertical-align: top;\n",
       "    }\n",
       "\n",
       "    .dataframe thead th {\n",
       "        text-align: right;\n",
       "    }\n",
       "</style>\n",
       "<table border=\"1\" class=\"dataframe\">\n",
       "  <thead>\n",
       "    <tr style=\"text-align: right;\">\n",
       "      <th></th>\n",
       "      <th>Country</th>\n",
       "      <th>Continent</th>\n",
       "      <th>Average</th>\n",
       "      <th>Male</th>\n",
       "      <th>Female</th>\n",
       "    </tr>\n",
       "  </thead>\n",
       "  <tbody>\n",
       "    <tr>\n",
       "      <th>0</th>\n",
       "      <td>Colombia</td>\n",
       "      <td>Asia</td>\n",
       "      <td>85.026</td>\n",
       "      <td>82.128</td>\n",
       "      <td>87.914</td>\n",
       "    </tr>\n",
       "    <tr>\n",
       "      <th>1</th>\n",
       "      <td>Jamaica</td>\n",
       "      <td>Asia</td>\n",
       "      <td>84.790</td>\n",
       "      <td>81.658</td>\n",
       "      <td>87.842</td>\n",
       "    </tr>\n",
       "    <tr>\n",
       "      <th>2</th>\n",
       "      <td>Hong Kong</td>\n",
       "      <td>Asia</td>\n",
       "      <td>84.424</td>\n",
       "      <td>81.466</td>\n",
       "      <td>87.360</td>\n",
       "    </tr>\n",
       "    <tr>\n",
       "      <th>3</th>\n",
       "      <td>Switzerland</td>\n",
       "      <td>Europe</td>\n",
       "      <td>83.974</td>\n",
       "      <td>82.092</td>\n",
       "      <td>85.776</td>\n",
       "    </tr>\n",
       "    <tr>\n",
       "      <th>4</th>\n",
       "      <td>Seychelles</td>\n",
       "      <td>Asia</td>\n",
       "      <td>83.798</td>\n",
       "      <td>81.736</td>\n",
       "      <td>85.898</td>\n",
       "    </tr>\n",
       "    <tr>\n",
       "      <th>5</th>\n",
       "      <td>South Africa</td>\n",
       "      <td>Europe</td>\n",
       "      <td>83.738</td>\n",
       "      <td>81.002</td>\n",
       "      <td>86.428</td>\n",
       "    </tr>\n",
       "    <tr>\n",
       "      <th>6</th>\n",
       "      <td>Israel</td>\n",
       "      <td>Europe</td>\n",
       "      <td>83.712</td>\n",
       "      <td>81.556</td>\n",
       "      <td>85.722</td>\n",
       "    </tr>\n",
       "    <tr>\n",
       "      <th>7</th>\n",
       "      <td>Australia</td>\n",
       "      <td>Ocenia</td>\n",
       "      <td>83.644</td>\n",
       "      <td>81.732</td>\n",
       "      <td>85.568</td>\n",
       "    </tr>\n",
       "    <tr>\n",
       "      <th>8</th>\n",
       "      <td>Hungary</td>\n",
       "      <td>Europe</td>\n",
       "      <td>83.220</td>\n",
       "      <td>81.782</td>\n",
       "      <td>84.664</td>\n",
       "    </tr>\n",
       "    <tr>\n",
       "      <th>9</th>\n",
       "      <td>Portugal</td>\n",
       "      <td>Asia</td>\n",
       "      <td>83.208</td>\n",
       "      <td>80.128</td>\n",
       "      <td>86.132</td>\n",
       "    </tr>\n",
       "    <tr>\n",
       "      <th>10</th>\n",
       "      <td>Ireland</td>\n",
       "      <td>Asia</td>\n",
       "      <td>83.190</td>\n",
       "      <td>81.604</td>\n",
       "      <td>84.674</td>\n",
       "    </tr>\n",
       "    <tr>\n",
       "      <th>11</th>\n",
       "      <td>Sweden</td>\n",
       "      <td>Europe</td>\n",
       "      <td>83.026</td>\n",
       "      <td>81.314</td>\n",
       "      <td>84.734</td>\n",
       "    </tr>\n",
       "    <tr>\n",
       "      <th>12</th>\n",
       "      <td>Finland</td>\n",
       "      <td>Europe</td>\n",
       "      <td>82.862</td>\n",
       "      <td>79.968</td>\n",
       "      <td>85.636</td>\n",
       "    </tr>\n",
       "    <tr>\n",
       "      <th>13</th>\n",
       "      <td>Mali</td>\n",
       "      <td>Europe</td>\n",
       "      <td>82.752</td>\n",
       "      <td>80.982</td>\n",
       "      <td>84.436</td>\n",
       "    </tr>\n",
       "    <tr>\n",
       "      <th>14</th>\n",
       "      <td>Canada</td>\n",
       "      <td>North America</td>\n",
       "      <td>82.664</td>\n",
       "      <td>80.754</td>\n",
       "      <td>84.544</td>\n",
       "    </tr>\n",
       "    <tr>\n",
       "      <th>15</th>\n",
       "      <td>Nigeria</td>\n",
       "      <td>Europe</td>\n",
       "      <td>82.636</td>\n",
       "      <td>80.734</td>\n",
       "      <td>84.548</td>\n",
       "    </tr>\n",
       "    <tr>\n",
       "      <th>16</th>\n",
       "      <td>Iraq</td>\n",
       "      <td>Europe</td>\n",
       "      <td>82.506</td>\n",
       "      <td>80.914</td>\n",
       "      <td>84.072</td>\n",
       "    </tr>\n",
       "    <tr>\n",
       "      <th>17</th>\n",
       "      <td>Nepal</td>\n",
       "      <td>Ocenia</td>\n",
       "      <td>82.504</td>\n",
       "      <td>80.840</td>\n",
       "      <td>84.148</td>\n",
       "    </tr>\n",
       "    <tr>\n",
       "      <th>18</th>\n",
       "      <td>Nauru</td>\n",
       "      <td>Europe</td>\n",
       "      <td>82.492</td>\n",
       "      <td>80.848</td>\n",
       "      <td>84.118</td>\n",
       "    </tr>\n",
       "    <tr>\n",
       "      <th>19</th>\n",
       "      <td>Ghana</td>\n",
       "      <td>Europe</td>\n",
       "      <td>82.472</td>\n",
       "      <td>80.104</td>\n",
       "      <td>84.840</td>\n",
       "    </tr>\n",
       "  </tbody>\n",
       "</table>\n",
       "</div>"
      ],
      "text/plain": [
       "         Country      Continent  Average    Male  Female\n",
       "0       Colombia           Asia   85.026  82.128  87.914\n",
       "1        Jamaica           Asia   84.790  81.658  87.842\n",
       "2      Hong Kong           Asia   84.424  81.466  87.360\n",
       "3    Switzerland         Europe   83.974  82.092  85.776\n",
       "4     Seychelles           Asia   83.798  81.736  85.898\n",
       "5   South Africa         Europe   83.738  81.002  86.428\n",
       "6         Israel         Europe   83.712  81.556  85.722\n",
       "7      Australia         Ocenia   83.644  81.732  85.568\n",
       "8        Hungary         Europe   83.220  81.782  84.664\n",
       "9       Portugal           Asia   83.208  80.128  86.132\n",
       "10       Ireland           Asia   83.190  81.604  84.674\n",
       "11        Sweden         Europe   83.026  81.314  84.734\n",
       "12       Finland         Europe   82.862  79.968  85.636\n",
       "13          Mali         Europe   82.752  80.982  84.436\n",
       "14        Canada  North America   82.664  80.754  84.544\n",
       "15       Nigeria         Europe   82.636  80.734  84.548\n",
       "16          Iraq         Europe   82.506  80.914  84.072\n",
       "17         Nepal         Ocenia   82.504  80.840  84.148\n",
       "18         Nauru         Europe   82.492  80.848  84.118\n",
       "19         Ghana         Europe   82.472  80.104  84.840"
      ]
     },
     "execution_count": 12,
     "metadata": {},
     "output_type": "execute_result"
    }
   ],
   "source": [
    "jk = pd.read_csv(r'C:\\Users\\ESEE Ent\\expcsv.csv', sep = ',', encoding= 'unicode_escape')\n",
    "\n",
    "jk.head(20)"
   ]
  },
  {
   "cell_type": "code",
   "execution_count": 13,
   "metadata": {
    "extensions": {
     "jupyter_dashboards": {
      "version": 1,
      "views": {
       "grid_default": {},
       "report_default": {}
      }
     }
    }
   },
   "outputs": [
    {
     "data": {
      "application/vnd.plotly.v1+json": {
       "config": {
        "plotlyServerURL": "https://plot.ly"
       },
       "data": [
        {
         "alignmentgroup": "True",
         "hovertemplate": "color=Colombia<br>x=%{x}<br>y=%{y}<br>text=%{text}<extra></extra>",
         "legendgroup": "Colombia",
         "marker": {
          "color": "#636efa",
          "pattern": {
           "shape": ""
          }
         },
         "name": "Colombia",
         "offsetgroup": "Colombia",
         "orientation": "v",
         "showlegend": true,
         "text": [
          "85.02600000000001"
         ],
         "textposition": "auto",
         "type": "bar",
         "x": [
          "Colombia"
         ],
         "xaxis": "x",
         "y": [
          85.02600000000001
         ],
         "yaxis": "y"
        },
        {
         "alignmentgroup": "True",
         "hovertemplate": "color=Jamaica<br>x=%{x}<br>y=%{y}<br>text=%{text}<extra></extra>",
         "legendgroup": "Jamaica",
         "marker": {
          "color": "#EF553B",
          "pattern": {
           "shape": ""
          }
         },
         "name": "Jamaica",
         "offsetgroup": "Jamaica",
         "orientation": "v",
         "showlegend": true,
         "text": [
          "84.79"
         ],
         "textposition": "auto",
         "type": "bar",
         "x": [
          "Jamaica"
         ],
         "xaxis": "x",
         "y": [
          84.79
         ],
         "yaxis": "y"
        },
        {
         "alignmentgroup": "True",
         "hovertemplate": "color=Hong Kong<br>x=%{x}<br>y=%{y}<br>text=%{text}<extra></extra>",
         "legendgroup": "Hong Kong",
         "marker": {
          "color": "#00cc96",
          "pattern": {
           "shape": ""
          }
         },
         "name": "Hong Kong",
         "offsetgroup": "Hong Kong",
         "orientation": "v",
         "showlegend": true,
         "text": [
          "84.42399999999999"
         ],
         "textposition": "auto",
         "type": "bar",
         "x": [
          "Hong Kong"
         ],
         "xaxis": "x",
         "y": [
          84.42399999999999
         ],
         "yaxis": "y"
        },
        {
         "alignmentgroup": "True",
         "hovertemplate": "color=Switzerland<br>x=%{x}<br>y=%{y}<br>text=%{text}<extra></extra>",
         "legendgroup": "Switzerland",
         "marker": {
          "color": "#ab63fa",
          "pattern": {
           "shape": ""
          }
         },
         "name": "Switzerland",
         "offsetgroup": "Switzerland",
         "orientation": "v",
         "showlegend": true,
         "text": [
          "83.97399999999999"
         ],
         "textposition": "auto",
         "type": "bar",
         "x": [
          "Switzerland"
         ],
         "xaxis": "x",
         "y": [
          83.97399999999999
         ],
         "yaxis": "y"
        },
        {
         "alignmentgroup": "True",
         "hovertemplate": "color=Seychelles<br>x=%{x}<br>y=%{y}<br>text=%{text}<extra></extra>",
         "legendgroup": "Seychelles",
         "marker": {
          "color": "#FFA15A",
          "pattern": {
           "shape": ""
          }
         },
         "name": "Seychelles",
         "offsetgroup": "Seychelles",
         "orientation": "v",
         "showlegend": true,
         "text": [
          "83.79799999999999"
         ],
         "textposition": "auto",
         "type": "bar",
         "x": [
          "Seychelles"
         ],
         "xaxis": "x",
         "y": [
          83.79799999999999
         ],
         "yaxis": "y"
        },
        {
         "alignmentgroup": "True",
         "hovertemplate": "color=South Africa<br>x=%{x}<br>y=%{y}<br>text=%{text}<extra></extra>",
         "legendgroup": "South Africa",
         "marker": {
          "color": "#19d3f3",
          "pattern": {
           "shape": ""
          }
         },
         "name": "South Africa",
         "offsetgroup": "South Africa",
         "orientation": "v",
         "showlegend": true,
         "text": [
          "83.738"
         ],
         "textposition": "auto",
         "type": "bar",
         "x": [
          "South Africa"
         ],
         "xaxis": "x",
         "y": [
          83.738
         ],
         "yaxis": "y"
        },
        {
         "alignmentgroup": "True",
         "hovertemplate": "color=Israel<br>x=%{x}<br>y=%{y}<br>text=%{text}<extra></extra>",
         "legendgroup": "Israel",
         "marker": {
          "color": "#FF6692",
          "pattern": {
           "shape": ""
          }
         },
         "name": "Israel",
         "offsetgroup": "Israel",
         "orientation": "v",
         "showlegend": true,
         "text": [
          "83.712"
         ],
         "textposition": "auto",
         "type": "bar",
         "x": [
          "Israel"
         ],
         "xaxis": "x",
         "y": [
          83.712
         ],
         "yaxis": "y"
        },
        {
         "alignmentgroup": "True",
         "hovertemplate": "color=Australia<br>x=%{x}<br>y=%{y}<br>text=%{text}<extra></extra>",
         "legendgroup": "Australia",
         "marker": {
          "color": "#B6E880",
          "pattern": {
           "shape": ""
          }
         },
         "name": "Australia",
         "offsetgroup": "Australia",
         "orientation": "v",
         "showlegend": true,
         "text": [
          "83.64399999999999"
         ],
         "textposition": "auto",
         "type": "bar",
         "x": [
          "Australia"
         ],
         "xaxis": "x",
         "y": [
          83.64399999999999
         ],
         "yaxis": "y"
        },
        {
         "alignmentgroup": "True",
         "hovertemplate": "color=Hungary<br>x=%{x}<br>y=%{y}<br>text=%{text}<extra></extra>",
         "legendgroup": "Hungary",
         "marker": {
          "color": "#FF97FF",
          "pattern": {
           "shape": ""
          }
         },
         "name": "Hungary",
         "offsetgroup": "Hungary",
         "orientation": "v",
         "showlegend": true,
         "text": [
          "83.22"
         ],
         "textposition": "auto",
         "type": "bar",
         "x": [
          "Hungary"
         ],
         "xaxis": "x",
         "y": [
          83.22
         ],
         "yaxis": "y"
        },
        {
         "alignmentgroup": "True",
         "hovertemplate": "color=Portugal<br>x=%{x}<br>y=%{y}<br>text=%{text}<extra></extra>",
         "legendgroup": "Portugal",
         "marker": {
          "color": "#FECB52",
          "pattern": {
           "shape": ""
          }
         },
         "name": "Portugal",
         "offsetgroup": "Portugal",
         "orientation": "v",
         "showlegend": true,
         "text": [
          "83.208"
         ],
         "textposition": "auto",
         "type": "bar",
         "x": [
          "Portugal"
         ],
         "xaxis": "x",
         "y": [
          83.208
         ],
         "yaxis": "y"
        },
        {
         "alignmentgroup": "True",
         "hovertemplate": "color=Ireland<br>x=%{x}<br>y=%{y}<br>text=%{text}<extra></extra>",
         "legendgroup": "Ireland",
         "marker": {
          "color": "#636efa",
          "pattern": {
           "shape": ""
          }
         },
         "name": "Ireland",
         "offsetgroup": "Ireland",
         "orientation": "v",
         "showlegend": true,
         "text": [
          "83.19"
         ],
         "textposition": "auto",
         "type": "bar",
         "x": [
          "Ireland"
         ],
         "xaxis": "x",
         "y": [
          83.19
         ],
         "yaxis": "y"
        },
        {
         "alignmentgroup": "True",
         "hovertemplate": "color=Sweden<br>x=%{x}<br>y=%{y}<br>text=%{text}<extra></extra>",
         "legendgroup": "Sweden",
         "marker": {
          "color": "#EF553B",
          "pattern": {
           "shape": ""
          }
         },
         "name": "Sweden",
         "offsetgroup": "Sweden",
         "orientation": "v",
         "showlegend": true,
         "text": [
          "83.02600000000001"
         ],
         "textposition": "auto",
         "type": "bar",
         "x": [
          "Sweden"
         ],
         "xaxis": "x",
         "y": [
          83.02600000000001
         ],
         "yaxis": "y"
        },
        {
         "alignmentgroup": "True",
         "hovertemplate": "color=Finland<br>x=%{x}<br>y=%{y}<br>text=%{text}<extra></extra>",
         "legendgroup": "Finland",
         "marker": {
          "color": "#00cc96",
          "pattern": {
           "shape": ""
          }
         },
         "name": "Finland",
         "offsetgroup": "Finland",
         "orientation": "v",
         "showlegend": true,
         "text": [
          "82.86200000000001"
         ],
         "textposition": "auto",
         "type": "bar",
         "x": [
          "Finland"
         ],
         "xaxis": "x",
         "y": [
          82.86200000000001
         ],
         "yaxis": "y"
        },
        {
         "alignmentgroup": "True",
         "hovertemplate": "color=Mali<br>x=%{x}<br>y=%{y}<br>text=%{text}<extra></extra>",
         "legendgroup": "Mali",
         "marker": {
          "color": "#ab63fa",
          "pattern": {
           "shape": ""
          }
         },
         "name": "Mali",
         "offsetgroup": "Mali",
         "orientation": "v",
         "showlegend": true,
         "text": [
          "82.75200000000001"
         ],
         "textposition": "auto",
         "type": "bar",
         "x": [
          "Mali"
         ],
         "xaxis": "x",
         "y": [
          82.75200000000001
         ],
         "yaxis": "y"
        },
        {
         "alignmentgroup": "True",
         "hovertemplate": "color=Canada<br>x=%{x}<br>y=%{y}<br>text=%{text}<extra></extra>",
         "legendgroup": "Canada",
         "marker": {
          "color": "#FFA15A",
          "pattern": {
           "shape": ""
          }
         },
         "name": "Canada",
         "offsetgroup": "Canada",
         "orientation": "v",
         "showlegend": true,
         "text": [
          "82.664"
         ],
         "textposition": "auto",
         "type": "bar",
         "x": [
          "Canada"
         ],
         "xaxis": "x",
         "y": [
          82.664
         ],
         "yaxis": "y"
        },
        {
         "alignmentgroup": "True",
         "hovertemplate": "color=Nigeria<br>x=%{x}<br>y=%{y}<br>text=%{text}<extra></extra>",
         "legendgroup": "Nigeria",
         "marker": {
          "color": "#19d3f3",
          "pattern": {
           "shape": ""
          }
         },
         "name": "Nigeria",
         "offsetgroup": "Nigeria",
         "orientation": "v",
         "showlegend": true,
         "text": [
          "82.63600000000001"
         ],
         "textposition": "auto",
         "type": "bar",
         "x": [
          "Nigeria"
         ],
         "xaxis": "x",
         "y": [
          82.63600000000001
         ],
         "yaxis": "y"
        },
        {
         "alignmentgroup": "True",
         "hovertemplate": "color=Iraq<br>x=%{x}<br>y=%{y}<br>text=%{text}<extra></extra>",
         "legendgroup": "Iraq",
         "marker": {
          "color": "#FF6692",
          "pattern": {
           "shape": ""
          }
         },
         "name": "Iraq",
         "offsetgroup": "Iraq",
         "orientation": "v",
         "showlegend": true,
         "text": [
          "82.506"
         ],
         "textposition": "auto",
         "type": "bar",
         "x": [
          "Iraq"
         ],
         "xaxis": "x",
         "y": [
          82.506
         ],
         "yaxis": "y"
        },
        {
         "alignmentgroup": "True",
         "hovertemplate": "color=Nepal<br>x=%{x}<br>y=%{y}<br>text=%{text}<extra></extra>",
         "legendgroup": "Nepal",
         "marker": {
          "color": "#B6E880",
          "pattern": {
           "shape": ""
          }
         },
         "name": "Nepal",
         "offsetgroup": "Nepal",
         "orientation": "v",
         "showlegend": true,
         "text": [
          "82.50399999999999"
         ],
         "textposition": "auto",
         "type": "bar",
         "x": [
          "Nepal"
         ],
         "xaxis": "x",
         "y": [
          82.50399999999999
         ],
         "yaxis": "y"
        },
        {
         "alignmentgroup": "True",
         "hovertemplate": "color=Nauru<br>x=%{x}<br>y=%{y}<br>text=%{text}<extra></extra>",
         "legendgroup": "Nauru",
         "marker": {
          "color": "#FF97FF",
          "pattern": {
           "shape": ""
          }
         },
         "name": "Nauru",
         "offsetgroup": "Nauru",
         "orientation": "v",
         "showlegend": true,
         "text": [
          "82.492"
         ],
         "textposition": "auto",
         "type": "bar",
         "x": [
          "Nauru"
         ],
         "xaxis": "x",
         "y": [
          82.492
         ],
         "yaxis": "y"
        },
        {
         "alignmentgroup": "True",
         "hovertemplate": "color=Ghana<br>x=%{x}<br>y=%{y}<br>text=%{text}<extra></extra>",
         "legendgroup": "Ghana",
         "marker": {
          "color": "#FECB52",
          "pattern": {
           "shape": ""
          }
         },
         "name": "Ghana",
         "offsetgroup": "Ghana",
         "orientation": "v",
         "showlegend": true,
         "text": [
          "82.47200000000001"
         ],
         "textposition": "auto",
         "type": "bar",
         "x": [
          "Ghana"
         ],
         "xaxis": "x",
         "y": [
          82.47200000000001
         ],
         "yaxis": "y"
        },
        {
         "alignmentgroup": "True",
         "hovertemplate": "color=Lithuania<br>x=%{x}<br>y=%{y}<br>text=%{text}<extra></extra>",
         "legendgroup": "Lithuania",
         "marker": {
          "color": "#636efa",
          "pattern": {
           "shape": ""
          }
         },
         "name": "Lithuania",
         "offsetgroup": "Lithuania",
         "orientation": "v",
         "showlegend": true,
         "text": [
          "82.46799999999999"
         ],
         "textposition": "auto",
         "type": "bar",
         "x": [
          "Lithuania"
         ],
         "xaxis": "x",
         "y": [
          82.46799999999999
         ],
         "yaxis": "y"
        },
        {
         "alignmentgroup": "True",
         "hovertemplate": "color=Philippines<br>x=%{x}<br>y=%{y}<br>text=%{text}<extra></extra>",
         "legendgroup": "Philippines",
         "marker": {
          "color": "#EF553B",
          "pattern": {
           "shape": ""
          }
         },
         "name": "Philippines",
         "offsetgroup": "Philippines",
         "orientation": "v",
         "showlegend": true,
         "text": [
          "82.29"
         ],
         "textposition": "auto",
         "type": "bar",
         "x": [
          "Philippines"
         ],
         "xaxis": "x",
         "y": [
          82.29
         ],
         "yaxis": "y"
        },
        {
         "alignmentgroup": "True",
         "hovertemplate": "color=Belgium<br>x=%{x}<br>y=%{y}<br>text=%{text}<extra></extra>",
         "legendgroup": "Belgium",
         "marker": {
          "color": "#00cc96",
          "pattern": {
           "shape": ""
          }
         },
         "name": "Belgium",
         "offsetgroup": "Belgium",
         "orientation": "v",
         "showlegend": true,
         "text": [
          "81.858"
         ],
         "textposition": "auto",
         "type": "bar",
         "x": [
          "Belgium"
         ],
         "xaxis": "x",
         "y": [
          81.858
         ],
         "yaxis": "y"
        },
        {
         "alignmentgroup": "True",
         "hovertemplate": "color=Austria<br>x=%{x}<br>y=%{y}<br>text=%{text}<extra></extra>",
         "legendgroup": "Austria",
         "marker": {
          "color": "#ab63fa",
          "pattern": {
           "shape": ""
          }
         },
         "name": "Austria",
         "offsetgroup": "Austria",
         "orientation": "v",
         "showlegend": true,
         "text": [
          "81.77"
         ],
         "textposition": "auto",
         "type": "bar",
         "x": [
          "Austria"
         ],
         "xaxis": "x",
         "y": [
          81.77
         ],
         "yaxis": "y"
        },
        {
         "alignmentgroup": "True",
         "hovertemplate": "color=Georgia<br>x=%{x}<br>y=%{y}<br>text=%{text}<extra></extra>",
         "legendgroup": "Georgia",
         "marker": {
          "color": "#FFA15A",
          "pattern": {
           "shape": ""
          }
         },
         "name": "Georgia",
         "offsetgroup": "Georgia",
         "orientation": "v",
         "showlegend": true,
         "text": [
          "81.568"
         ],
         "textposition": "auto",
         "type": "bar",
         "x": [
          "Georgia"
         ],
         "xaxis": "x",
         "y": [
          81.568
         ],
         "yaxis": "y"
        },
        {
         "alignmentgroup": "True",
         "hovertemplate": "color=Singapore<br>x=%{x}<br>y=%{y}<br>text=%{text}<extra></extra>",
         "legendgroup": "Singapore",
         "marker": {
          "color": "#19d3f3",
          "pattern": {
           "shape": ""
          }
         },
         "name": "Singapore",
         "offsetgroup": "Singapore",
         "orientation": "v",
         "showlegend": true,
         "text": [
          "81.542"
         ],
         "textposition": "auto",
         "type": "bar",
         "x": [
          "Singapore"
         ],
         "xaxis": "x",
         "y": [
          81.542
         ],
         "yaxis": "y"
        },
        {
         "alignmentgroup": "True",
         "hovertemplate": "color=United Kingdom of Great Britain and Northern Ireland<br>x=%{x}<br>y=%{y}<br>text=%{text}<extra></extra>",
         "legendgroup": "United Kingdom of Great Britain and Northern Ireland",
         "marker": {
          "color": "#FF6692",
          "pattern": {
           "shape": ""
          }
         },
         "name": "United Kingdom of Great Britain and Northern Ireland",
         "offsetgroup": "United Kingdom of Great Britain and Northern Ireland",
         "orientation": "v",
         "showlegend": true,
         "text": [
          "81.52199999999999"
         ],
         "textposition": "auto",
         "type": "bar",
         "x": [
          "United Kingdom of Great Britain and Northern Ireland"
         ],
         "xaxis": "x",
         "y": [
          81.52199999999999
         ],
         "yaxis": "y"
        },
        {
         "alignmentgroup": "True",
         "hovertemplate": "color=Cuba<br>x=%{x}<br>y=%{y}<br>text=%{text}<extra></extra>",
         "legendgroup": "Cuba",
         "marker": {
          "color": "#B6E880",
          "pattern": {
           "shape": ""
          }
         },
         "name": "Cuba",
         "offsetgroup": "Cuba",
         "orientation": "v",
         "showlegend": true,
         "text": [
          "81.206"
         ],
         "textposition": "auto",
         "type": "bar",
         "x": [
          "Cuba"
         ],
         "xaxis": "x",
         "y": [
          81.206
         ],
         "yaxis": "y"
        },
        {
         "alignmentgroup": "True",
         "hovertemplate": "color=Democratic Republic of the Congo<br>x=%{x}<br>y=%{y}<br>text=%{text}<extra></extra>",
         "legendgroup": "Democratic Republic of the Congo",
         "marker": {
          "color": "#FF97FF",
          "pattern": {
           "shape": ""
          }
         },
         "name": "Democratic Republic of the Congo",
         "offsetgroup": "Democratic Republic of the Congo",
         "orientation": "v",
         "showlegend": true,
         "text": [
          "81.112"
         ],
         "textposition": "auto",
         "type": "bar",
         "x": [
          "Democratic Republic of the Congo"
         ],
         "xaxis": "x",
         "y": [
          81.112
         ],
         "yaxis": "y"
        },
        {
         "alignmentgroup": "True",
         "hovertemplate": "color=Japan<br>x=%{x}<br>y=%{y}<br>text=%{text}<extra></extra>",
         "legendgroup": "Japan",
         "marker": {
          "color": "#FECB52",
          "pattern": {
           "shape": ""
          }
         },
         "name": "Japan",
         "offsetgroup": "Japan",
         "orientation": "v",
         "showlegend": true,
         "text": [
          "74.738"
         ],
         "textposition": "auto",
         "type": "bar",
         "x": [
          "Japan"
         ],
         "xaxis": "x",
         "y": [
          74.738
         ],
         "yaxis": "y"
        },
        {
         "alignmentgroup": "True",
         "hovertemplate": "color=Italy<br>x=%{x}<br>y=%{y}<br>text=%{text}<extra></extra>",
         "legendgroup": "Italy",
         "marker": {
          "color": "#636efa",
          "pattern": {
           "shape": ""
          }
         },
         "name": "Italy",
         "offsetgroup": "Italy",
         "orientation": "v",
         "showlegend": true,
         "text": [
          "74.66"
         ],
         "textposition": "auto",
         "type": "bar",
         "x": [
          "Italy"
         ],
         "xaxis": "x",
         "y": [
          74.66
         ],
         "yaxis": "y"
        },
        {
         "alignmentgroup": "True",
         "hovertemplate": "color=Grenada<br>x=%{x}<br>y=%{y}<br>text=%{text}<extra></extra>",
         "legendgroup": "Grenada",
         "marker": {
          "color": "#EF553B",
          "pattern": {
           "shape": ""
          }
         },
         "name": "Grenada",
         "offsetgroup": "Grenada",
         "orientation": "v",
         "showlegend": true,
         "text": [
          "74.60600000000001"
         ],
         "textposition": "auto",
         "type": "bar",
         "x": [
          "Grenada"
         ],
         "xaxis": "x",
         "y": [
          74.60600000000001
         ],
         "yaxis": "y"
        },
        {
         "alignmentgroup": "True",
         "hovertemplate": "color=Panama<br>x=%{x}<br>y=%{y}<br>text=%{text}<extra></extra>",
         "legendgroup": "Panama",
         "marker": {
          "color": "#00cc96",
          "pattern": {
           "shape": ""
          }
         },
         "name": "Panama",
         "offsetgroup": "Panama",
         "orientation": "v",
         "showlegend": true,
         "text": [
          "74.38600000000001"
         ],
         "textposition": "auto",
         "type": "bar",
         "x": [
          "Panama"
         ],
         "xaxis": "x",
         "y": [
          74.38600000000001
         ],
         "yaxis": "y"
        },
        {
         "alignmentgroup": "True",
         "hovertemplate": "color=Djibouti<br>x=%{x}<br>y=%{y}<br>text=%{text}<extra></extra>",
         "legendgroup": "Djibouti",
         "marker": {
          "color": "#ab63fa",
          "pattern": {
           "shape": ""
          }
         },
         "name": "Djibouti",
         "offsetgroup": "Djibouti",
         "orientation": "v",
         "showlegend": true,
         "text": [
          "74.314"
         ],
         "textposition": "auto",
         "type": "bar",
         "x": [
          "Djibouti"
         ],
         "xaxis": "x",
         "y": [
          74.314
         ],
         "yaxis": "y"
        },
        {
         "alignmentgroup": "True",
         "hovertemplate": "color=Spain<br>x=%{x}<br>y=%{y}<br>text=%{text}<extra></extra>",
         "legendgroup": "Spain",
         "marker": {
          "color": "#FFA15A",
          "pattern": {
           "shape": ""
          }
         },
         "name": "Spain",
         "offsetgroup": "Spain",
         "orientation": "v",
         "showlegend": true,
         "text": [
          "74.3"
         ],
         "textposition": "auto",
         "type": "bar",
         "x": [
          "Spain"
         ],
         "xaxis": "x",
         "y": [
          74.3
         ],
         "yaxis": "y"
        },
        {
         "alignmentgroup": "True",
         "hovertemplate": "color=Syrian Arab Republic<br>x=%{x}<br>y=%{y}<br>text=%{text}<extra></extra>",
         "legendgroup": "Syrian Arab Republic",
         "marker": {
          "color": "#19d3f3",
          "pattern": {
           "shape": ""
          }
         },
         "name": "Syrian Arab Republic",
         "offsetgroup": "Syrian Arab Republic",
         "orientation": "v",
         "showlegend": true,
         "text": [
          "74.164"
         ],
         "textposition": "auto",
         "type": "bar",
         "x": [
          "Syrian Arab Republic"
         ],
         "xaxis": "x",
         "y": [
          74.164
         ],
         "yaxis": "y"
        },
        {
         "alignmentgroup": "True",
         "hovertemplate": "color=Bahamas<br>x=%{x}<br>y=%{y}<br>text=%{text}<extra></extra>",
         "legendgroup": "Bahamas",
         "marker": {
          "color": "#FF6692",
          "pattern": {
           "shape": ""
          }
         },
         "name": "Bahamas",
         "offsetgroup": "Bahamas",
         "orientation": "v",
         "showlegend": true,
         "text": [
          "74.06"
         ],
         "textposition": "auto",
         "type": "bar",
         "x": [
          "Bahamas"
         ],
         "xaxis": "x",
         "y": [
          74.06
         ],
         "yaxis": "y"
        },
        {
         "alignmentgroup": "True",
         "hovertemplate": "color=Gambia<br>x=%{x}<br>y=%{y}<br>text=%{text}<extra></extra>",
         "legendgroup": "Gambia",
         "marker": {
          "color": "#B6E880",
          "pattern": {
           "shape": ""
          }
         },
         "name": "Gambia",
         "offsetgroup": "Gambia",
         "orientation": "v",
         "showlegend": true,
         "text": [
          "73.952"
         ],
         "textposition": "auto",
         "type": "bar",
         "x": [
          "Gambia"
         ],
         "xaxis": "x",
         "y": [
          73.952
         ],
         "yaxis": "y"
        },
        {
         "alignmentgroup": "True",
         "hovertemplate": "color=Trinidad and Tobago<br>x=%{x}<br>y=%{y}<br>text=%{text}<extra></extra>",
         "legendgroup": "Trinidad and Tobago",
         "marker": {
          "color": "#FF97FF",
          "pattern": {
           "shape": ""
          }
         },
         "name": "Trinidad and Tobago",
         "offsetgroup": "Trinidad and Tobago",
         "orientation": "v",
         "showlegend": true,
         "text": [
          "73.67"
         ],
         "textposition": "auto",
         "type": "bar",
         "x": [
          "Trinidad and Tobago"
         ],
         "xaxis": "x",
         "y": [
          73.67
         ],
         "yaxis": "y"
        },
        {
         "alignmentgroup": "True",
         "hovertemplate": "color=Kazakhstan<br>x=%{x}<br>y=%{y}<br>text=%{text}<extra></extra>",
         "legendgroup": "Kazakhstan",
         "marker": {
          "color": "#FECB52",
          "pattern": {
           "shape": ""
          }
         },
         "name": "Kazakhstan",
         "offsetgroup": "Kazakhstan",
         "orientation": "v",
         "showlegend": true,
         "text": [
          "66.954"
         ],
         "textposition": "auto",
         "type": "bar",
         "x": [
          "Kazakhstan"
         ],
         "xaxis": "x",
         "y": [
          66.954
         ],
         "yaxis": "y"
        },
        {
         "alignmentgroup": "True",
         "hovertemplate": "color=Myanmar<br>x=%{x}<br>y=%{y}<br>text=%{text}<extra></extra>",
         "legendgroup": "Myanmar",
         "marker": {
          "color": "#636efa",
          "pattern": {
           "shape": ""
          }
         },
         "name": "Myanmar",
         "offsetgroup": "Myanmar",
         "orientation": "v",
         "showlegend": true,
         "text": [
          "64.124"
         ],
         "textposition": "auto",
         "type": "bar",
         "x": [
          "Myanmar"
         ],
         "xaxis": "x",
         "y": [
          64.124
         ],
         "yaxis": "y"
        },
        {
         "alignmentgroup": "True",
         "hovertemplate": "color=Zimbabwe<br>x=%{x}<br>y=%{y}<br>text=%{text}<extra></extra>",
         "legendgroup": "Zimbabwe",
         "marker": {
          "color": "#EF553B",
          "pattern": {
           "shape": ""
          }
         },
         "name": "Zimbabwe",
         "offsetgroup": "Zimbabwe",
         "orientation": "v",
         "showlegend": true,
         "text": [
          "64.124"
         ],
         "textposition": "auto",
         "type": "bar",
         "x": [
          "Zimbabwe"
         ],
         "xaxis": "x",
         "y": [
          64.124
         ],
         "yaxis": "y"
        },
        {
         "alignmentgroup": "True",
         "hovertemplate": "color=Uganda<br>x=%{x}<br>y=%{y}<br>text=%{text}<extra></extra>",
         "legendgroup": "Uganda",
         "marker": {
          "color": "#00cc96",
          "pattern": {
           "shape": ""
          }
         },
         "name": "Uganda",
         "offsetgroup": "Uganda",
         "orientation": "v",
         "showlegend": true,
         "text": [
          "63.732"
         ],
         "textposition": "auto",
         "type": "bar",
         "x": [
          "Uganda"
         ],
         "xaxis": "x",
         "y": [
          63.732
         ],
         "yaxis": "y"
        },
        {
         "alignmentgroup": "True",
         "hovertemplate": "color=New Zealand<br>x=%{x}<br>y=%{y}<br>text=%{text}<extra></extra>",
         "legendgroup": "New Zealand",
         "marker": {
          "color": "#ab63fa",
          "pattern": {
           "shape": ""
          }
         },
         "name": "New Zealand",
         "offsetgroup": "New Zealand",
         "orientation": "v",
         "showlegend": true,
         "text": [
          "62.891999999999996"
         ],
         "textposition": "auto",
         "type": "bar",
         "x": [
          "New Zealand"
         ],
         "xaxis": "x",
         "y": [
          62.891999999999996
         ],
         "yaxis": "y"
        },
        {
         "alignmentgroup": "True",
         "hovertemplate": "color=Gabon<br>x=%{x}<br>y=%{y}<br>text=%{text}<extra></extra>",
         "legendgroup": "Gabon",
         "marker": {
          "color": "#FFA15A",
          "pattern": {
           "shape": ""
          }
         },
         "name": "Gabon",
         "offsetgroup": "Gabon",
         "orientation": "v",
         "showlegend": true,
         "text": [
          "62.571999999999996"
         ],
         "textposition": "auto",
         "type": "bar",
         "x": [
          "Gabon"
         ],
         "xaxis": "x",
         "y": [
          62.571999999999996
         ],
         "yaxis": "y"
        },
        {
         "alignmentgroup": "True",
         "hovertemplate": "color=Serbia<br>x=%{x}<br>y=%{y}<br>text=%{text}<extra></extra>",
         "legendgroup": "Serbia",
         "marker": {
          "color": "#19d3f3",
          "pattern": {
           "shape": ""
          }
         },
         "name": "Serbia",
         "offsetgroup": "Serbia",
         "orientation": "v",
         "showlegend": true,
         "text": [
          "55.18"
         ],
         "textposition": "auto",
         "type": "bar",
         "x": [
          "Serbia"
         ],
         "xaxis": "x",
         "y": [
          55.18
         ],
         "yaxis": "y"
        },
        {
         "alignmentgroup": "True",
         "hovertemplate": "color=Niger<br>x=%{x}<br>y=%{y}<br>text=%{text}<extra></extra>",
         "legendgroup": "Niger",
         "marker": {
          "color": "#FF6692",
          "pattern": {
           "shape": ""
          }
         },
         "name": "Niger",
         "offsetgroup": "Niger",
         "orientation": "v",
         "showlegend": true,
         "text": [
          "55.122"
         ],
         "textposition": "auto",
         "type": "bar",
         "x": [
          "Niger"
         ],
         "xaxis": "x",
         "y": [
          55.122
         ],
         "yaxis": "y"
        },
        {
         "alignmentgroup": "True",
         "hovertemplate": "color=Lebanon<br>x=%{x}<br>y=%{y}<br>text=%{text}<extra></extra>",
         "legendgroup": "Lebanon",
         "marker": {
          "color": "#B6E880",
          "pattern": {
           "shape": ""
          }
         },
         "name": "Lebanon",
         "offsetgroup": "Lebanon",
         "orientation": "v",
         "showlegend": true,
         "text": [
          "54.794"
         ],
         "textposition": "auto",
         "type": "bar",
         "x": [
          "Lebanon"
         ],
         "xaxis": "x",
         "y": [
          54.794
         ],
         "yaxis": "y"
        },
        {
         "alignmentgroup": "True",
         "hovertemplate": "color=Chad<br>x=%{x}<br>y=%{y}<br>text=%{text}<extra></extra>",
         "legendgroup": "Chad",
         "marker": {
          "color": "#FF97FF",
          "pattern": {
           "shape": ""
          }
         },
         "name": "Chad",
         "offsetgroup": "Chad",
         "orientation": "v",
         "showlegend": true,
         "text": [
          "54.622"
         ],
         "textposition": "auto",
         "type": "bar",
         "x": [
          "Chad"
         ],
         "xaxis": "x",
         "y": [
          54.622
         ],
         "yaxis": "y"
        },
        {
         "alignmentgroup": "True",
         "hovertemplate": "color=Central African Republic<br>x=%{x}<br>y=%{y}<br>text=%{text}<extra></extra>",
         "legendgroup": "Central African Republic",
         "marker": {
          "color": "#FECB52",
          "pattern": {
           "shape": ""
          }
         },
         "name": "Central African Republic",
         "offsetgroup": "Central African Republic",
         "orientation": "v",
         "showlegend": true,
         "text": [
          "53.684"
         ],
         "textposition": "auto",
         "type": "bar",
         "x": [
          "Central African Republic"
         ],
         "xaxis": "x",
         "y": [
          53.684
         ],
         "yaxis": "y"
        }
       ],
       "layout": {
        "barmode": "relative",
        "legend": {
         "title": {
          "text": "color"
         },
         "tracegroupgap": 0
        },
        "margin": {
         "t": 60
        },
        "template": {
         "data": {
          "bar": [
           {
            "error_x": {
             "color": "#2a3f5f"
            },
            "error_y": {
             "color": "#2a3f5f"
            },
            "marker": {
             "line": {
              "color": "#E5ECF6",
              "width": 0.5
             },
             "pattern": {
              "fillmode": "overlay",
              "size": 10,
              "solidity": 0.2
             }
            },
            "type": "bar"
           }
          ],
          "barpolar": [
           {
            "marker": {
             "line": {
              "color": "#E5ECF6",
              "width": 0.5
             },
             "pattern": {
              "fillmode": "overlay",
              "size": 10,
              "solidity": 0.2
             }
            },
            "type": "barpolar"
           }
          ],
          "carpet": [
           {
            "aaxis": {
             "endlinecolor": "#2a3f5f",
             "gridcolor": "white",
             "linecolor": "white",
             "minorgridcolor": "white",
             "startlinecolor": "#2a3f5f"
            },
            "baxis": {
             "endlinecolor": "#2a3f5f",
             "gridcolor": "white",
             "linecolor": "white",
             "minorgridcolor": "white",
             "startlinecolor": "#2a3f5f"
            },
            "type": "carpet"
           }
          ],
          "choropleth": [
           {
            "colorbar": {
             "outlinewidth": 0,
             "ticks": ""
            },
            "type": "choropleth"
           }
          ],
          "contour": [
           {
            "colorbar": {
             "outlinewidth": 0,
             "ticks": ""
            },
            "colorscale": [
             [
              0,
              "#0d0887"
             ],
             [
              0.1111111111111111,
              "#46039f"
             ],
             [
              0.2222222222222222,
              "#7201a8"
             ],
             [
              0.3333333333333333,
              "#9c179e"
             ],
             [
              0.4444444444444444,
              "#bd3786"
             ],
             [
              0.5555555555555556,
              "#d8576b"
             ],
             [
              0.6666666666666666,
              "#ed7953"
             ],
             [
              0.7777777777777778,
              "#fb9f3a"
             ],
             [
              0.8888888888888888,
              "#fdca26"
             ],
             [
              1,
              "#f0f921"
             ]
            ],
            "type": "contour"
           }
          ],
          "contourcarpet": [
           {
            "colorbar": {
             "outlinewidth": 0,
             "ticks": ""
            },
            "type": "contourcarpet"
           }
          ],
          "heatmap": [
           {
            "colorbar": {
             "outlinewidth": 0,
             "ticks": ""
            },
            "colorscale": [
             [
              0,
              "#0d0887"
             ],
             [
              0.1111111111111111,
              "#46039f"
             ],
             [
              0.2222222222222222,
              "#7201a8"
             ],
             [
              0.3333333333333333,
              "#9c179e"
             ],
             [
              0.4444444444444444,
              "#bd3786"
             ],
             [
              0.5555555555555556,
              "#d8576b"
             ],
             [
              0.6666666666666666,
              "#ed7953"
             ],
             [
              0.7777777777777778,
              "#fb9f3a"
             ],
             [
              0.8888888888888888,
              "#fdca26"
             ],
             [
              1,
              "#f0f921"
             ]
            ],
            "type": "heatmap"
           }
          ],
          "heatmapgl": [
           {
            "colorbar": {
             "outlinewidth": 0,
             "ticks": ""
            },
            "colorscale": [
             [
              0,
              "#0d0887"
             ],
             [
              0.1111111111111111,
              "#46039f"
             ],
             [
              0.2222222222222222,
              "#7201a8"
             ],
             [
              0.3333333333333333,
              "#9c179e"
             ],
             [
              0.4444444444444444,
              "#bd3786"
             ],
             [
              0.5555555555555556,
              "#d8576b"
             ],
             [
              0.6666666666666666,
              "#ed7953"
             ],
             [
              0.7777777777777778,
              "#fb9f3a"
             ],
             [
              0.8888888888888888,
              "#fdca26"
             ],
             [
              1,
              "#f0f921"
             ]
            ],
            "type": "heatmapgl"
           }
          ],
          "histogram": [
           {
            "marker": {
             "pattern": {
              "fillmode": "overlay",
              "size": 10,
              "solidity": 0.2
             }
            },
            "type": "histogram"
           }
          ],
          "histogram2d": [
           {
            "colorbar": {
             "outlinewidth": 0,
             "ticks": ""
            },
            "colorscale": [
             [
              0,
              "#0d0887"
             ],
             [
              0.1111111111111111,
              "#46039f"
             ],
             [
              0.2222222222222222,
              "#7201a8"
             ],
             [
              0.3333333333333333,
              "#9c179e"
             ],
             [
              0.4444444444444444,
              "#bd3786"
             ],
             [
              0.5555555555555556,
              "#d8576b"
             ],
             [
              0.6666666666666666,
              "#ed7953"
             ],
             [
              0.7777777777777778,
              "#fb9f3a"
             ],
             [
              0.8888888888888888,
              "#fdca26"
             ],
             [
              1,
              "#f0f921"
             ]
            ],
            "type": "histogram2d"
           }
          ],
          "histogram2dcontour": [
           {
            "colorbar": {
             "outlinewidth": 0,
             "ticks": ""
            },
            "colorscale": [
             [
              0,
              "#0d0887"
             ],
             [
              0.1111111111111111,
              "#46039f"
             ],
             [
              0.2222222222222222,
              "#7201a8"
             ],
             [
              0.3333333333333333,
              "#9c179e"
             ],
             [
              0.4444444444444444,
              "#bd3786"
             ],
             [
              0.5555555555555556,
              "#d8576b"
             ],
             [
              0.6666666666666666,
              "#ed7953"
             ],
             [
              0.7777777777777778,
              "#fb9f3a"
             ],
             [
              0.8888888888888888,
              "#fdca26"
             ],
             [
              1,
              "#f0f921"
             ]
            ],
            "type": "histogram2dcontour"
           }
          ],
          "mesh3d": [
           {
            "colorbar": {
             "outlinewidth": 0,
             "ticks": ""
            },
            "type": "mesh3d"
           }
          ],
          "parcoords": [
           {
            "line": {
             "colorbar": {
              "outlinewidth": 0,
              "ticks": ""
             }
            },
            "type": "parcoords"
           }
          ],
          "pie": [
           {
            "automargin": true,
            "type": "pie"
           }
          ],
          "scatter": [
           {
            "marker": {
             "colorbar": {
              "outlinewidth": 0,
              "ticks": ""
             }
            },
            "type": "scatter"
           }
          ],
          "scatter3d": [
           {
            "line": {
             "colorbar": {
              "outlinewidth": 0,
              "ticks": ""
             }
            },
            "marker": {
             "colorbar": {
              "outlinewidth": 0,
              "ticks": ""
             }
            },
            "type": "scatter3d"
           }
          ],
          "scattercarpet": [
           {
            "marker": {
             "colorbar": {
              "outlinewidth": 0,
              "ticks": ""
             }
            },
            "type": "scattercarpet"
           }
          ],
          "scattergeo": [
           {
            "marker": {
             "colorbar": {
              "outlinewidth": 0,
              "ticks": ""
             }
            },
            "type": "scattergeo"
           }
          ],
          "scattergl": [
           {
            "marker": {
             "colorbar": {
              "outlinewidth": 0,
              "ticks": ""
             }
            },
            "type": "scattergl"
           }
          ],
          "scattermapbox": [
           {
            "marker": {
             "colorbar": {
              "outlinewidth": 0,
              "ticks": ""
             }
            },
            "type": "scattermapbox"
           }
          ],
          "scatterpolar": [
           {
            "marker": {
             "colorbar": {
              "outlinewidth": 0,
              "ticks": ""
             }
            },
            "type": "scatterpolar"
           }
          ],
          "scatterpolargl": [
           {
            "marker": {
             "colorbar": {
              "outlinewidth": 0,
              "ticks": ""
             }
            },
            "type": "scatterpolargl"
           }
          ],
          "scatterternary": [
           {
            "marker": {
             "colorbar": {
              "outlinewidth": 0,
              "ticks": ""
             }
            },
            "type": "scatterternary"
           }
          ],
          "surface": [
           {
            "colorbar": {
             "outlinewidth": 0,
             "ticks": ""
            },
            "colorscale": [
             [
              0,
              "#0d0887"
             ],
             [
              0.1111111111111111,
              "#46039f"
             ],
             [
              0.2222222222222222,
              "#7201a8"
             ],
             [
              0.3333333333333333,
              "#9c179e"
             ],
             [
              0.4444444444444444,
              "#bd3786"
             ],
             [
              0.5555555555555556,
              "#d8576b"
             ],
             [
              0.6666666666666666,
              "#ed7953"
             ],
             [
              0.7777777777777778,
              "#fb9f3a"
             ],
             [
              0.8888888888888888,
              "#fdca26"
             ],
             [
              1,
              "#f0f921"
             ]
            ],
            "type": "surface"
           }
          ],
          "table": [
           {
            "cells": {
             "fill": {
              "color": "#EBF0F8"
             },
             "line": {
              "color": "white"
             }
            },
            "header": {
             "fill": {
              "color": "#C8D4E3"
             },
             "line": {
              "color": "white"
             }
            },
            "type": "table"
           }
          ]
         },
         "layout": {
          "annotationdefaults": {
           "arrowcolor": "#2a3f5f",
           "arrowhead": 0,
           "arrowwidth": 1
          },
          "autotypenumbers": "strict",
          "coloraxis": {
           "colorbar": {
            "outlinewidth": 0,
            "ticks": ""
           }
          },
          "colorscale": {
           "diverging": [
            [
             0,
             "#8e0152"
            ],
            [
             0.1,
             "#c51b7d"
            ],
            [
             0.2,
             "#de77ae"
            ],
            [
             0.3,
             "#f1b6da"
            ],
            [
             0.4,
             "#fde0ef"
            ],
            [
             0.5,
             "#f7f7f7"
            ],
            [
             0.6,
             "#e6f5d0"
            ],
            [
             0.7,
             "#b8e186"
            ],
            [
             0.8,
             "#7fbc41"
            ],
            [
             0.9,
             "#4d9221"
            ],
            [
             1,
             "#276419"
            ]
           ],
           "sequential": [
            [
             0,
             "#0d0887"
            ],
            [
             0.1111111111111111,
             "#46039f"
            ],
            [
             0.2222222222222222,
             "#7201a8"
            ],
            [
             0.3333333333333333,
             "#9c179e"
            ],
            [
             0.4444444444444444,
             "#bd3786"
            ],
            [
             0.5555555555555556,
             "#d8576b"
            ],
            [
             0.6666666666666666,
             "#ed7953"
            ],
            [
             0.7777777777777778,
             "#fb9f3a"
            ],
            [
             0.8888888888888888,
             "#fdca26"
            ],
            [
             1,
             "#f0f921"
            ]
           ],
           "sequentialminus": [
            [
             0,
             "#0d0887"
            ],
            [
             0.1111111111111111,
             "#46039f"
            ],
            [
             0.2222222222222222,
             "#7201a8"
            ],
            [
             0.3333333333333333,
             "#9c179e"
            ],
            [
             0.4444444444444444,
             "#bd3786"
            ],
            [
             0.5555555555555556,
             "#d8576b"
            ],
            [
             0.6666666666666666,
             "#ed7953"
            ],
            [
             0.7777777777777778,
             "#fb9f3a"
            ],
            [
             0.8888888888888888,
             "#fdca26"
            ],
            [
             1,
             "#f0f921"
            ]
           ]
          },
          "colorway": [
           "#636efa",
           "#EF553B",
           "#00cc96",
           "#ab63fa",
           "#FFA15A",
           "#19d3f3",
           "#FF6692",
           "#B6E880",
           "#FF97FF",
           "#FECB52"
          ],
          "font": {
           "color": "#2a3f5f"
          },
          "geo": {
           "bgcolor": "white",
           "lakecolor": "white",
           "landcolor": "#E5ECF6",
           "showlakes": true,
           "showland": true,
           "subunitcolor": "white"
          },
          "hoverlabel": {
           "align": "left"
          },
          "hovermode": "closest",
          "mapbox": {
           "style": "light"
          },
          "paper_bgcolor": "white",
          "plot_bgcolor": "#E5ECF6",
          "polar": {
           "angularaxis": {
            "gridcolor": "white",
            "linecolor": "white",
            "ticks": ""
           },
           "bgcolor": "#E5ECF6",
           "radialaxis": {
            "gridcolor": "white",
            "linecolor": "white",
            "ticks": ""
           }
          },
          "scene": {
           "xaxis": {
            "backgroundcolor": "#E5ECF6",
            "gridcolor": "white",
            "gridwidth": 2,
            "linecolor": "white",
            "showbackground": true,
            "ticks": "",
            "zerolinecolor": "white"
           },
           "yaxis": {
            "backgroundcolor": "#E5ECF6",
            "gridcolor": "white",
            "gridwidth": 2,
            "linecolor": "white",
            "showbackground": true,
            "ticks": "",
            "zerolinecolor": "white"
           },
           "zaxis": {
            "backgroundcolor": "#E5ECF6",
            "gridcolor": "white",
            "gridwidth": 2,
            "linecolor": "white",
            "showbackground": true,
            "ticks": "",
            "zerolinecolor": "white"
           }
          },
          "shapedefaults": {
           "line": {
            "color": "#2a3f5f"
           }
          },
          "ternary": {
           "aaxis": {
            "gridcolor": "white",
            "linecolor": "white",
            "ticks": ""
           },
           "baxis": {
            "gridcolor": "white",
            "linecolor": "white",
            "ticks": ""
           },
           "bgcolor": "#E5ECF6",
           "caxis": {
            "gridcolor": "white",
            "linecolor": "white",
            "ticks": ""
           }
          },
          "title": {
           "x": 0.05
          },
          "xaxis": {
           "automargin": true,
           "gridcolor": "white",
           "linecolor": "white",
           "ticks": "",
           "title": {
            "standoff": 15
           },
           "zerolinecolor": "white",
           "zerolinewidth": 2
          },
          "yaxis": {
           "automargin": true,
           "gridcolor": "white",
           "linecolor": "white",
           "ticks": "",
           "title": {
            "standoff": 15
           },
           "zerolinecolor": "white",
           "zerolinewidth": 2
          }
         }
        },
        "xaxis": {
         "anchor": "y",
         "domain": [
          0,
          1
         ],
         "title": {
          "text": "x"
         }
        },
        "yaxis": {
         "anchor": "x",
         "domain": [
          0,
          1
         ],
         "title": {
          "text": "y"
         }
        }
       }
      },
      "text/html": [
       "<div>                            <div id=\"874edab5-e26c-4a88-8f40-8dc8716ee12d\" class=\"plotly-graph-div\" style=\"height:525px; width:100%;\"></div>            <script type=\"text/javascript\">                require([\"plotly\"], function(Plotly) {                    window.PLOTLYENV=window.PLOTLYENV || {};                                    if (document.getElementById(\"874edab5-e26c-4a88-8f40-8dc8716ee12d\")) {                    Plotly.newPlot(                        \"874edab5-e26c-4a88-8f40-8dc8716ee12d\",                        [{\"alignmentgroup\":\"True\",\"hovertemplate\":\"color=Colombia<br>x=%{x}<br>y=%{y}<br>text=%{text}<extra></extra>\",\"legendgroup\":\"Colombia\",\"marker\":{\"color\":\"#636efa\",\"pattern\":{\"shape\":\"\"}},\"name\":\"Colombia\",\"offsetgroup\":\"Colombia\",\"orientation\":\"v\",\"showlegend\":true,\"text\":[\"85.02600000000001\"],\"textposition\":\"auto\",\"type\":\"bar\",\"x\":[\"Colombia\"],\"xaxis\":\"x\",\"y\":[85.02600000000001],\"yaxis\":\"y\"},{\"alignmentgroup\":\"True\",\"hovertemplate\":\"color=Jamaica<br>x=%{x}<br>y=%{y}<br>text=%{text}<extra></extra>\",\"legendgroup\":\"Jamaica\",\"marker\":{\"color\":\"#EF553B\",\"pattern\":{\"shape\":\"\"}},\"name\":\"Jamaica\",\"offsetgroup\":\"Jamaica\",\"orientation\":\"v\",\"showlegend\":true,\"text\":[\"84.79\"],\"textposition\":\"auto\",\"type\":\"bar\",\"x\":[\"Jamaica\"],\"xaxis\":\"x\",\"y\":[84.79],\"yaxis\":\"y\"},{\"alignmentgroup\":\"True\",\"hovertemplate\":\"color=Hong Kong<br>x=%{x}<br>y=%{y}<br>text=%{text}<extra></extra>\",\"legendgroup\":\"Hong Kong\",\"marker\":{\"color\":\"#00cc96\",\"pattern\":{\"shape\":\"\"}},\"name\":\"Hong Kong\",\"offsetgroup\":\"Hong Kong\",\"orientation\":\"v\",\"showlegend\":true,\"text\":[\"84.42399999999999\"],\"textposition\":\"auto\",\"type\":\"bar\",\"x\":[\"Hong Kong\"],\"xaxis\":\"x\",\"y\":[84.42399999999999],\"yaxis\":\"y\"},{\"alignmentgroup\":\"True\",\"hovertemplate\":\"color=Switzerland<br>x=%{x}<br>y=%{y}<br>text=%{text}<extra></extra>\",\"legendgroup\":\"Switzerland\",\"marker\":{\"color\":\"#ab63fa\",\"pattern\":{\"shape\":\"\"}},\"name\":\"Switzerland\",\"offsetgroup\":\"Switzerland\",\"orientation\":\"v\",\"showlegend\":true,\"text\":[\"83.97399999999999\"],\"textposition\":\"auto\",\"type\":\"bar\",\"x\":[\"Switzerland\"],\"xaxis\":\"x\",\"y\":[83.97399999999999],\"yaxis\":\"y\"},{\"alignmentgroup\":\"True\",\"hovertemplate\":\"color=Seychelles<br>x=%{x}<br>y=%{y}<br>text=%{text}<extra></extra>\",\"legendgroup\":\"Seychelles\",\"marker\":{\"color\":\"#FFA15A\",\"pattern\":{\"shape\":\"\"}},\"name\":\"Seychelles\",\"offsetgroup\":\"Seychelles\",\"orientation\":\"v\",\"showlegend\":true,\"text\":[\"83.79799999999999\"],\"textposition\":\"auto\",\"type\":\"bar\",\"x\":[\"Seychelles\"],\"xaxis\":\"x\",\"y\":[83.79799999999999],\"yaxis\":\"y\"},{\"alignmentgroup\":\"True\",\"hovertemplate\":\"color=South Africa<br>x=%{x}<br>y=%{y}<br>text=%{text}<extra></extra>\",\"legendgroup\":\"South Africa\",\"marker\":{\"color\":\"#19d3f3\",\"pattern\":{\"shape\":\"\"}},\"name\":\"South Africa\",\"offsetgroup\":\"South Africa\",\"orientation\":\"v\",\"showlegend\":true,\"text\":[\"83.738\"],\"textposition\":\"auto\",\"type\":\"bar\",\"x\":[\"South Africa\"],\"xaxis\":\"x\",\"y\":[83.738],\"yaxis\":\"y\"},{\"alignmentgroup\":\"True\",\"hovertemplate\":\"color=Israel<br>x=%{x}<br>y=%{y}<br>text=%{text}<extra></extra>\",\"legendgroup\":\"Israel\",\"marker\":{\"color\":\"#FF6692\",\"pattern\":{\"shape\":\"\"}},\"name\":\"Israel\",\"offsetgroup\":\"Israel\",\"orientation\":\"v\",\"showlegend\":true,\"text\":[\"83.712\"],\"textposition\":\"auto\",\"type\":\"bar\",\"x\":[\"Israel\"],\"xaxis\":\"x\",\"y\":[83.712],\"yaxis\":\"y\"},{\"alignmentgroup\":\"True\",\"hovertemplate\":\"color=Australia<br>x=%{x}<br>y=%{y}<br>text=%{text}<extra></extra>\",\"legendgroup\":\"Australia\",\"marker\":{\"color\":\"#B6E880\",\"pattern\":{\"shape\":\"\"}},\"name\":\"Australia\",\"offsetgroup\":\"Australia\",\"orientation\":\"v\",\"showlegend\":true,\"text\":[\"83.64399999999999\"],\"textposition\":\"auto\",\"type\":\"bar\",\"x\":[\"Australia\"],\"xaxis\":\"x\",\"y\":[83.64399999999999],\"yaxis\":\"y\"},{\"alignmentgroup\":\"True\",\"hovertemplate\":\"color=Hungary<br>x=%{x}<br>y=%{y}<br>text=%{text}<extra></extra>\",\"legendgroup\":\"Hungary\",\"marker\":{\"color\":\"#FF97FF\",\"pattern\":{\"shape\":\"\"}},\"name\":\"Hungary\",\"offsetgroup\":\"Hungary\",\"orientation\":\"v\",\"showlegend\":true,\"text\":[\"83.22\"],\"textposition\":\"auto\",\"type\":\"bar\",\"x\":[\"Hungary\"],\"xaxis\":\"x\",\"y\":[83.22],\"yaxis\":\"y\"},{\"alignmentgroup\":\"True\",\"hovertemplate\":\"color=Portugal<br>x=%{x}<br>y=%{y}<br>text=%{text}<extra></extra>\",\"legendgroup\":\"Portugal\",\"marker\":{\"color\":\"#FECB52\",\"pattern\":{\"shape\":\"\"}},\"name\":\"Portugal\",\"offsetgroup\":\"Portugal\",\"orientation\":\"v\",\"showlegend\":true,\"text\":[\"83.208\"],\"textposition\":\"auto\",\"type\":\"bar\",\"x\":[\"Portugal\"],\"xaxis\":\"x\",\"y\":[83.208],\"yaxis\":\"y\"},{\"alignmentgroup\":\"True\",\"hovertemplate\":\"color=Ireland<br>x=%{x}<br>y=%{y}<br>text=%{text}<extra></extra>\",\"legendgroup\":\"Ireland\",\"marker\":{\"color\":\"#636efa\",\"pattern\":{\"shape\":\"\"}},\"name\":\"Ireland\",\"offsetgroup\":\"Ireland\",\"orientation\":\"v\",\"showlegend\":true,\"text\":[\"83.19\"],\"textposition\":\"auto\",\"type\":\"bar\",\"x\":[\"Ireland\"],\"xaxis\":\"x\",\"y\":[83.19],\"yaxis\":\"y\"},{\"alignmentgroup\":\"True\",\"hovertemplate\":\"color=Sweden<br>x=%{x}<br>y=%{y}<br>text=%{text}<extra></extra>\",\"legendgroup\":\"Sweden\",\"marker\":{\"color\":\"#EF553B\",\"pattern\":{\"shape\":\"\"}},\"name\":\"Sweden\",\"offsetgroup\":\"Sweden\",\"orientation\":\"v\",\"showlegend\":true,\"text\":[\"83.02600000000001\"],\"textposition\":\"auto\",\"type\":\"bar\",\"x\":[\"Sweden\"],\"xaxis\":\"x\",\"y\":[83.02600000000001],\"yaxis\":\"y\"},{\"alignmentgroup\":\"True\",\"hovertemplate\":\"color=Finland<br>x=%{x}<br>y=%{y}<br>text=%{text}<extra></extra>\",\"legendgroup\":\"Finland\",\"marker\":{\"color\":\"#00cc96\",\"pattern\":{\"shape\":\"\"}},\"name\":\"Finland\",\"offsetgroup\":\"Finland\",\"orientation\":\"v\",\"showlegend\":true,\"text\":[\"82.86200000000001\"],\"textposition\":\"auto\",\"type\":\"bar\",\"x\":[\"Finland\"],\"xaxis\":\"x\",\"y\":[82.86200000000001],\"yaxis\":\"y\"},{\"alignmentgroup\":\"True\",\"hovertemplate\":\"color=Mali<br>x=%{x}<br>y=%{y}<br>text=%{text}<extra></extra>\",\"legendgroup\":\"Mali\",\"marker\":{\"color\":\"#ab63fa\",\"pattern\":{\"shape\":\"\"}},\"name\":\"Mali\",\"offsetgroup\":\"Mali\",\"orientation\":\"v\",\"showlegend\":true,\"text\":[\"82.75200000000001\"],\"textposition\":\"auto\",\"type\":\"bar\",\"x\":[\"Mali\"],\"xaxis\":\"x\",\"y\":[82.75200000000001],\"yaxis\":\"y\"},{\"alignmentgroup\":\"True\",\"hovertemplate\":\"color=Canada<br>x=%{x}<br>y=%{y}<br>text=%{text}<extra></extra>\",\"legendgroup\":\"Canada\",\"marker\":{\"color\":\"#FFA15A\",\"pattern\":{\"shape\":\"\"}},\"name\":\"Canada\",\"offsetgroup\":\"Canada\",\"orientation\":\"v\",\"showlegend\":true,\"text\":[\"82.664\"],\"textposition\":\"auto\",\"type\":\"bar\",\"x\":[\"Canada\"],\"xaxis\":\"x\",\"y\":[82.664],\"yaxis\":\"y\"},{\"alignmentgroup\":\"True\",\"hovertemplate\":\"color=Nigeria<br>x=%{x}<br>y=%{y}<br>text=%{text}<extra></extra>\",\"legendgroup\":\"Nigeria\",\"marker\":{\"color\":\"#19d3f3\",\"pattern\":{\"shape\":\"\"}},\"name\":\"Nigeria\",\"offsetgroup\":\"Nigeria\",\"orientation\":\"v\",\"showlegend\":true,\"text\":[\"82.63600000000001\"],\"textposition\":\"auto\",\"type\":\"bar\",\"x\":[\"Nigeria\"],\"xaxis\":\"x\",\"y\":[82.63600000000001],\"yaxis\":\"y\"},{\"alignmentgroup\":\"True\",\"hovertemplate\":\"color=Iraq<br>x=%{x}<br>y=%{y}<br>text=%{text}<extra></extra>\",\"legendgroup\":\"Iraq\",\"marker\":{\"color\":\"#FF6692\",\"pattern\":{\"shape\":\"\"}},\"name\":\"Iraq\",\"offsetgroup\":\"Iraq\",\"orientation\":\"v\",\"showlegend\":true,\"text\":[\"82.506\"],\"textposition\":\"auto\",\"type\":\"bar\",\"x\":[\"Iraq\"],\"xaxis\":\"x\",\"y\":[82.506],\"yaxis\":\"y\"},{\"alignmentgroup\":\"True\",\"hovertemplate\":\"color=Nepal<br>x=%{x}<br>y=%{y}<br>text=%{text}<extra></extra>\",\"legendgroup\":\"Nepal\",\"marker\":{\"color\":\"#B6E880\",\"pattern\":{\"shape\":\"\"}},\"name\":\"Nepal\",\"offsetgroup\":\"Nepal\",\"orientation\":\"v\",\"showlegend\":true,\"text\":[\"82.50399999999999\"],\"textposition\":\"auto\",\"type\":\"bar\",\"x\":[\"Nepal\"],\"xaxis\":\"x\",\"y\":[82.50399999999999],\"yaxis\":\"y\"},{\"alignmentgroup\":\"True\",\"hovertemplate\":\"color=Nauru<br>x=%{x}<br>y=%{y}<br>text=%{text}<extra></extra>\",\"legendgroup\":\"Nauru\",\"marker\":{\"color\":\"#FF97FF\",\"pattern\":{\"shape\":\"\"}},\"name\":\"Nauru\",\"offsetgroup\":\"Nauru\",\"orientation\":\"v\",\"showlegend\":true,\"text\":[\"82.492\"],\"textposition\":\"auto\",\"type\":\"bar\",\"x\":[\"Nauru\"],\"xaxis\":\"x\",\"y\":[82.492],\"yaxis\":\"y\"},{\"alignmentgroup\":\"True\",\"hovertemplate\":\"color=Ghana<br>x=%{x}<br>y=%{y}<br>text=%{text}<extra></extra>\",\"legendgroup\":\"Ghana\",\"marker\":{\"color\":\"#FECB52\",\"pattern\":{\"shape\":\"\"}},\"name\":\"Ghana\",\"offsetgroup\":\"Ghana\",\"orientation\":\"v\",\"showlegend\":true,\"text\":[\"82.47200000000001\"],\"textposition\":\"auto\",\"type\":\"bar\",\"x\":[\"Ghana\"],\"xaxis\":\"x\",\"y\":[82.47200000000001],\"yaxis\":\"y\"},{\"alignmentgroup\":\"True\",\"hovertemplate\":\"color=Lithuania<br>x=%{x}<br>y=%{y}<br>text=%{text}<extra></extra>\",\"legendgroup\":\"Lithuania\",\"marker\":{\"color\":\"#636efa\",\"pattern\":{\"shape\":\"\"}},\"name\":\"Lithuania\",\"offsetgroup\":\"Lithuania\",\"orientation\":\"v\",\"showlegend\":true,\"text\":[\"82.46799999999999\"],\"textposition\":\"auto\",\"type\":\"bar\",\"x\":[\"Lithuania\"],\"xaxis\":\"x\",\"y\":[82.46799999999999],\"yaxis\":\"y\"},{\"alignmentgroup\":\"True\",\"hovertemplate\":\"color=Philippines<br>x=%{x}<br>y=%{y}<br>text=%{text}<extra></extra>\",\"legendgroup\":\"Philippines\",\"marker\":{\"color\":\"#EF553B\",\"pattern\":{\"shape\":\"\"}},\"name\":\"Philippines\",\"offsetgroup\":\"Philippines\",\"orientation\":\"v\",\"showlegend\":true,\"text\":[\"82.29\"],\"textposition\":\"auto\",\"type\":\"bar\",\"x\":[\"Philippines\"],\"xaxis\":\"x\",\"y\":[82.29],\"yaxis\":\"y\"},{\"alignmentgroup\":\"True\",\"hovertemplate\":\"color=Belgium<br>x=%{x}<br>y=%{y}<br>text=%{text}<extra></extra>\",\"legendgroup\":\"Belgium\",\"marker\":{\"color\":\"#00cc96\",\"pattern\":{\"shape\":\"\"}},\"name\":\"Belgium\",\"offsetgroup\":\"Belgium\",\"orientation\":\"v\",\"showlegend\":true,\"text\":[\"81.858\"],\"textposition\":\"auto\",\"type\":\"bar\",\"x\":[\"Belgium\"],\"xaxis\":\"x\",\"y\":[81.858],\"yaxis\":\"y\"},{\"alignmentgroup\":\"True\",\"hovertemplate\":\"color=Austria<br>x=%{x}<br>y=%{y}<br>text=%{text}<extra></extra>\",\"legendgroup\":\"Austria\",\"marker\":{\"color\":\"#ab63fa\",\"pattern\":{\"shape\":\"\"}},\"name\":\"Austria\",\"offsetgroup\":\"Austria\",\"orientation\":\"v\",\"showlegend\":true,\"text\":[\"81.77\"],\"textposition\":\"auto\",\"type\":\"bar\",\"x\":[\"Austria\"],\"xaxis\":\"x\",\"y\":[81.77],\"yaxis\":\"y\"},{\"alignmentgroup\":\"True\",\"hovertemplate\":\"color=Georgia<br>x=%{x}<br>y=%{y}<br>text=%{text}<extra></extra>\",\"legendgroup\":\"Georgia\",\"marker\":{\"color\":\"#FFA15A\",\"pattern\":{\"shape\":\"\"}},\"name\":\"Georgia\",\"offsetgroup\":\"Georgia\",\"orientation\":\"v\",\"showlegend\":true,\"text\":[\"81.568\"],\"textposition\":\"auto\",\"type\":\"bar\",\"x\":[\"Georgia\"],\"xaxis\":\"x\",\"y\":[81.568],\"yaxis\":\"y\"},{\"alignmentgroup\":\"True\",\"hovertemplate\":\"color=Singapore<br>x=%{x}<br>y=%{y}<br>text=%{text}<extra></extra>\",\"legendgroup\":\"Singapore\",\"marker\":{\"color\":\"#19d3f3\",\"pattern\":{\"shape\":\"\"}},\"name\":\"Singapore\",\"offsetgroup\":\"Singapore\",\"orientation\":\"v\",\"showlegend\":true,\"text\":[\"81.542\"],\"textposition\":\"auto\",\"type\":\"bar\",\"x\":[\"Singapore\"],\"xaxis\":\"x\",\"y\":[81.542],\"yaxis\":\"y\"},{\"alignmentgroup\":\"True\",\"hovertemplate\":\"color=United Kingdom of Great Britain and Northern Ireland<br>x=%{x}<br>y=%{y}<br>text=%{text}<extra></extra>\",\"legendgroup\":\"United Kingdom of Great Britain and Northern Ireland\",\"marker\":{\"color\":\"#FF6692\",\"pattern\":{\"shape\":\"\"}},\"name\":\"United Kingdom of Great Britain and Northern Ireland\",\"offsetgroup\":\"United Kingdom of Great Britain and Northern Ireland\",\"orientation\":\"v\",\"showlegend\":true,\"text\":[\"81.52199999999999\"],\"textposition\":\"auto\",\"type\":\"bar\",\"x\":[\"United Kingdom of Great Britain and Northern Ireland\"],\"xaxis\":\"x\",\"y\":[81.52199999999999],\"yaxis\":\"y\"},{\"alignmentgroup\":\"True\",\"hovertemplate\":\"color=Cuba<br>x=%{x}<br>y=%{y}<br>text=%{text}<extra></extra>\",\"legendgroup\":\"Cuba\",\"marker\":{\"color\":\"#B6E880\",\"pattern\":{\"shape\":\"\"}},\"name\":\"Cuba\",\"offsetgroup\":\"Cuba\",\"orientation\":\"v\",\"showlegend\":true,\"text\":[\"81.206\"],\"textposition\":\"auto\",\"type\":\"bar\",\"x\":[\"Cuba\"],\"xaxis\":\"x\",\"y\":[81.206],\"yaxis\":\"y\"},{\"alignmentgroup\":\"True\",\"hovertemplate\":\"color=Democratic Republic of the Congo<br>x=%{x}<br>y=%{y}<br>text=%{text}<extra></extra>\",\"legendgroup\":\"Democratic Republic of the Congo\",\"marker\":{\"color\":\"#FF97FF\",\"pattern\":{\"shape\":\"\"}},\"name\":\"Democratic Republic of the Congo\",\"offsetgroup\":\"Democratic Republic of the Congo\",\"orientation\":\"v\",\"showlegend\":true,\"text\":[\"81.112\"],\"textposition\":\"auto\",\"type\":\"bar\",\"x\":[\"Democratic Republic of the Congo\"],\"xaxis\":\"x\",\"y\":[81.112],\"yaxis\":\"y\"},{\"alignmentgroup\":\"True\",\"hovertemplate\":\"color=Japan<br>x=%{x}<br>y=%{y}<br>text=%{text}<extra></extra>\",\"legendgroup\":\"Japan\",\"marker\":{\"color\":\"#FECB52\",\"pattern\":{\"shape\":\"\"}},\"name\":\"Japan\",\"offsetgroup\":\"Japan\",\"orientation\":\"v\",\"showlegend\":true,\"text\":[\"74.738\"],\"textposition\":\"auto\",\"type\":\"bar\",\"x\":[\"Japan\"],\"xaxis\":\"x\",\"y\":[74.738],\"yaxis\":\"y\"},{\"alignmentgroup\":\"True\",\"hovertemplate\":\"color=Italy<br>x=%{x}<br>y=%{y}<br>text=%{text}<extra></extra>\",\"legendgroup\":\"Italy\",\"marker\":{\"color\":\"#636efa\",\"pattern\":{\"shape\":\"\"}},\"name\":\"Italy\",\"offsetgroup\":\"Italy\",\"orientation\":\"v\",\"showlegend\":true,\"text\":[\"74.66\"],\"textposition\":\"auto\",\"type\":\"bar\",\"x\":[\"Italy\"],\"xaxis\":\"x\",\"y\":[74.66],\"yaxis\":\"y\"},{\"alignmentgroup\":\"True\",\"hovertemplate\":\"color=Grenada<br>x=%{x}<br>y=%{y}<br>text=%{text}<extra></extra>\",\"legendgroup\":\"Grenada\",\"marker\":{\"color\":\"#EF553B\",\"pattern\":{\"shape\":\"\"}},\"name\":\"Grenada\",\"offsetgroup\":\"Grenada\",\"orientation\":\"v\",\"showlegend\":true,\"text\":[\"74.60600000000001\"],\"textposition\":\"auto\",\"type\":\"bar\",\"x\":[\"Grenada\"],\"xaxis\":\"x\",\"y\":[74.60600000000001],\"yaxis\":\"y\"},{\"alignmentgroup\":\"True\",\"hovertemplate\":\"color=Panama<br>x=%{x}<br>y=%{y}<br>text=%{text}<extra></extra>\",\"legendgroup\":\"Panama\",\"marker\":{\"color\":\"#00cc96\",\"pattern\":{\"shape\":\"\"}},\"name\":\"Panama\",\"offsetgroup\":\"Panama\",\"orientation\":\"v\",\"showlegend\":true,\"text\":[\"74.38600000000001\"],\"textposition\":\"auto\",\"type\":\"bar\",\"x\":[\"Panama\"],\"xaxis\":\"x\",\"y\":[74.38600000000001],\"yaxis\":\"y\"},{\"alignmentgroup\":\"True\",\"hovertemplate\":\"color=Djibouti<br>x=%{x}<br>y=%{y}<br>text=%{text}<extra></extra>\",\"legendgroup\":\"Djibouti\",\"marker\":{\"color\":\"#ab63fa\",\"pattern\":{\"shape\":\"\"}},\"name\":\"Djibouti\",\"offsetgroup\":\"Djibouti\",\"orientation\":\"v\",\"showlegend\":true,\"text\":[\"74.314\"],\"textposition\":\"auto\",\"type\":\"bar\",\"x\":[\"Djibouti\"],\"xaxis\":\"x\",\"y\":[74.314],\"yaxis\":\"y\"},{\"alignmentgroup\":\"True\",\"hovertemplate\":\"color=Spain<br>x=%{x}<br>y=%{y}<br>text=%{text}<extra></extra>\",\"legendgroup\":\"Spain\",\"marker\":{\"color\":\"#FFA15A\",\"pattern\":{\"shape\":\"\"}},\"name\":\"Spain\",\"offsetgroup\":\"Spain\",\"orientation\":\"v\",\"showlegend\":true,\"text\":[\"74.3\"],\"textposition\":\"auto\",\"type\":\"bar\",\"x\":[\"Spain\"],\"xaxis\":\"x\",\"y\":[74.3],\"yaxis\":\"y\"},{\"alignmentgroup\":\"True\",\"hovertemplate\":\"color=Syrian Arab Republic<br>x=%{x}<br>y=%{y}<br>text=%{text}<extra></extra>\",\"legendgroup\":\"Syrian Arab Republic\",\"marker\":{\"color\":\"#19d3f3\",\"pattern\":{\"shape\":\"\"}},\"name\":\"Syrian Arab Republic\",\"offsetgroup\":\"Syrian Arab Republic\",\"orientation\":\"v\",\"showlegend\":true,\"text\":[\"74.164\"],\"textposition\":\"auto\",\"type\":\"bar\",\"x\":[\"Syrian Arab Republic\"],\"xaxis\":\"x\",\"y\":[74.164],\"yaxis\":\"y\"},{\"alignmentgroup\":\"True\",\"hovertemplate\":\"color=Bahamas<br>x=%{x}<br>y=%{y}<br>text=%{text}<extra></extra>\",\"legendgroup\":\"Bahamas\",\"marker\":{\"color\":\"#FF6692\",\"pattern\":{\"shape\":\"\"}},\"name\":\"Bahamas\",\"offsetgroup\":\"Bahamas\",\"orientation\":\"v\",\"showlegend\":true,\"text\":[\"74.06\"],\"textposition\":\"auto\",\"type\":\"bar\",\"x\":[\"Bahamas\"],\"xaxis\":\"x\",\"y\":[74.06],\"yaxis\":\"y\"},{\"alignmentgroup\":\"True\",\"hovertemplate\":\"color=Gambia<br>x=%{x}<br>y=%{y}<br>text=%{text}<extra></extra>\",\"legendgroup\":\"Gambia\",\"marker\":{\"color\":\"#B6E880\",\"pattern\":{\"shape\":\"\"}},\"name\":\"Gambia\",\"offsetgroup\":\"Gambia\",\"orientation\":\"v\",\"showlegend\":true,\"text\":[\"73.952\"],\"textposition\":\"auto\",\"type\":\"bar\",\"x\":[\"Gambia\"],\"xaxis\":\"x\",\"y\":[73.952],\"yaxis\":\"y\"},{\"alignmentgroup\":\"True\",\"hovertemplate\":\"color=Trinidad and Tobago<br>x=%{x}<br>y=%{y}<br>text=%{text}<extra></extra>\",\"legendgroup\":\"Trinidad and Tobago\",\"marker\":{\"color\":\"#FF97FF\",\"pattern\":{\"shape\":\"\"}},\"name\":\"Trinidad and Tobago\",\"offsetgroup\":\"Trinidad and Tobago\",\"orientation\":\"v\",\"showlegend\":true,\"text\":[\"73.67\"],\"textposition\":\"auto\",\"type\":\"bar\",\"x\":[\"Trinidad and Tobago\"],\"xaxis\":\"x\",\"y\":[73.67],\"yaxis\":\"y\"},{\"alignmentgroup\":\"True\",\"hovertemplate\":\"color=Kazakhstan<br>x=%{x}<br>y=%{y}<br>text=%{text}<extra></extra>\",\"legendgroup\":\"Kazakhstan\",\"marker\":{\"color\":\"#FECB52\",\"pattern\":{\"shape\":\"\"}},\"name\":\"Kazakhstan\",\"offsetgroup\":\"Kazakhstan\",\"orientation\":\"v\",\"showlegend\":true,\"text\":[\"66.954\"],\"textposition\":\"auto\",\"type\":\"bar\",\"x\":[\"Kazakhstan\"],\"xaxis\":\"x\",\"y\":[66.954],\"yaxis\":\"y\"},{\"alignmentgroup\":\"True\",\"hovertemplate\":\"color=Myanmar<br>x=%{x}<br>y=%{y}<br>text=%{text}<extra></extra>\",\"legendgroup\":\"Myanmar\",\"marker\":{\"color\":\"#636efa\",\"pattern\":{\"shape\":\"\"}},\"name\":\"Myanmar\",\"offsetgroup\":\"Myanmar\",\"orientation\":\"v\",\"showlegend\":true,\"text\":[\"64.124\"],\"textposition\":\"auto\",\"type\":\"bar\",\"x\":[\"Myanmar\"],\"xaxis\":\"x\",\"y\":[64.124],\"yaxis\":\"y\"},{\"alignmentgroup\":\"True\",\"hovertemplate\":\"color=Zimbabwe<br>x=%{x}<br>y=%{y}<br>text=%{text}<extra></extra>\",\"legendgroup\":\"Zimbabwe\",\"marker\":{\"color\":\"#EF553B\",\"pattern\":{\"shape\":\"\"}},\"name\":\"Zimbabwe\",\"offsetgroup\":\"Zimbabwe\",\"orientation\":\"v\",\"showlegend\":true,\"text\":[\"64.124\"],\"textposition\":\"auto\",\"type\":\"bar\",\"x\":[\"Zimbabwe\"],\"xaxis\":\"x\",\"y\":[64.124],\"yaxis\":\"y\"},{\"alignmentgroup\":\"True\",\"hovertemplate\":\"color=Uganda<br>x=%{x}<br>y=%{y}<br>text=%{text}<extra></extra>\",\"legendgroup\":\"Uganda\",\"marker\":{\"color\":\"#00cc96\",\"pattern\":{\"shape\":\"\"}},\"name\":\"Uganda\",\"offsetgroup\":\"Uganda\",\"orientation\":\"v\",\"showlegend\":true,\"text\":[\"63.732\"],\"textposition\":\"auto\",\"type\":\"bar\",\"x\":[\"Uganda\"],\"xaxis\":\"x\",\"y\":[63.732],\"yaxis\":\"y\"},{\"alignmentgroup\":\"True\",\"hovertemplate\":\"color=New Zealand<br>x=%{x}<br>y=%{y}<br>text=%{text}<extra></extra>\",\"legendgroup\":\"New Zealand\",\"marker\":{\"color\":\"#ab63fa\",\"pattern\":{\"shape\":\"\"}},\"name\":\"New Zealand\",\"offsetgroup\":\"New Zealand\",\"orientation\":\"v\",\"showlegend\":true,\"text\":[\"62.891999999999996\"],\"textposition\":\"auto\",\"type\":\"bar\",\"x\":[\"New Zealand\"],\"xaxis\":\"x\",\"y\":[62.891999999999996],\"yaxis\":\"y\"},{\"alignmentgroup\":\"True\",\"hovertemplate\":\"color=Gabon<br>x=%{x}<br>y=%{y}<br>text=%{text}<extra></extra>\",\"legendgroup\":\"Gabon\",\"marker\":{\"color\":\"#FFA15A\",\"pattern\":{\"shape\":\"\"}},\"name\":\"Gabon\",\"offsetgroup\":\"Gabon\",\"orientation\":\"v\",\"showlegend\":true,\"text\":[\"62.571999999999996\"],\"textposition\":\"auto\",\"type\":\"bar\",\"x\":[\"Gabon\"],\"xaxis\":\"x\",\"y\":[62.571999999999996],\"yaxis\":\"y\"},{\"alignmentgroup\":\"True\",\"hovertemplate\":\"color=Serbia<br>x=%{x}<br>y=%{y}<br>text=%{text}<extra></extra>\",\"legendgroup\":\"Serbia\",\"marker\":{\"color\":\"#19d3f3\",\"pattern\":{\"shape\":\"\"}},\"name\":\"Serbia\",\"offsetgroup\":\"Serbia\",\"orientation\":\"v\",\"showlegend\":true,\"text\":[\"55.18\"],\"textposition\":\"auto\",\"type\":\"bar\",\"x\":[\"Serbia\"],\"xaxis\":\"x\",\"y\":[55.18],\"yaxis\":\"y\"},{\"alignmentgroup\":\"True\",\"hovertemplate\":\"color=Niger<br>x=%{x}<br>y=%{y}<br>text=%{text}<extra></extra>\",\"legendgroup\":\"Niger\",\"marker\":{\"color\":\"#FF6692\",\"pattern\":{\"shape\":\"\"}},\"name\":\"Niger\",\"offsetgroup\":\"Niger\",\"orientation\":\"v\",\"showlegend\":true,\"text\":[\"55.122\"],\"textposition\":\"auto\",\"type\":\"bar\",\"x\":[\"Niger\"],\"xaxis\":\"x\",\"y\":[55.122],\"yaxis\":\"y\"},{\"alignmentgroup\":\"True\",\"hovertemplate\":\"color=Lebanon<br>x=%{x}<br>y=%{y}<br>text=%{text}<extra></extra>\",\"legendgroup\":\"Lebanon\",\"marker\":{\"color\":\"#B6E880\",\"pattern\":{\"shape\":\"\"}},\"name\":\"Lebanon\",\"offsetgroup\":\"Lebanon\",\"orientation\":\"v\",\"showlegend\":true,\"text\":[\"54.794\"],\"textposition\":\"auto\",\"type\":\"bar\",\"x\":[\"Lebanon\"],\"xaxis\":\"x\",\"y\":[54.794],\"yaxis\":\"y\"},{\"alignmentgroup\":\"True\",\"hovertemplate\":\"color=Chad<br>x=%{x}<br>y=%{y}<br>text=%{text}<extra></extra>\",\"legendgroup\":\"Chad\",\"marker\":{\"color\":\"#FF97FF\",\"pattern\":{\"shape\":\"\"}},\"name\":\"Chad\",\"offsetgroup\":\"Chad\",\"orientation\":\"v\",\"showlegend\":true,\"text\":[\"54.622\"],\"textposition\":\"auto\",\"type\":\"bar\",\"x\":[\"Chad\"],\"xaxis\":\"x\",\"y\":[54.622],\"yaxis\":\"y\"},{\"alignmentgroup\":\"True\",\"hovertemplate\":\"color=Central African Republic<br>x=%{x}<br>y=%{y}<br>text=%{text}<extra></extra>\",\"legendgroup\":\"Central African Republic\",\"marker\":{\"color\":\"#FECB52\",\"pattern\":{\"shape\":\"\"}},\"name\":\"Central African Republic\",\"offsetgroup\":\"Central African Republic\",\"orientation\":\"v\",\"showlegend\":true,\"text\":[\"53.684\"],\"textposition\":\"auto\",\"type\":\"bar\",\"x\":[\"Central African Republic\"],\"xaxis\":\"x\",\"y\":[53.684],\"yaxis\":\"y\"}],                        {\"barmode\":\"relative\",\"legend\":{\"title\":{\"text\":\"color\"},\"tracegroupgap\":0},\"margin\":{\"t\":60},\"template\":{\"data\":{\"bar\":[{\"error_x\":{\"color\":\"#2a3f5f\"},\"error_y\":{\"color\":\"#2a3f5f\"},\"marker\":{\"line\":{\"color\":\"#E5ECF6\",\"width\":0.5},\"pattern\":{\"fillmode\":\"overlay\",\"size\":10,\"solidity\":0.2}},\"type\":\"bar\"}],\"barpolar\":[{\"marker\":{\"line\":{\"color\":\"#E5ECF6\",\"width\":0.5},\"pattern\":{\"fillmode\":\"overlay\",\"size\":10,\"solidity\":0.2}},\"type\":\"barpolar\"}],\"carpet\":[{\"aaxis\":{\"endlinecolor\":\"#2a3f5f\",\"gridcolor\":\"white\",\"linecolor\":\"white\",\"minorgridcolor\":\"white\",\"startlinecolor\":\"#2a3f5f\"},\"baxis\":{\"endlinecolor\":\"#2a3f5f\",\"gridcolor\":\"white\",\"linecolor\":\"white\",\"minorgridcolor\":\"white\",\"startlinecolor\":\"#2a3f5f\"},\"type\":\"carpet\"}],\"choropleth\":[{\"colorbar\":{\"outlinewidth\":0,\"ticks\":\"\"},\"type\":\"choropleth\"}],\"contour\":[{\"colorbar\":{\"outlinewidth\":0,\"ticks\":\"\"},\"colorscale\":[[0.0,\"#0d0887\"],[0.1111111111111111,\"#46039f\"],[0.2222222222222222,\"#7201a8\"],[0.3333333333333333,\"#9c179e\"],[0.4444444444444444,\"#bd3786\"],[0.5555555555555556,\"#d8576b\"],[0.6666666666666666,\"#ed7953\"],[0.7777777777777778,\"#fb9f3a\"],[0.8888888888888888,\"#fdca26\"],[1.0,\"#f0f921\"]],\"type\":\"contour\"}],\"contourcarpet\":[{\"colorbar\":{\"outlinewidth\":0,\"ticks\":\"\"},\"type\":\"contourcarpet\"}],\"heatmap\":[{\"colorbar\":{\"outlinewidth\":0,\"ticks\":\"\"},\"colorscale\":[[0.0,\"#0d0887\"],[0.1111111111111111,\"#46039f\"],[0.2222222222222222,\"#7201a8\"],[0.3333333333333333,\"#9c179e\"],[0.4444444444444444,\"#bd3786\"],[0.5555555555555556,\"#d8576b\"],[0.6666666666666666,\"#ed7953\"],[0.7777777777777778,\"#fb9f3a\"],[0.8888888888888888,\"#fdca26\"],[1.0,\"#f0f921\"]],\"type\":\"heatmap\"}],\"heatmapgl\":[{\"colorbar\":{\"outlinewidth\":0,\"ticks\":\"\"},\"colorscale\":[[0.0,\"#0d0887\"],[0.1111111111111111,\"#46039f\"],[0.2222222222222222,\"#7201a8\"],[0.3333333333333333,\"#9c179e\"],[0.4444444444444444,\"#bd3786\"],[0.5555555555555556,\"#d8576b\"],[0.6666666666666666,\"#ed7953\"],[0.7777777777777778,\"#fb9f3a\"],[0.8888888888888888,\"#fdca26\"],[1.0,\"#f0f921\"]],\"type\":\"heatmapgl\"}],\"histogram\":[{\"marker\":{\"pattern\":{\"fillmode\":\"overlay\",\"size\":10,\"solidity\":0.2}},\"type\":\"histogram\"}],\"histogram2d\":[{\"colorbar\":{\"outlinewidth\":0,\"ticks\":\"\"},\"colorscale\":[[0.0,\"#0d0887\"],[0.1111111111111111,\"#46039f\"],[0.2222222222222222,\"#7201a8\"],[0.3333333333333333,\"#9c179e\"],[0.4444444444444444,\"#bd3786\"],[0.5555555555555556,\"#d8576b\"],[0.6666666666666666,\"#ed7953\"],[0.7777777777777778,\"#fb9f3a\"],[0.8888888888888888,\"#fdca26\"],[1.0,\"#f0f921\"]],\"type\":\"histogram2d\"}],\"histogram2dcontour\":[{\"colorbar\":{\"outlinewidth\":0,\"ticks\":\"\"},\"colorscale\":[[0.0,\"#0d0887\"],[0.1111111111111111,\"#46039f\"],[0.2222222222222222,\"#7201a8\"],[0.3333333333333333,\"#9c179e\"],[0.4444444444444444,\"#bd3786\"],[0.5555555555555556,\"#d8576b\"],[0.6666666666666666,\"#ed7953\"],[0.7777777777777778,\"#fb9f3a\"],[0.8888888888888888,\"#fdca26\"],[1.0,\"#f0f921\"]],\"type\":\"histogram2dcontour\"}],\"mesh3d\":[{\"colorbar\":{\"outlinewidth\":0,\"ticks\":\"\"},\"type\":\"mesh3d\"}],\"parcoords\":[{\"line\":{\"colorbar\":{\"outlinewidth\":0,\"ticks\":\"\"}},\"type\":\"parcoords\"}],\"pie\":[{\"automargin\":true,\"type\":\"pie\"}],\"scatter\":[{\"marker\":{\"colorbar\":{\"outlinewidth\":0,\"ticks\":\"\"}},\"type\":\"scatter\"}],\"scatter3d\":[{\"line\":{\"colorbar\":{\"outlinewidth\":0,\"ticks\":\"\"}},\"marker\":{\"colorbar\":{\"outlinewidth\":0,\"ticks\":\"\"}},\"type\":\"scatter3d\"}],\"scattercarpet\":[{\"marker\":{\"colorbar\":{\"outlinewidth\":0,\"ticks\":\"\"}},\"type\":\"scattercarpet\"}],\"scattergeo\":[{\"marker\":{\"colorbar\":{\"outlinewidth\":0,\"ticks\":\"\"}},\"type\":\"scattergeo\"}],\"scattergl\":[{\"marker\":{\"colorbar\":{\"outlinewidth\":0,\"ticks\":\"\"}},\"type\":\"scattergl\"}],\"scattermapbox\":[{\"marker\":{\"colorbar\":{\"outlinewidth\":0,\"ticks\":\"\"}},\"type\":\"scattermapbox\"}],\"scatterpolar\":[{\"marker\":{\"colorbar\":{\"outlinewidth\":0,\"ticks\":\"\"}},\"type\":\"scatterpolar\"}],\"scatterpolargl\":[{\"marker\":{\"colorbar\":{\"outlinewidth\":0,\"ticks\":\"\"}},\"type\":\"scatterpolargl\"}],\"scatterternary\":[{\"marker\":{\"colorbar\":{\"outlinewidth\":0,\"ticks\":\"\"}},\"type\":\"scatterternary\"}],\"surface\":[{\"colorbar\":{\"outlinewidth\":0,\"ticks\":\"\"},\"colorscale\":[[0.0,\"#0d0887\"],[0.1111111111111111,\"#46039f\"],[0.2222222222222222,\"#7201a8\"],[0.3333333333333333,\"#9c179e\"],[0.4444444444444444,\"#bd3786\"],[0.5555555555555556,\"#d8576b\"],[0.6666666666666666,\"#ed7953\"],[0.7777777777777778,\"#fb9f3a\"],[0.8888888888888888,\"#fdca26\"],[1.0,\"#f0f921\"]],\"type\":\"surface\"}],\"table\":[{\"cells\":{\"fill\":{\"color\":\"#EBF0F8\"},\"line\":{\"color\":\"white\"}},\"header\":{\"fill\":{\"color\":\"#C8D4E3\"},\"line\":{\"color\":\"white\"}},\"type\":\"table\"}]},\"layout\":{\"annotationdefaults\":{\"arrowcolor\":\"#2a3f5f\",\"arrowhead\":0,\"arrowwidth\":1},\"autotypenumbers\":\"strict\",\"coloraxis\":{\"colorbar\":{\"outlinewidth\":0,\"ticks\":\"\"}},\"colorscale\":{\"diverging\":[[0,\"#8e0152\"],[0.1,\"#c51b7d\"],[0.2,\"#de77ae\"],[0.3,\"#f1b6da\"],[0.4,\"#fde0ef\"],[0.5,\"#f7f7f7\"],[0.6,\"#e6f5d0\"],[0.7,\"#b8e186\"],[0.8,\"#7fbc41\"],[0.9,\"#4d9221\"],[1,\"#276419\"]],\"sequential\":[[0.0,\"#0d0887\"],[0.1111111111111111,\"#46039f\"],[0.2222222222222222,\"#7201a8\"],[0.3333333333333333,\"#9c179e\"],[0.4444444444444444,\"#bd3786\"],[0.5555555555555556,\"#d8576b\"],[0.6666666666666666,\"#ed7953\"],[0.7777777777777778,\"#fb9f3a\"],[0.8888888888888888,\"#fdca26\"],[1.0,\"#f0f921\"]],\"sequentialminus\":[[0.0,\"#0d0887\"],[0.1111111111111111,\"#46039f\"],[0.2222222222222222,\"#7201a8\"],[0.3333333333333333,\"#9c179e\"],[0.4444444444444444,\"#bd3786\"],[0.5555555555555556,\"#d8576b\"],[0.6666666666666666,\"#ed7953\"],[0.7777777777777778,\"#fb9f3a\"],[0.8888888888888888,\"#fdca26\"],[1.0,\"#f0f921\"]]},\"colorway\":[\"#636efa\",\"#EF553B\",\"#00cc96\",\"#ab63fa\",\"#FFA15A\",\"#19d3f3\",\"#FF6692\",\"#B6E880\",\"#FF97FF\",\"#FECB52\"],\"font\":{\"color\":\"#2a3f5f\"},\"geo\":{\"bgcolor\":\"white\",\"lakecolor\":\"white\",\"landcolor\":\"#E5ECF6\",\"showlakes\":true,\"showland\":true,\"subunitcolor\":\"white\"},\"hoverlabel\":{\"align\":\"left\"},\"hovermode\":\"closest\",\"mapbox\":{\"style\":\"light\"},\"paper_bgcolor\":\"white\",\"plot_bgcolor\":\"#E5ECF6\",\"polar\":{\"angularaxis\":{\"gridcolor\":\"white\",\"linecolor\":\"white\",\"ticks\":\"\"},\"bgcolor\":\"#E5ECF6\",\"radialaxis\":{\"gridcolor\":\"white\",\"linecolor\":\"white\",\"ticks\":\"\"}},\"scene\":{\"xaxis\":{\"backgroundcolor\":\"#E5ECF6\",\"gridcolor\":\"white\",\"gridwidth\":2,\"linecolor\":\"white\",\"showbackground\":true,\"ticks\":\"\",\"zerolinecolor\":\"white\"},\"yaxis\":{\"backgroundcolor\":\"#E5ECF6\",\"gridcolor\":\"white\",\"gridwidth\":2,\"linecolor\":\"white\",\"showbackground\":true,\"ticks\":\"\",\"zerolinecolor\":\"white\"},\"zaxis\":{\"backgroundcolor\":\"#E5ECF6\",\"gridcolor\":\"white\",\"gridwidth\":2,\"linecolor\":\"white\",\"showbackground\":true,\"ticks\":\"\",\"zerolinecolor\":\"white\"}},\"shapedefaults\":{\"line\":{\"color\":\"#2a3f5f\"}},\"ternary\":{\"aaxis\":{\"gridcolor\":\"white\",\"linecolor\":\"white\",\"ticks\":\"\"},\"baxis\":{\"gridcolor\":\"white\",\"linecolor\":\"white\",\"ticks\":\"\"},\"bgcolor\":\"#E5ECF6\",\"caxis\":{\"gridcolor\":\"white\",\"linecolor\":\"white\",\"ticks\":\"\"}},\"title\":{\"x\":0.05},\"xaxis\":{\"automargin\":true,\"gridcolor\":\"white\",\"linecolor\":\"white\",\"ticks\":\"\",\"title\":{\"standoff\":15},\"zerolinecolor\":\"white\",\"zerolinewidth\":2},\"yaxis\":{\"automargin\":true,\"gridcolor\":\"white\",\"linecolor\":\"white\",\"ticks\":\"\",\"title\":{\"standoff\":15},\"zerolinecolor\":\"white\",\"zerolinewidth\":2}}},\"xaxis\":{\"anchor\":\"y\",\"domain\":[0.0,1.0],\"title\":{\"text\":\"x\"}},\"yaxis\":{\"anchor\":\"x\",\"domain\":[0.0,1.0],\"title\":{\"text\":\"y\"}}},                        {\"responsive\": true}                    ).then(function(){\n",
       "                            \n",
       "var gd = document.getElementById('874edab5-e26c-4a88-8f40-8dc8716ee12d');\n",
       "var x = new MutationObserver(function (mutations, observer) {{\n",
       "        var display = window.getComputedStyle(gd).display;\n",
       "        if (!display || display === 'none') {{\n",
       "            console.log([gd, 'removed!']);\n",
       "            Plotly.purge(gd);\n",
       "            observer.disconnect();\n",
       "        }}\n",
       "}});\n",
       "\n",
       "// Listen for the removal of the full notebook cells\n",
       "var notebookContainer = gd.closest('#notebook-container');\n",
       "if (notebookContainer) {{\n",
       "    x.observe(notebookContainer, {childList: true});\n",
       "}}\n",
       "\n",
       "// Listen for the clearing of the current output cell\n",
       "var outputEl = gd.closest('.output');\n",
       "if (outputEl) {{\n",
       "    x.observe(outputEl, {childList: true});\n",
       "}}\n",
       "\n",
       "                        })                };                });            </script>        </div>"
      ]
     },
     "metadata": {},
     "output_type": "display_data"
    }
   ],
   "source": [
    "df_europe = jk.Continent == 'Asia', jk.Average>75\n",
    "fig = px.bar (df_europe, y = jk.Average, x = jk.Country, text = jk.Average, color = jk.Country)\n",
    "fig"
   ]
  },
  {
   "cell_type": "code",
   "execution_count": 14,
   "metadata": {
    "extensions": {
     "jupyter_dashboards": {
      "version": 1,
      "views": {
       "grid_default": {},
       "report_default": {}
      }
     }
    }
   },
   "outputs": [
    {
     "data": {
      "application/vnd.plotly.v1+json": {
       "config": {
        "plotlyServerURL": "https://plot.ly"
       },
       "data": [
        {
         "domain": {
          "x": [
           0,
           1
          ],
          "y": [
           0,
           1
          ]
         },
         "hovertemplate": "Country=%{label}<br>Population=%{value}<extra></extra>",
         "labels": [
          "Afghanistan",
          "Other countries",
          "Azerbaijan",
          "Bahrain",
          "Other countries",
          "Other countries",
          "Brunei Darussalam",
          "Cambodia",
          "Other countries",
          "Other countries",
          "Democratic People's Republic of Korea",
          "Other countries",
          "Other countries",
          "Indonesia",
          "Iran (Islamic Republic of)",
          "Iraq",
          "Other countries",
          "Other countries",
          "Other countries",
          "Kazakhstan",
          "Kuwait",
          "Kyrgyzstan",
          "Lao People's Democratic Republic",
          "Lebanon",
          "Malaysia",
          "Other countries",
          "Mongolia",
          "Myanmar",
          "Nepal",
          "Oman",
          "Pakistan",
          "Philippines",
          "Qatar",
          "Republic of Korea",
          "Saudi Arabia",
          "Singapore",
          "Other countries",
          "Syrian Arab Republic",
          "Tajikistan",
          "Other countries",
          "Other countries",
          "Turkey",
          "Turkmenistan",
          "United Arab Emirates",
          "Other countries",
          "Viet Nam",
          "Yemen"
         ],
         "legendgroup": "",
         "name": "",
         "showlegend": true,
         "type": "pie",
         "values": [
          33736494,
          291695,
          9649341,
          null,
          1612886,
          787386,
          null,
          15517635,
          137122,
          116985,
          null,
          37171,
          1395398,
          258162113,
          null,
          36115649,
          8381,
          127141,
          915932,
          17544126,
          null,
          null,
          null,
          5851479,
          3723155,
          49163,
          2976877,
          5243669,
          28656282,
          null,
          18938513,
          11716359,
          null,
          null,
          null,
          null,
          2966,
          18734987,
          8548651,
          686576,
          124977,
          78271472,
          5565284,
          null,
          312989,
          null,
          null
         ]
        }
       ],
       "layout": {
        "legend": {
         "tracegroupgap": 0
        },
        "template": {
         "data": {
          "bar": [
           {
            "error_x": {
             "color": "#2a3f5f"
            },
            "error_y": {
             "color": "#2a3f5f"
            },
            "marker": {
             "line": {
              "color": "#E5ECF6",
              "width": 0.5
             },
             "pattern": {
              "fillmode": "overlay",
              "size": 10,
              "solidity": 0.2
             }
            },
            "type": "bar"
           }
          ],
          "barpolar": [
           {
            "marker": {
             "line": {
              "color": "#E5ECF6",
              "width": 0.5
             },
             "pattern": {
              "fillmode": "overlay",
              "size": 10,
              "solidity": 0.2
             }
            },
            "type": "barpolar"
           }
          ],
          "carpet": [
           {
            "aaxis": {
             "endlinecolor": "#2a3f5f",
             "gridcolor": "white",
             "linecolor": "white",
             "minorgridcolor": "white",
             "startlinecolor": "#2a3f5f"
            },
            "baxis": {
             "endlinecolor": "#2a3f5f",
             "gridcolor": "white",
             "linecolor": "white",
             "minorgridcolor": "white",
             "startlinecolor": "#2a3f5f"
            },
            "type": "carpet"
           }
          ],
          "choropleth": [
           {
            "colorbar": {
             "outlinewidth": 0,
             "ticks": ""
            },
            "type": "choropleth"
           }
          ],
          "contour": [
           {
            "colorbar": {
             "outlinewidth": 0,
             "ticks": ""
            },
            "colorscale": [
             [
              0,
              "#0d0887"
             ],
             [
              0.1111111111111111,
              "#46039f"
             ],
             [
              0.2222222222222222,
              "#7201a8"
             ],
             [
              0.3333333333333333,
              "#9c179e"
             ],
             [
              0.4444444444444444,
              "#bd3786"
             ],
             [
              0.5555555555555556,
              "#d8576b"
             ],
             [
              0.6666666666666666,
              "#ed7953"
             ],
             [
              0.7777777777777778,
              "#fb9f3a"
             ],
             [
              0.8888888888888888,
              "#fdca26"
             ],
             [
              1,
              "#f0f921"
             ]
            ],
            "type": "contour"
           }
          ],
          "contourcarpet": [
           {
            "colorbar": {
             "outlinewidth": 0,
             "ticks": ""
            },
            "type": "contourcarpet"
           }
          ],
          "heatmap": [
           {
            "colorbar": {
             "outlinewidth": 0,
             "ticks": ""
            },
            "colorscale": [
             [
              0,
              "#0d0887"
             ],
             [
              0.1111111111111111,
              "#46039f"
             ],
             [
              0.2222222222222222,
              "#7201a8"
             ],
             [
              0.3333333333333333,
              "#9c179e"
             ],
             [
              0.4444444444444444,
              "#bd3786"
             ],
             [
              0.5555555555555556,
              "#d8576b"
             ],
             [
              0.6666666666666666,
              "#ed7953"
             ],
             [
              0.7777777777777778,
              "#fb9f3a"
             ],
             [
              0.8888888888888888,
              "#fdca26"
             ],
             [
              1,
              "#f0f921"
             ]
            ],
            "type": "heatmap"
           }
          ],
          "heatmapgl": [
           {
            "colorbar": {
             "outlinewidth": 0,
             "ticks": ""
            },
            "colorscale": [
             [
              0,
              "#0d0887"
             ],
             [
              0.1111111111111111,
              "#46039f"
             ],
             [
              0.2222222222222222,
              "#7201a8"
             ],
             [
              0.3333333333333333,
              "#9c179e"
             ],
             [
              0.4444444444444444,
              "#bd3786"
             ],
             [
              0.5555555555555556,
              "#d8576b"
             ],
             [
              0.6666666666666666,
              "#ed7953"
             ],
             [
              0.7777777777777778,
              "#fb9f3a"
             ],
             [
              0.8888888888888888,
              "#fdca26"
             ],
             [
              1,
              "#f0f921"
             ]
            ],
            "type": "heatmapgl"
           }
          ],
          "histogram": [
           {
            "marker": {
             "pattern": {
              "fillmode": "overlay",
              "size": 10,
              "solidity": 0.2
             }
            },
            "type": "histogram"
           }
          ],
          "histogram2d": [
           {
            "colorbar": {
             "outlinewidth": 0,
             "ticks": ""
            },
            "colorscale": [
             [
              0,
              "#0d0887"
             ],
             [
              0.1111111111111111,
              "#46039f"
             ],
             [
              0.2222222222222222,
              "#7201a8"
             ],
             [
              0.3333333333333333,
              "#9c179e"
             ],
             [
              0.4444444444444444,
              "#bd3786"
             ],
             [
              0.5555555555555556,
              "#d8576b"
             ],
             [
              0.6666666666666666,
              "#ed7953"
             ],
             [
              0.7777777777777778,
              "#fb9f3a"
             ],
             [
              0.8888888888888888,
              "#fdca26"
             ],
             [
              1,
              "#f0f921"
             ]
            ],
            "type": "histogram2d"
           }
          ],
          "histogram2dcontour": [
           {
            "colorbar": {
             "outlinewidth": 0,
             "ticks": ""
            },
            "colorscale": [
             [
              0,
              "#0d0887"
             ],
             [
              0.1111111111111111,
              "#46039f"
             ],
             [
              0.2222222222222222,
              "#7201a8"
             ],
             [
              0.3333333333333333,
              "#9c179e"
             ],
             [
              0.4444444444444444,
              "#bd3786"
             ],
             [
              0.5555555555555556,
              "#d8576b"
             ],
             [
              0.6666666666666666,
              "#ed7953"
             ],
             [
              0.7777777777777778,
              "#fb9f3a"
             ],
             [
              0.8888888888888888,
              "#fdca26"
             ],
             [
              1,
              "#f0f921"
             ]
            ],
            "type": "histogram2dcontour"
           }
          ],
          "mesh3d": [
           {
            "colorbar": {
             "outlinewidth": 0,
             "ticks": ""
            },
            "type": "mesh3d"
           }
          ],
          "parcoords": [
           {
            "line": {
             "colorbar": {
              "outlinewidth": 0,
              "ticks": ""
             }
            },
            "type": "parcoords"
           }
          ],
          "pie": [
           {
            "automargin": true,
            "type": "pie"
           }
          ],
          "scatter": [
           {
            "marker": {
             "colorbar": {
              "outlinewidth": 0,
              "ticks": ""
             }
            },
            "type": "scatter"
           }
          ],
          "scatter3d": [
           {
            "line": {
             "colorbar": {
              "outlinewidth": 0,
              "ticks": ""
             }
            },
            "marker": {
             "colorbar": {
              "outlinewidth": 0,
              "ticks": ""
             }
            },
            "type": "scatter3d"
           }
          ],
          "scattercarpet": [
           {
            "marker": {
             "colorbar": {
              "outlinewidth": 0,
              "ticks": ""
             }
            },
            "type": "scattercarpet"
           }
          ],
          "scattergeo": [
           {
            "marker": {
             "colorbar": {
              "outlinewidth": 0,
              "ticks": ""
             }
            },
            "type": "scattergeo"
           }
          ],
          "scattergl": [
           {
            "marker": {
             "colorbar": {
              "outlinewidth": 0,
              "ticks": ""
             }
            },
            "type": "scattergl"
           }
          ],
          "scattermapbox": [
           {
            "marker": {
             "colorbar": {
              "outlinewidth": 0,
              "ticks": ""
             }
            },
            "type": "scattermapbox"
           }
          ],
          "scatterpolar": [
           {
            "marker": {
             "colorbar": {
              "outlinewidth": 0,
              "ticks": ""
             }
            },
            "type": "scatterpolar"
           }
          ],
          "scatterpolargl": [
           {
            "marker": {
             "colorbar": {
              "outlinewidth": 0,
              "ticks": ""
             }
            },
            "type": "scatterpolargl"
           }
          ],
          "scatterternary": [
           {
            "marker": {
             "colorbar": {
              "outlinewidth": 0,
              "ticks": ""
             }
            },
            "type": "scatterternary"
           }
          ],
          "surface": [
           {
            "colorbar": {
             "outlinewidth": 0,
             "ticks": ""
            },
            "colorscale": [
             [
              0,
              "#0d0887"
             ],
             [
              0.1111111111111111,
              "#46039f"
             ],
             [
              0.2222222222222222,
              "#7201a8"
             ],
             [
              0.3333333333333333,
              "#9c179e"
             ],
             [
              0.4444444444444444,
              "#bd3786"
             ],
             [
              0.5555555555555556,
              "#d8576b"
             ],
             [
              0.6666666666666666,
              "#ed7953"
             ],
             [
              0.7777777777777778,
              "#fb9f3a"
             ],
             [
              0.8888888888888888,
              "#fdca26"
             ],
             [
              1,
              "#f0f921"
             ]
            ],
            "type": "surface"
           }
          ],
          "table": [
           {
            "cells": {
             "fill": {
              "color": "#EBF0F8"
             },
             "line": {
              "color": "white"
             }
            },
            "header": {
             "fill": {
              "color": "#C8D4E3"
             },
             "line": {
              "color": "white"
             }
            },
            "type": "table"
           }
          ]
         },
         "layout": {
          "annotationdefaults": {
           "arrowcolor": "#2a3f5f",
           "arrowhead": 0,
           "arrowwidth": 1
          },
          "autotypenumbers": "strict",
          "coloraxis": {
           "colorbar": {
            "outlinewidth": 0,
            "ticks": ""
           }
          },
          "colorscale": {
           "diverging": [
            [
             0,
             "#8e0152"
            ],
            [
             0.1,
             "#c51b7d"
            ],
            [
             0.2,
             "#de77ae"
            ],
            [
             0.3,
             "#f1b6da"
            ],
            [
             0.4,
             "#fde0ef"
            ],
            [
             0.5,
             "#f7f7f7"
            ],
            [
             0.6,
             "#e6f5d0"
            ],
            [
             0.7,
             "#b8e186"
            ],
            [
             0.8,
             "#7fbc41"
            ],
            [
             0.9,
             "#4d9221"
            ],
            [
             1,
             "#276419"
            ]
           ],
           "sequential": [
            [
             0,
             "#0d0887"
            ],
            [
             0.1111111111111111,
             "#46039f"
            ],
            [
             0.2222222222222222,
             "#7201a8"
            ],
            [
             0.3333333333333333,
             "#9c179e"
            ],
            [
             0.4444444444444444,
             "#bd3786"
            ],
            [
             0.5555555555555556,
             "#d8576b"
            ],
            [
             0.6666666666666666,
             "#ed7953"
            ],
            [
             0.7777777777777778,
             "#fb9f3a"
            ],
            [
             0.8888888888888888,
             "#fdca26"
            ],
            [
             1,
             "#f0f921"
            ]
           ],
           "sequentialminus": [
            [
             0,
             "#0d0887"
            ],
            [
             0.1111111111111111,
             "#46039f"
            ],
            [
             0.2222222222222222,
             "#7201a8"
            ],
            [
             0.3333333333333333,
             "#9c179e"
            ],
            [
             0.4444444444444444,
             "#bd3786"
            ],
            [
             0.5555555555555556,
             "#d8576b"
            ],
            [
             0.6666666666666666,
             "#ed7953"
            ],
            [
             0.7777777777777778,
             "#fb9f3a"
            ],
            [
             0.8888888888888888,
             "#fdca26"
            ],
            [
             1,
             "#f0f921"
            ]
           ]
          },
          "colorway": [
           "#636efa",
           "#EF553B",
           "#00cc96",
           "#ab63fa",
           "#FFA15A",
           "#19d3f3",
           "#FF6692",
           "#B6E880",
           "#FF97FF",
           "#FECB52"
          ],
          "font": {
           "color": "#2a3f5f"
          },
          "geo": {
           "bgcolor": "white",
           "lakecolor": "white",
           "landcolor": "#E5ECF6",
           "showlakes": true,
           "showland": true,
           "subunitcolor": "white"
          },
          "hoverlabel": {
           "align": "left"
          },
          "hovermode": "closest",
          "mapbox": {
           "style": "light"
          },
          "paper_bgcolor": "white",
          "plot_bgcolor": "#E5ECF6",
          "polar": {
           "angularaxis": {
            "gridcolor": "white",
            "linecolor": "white",
            "ticks": ""
           },
           "bgcolor": "#E5ECF6",
           "radialaxis": {
            "gridcolor": "white",
            "linecolor": "white",
            "ticks": ""
           }
          },
          "scene": {
           "xaxis": {
            "backgroundcolor": "#E5ECF6",
            "gridcolor": "white",
            "gridwidth": 2,
            "linecolor": "white",
            "showbackground": true,
            "ticks": "",
            "zerolinecolor": "white"
           },
           "yaxis": {
            "backgroundcolor": "#E5ECF6",
            "gridcolor": "white",
            "gridwidth": 2,
            "linecolor": "white",
            "showbackground": true,
            "ticks": "",
            "zerolinecolor": "white"
           },
           "zaxis": {
            "backgroundcolor": "#E5ECF6",
            "gridcolor": "white",
            "gridwidth": 2,
            "linecolor": "white",
            "showbackground": true,
            "ticks": "",
            "zerolinecolor": "white"
           }
          },
          "shapedefaults": {
           "line": {
            "color": "#2a3f5f"
           }
          },
          "ternary": {
           "aaxis": {
            "gridcolor": "white",
            "linecolor": "white",
            "ticks": ""
           },
           "baxis": {
            "gridcolor": "white",
            "linecolor": "white",
            "ticks": ""
           },
           "bgcolor": "#E5ECF6",
           "caxis": {
            "gridcolor": "white",
            "linecolor": "white",
            "ticks": ""
           }
          },
          "title": {
           "x": 0.05
          },
          "xaxis": {
           "automargin": true,
           "gridcolor": "white",
           "linecolor": "white",
           "ticks": "",
           "title": {
            "standoff": 15
           },
           "zerolinecolor": "white",
           "zerolinewidth": 2
          },
          "yaxis": {
           "automargin": true,
           "gridcolor": "white",
           "linecolor": "white",
           "ticks": "",
           "title": {
            "standoff": 15
           },
           "zerolinecolor": "white",
           "zerolinewidth": 2
          }
         }
        },
        "title": {
         "text": "Population in different countries of Asia"
        }
       }
      },
      "text/html": [
       "<div>                            <div id=\"24cfed0a-9fb4-4f5a-85ef-0e3152706436\" class=\"plotly-graph-div\" style=\"height:525px; width:100%;\"></div>            <script type=\"text/javascript\">                require([\"plotly\"], function(Plotly) {                    window.PLOTLYENV=window.PLOTLYENV || {};                                    if (document.getElementById(\"24cfed0a-9fb4-4f5a-85ef-0e3152706436\")) {                    Plotly.newPlot(                        \"24cfed0a-9fb4-4f5a-85ef-0e3152706436\",                        [{\"domain\":{\"x\":[0.0,1.0],\"y\":[0.0,1.0]},\"hovertemplate\":\"Country=%{label}<br>Population=%{value}<extra></extra>\",\"labels\":[\"Afghanistan\",\"Other countries\",\"Azerbaijan\",\"Bahrain\",\"Other countries\",\"Other countries\",\"Brunei Darussalam\",\"Cambodia\",\"Other countries\",\"Other countries\",\"Democratic People's Republic of Korea\",\"Other countries\",\"Other countries\",\"Indonesia\",\"Iran (Islamic Republic of)\",\"Iraq\",\"Other countries\",\"Other countries\",\"Other countries\",\"Kazakhstan\",\"Kuwait\",\"Kyrgyzstan\",\"Lao People's Democratic Republic\",\"Lebanon\",\"Malaysia\",\"Other countries\",\"Mongolia\",\"Myanmar\",\"Nepal\",\"Oman\",\"Pakistan\",\"Philippines\",\"Qatar\",\"Republic of Korea\",\"Saudi Arabia\",\"Singapore\",\"Other countries\",\"Syrian Arab Republic\",\"Tajikistan\",\"Other countries\",\"Other countries\",\"Turkey\",\"Turkmenistan\",\"United Arab Emirates\",\"Other countries\",\"Viet Nam\",\"Yemen\"],\"legendgroup\":\"\",\"name\":\"\",\"showlegend\":true,\"type\":\"pie\",\"values\":[33736494.0,291695.0,9649341.0,null,1612886.0,787386.0,null,15517635.0,137122.0,116985.0,null,37171.0,1395398.0,258162113.0,null,36115649.0,8381.0,127141.0,915932.0,17544126.0,null,null,null,5851479.0,3723155.0,49163.0,2976877.0,5243669.0,28656282.0,null,18938513.0,11716359.0,null,null,null,null,2966.0,18734987.0,8548651.0,686576.0,124977.0,78271472.0,5565284.0,null,312989.0,null,null]}],                        {\"legend\":{\"tracegroupgap\":0},\"template\":{\"data\":{\"bar\":[{\"error_x\":{\"color\":\"#2a3f5f\"},\"error_y\":{\"color\":\"#2a3f5f\"},\"marker\":{\"line\":{\"color\":\"#E5ECF6\",\"width\":0.5},\"pattern\":{\"fillmode\":\"overlay\",\"size\":10,\"solidity\":0.2}},\"type\":\"bar\"}],\"barpolar\":[{\"marker\":{\"line\":{\"color\":\"#E5ECF6\",\"width\":0.5},\"pattern\":{\"fillmode\":\"overlay\",\"size\":10,\"solidity\":0.2}},\"type\":\"barpolar\"}],\"carpet\":[{\"aaxis\":{\"endlinecolor\":\"#2a3f5f\",\"gridcolor\":\"white\",\"linecolor\":\"white\",\"minorgridcolor\":\"white\",\"startlinecolor\":\"#2a3f5f\"},\"baxis\":{\"endlinecolor\":\"#2a3f5f\",\"gridcolor\":\"white\",\"linecolor\":\"white\",\"minorgridcolor\":\"white\",\"startlinecolor\":\"#2a3f5f\"},\"type\":\"carpet\"}],\"choropleth\":[{\"colorbar\":{\"outlinewidth\":0,\"ticks\":\"\"},\"type\":\"choropleth\"}],\"contour\":[{\"colorbar\":{\"outlinewidth\":0,\"ticks\":\"\"},\"colorscale\":[[0.0,\"#0d0887\"],[0.1111111111111111,\"#46039f\"],[0.2222222222222222,\"#7201a8\"],[0.3333333333333333,\"#9c179e\"],[0.4444444444444444,\"#bd3786\"],[0.5555555555555556,\"#d8576b\"],[0.6666666666666666,\"#ed7953\"],[0.7777777777777778,\"#fb9f3a\"],[0.8888888888888888,\"#fdca26\"],[1.0,\"#f0f921\"]],\"type\":\"contour\"}],\"contourcarpet\":[{\"colorbar\":{\"outlinewidth\":0,\"ticks\":\"\"},\"type\":\"contourcarpet\"}],\"heatmap\":[{\"colorbar\":{\"outlinewidth\":0,\"ticks\":\"\"},\"colorscale\":[[0.0,\"#0d0887\"],[0.1111111111111111,\"#46039f\"],[0.2222222222222222,\"#7201a8\"],[0.3333333333333333,\"#9c179e\"],[0.4444444444444444,\"#bd3786\"],[0.5555555555555556,\"#d8576b\"],[0.6666666666666666,\"#ed7953\"],[0.7777777777777778,\"#fb9f3a\"],[0.8888888888888888,\"#fdca26\"],[1.0,\"#f0f921\"]],\"type\":\"heatmap\"}],\"heatmapgl\":[{\"colorbar\":{\"outlinewidth\":0,\"ticks\":\"\"},\"colorscale\":[[0.0,\"#0d0887\"],[0.1111111111111111,\"#46039f\"],[0.2222222222222222,\"#7201a8\"],[0.3333333333333333,\"#9c179e\"],[0.4444444444444444,\"#bd3786\"],[0.5555555555555556,\"#d8576b\"],[0.6666666666666666,\"#ed7953\"],[0.7777777777777778,\"#fb9f3a\"],[0.8888888888888888,\"#fdca26\"],[1.0,\"#f0f921\"]],\"type\":\"heatmapgl\"}],\"histogram\":[{\"marker\":{\"pattern\":{\"fillmode\":\"overlay\",\"size\":10,\"solidity\":0.2}},\"type\":\"histogram\"}],\"histogram2d\":[{\"colorbar\":{\"outlinewidth\":0,\"ticks\":\"\"},\"colorscale\":[[0.0,\"#0d0887\"],[0.1111111111111111,\"#46039f\"],[0.2222222222222222,\"#7201a8\"],[0.3333333333333333,\"#9c179e\"],[0.4444444444444444,\"#bd3786\"],[0.5555555555555556,\"#d8576b\"],[0.6666666666666666,\"#ed7953\"],[0.7777777777777778,\"#fb9f3a\"],[0.8888888888888888,\"#fdca26\"],[1.0,\"#f0f921\"]],\"type\":\"histogram2d\"}],\"histogram2dcontour\":[{\"colorbar\":{\"outlinewidth\":0,\"ticks\":\"\"},\"colorscale\":[[0.0,\"#0d0887\"],[0.1111111111111111,\"#46039f\"],[0.2222222222222222,\"#7201a8\"],[0.3333333333333333,\"#9c179e\"],[0.4444444444444444,\"#bd3786\"],[0.5555555555555556,\"#d8576b\"],[0.6666666666666666,\"#ed7953\"],[0.7777777777777778,\"#fb9f3a\"],[0.8888888888888888,\"#fdca26\"],[1.0,\"#f0f921\"]],\"type\":\"histogram2dcontour\"}],\"mesh3d\":[{\"colorbar\":{\"outlinewidth\":0,\"ticks\":\"\"},\"type\":\"mesh3d\"}],\"parcoords\":[{\"line\":{\"colorbar\":{\"outlinewidth\":0,\"ticks\":\"\"}},\"type\":\"parcoords\"}],\"pie\":[{\"automargin\":true,\"type\":\"pie\"}],\"scatter\":[{\"marker\":{\"colorbar\":{\"outlinewidth\":0,\"ticks\":\"\"}},\"type\":\"scatter\"}],\"scatter3d\":[{\"line\":{\"colorbar\":{\"outlinewidth\":0,\"ticks\":\"\"}},\"marker\":{\"colorbar\":{\"outlinewidth\":0,\"ticks\":\"\"}},\"type\":\"scatter3d\"}],\"scattercarpet\":[{\"marker\":{\"colorbar\":{\"outlinewidth\":0,\"ticks\":\"\"}},\"type\":\"scattercarpet\"}],\"scattergeo\":[{\"marker\":{\"colorbar\":{\"outlinewidth\":0,\"ticks\":\"\"}},\"type\":\"scattergeo\"}],\"scattergl\":[{\"marker\":{\"colorbar\":{\"outlinewidth\":0,\"ticks\":\"\"}},\"type\":\"scattergl\"}],\"scattermapbox\":[{\"marker\":{\"colorbar\":{\"outlinewidth\":0,\"ticks\":\"\"}},\"type\":\"scattermapbox\"}],\"scatterpolar\":[{\"marker\":{\"colorbar\":{\"outlinewidth\":0,\"ticks\":\"\"}},\"type\":\"scatterpolar\"}],\"scatterpolargl\":[{\"marker\":{\"colorbar\":{\"outlinewidth\":0,\"ticks\":\"\"}},\"type\":\"scatterpolargl\"}],\"scatterternary\":[{\"marker\":{\"colorbar\":{\"outlinewidth\":0,\"ticks\":\"\"}},\"type\":\"scatterternary\"}],\"surface\":[{\"colorbar\":{\"outlinewidth\":0,\"ticks\":\"\"},\"colorscale\":[[0.0,\"#0d0887\"],[0.1111111111111111,\"#46039f\"],[0.2222222222222222,\"#7201a8\"],[0.3333333333333333,\"#9c179e\"],[0.4444444444444444,\"#bd3786\"],[0.5555555555555556,\"#d8576b\"],[0.6666666666666666,\"#ed7953\"],[0.7777777777777778,\"#fb9f3a\"],[0.8888888888888888,\"#fdca26\"],[1.0,\"#f0f921\"]],\"type\":\"surface\"}],\"table\":[{\"cells\":{\"fill\":{\"color\":\"#EBF0F8\"},\"line\":{\"color\":\"white\"}},\"header\":{\"fill\":{\"color\":\"#C8D4E3\"},\"line\":{\"color\":\"white\"}},\"type\":\"table\"}]},\"layout\":{\"annotationdefaults\":{\"arrowcolor\":\"#2a3f5f\",\"arrowhead\":0,\"arrowwidth\":1},\"autotypenumbers\":\"strict\",\"coloraxis\":{\"colorbar\":{\"outlinewidth\":0,\"ticks\":\"\"}},\"colorscale\":{\"diverging\":[[0,\"#8e0152\"],[0.1,\"#c51b7d\"],[0.2,\"#de77ae\"],[0.3,\"#f1b6da\"],[0.4,\"#fde0ef\"],[0.5,\"#f7f7f7\"],[0.6,\"#e6f5d0\"],[0.7,\"#b8e186\"],[0.8,\"#7fbc41\"],[0.9,\"#4d9221\"],[1,\"#276419\"]],\"sequential\":[[0.0,\"#0d0887\"],[0.1111111111111111,\"#46039f\"],[0.2222222222222222,\"#7201a8\"],[0.3333333333333333,\"#9c179e\"],[0.4444444444444444,\"#bd3786\"],[0.5555555555555556,\"#d8576b\"],[0.6666666666666666,\"#ed7953\"],[0.7777777777777778,\"#fb9f3a\"],[0.8888888888888888,\"#fdca26\"],[1.0,\"#f0f921\"]],\"sequentialminus\":[[0.0,\"#0d0887\"],[0.1111111111111111,\"#46039f\"],[0.2222222222222222,\"#7201a8\"],[0.3333333333333333,\"#9c179e\"],[0.4444444444444444,\"#bd3786\"],[0.5555555555555556,\"#d8576b\"],[0.6666666666666666,\"#ed7953\"],[0.7777777777777778,\"#fb9f3a\"],[0.8888888888888888,\"#fdca26\"],[1.0,\"#f0f921\"]]},\"colorway\":[\"#636efa\",\"#EF553B\",\"#00cc96\",\"#ab63fa\",\"#FFA15A\",\"#19d3f3\",\"#FF6692\",\"#B6E880\",\"#FF97FF\",\"#FECB52\"],\"font\":{\"color\":\"#2a3f5f\"},\"geo\":{\"bgcolor\":\"white\",\"lakecolor\":\"white\",\"landcolor\":\"#E5ECF6\",\"showlakes\":true,\"showland\":true,\"subunitcolor\":\"white\"},\"hoverlabel\":{\"align\":\"left\"},\"hovermode\":\"closest\",\"mapbox\":{\"style\":\"light\"},\"paper_bgcolor\":\"white\",\"plot_bgcolor\":\"#E5ECF6\",\"polar\":{\"angularaxis\":{\"gridcolor\":\"white\",\"linecolor\":\"white\",\"ticks\":\"\"},\"bgcolor\":\"#E5ECF6\",\"radialaxis\":{\"gridcolor\":\"white\",\"linecolor\":\"white\",\"ticks\":\"\"}},\"scene\":{\"xaxis\":{\"backgroundcolor\":\"#E5ECF6\",\"gridcolor\":\"white\",\"gridwidth\":2,\"linecolor\":\"white\",\"showbackground\":true,\"ticks\":\"\",\"zerolinecolor\":\"white\"},\"yaxis\":{\"backgroundcolor\":\"#E5ECF6\",\"gridcolor\":\"white\",\"gridwidth\":2,\"linecolor\":\"white\",\"showbackground\":true,\"ticks\":\"\",\"zerolinecolor\":\"white\"},\"zaxis\":{\"backgroundcolor\":\"#E5ECF6\",\"gridcolor\":\"white\",\"gridwidth\":2,\"linecolor\":\"white\",\"showbackground\":true,\"ticks\":\"\",\"zerolinecolor\":\"white\"}},\"shapedefaults\":{\"line\":{\"color\":\"#2a3f5f\"}},\"ternary\":{\"aaxis\":{\"gridcolor\":\"white\",\"linecolor\":\"white\",\"ticks\":\"\"},\"baxis\":{\"gridcolor\":\"white\",\"linecolor\":\"white\",\"ticks\":\"\"},\"bgcolor\":\"#E5ECF6\",\"caxis\":{\"gridcolor\":\"white\",\"linecolor\":\"white\",\"ticks\":\"\"}},\"title\":{\"x\":0.05},\"xaxis\":{\"automargin\":true,\"gridcolor\":\"white\",\"linecolor\":\"white\",\"ticks\":\"\",\"title\":{\"standoff\":15},\"zerolinecolor\":\"white\",\"zerolinewidth\":2},\"yaxis\":{\"automargin\":true,\"gridcolor\":\"white\",\"linecolor\":\"white\",\"ticks\":\"\",\"title\":{\"standoff\":15},\"zerolinecolor\":\"white\",\"zerolinewidth\":2}}},\"title\":{\"text\":\"Population in different countries of Asia\"}},                        {\"responsive\": true}                    ).then(function(){\n",
       "                            \n",
       "var gd = document.getElementById('24cfed0a-9fb4-4f5a-85ef-0e3152706436');\n",
       "var x = new MutationObserver(function (mutations, observer) {{\n",
       "        var display = window.getComputedStyle(gd).display;\n",
       "        if (!display || display === 'none') {{\n",
       "            console.log([gd, 'removed!']);\n",
       "            Plotly.purge(gd);\n",
       "            observer.disconnect();\n",
       "        }}\n",
       "}});\n",
       "\n",
       "// Listen for the removal of the full notebook cells\n",
       "var notebookContainer = gd.closest('#notebook-container');\n",
       "if (notebookContainer) {{\n",
       "    x.observe(notebookContainer, {childList: true});\n",
       "}}\n",
       "\n",
       "// Listen for the clearing of the current output cell\n",
       "var outputEl = gd.closest('.output');\n",
       "if (outputEl) {{\n",
       "    x.observe(outputEl, {childList: true});\n",
       "}}\n",
       "\n",
       "                        })                };                });            </script>        </div>"
      ]
     },
     "metadata": {},
     "output_type": "display_data"
    }
   ],
   "source": [
    "import plotly.express as px\n",
    "#pd.read_csv(r'C:\\Users\\ESEE Ent\\conts.csv', sep = ',', encoding= 'unicode_escape')\n",
    "dfs = pd.read_csv(r'C:\\Users\\ESEE Ent\\clean_lifeexpectancydata.csv', sep = ',', encoding= 'unicode_escape').query(\"Year == 2015\").query(\"Continent == 'Asia'\")\n",
    "dfs.loc[dfs['Population'] < 2.e6, 'Country'] = 'Other countries' # Represent only large countries\n",
    "fig = px.pie(dfs, values='Population', names='Country', title='Population in different countries of Asia')\n",
    "fig.show()\n",
    "#Pie"
   ]
  },
  {
   "cell_type": "code",
   "execution_count": 15,
   "metadata": {
    "extensions": {
     "jupyter_dashboards": {
      "version": 1,
      "views": {
       "grid_default": {},
       "report_default": {}
      }
     }
    }
   },
   "outputs": [
    {
     "data": {
      "image/png": "[encoded data removed]",
      "text/plain": [
       "<Figure size 1296x648 with 1 Axes>"
      ]
     },
     "metadata": {
      "needs_background": "light"
     },
     "output_type": "display_data"
    }
   ],
   "source": [
    "jk.sort_values(['Average'], ascending=False, axis=0, inplace=True)\n",
    "# get the top entries\n",
    "top_jk = jk.head(20)\n",
    "### Show Unstacked Histogram\n",
    "top_jk.plot(kind='bar', figsize=(18, 9), stacked=False, \n",
    "            color=['Green', '1', 'Pink'])\n",
    "plt.title('The Life Expectancy of Top 20 Countries')\n",
    "plt.ylabel('Life Expectancy')\n",
    "plt.xlabel('Countries')\n",
    "plt.show()"
   ]
  },
  {
   "cell_type": "code",
   "execution_count": 16,
   "metadata": {
    "extensions": {
     "jupyter_dashboards": {
      "version": 1,
      "views": {
       "grid_default": {},
       "report_default": {}
      }
     }
    }
   },
   "outputs": [],
   "source": [
    "import dash\n",
    "import dash_core_components as dcc\n",
    "import dash_html_components as html\n",
    "\n",
    "app = dash.Dash()\n",
    "\n",
    "app.layout = html.Div(children = [\n",
    "    html.H1(children = 'Life Expectancy: Average, Male and Female'),\n",
    "    html.Div(children = 'Dash: A graph showing the life expectancy of the different continents'),\n",
    "    dcc.Graph(\n",
    "        id = 'example-graph',\n",
    "        figure = {\n",
    "            'data':[\n",
    "                {'x': ['Africa', 'Asia', 'Europe', 'North America', 'Ocenia', 'South America'], 'y': [61.0083, 80.8496, 82.5210, 75.6623, 83.0740, 74.3860], 'type':'bar', 'name': 'Average Life Expectancy'},\n",
    "                {'x': ['Africa', 'Asia', 'Europe', 'North America', 'Ocenia', 'South America'], 'y': [59.0418, 78.0710, 80.3863, 73.2443, 83.0740, 72.3740], 'type':'bar', 'name': 'Male Life Expectancy'},\n",
    "                {'x': ['Africa', 'Asia', 'Europe', 'North America', 'Ocenia', 'South America'], 'y': [62.9860, 83.6376, 84.5715, 78.0973, 84.8580, 76.5480], 'type':'bar', 'name': 'Average Life Expectancy'},\n",
    "\n",
    "        \n",
    "            ],\n",
    "            'layout':{\n",
    "                'title':{\n",
    "                    'title': 'Dash Data Visualization'\n",
    "                }\n",
    "            }\n",
    "        }\n",
    "    )\n",
    "])"
   ]
  },
  {
   "cell_type": "code",
   "execution_count": null,
   "metadata": {
    "extensions": {
     "jupyter_dashboards": {
      "version": 1,
      "views": {
       "grid_default": {},
       "report_default": {}
      }
     }
    }
   },
   "outputs": [
    {
     "name": "stdout",
     "output_type": "stream",
     "text": [
      "Dash is running on http://127.0.0.1:8050/\n",
      "\n",
      " * Serving Flask app \"__main__\" (lazy loading)\n",
      " * Environment: production\n",
      "   WARNING: This is a development server. Do not use it in a production deployment.\n",
      "   Use a production WSGI server instead.\n",
      " * Debug mode: off\n"
     ]
    },
    {
     "name": "stderr",
     "output_type": "stream",
     "text": [
      " * Running on http://127.0.0.1:8050/ (Press CTRL+C to quit)\n"
     ]
    }
   ],
   "source": [
    "if __name__ == '__main__':\n",
    "    app.run_server()"
   ]
  },
  {
   "cell_type": "code",
   "execution_count": null,
   "metadata": {
    "extensions": {
     "jupyter_dashboards": {
      "version": 1,
      "views": {
       "grid_default": {},
       "report_default": {}
      }
     }
    }
   },
   "outputs": [],
   "source": []
  },
  {
   "cell_type": "code",
   "execution_count": null,
   "metadata": {
    "extensions": {
     "jupyter_dashboards": {
      "version": 1,
      "views": {
       "grid_default": {},
       "report_default": {}
      }
     }
    }
   },
   "outputs": [],
   "source": []
  }
 ],
 "metadata": {
  "extensions": {
   "jupyter_dashboards": {
    "activeView": "grid_default",
    "version": 1,
    "views": {
     "grid_default": {
      "cellMargin": 10,
      "defaultCellHeight": 20,
      "maxColumns": 12,
      "name": "grid",
      "type": "grid"
     },
     "report_default": {
      "name": "report",
      "type": "report"
     }
    }
   }
  },
  "kernelspec": {
   "display_name": "Python 3",
   "language": "python",
   "name": "python3"
  },
  "language_info": {
   "codemirror_mode": {
    "name": "ipython",
    "version": 3
   },
   "file_extension": ".py",
   "mimetype": "text/x-python",
   "name": "python",
   "nbconvert_exporter": "python",
   "pygments_lexer": "ipython3",
   "version": "3.8.5"
  },
  "widgets": {
   "application/vnd.jupyter.widget-state+json": {
    "state": {},
    "version_major": 2,
    "version_minor": 0
   }
  }
 },
 "nbformat": 4,
 "nbformat_minor": 4
}
